{
 "cells": [
  {
   "cell_type": "markdown",
   "metadata": {},
   "source": [
    "# A/B-тестирование гипотезы для интернет-магазина"
   ]
  },
  {
   "cell_type": "markdown",
   "metadata": {},
   "source": [
    "**Цель исследования:**\n",
    "\n",
    "В ходе данного исследования необходимо решить следующие задачи:\n",
    "\n",
    "- Выполнить приоритизацию гипотез, сформулированных отделом маркетинга\n",
    "- Провести анализ A/B-теста выбранной гипотезы \n",
    "\n",
    "**Описание данных:**\n",
    "\n",
    "hypothesis.csv - информация о гипотезах по увеличению выручки интернет-магазина:\n",
    "\n",
    "- Hypothesis — краткое описание гипотезы\n",
    "- Reach — охват пользователей по 10-балльной шкале\n",
    "- Impact — влияние на пользователей по 10-балльной шкале\n",
    "- Confidence — уверенность в гипотезе по 10-балльной шкале\n",
    "- Efforts — затраты ресурсов на проверку гипотезы по 10-балльной шкале. Чем больше значение Efforts, тем дороже проверка гипотезы\n",
    "\n",
    "orders.csv - информация о заказах:\n",
    "\n",
    "- transactionId — идентификатор заказа\n",
    "- visitorId — идентификатор пользователя, совершившего заказ\n",
    "- date — дата, когда был совершён заказ\n",
    "- revenue — выручка заказа\n",
    "- group — группа A/B-теста, в которую попал заказ\n",
    "\n",
    "visitors.csv - информация о посещениях клиентов:\n",
    "\n",
    "- date — дата\n",
    "- group — группа A/B-теста\n",
    "- visitors — количество пользователей в указанную дату в указанной группе A/B-теста"
   ]
  },
  {
   "cell_type": "markdown",
   "metadata": {},
   "source": [
    "## Загрузка данных и подготовка их к анализу"
   ]
  },
  {
   "cell_type": "code",
   "execution_count": 1,
   "metadata": {},
   "outputs": [],
   "source": [
    "#загрузим библиотеки, необходимые для работы\n",
    "import pandas as pd\n",
    "import scipy.stats as stats\n",
    "import datetime as dt\n",
    "import numpy as np\n",
    "import matplotlib.pyplot as plt"
   ]
  },
  {
   "cell_type": "code",
   "execution_count": 2,
   "metadata": {},
   "outputs": [],
   "source": [
    "data = pd.read_csv('/datasets/hypothesis.csv', sep=',')\n",
    "orders = pd.read_csv('/datasets/orders.csv', sep=',')\n",
    "visitors = pd.read_csv('/datasets/visitors.csv', sep=',')"
   ]
  },
  {
   "cell_type": "code",
   "execution_count": 3,
   "metadata": {},
   "outputs": [],
   "source": [
    "pd.set_option('display.max_colwidth', None)"
   ]
  },
  {
   "cell_type": "code",
   "execution_count": 4,
   "metadata": {},
   "outputs": [
    {
     "data": {
      "text/html": [
       "<div>\n",
       "<style scoped>\n",
       "    .dataframe tbody tr th:only-of-type {\n",
       "        vertical-align: middle;\n",
       "    }\n",
       "\n",
       "    .dataframe tbody tr th {\n",
       "        vertical-align: top;\n",
       "    }\n",
       "\n",
       "    .dataframe thead th {\n",
       "        text-align: right;\n",
       "    }\n",
       "</style>\n",
       "<table border=\"1\" class=\"dataframe\">\n",
       "  <thead>\n",
       "    <tr style=\"text-align: right;\">\n",
       "      <th></th>\n",
       "      <th>Hypothesis</th>\n",
       "      <th>Reach</th>\n",
       "      <th>Impact</th>\n",
       "      <th>Confidence</th>\n",
       "      <th>Efforts</th>\n",
       "    </tr>\n",
       "  </thead>\n",
       "  <tbody>\n",
       "    <tr>\n",
       "      <th>0</th>\n",
       "      <td>Добавить два новых канала привлечения трафика, что позволит привлекать на 30% больше пользователей</td>\n",
       "      <td>3</td>\n",
       "      <td>10</td>\n",
       "      <td>8</td>\n",
       "      <td>6</td>\n",
       "    </tr>\n",
       "    <tr>\n",
       "      <th>1</th>\n",
       "      <td>Запустить собственную службу доставки, что сократит срок доставки заказов</td>\n",
       "      <td>2</td>\n",
       "      <td>5</td>\n",
       "      <td>4</td>\n",
       "      <td>10</td>\n",
       "    </tr>\n",
       "    <tr>\n",
       "      <th>2</th>\n",
       "      <td>Добавить блоки рекомендаций товаров на сайт интернет магазина, чтобы повысить конверсию и средний чек заказа</td>\n",
       "      <td>8</td>\n",
       "      <td>3</td>\n",
       "      <td>7</td>\n",
       "      <td>3</td>\n",
       "    </tr>\n",
       "    <tr>\n",
       "      <th>3</th>\n",
       "      <td>Изменить структура категорий, что увеличит конверсию, т.к. пользователи быстрее найдут нужный товар</td>\n",
       "      <td>8</td>\n",
       "      <td>3</td>\n",
       "      <td>3</td>\n",
       "      <td>8</td>\n",
       "    </tr>\n",
       "    <tr>\n",
       "      <th>4</th>\n",
       "      <td>Изменить цвет фона главной страницы, чтобы увеличить вовлеченность пользователей</td>\n",
       "      <td>3</td>\n",
       "      <td>1</td>\n",
       "      <td>1</td>\n",
       "      <td>1</td>\n",
       "    </tr>\n",
       "    <tr>\n",
       "      <th>5</th>\n",
       "      <td>Добавить страницу отзывов клиентов о магазине, что позволит увеличить количество заказов</td>\n",
       "      <td>3</td>\n",
       "      <td>2</td>\n",
       "      <td>2</td>\n",
       "      <td>3</td>\n",
       "    </tr>\n",
       "    <tr>\n",
       "      <th>6</th>\n",
       "      <td>Показать на главной странице баннеры с актуальными акциями и распродажами, чтобы увеличить конверсию</td>\n",
       "      <td>5</td>\n",
       "      <td>3</td>\n",
       "      <td>8</td>\n",
       "      <td>3</td>\n",
       "    </tr>\n",
       "    <tr>\n",
       "      <th>7</th>\n",
       "      <td>Добавить форму подписки на все основные страницы, чтобы собрать базу клиентов для email-рассылок</td>\n",
       "      <td>10</td>\n",
       "      <td>7</td>\n",
       "      <td>8</td>\n",
       "      <td>5</td>\n",
       "    </tr>\n",
       "    <tr>\n",
       "      <th>8</th>\n",
       "      <td>Запустить акцию, дающую скидку на товар в день рождения</td>\n",
       "      <td>1</td>\n",
       "      <td>9</td>\n",
       "      <td>9</td>\n",
       "      <td>5</td>\n",
       "    </tr>\n",
       "  </tbody>\n",
       "</table>\n",
       "</div>"
      ],
      "text/plain": [
       "                                                                                                     Hypothesis  \\\n",
       "0            Добавить два новых канала привлечения трафика, что позволит привлекать на 30% больше пользователей   \n",
       "1                                     Запустить собственную службу доставки, что сократит срок доставки заказов   \n",
       "2  Добавить блоки рекомендаций товаров на сайт интернет магазина, чтобы повысить конверсию и средний чек заказа   \n",
       "3           Изменить структура категорий, что увеличит конверсию, т.к. пользователи быстрее найдут нужный товар   \n",
       "4                              Изменить цвет фона главной страницы, чтобы увеличить вовлеченность пользователей   \n",
       "5                      Добавить страницу отзывов клиентов о магазине, что позволит увеличить количество заказов   \n",
       "6          Показать на главной странице баннеры с актуальными акциями и распродажами, чтобы увеличить конверсию   \n",
       "7              Добавить форму подписки на все основные страницы, чтобы собрать базу клиентов для email-рассылок   \n",
       "8                                                       Запустить акцию, дающую скидку на товар в день рождения   \n",
       "\n",
       "   Reach  Impact  Confidence  Efforts  \n",
       "0      3      10           8        6  \n",
       "1      2       5           4       10  \n",
       "2      8       3           7        3  \n",
       "3      8       3           3        8  \n",
       "4      3       1           1        1  \n",
       "5      3       2           2        3  \n",
       "6      5       3           8        3  \n",
       "7     10       7           8        5  \n",
       "8      1       9           9        5  "
      ]
     },
     "execution_count": 4,
     "metadata": {},
     "output_type": "execute_result"
    }
   ],
   "source": [
    "data"
   ]
  },
  {
   "cell_type": "code",
   "execution_count": 5,
   "metadata": {},
   "outputs": [],
   "source": [
    "data.columns = ['hypothesis', 'reach', 'impact', 'confidence', 'efforts']"
   ]
  },
  {
   "cell_type": "markdown",
   "metadata": {},
   "source": [
    "**- Проверка на наличие пропусков.**"
   ]
  },
  {
   "cell_type": "code",
   "execution_count": 6,
   "metadata": {},
   "outputs": [
    {
     "data": {
      "text/plain": [
       "hypothesis    0\n",
       "reach         0\n",
       "impact        0\n",
       "confidence    0\n",
       "efforts       0\n",
       "dtype: int64"
      ]
     },
     "execution_count": 6,
     "metadata": {},
     "output_type": "execute_result"
    }
   ],
   "source": [
    "data.isna().sum()"
   ]
  },
  {
   "cell_type": "code",
   "execution_count": 7,
   "metadata": {},
   "outputs": [
    {
     "data": {
      "text/plain": [
       "transactionId    0\n",
       "visitorId        0\n",
       "date             0\n",
       "revenue          0\n",
       "group            0\n",
       "dtype: int64"
      ]
     },
     "execution_count": 7,
     "metadata": {},
     "output_type": "execute_result"
    }
   ],
   "source": [
    "orders.isna().sum()"
   ]
  },
  {
   "cell_type": "code",
   "execution_count": 8,
   "metadata": {},
   "outputs": [
    {
     "data": {
      "text/plain": [
       "date        0\n",
       "group       0\n",
       "visitors    0\n",
       "dtype: int64"
      ]
     },
     "execution_count": 8,
     "metadata": {},
     "output_type": "execute_result"
    }
   ],
   "source": [
    "visitors.isna().sum()"
   ]
  },
  {
   "cell_type": "markdown",
   "metadata": {},
   "source": [
    "В датасетах пропуски отсутствуют."
   ]
  },
  {
   "cell_type": "markdown",
   "metadata": {},
   "source": [
    "**- Проверка таблицы на наличие полных дубликатов**"
   ]
  },
  {
   "cell_type": "code",
   "execution_count": 9,
   "metadata": {},
   "outputs": [
    {
     "data": {
      "text/plain": [
       "0"
      ]
     },
     "execution_count": 9,
     "metadata": {},
     "output_type": "execute_result"
    }
   ],
   "source": [
    "data.duplicated().sum()"
   ]
  },
  {
   "cell_type": "code",
   "execution_count": 10,
   "metadata": {},
   "outputs": [
    {
     "data": {
      "text/plain": [
       "0"
      ]
     },
     "execution_count": 10,
     "metadata": {},
     "output_type": "execute_result"
    }
   ],
   "source": [
    "orders.duplicated().sum()"
   ]
  },
  {
   "cell_type": "code",
   "execution_count": 11,
   "metadata": {},
   "outputs": [
    {
     "data": {
      "text/plain": [
       "0"
      ]
     },
     "execution_count": 11,
     "metadata": {},
     "output_type": "execute_result"
    }
   ],
   "source": [
    "visitors.duplicated().sum()"
   ]
  },
  {
   "cell_type": "markdown",
   "metadata": {},
   "source": [
    "Полные дубликаты в таблицах отсутствуют."
   ]
  },
  {
   "cell_type": "markdown",
   "metadata": {},
   "source": [
    "**- Проверка соотвествия типов данных сохраненным значениям.**"
   ]
  },
  {
   "cell_type": "code",
   "execution_count": 12,
   "metadata": {},
   "outputs": [
    {
     "name": "stdout",
     "output_type": "stream",
     "text": [
      "<class 'pandas.core.frame.DataFrame'>\n",
      "RangeIndex: 9 entries, 0 to 8\n",
      "Data columns (total 5 columns):\n",
      " #   Column      Non-Null Count  Dtype \n",
      "---  ------      --------------  ----- \n",
      " 0   hypothesis  9 non-null      object\n",
      " 1   reach       9 non-null      int64 \n",
      " 2   impact      9 non-null      int64 \n",
      " 3   confidence  9 non-null      int64 \n",
      " 4   efforts     9 non-null      int64 \n",
      "dtypes: int64(4), object(1)\n",
      "memory usage: 488.0+ bytes\n"
     ]
    }
   ],
   "source": [
    "data.info()"
   ]
  },
  {
   "cell_type": "code",
   "execution_count": 13,
   "metadata": {},
   "outputs": [
    {
     "name": "stdout",
     "output_type": "stream",
     "text": [
      "<class 'pandas.core.frame.DataFrame'>\n",
      "RangeIndex: 1197 entries, 0 to 1196\n",
      "Data columns (total 5 columns):\n",
      " #   Column         Non-Null Count  Dtype \n",
      "---  ------         --------------  ----- \n",
      " 0   transactionId  1197 non-null   int64 \n",
      " 1   visitorId      1197 non-null   int64 \n",
      " 2   date           1197 non-null   object\n",
      " 3   revenue        1197 non-null   int64 \n",
      " 4   group          1197 non-null   object\n",
      "dtypes: int64(3), object(2)\n",
      "memory usage: 46.9+ KB\n"
     ]
    }
   ],
   "source": [
    "orders.info()"
   ]
  },
  {
   "cell_type": "markdown",
   "metadata": {},
   "source": [
    "Столбец date в таблице orders имеет некорректный тип. Выполним преобразование в datetime."
   ]
  },
  {
   "cell_type": "code",
   "execution_count": 14,
   "metadata": {},
   "outputs": [],
   "source": [
    "# выполним преобразования типа столбца с датой из строкового в datetime\n",
    "orders['date'] = orders['date'].map(\n",
    "    lambda x: dt.datetime.strptime(x, '%Y-%m-%d')\n",
    ")"
   ]
  },
  {
   "cell_type": "code",
   "execution_count": 15,
   "metadata": {},
   "outputs": [
    {
     "name": "stdout",
     "output_type": "stream",
     "text": [
      "<class 'pandas.core.frame.DataFrame'>\n",
      "RangeIndex: 62 entries, 0 to 61\n",
      "Data columns (total 3 columns):\n",
      " #   Column    Non-Null Count  Dtype \n",
      "---  ------    --------------  ----- \n",
      " 0   date      62 non-null     object\n",
      " 1   group     62 non-null     object\n",
      " 2   visitors  62 non-null     int64 \n",
      "dtypes: int64(1), object(2)\n",
      "memory usage: 1.6+ KB\n"
     ]
    }
   ],
   "source": [
    "visitors.info()"
   ]
  },
  {
   "cell_type": "markdown",
   "metadata": {},
   "source": [
    "Столбец date в таблице visitors имеет некорректный тип. Выполним преобразование в datetime."
   ]
  },
  {
   "cell_type": "code",
   "execution_count": 16,
   "metadata": {},
   "outputs": [],
   "source": [
    "# выполним преобразования типа столбца с датой из строкового в datetime\n",
    "visitors['date'] = visitors['date'].map(\n",
    "    lambda x: dt.datetime.strptime(x, '%Y-%m-%d')\n",
    ")"
   ]
  },
  {
   "cell_type": "markdown",
   "metadata": {},
   "source": [
    "Данные загружены и готовы к проведению анализа."
   ]
  },
  {
   "cell_type": "markdown",
   "metadata": {},
   "source": [
    "## Приоритизация гипотез"
   ]
  },
  {
   "cell_type": "markdown",
   "metadata": {},
   "source": [
    "Применим фреймворк ICE для приоритизации гипотез. Отсортируем их по убыванию приоритета."
   ]
  },
  {
   "cell_type": "code",
   "execution_count": 17,
   "metadata": {
    "scrolled": true
   },
   "outputs": [],
   "source": [
    "data['ICE'] = data['impact'] * data['confidence'] / data['efforts']"
   ]
  },
  {
   "cell_type": "code",
   "execution_count": 18,
   "metadata": {
    "scrolled": true
   },
   "outputs": [
    {
     "data": {
      "text/html": [
       "<div>\n",
       "<style scoped>\n",
       "    .dataframe tbody tr th:only-of-type {\n",
       "        vertical-align: middle;\n",
       "    }\n",
       "\n",
       "    .dataframe tbody tr th {\n",
       "        vertical-align: top;\n",
       "    }\n",
       "\n",
       "    .dataframe thead th {\n",
       "        text-align: right;\n",
       "    }\n",
       "</style>\n",
       "<table border=\"1\" class=\"dataframe\">\n",
       "  <thead>\n",
       "    <tr style=\"text-align: right;\">\n",
       "      <th></th>\n",
       "      <th>hypothesis</th>\n",
       "      <th>ICE</th>\n",
       "    </tr>\n",
       "  </thead>\n",
       "  <tbody>\n",
       "    <tr>\n",
       "      <th>8</th>\n",
       "      <td>Запустить акцию, дающую скидку на товар в день рождения</td>\n",
       "      <td>16.20</td>\n",
       "    </tr>\n",
       "    <tr>\n",
       "      <th>0</th>\n",
       "      <td>Добавить два новых канала привлечения трафика, что позволит привлекать на 30% больше пользователей</td>\n",
       "      <td>13.33</td>\n",
       "    </tr>\n",
       "    <tr>\n",
       "      <th>7</th>\n",
       "      <td>Добавить форму подписки на все основные страницы, чтобы собрать базу клиентов для email-рассылок</td>\n",
       "      <td>11.20</td>\n",
       "    </tr>\n",
       "    <tr>\n",
       "      <th>6</th>\n",
       "      <td>Показать на главной странице баннеры с актуальными акциями и распродажами, чтобы увеличить конверсию</td>\n",
       "      <td>8.00</td>\n",
       "    </tr>\n",
       "    <tr>\n",
       "      <th>2</th>\n",
       "      <td>Добавить блоки рекомендаций товаров на сайт интернет магазина, чтобы повысить конверсию и средний чек заказа</td>\n",
       "      <td>7.00</td>\n",
       "    </tr>\n",
       "    <tr>\n",
       "      <th>1</th>\n",
       "      <td>Запустить собственную службу доставки, что сократит срок доставки заказов</td>\n",
       "      <td>2.00</td>\n",
       "    </tr>\n",
       "    <tr>\n",
       "      <th>5</th>\n",
       "      <td>Добавить страницу отзывов клиентов о магазине, что позволит увеличить количество заказов</td>\n",
       "      <td>1.33</td>\n",
       "    </tr>\n",
       "    <tr>\n",
       "      <th>3</th>\n",
       "      <td>Изменить структура категорий, что увеличит конверсию, т.к. пользователи быстрее найдут нужный товар</td>\n",
       "      <td>1.12</td>\n",
       "    </tr>\n",
       "    <tr>\n",
       "      <th>4</th>\n",
       "      <td>Изменить цвет фона главной страницы, чтобы увеличить вовлеченность пользователей</td>\n",
       "      <td>1.00</td>\n",
       "    </tr>\n",
       "  </tbody>\n",
       "</table>\n",
       "</div>"
      ],
      "text/plain": [
       "                                                                                                     hypothesis  \\\n",
       "8                                                       Запустить акцию, дающую скидку на товар в день рождения   \n",
       "0            Добавить два новых канала привлечения трафика, что позволит привлекать на 30% больше пользователей   \n",
       "7              Добавить форму подписки на все основные страницы, чтобы собрать базу клиентов для email-рассылок   \n",
       "6          Показать на главной странице баннеры с актуальными акциями и распродажами, чтобы увеличить конверсию   \n",
       "2  Добавить блоки рекомендаций товаров на сайт интернет магазина, чтобы повысить конверсию и средний чек заказа   \n",
       "1                                     Запустить собственную службу доставки, что сократит срок доставки заказов   \n",
       "5                      Добавить страницу отзывов клиентов о магазине, что позволит увеличить количество заказов   \n",
       "3           Изменить структура категорий, что увеличит конверсию, т.к. пользователи быстрее найдут нужный товар   \n",
       "4                              Изменить цвет фона главной страницы, чтобы увеличить вовлеченность пользователей   \n",
       "\n",
       "     ICE  \n",
       "8  16.20  \n",
       "0  13.33  \n",
       "7  11.20  \n",
       "6   8.00  \n",
       "2   7.00  \n",
       "1   2.00  \n",
       "5   1.33  \n",
       "3   1.12  \n",
       "4   1.00  "
      ]
     },
     "execution_count": 18,
     "metadata": {},
     "output_type": "execute_result"
    }
   ],
   "source": [
    "round(data.sort_values(by = 'ICE', ascending = False)[['hypothesis', 'ICE']], 2)"
   ]
  },
  {
   "cell_type": "markdown",
   "metadata": {},
   "source": [
    "Теперь применим фреймворк RICE для приоритизации гипотез и также отсортируем их по убыванию приоритета."
   ]
  },
  {
   "cell_type": "code",
   "execution_count": 19,
   "metadata": {},
   "outputs": [],
   "source": [
    "data['RICE'] = data['reach'] * data['impact'] * data['confidence'] / data['efforts']"
   ]
  },
  {
   "cell_type": "code",
   "execution_count": 20,
   "metadata": {},
   "outputs": [
    {
     "data": {
      "text/html": [
       "<div>\n",
       "<style scoped>\n",
       "    .dataframe tbody tr th:only-of-type {\n",
       "        vertical-align: middle;\n",
       "    }\n",
       "\n",
       "    .dataframe tbody tr th {\n",
       "        vertical-align: top;\n",
       "    }\n",
       "\n",
       "    .dataframe thead th {\n",
       "        text-align: right;\n",
       "    }\n",
       "</style>\n",
       "<table border=\"1\" class=\"dataframe\">\n",
       "  <thead>\n",
       "    <tr style=\"text-align: right;\">\n",
       "      <th></th>\n",
       "      <th>hypothesis</th>\n",
       "      <th>RICE</th>\n",
       "    </tr>\n",
       "  </thead>\n",
       "  <tbody>\n",
       "    <tr>\n",
       "      <th>7</th>\n",
       "      <td>Добавить форму подписки на все основные страницы, чтобы собрать базу клиентов для email-рассылок</td>\n",
       "      <td>112.0</td>\n",
       "    </tr>\n",
       "    <tr>\n",
       "      <th>2</th>\n",
       "      <td>Добавить блоки рекомендаций товаров на сайт интернет магазина, чтобы повысить конверсию и средний чек заказа</td>\n",
       "      <td>56.0</td>\n",
       "    </tr>\n",
       "    <tr>\n",
       "      <th>0</th>\n",
       "      <td>Добавить два новых канала привлечения трафика, что позволит привлекать на 30% больше пользователей</td>\n",
       "      <td>40.0</td>\n",
       "    </tr>\n",
       "    <tr>\n",
       "      <th>6</th>\n",
       "      <td>Показать на главной странице баннеры с актуальными акциями и распродажами, чтобы увеличить конверсию</td>\n",
       "      <td>40.0</td>\n",
       "    </tr>\n",
       "    <tr>\n",
       "      <th>8</th>\n",
       "      <td>Запустить акцию, дающую скидку на товар в день рождения</td>\n",
       "      <td>16.2</td>\n",
       "    </tr>\n",
       "    <tr>\n",
       "      <th>3</th>\n",
       "      <td>Изменить структура категорий, что увеличит конверсию, т.к. пользователи быстрее найдут нужный товар</td>\n",
       "      <td>9.0</td>\n",
       "    </tr>\n",
       "    <tr>\n",
       "      <th>1</th>\n",
       "      <td>Запустить собственную службу доставки, что сократит срок доставки заказов</td>\n",
       "      <td>4.0</td>\n",
       "    </tr>\n",
       "    <tr>\n",
       "      <th>5</th>\n",
       "      <td>Добавить страницу отзывов клиентов о магазине, что позволит увеличить количество заказов</td>\n",
       "      <td>4.0</td>\n",
       "    </tr>\n",
       "    <tr>\n",
       "      <th>4</th>\n",
       "      <td>Изменить цвет фона главной страницы, чтобы увеличить вовлеченность пользователей</td>\n",
       "      <td>3.0</td>\n",
       "    </tr>\n",
       "  </tbody>\n",
       "</table>\n",
       "</div>"
      ],
      "text/plain": [
       "                                                                                                     hypothesis  \\\n",
       "7              Добавить форму подписки на все основные страницы, чтобы собрать базу клиентов для email-рассылок   \n",
       "2  Добавить блоки рекомендаций товаров на сайт интернет магазина, чтобы повысить конверсию и средний чек заказа   \n",
       "0            Добавить два новых канала привлечения трафика, что позволит привлекать на 30% больше пользователей   \n",
       "6          Показать на главной странице баннеры с актуальными акциями и распродажами, чтобы увеличить конверсию   \n",
       "8                                                       Запустить акцию, дающую скидку на товар в день рождения   \n",
       "3           Изменить структура категорий, что увеличит конверсию, т.к. пользователи быстрее найдут нужный товар   \n",
       "1                                     Запустить собственную службу доставки, что сократит срок доставки заказов   \n",
       "5                      Добавить страницу отзывов клиентов о магазине, что позволит увеличить количество заказов   \n",
       "4                              Изменить цвет фона главной страницы, чтобы увеличить вовлеченность пользователей   \n",
       "\n",
       "    RICE  \n",
       "7  112.0  \n",
       "2   56.0  \n",
       "0   40.0  \n",
       "6   40.0  \n",
       "8   16.2  \n",
       "3    9.0  \n",
       "1    4.0  \n",
       "5    4.0  \n",
       "4    3.0  "
      ]
     },
     "execution_count": 20,
     "metadata": {},
     "output_type": "execute_result"
    }
   ],
   "source": [
    "round(data[[\"hypothesis\", \"RICE\"]].sort_values(by=\"RICE\", ascending=False), 2)"
   ]
  },
  {
   "cell_type": "code",
   "execution_count": 21,
   "metadata": {},
   "outputs": [
    {
     "data": {
      "text/html": [
       "<div>\n",
       "<style scoped>\n",
       "    .dataframe tbody tr th:only-of-type {\n",
       "        vertical-align: middle;\n",
       "    }\n",
       "\n",
       "    .dataframe tbody tr th {\n",
       "        vertical-align: top;\n",
       "    }\n",
       "\n",
       "    .dataframe thead th {\n",
       "        text-align: right;\n",
       "    }\n",
       "</style>\n",
       "<table border=\"1\" class=\"dataframe\">\n",
       "  <thead>\n",
       "    <tr style=\"text-align: right;\">\n",
       "      <th></th>\n",
       "      <th>hypothesis</th>\n",
       "      <th>reach</th>\n",
       "      <th>RICE</th>\n",
       "    </tr>\n",
       "  </thead>\n",
       "  <tbody>\n",
       "    <tr>\n",
       "      <th>7</th>\n",
       "      <td>Добавить форму подписки на все основные страницы, чтобы собрать базу клиентов для email-рассылок</td>\n",
       "      <td>10</td>\n",
       "      <td>112.0</td>\n",
       "    </tr>\n",
       "    <tr>\n",
       "      <th>2</th>\n",
       "      <td>Добавить блоки рекомендаций товаров на сайт интернет магазина, чтобы повысить конверсию и средний чек заказа</td>\n",
       "      <td>8</td>\n",
       "      <td>56.0</td>\n",
       "    </tr>\n",
       "    <tr>\n",
       "      <th>0</th>\n",
       "      <td>Добавить два новых канала привлечения трафика, что позволит привлекать на 30% больше пользователей</td>\n",
       "      <td>3</td>\n",
       "      <td>40.0</td>\n",
       "    </tr>\n",
       "    <tr>\n",
       "      <th>6</th>\n",
       "      <td>Показать на главной странице баннеры с актуальными акциями и распродажами, чтобы увеличить конверсию</td>\n",
       "      <td>5</td>\n",
       "      <td>40.0</td>\n",
       "    </tr>\n",
       "    <tr>\n",
       "      <th>8</th>\n",
       "      <td>Запустить акцию, дающую скидку на товар в день рождения</td>\n",
       "      <td>1</td>\n",
       "      <td>16.2</td>\n",
       "    </tr>\n",
       "    <tr>\n",
       "      <th>3</th>\n",
       "      <td>Изменить структура категорий, что увеличит конверсию, т.к. пользователи быстрее найдут нужный товар</td>\n",
       "      <td>8</td>\n",
       "      <td>9.0</td>\n",
       "    </tr>\n",
       "    <tr>\n",
       "      <th>1</th>\n",
       "      <td>Запустить собственную службу доставки, что сократит срок доставки заказов</td>\n",
       "      <td>2</td>\n",
       "      <td>4.0</td>\n",
       "    </tr>\n",
       "    <tr>\n",
       "      <th>5</th>\n",
       "      <td>Добавить страницу отзывов клиентов о магазине, что позволит увеличить количество заказов</td>\n",
       "      <td>3</td>\n",
       "      <td>4.0</td>\n",
       "    </tr>\n",
       "    <tr>\n",
       "      <th>4</th>\n",
       "      <td>Изменить цвет фона главной страницы, чтобы увеличить вовлеченность пользователей</td>\n",
       "      <td>3</td>\n",
       "      <td>3.0</td>\n",
       "    </tr>\n",
       "  </tbody>\n",
       "</table>\n",
       "</div>"
      ],
      "text/plain": [
       "                                                                                                     hypothesis  \\\n",
       "7              Добавить форму подписки на все основные страницы, чтобы собрать базу клиентов для email-рассылок   \n",
       "2  Добавить блоки рекомендаций товаров на сайт интернет магазина, чтобы повысить конверсию и средний чек заказа   \n",
       "0            Добавить два новых канала привлечения трафика, что позволит привлекать на 30% больше пользователей   \n",
       "6          Показать на главной странице баннеры с актуальными акциями и распродажами, чтобы увеличить конверсию   \n",
       "8                                                       Запустить акцию, дающую скидку на товар в день рождения   \n",
       "3           Изменить структура категорий, что увеличит конверсию, т.к. пользователи быстрее найдут нужный товар   \n",
       "1                                     Запустить собственную службу доставки, что сократит срок доставки заказов   \n",
       "5                      Добавить страницу отзывов клиентов о магазине, что позволит увеличить количество заказов   \n",
       "4                              Изменить цвет фона главной страницы, чтобы увеличить вовлеченность пользователей   \n",
       "\n",
       "   reach   RICE  \n",
       "7     10  112.0  \n",
       "2      8   56.0  \n",
       "0      3   40.0  \n",
       "6      5   40.0  \n",
       "8      1   16.2  \n",
       "3      8    9.0  \n",
       "1      2    4.0  \n",
       "5      3    4.0  \n",
       "4      3    3.0  "
      ]
     },
     "execution_count": 21,
     "metadata": {},
     "output_type": "execute_result"
    }
   ],
   "source": [
    "data[['hypothesis', 'reach', 'RICE']].sort_values(by=\"RICE\", ascending=False)"
   ]
  },
  {
   "cell_type": "markdown",
   "metadata": {},
   "source": [
    "Наиболее перспекивные гипотезы по ICE:\n",
    "1. Запустить акцию, дающую скидку на товар в день рождения\n",
    "2. Добавить два новых канала привлечения трафика, что позволит привлекать на 30% больше пользователей\t\n",
    "3. Добавить форму подписки на все основные страницы, чтобы собрать базу клиентов для email-рассылок\n",
    "\n",
    "Наиболее перспекивные гипотезы по RICE:\n",
    "1. Добавить форму подписки на все основные страницы, чтобы собрать базу клиентов для email-рассылок\n",
    "2. Добавить блоки рекомендаций товаров на сайт интернет магазина, чтобы повысить конверсию и средний чек заказа\t\n",
    "3. Добавить два новых канала привлечения трафика, что позволит привлекать на 30% больше пользователей\t\n",
    "4. Показать на главной странице баннеры с актуальными акциями и распродажами, чтобы увеличить конверсию\t\n",
    "\n",
    "В обоих случаях две одинаковых гипотезы находятся в приоритете, но в случае применения фреймворка ICE гипотеза о добавлении подписки находится лишь на третьем месте, а при применении RICE на первом. Зато акция со скидкой в день рождения в случае ICE на первом месте, и лишь на пятом при сортировке по RICE.\n",
    "\n",
    "Параметры расчета ICE и RICE одинаковы, за исключением того, что в RICE учитывается дополнительно параметр Reach.\n",
    "\n",
    "REACH - компонент, показывающий, скольких пользователей затронет изменение.\n",
    "\n",
    "Именно из-за высокого показателя REACH (10 по 10-бальной школе) гипотеза о добавлении формы подписки на страницы для сбора базы клиентов вышла на первое место. Т.е. в данном случае, предполагается, что будут охвачены все пользователи.\n",
    "\n",
    "Так как фреймворк RICE охватывает больше параметров, считаю более правильным опираться на приоритизацию гипотез на основе данного фреймворка."
   ]
  },
  {
   "cell_type": "markdown",
   "metadata": {},
   "source": [
    "## Анализ A/B-теста"
   ]
  },
  {
   "cell_type": "markdown",
   "metadata": {},
   "source": [
    "Проверим, есть ли пользователи, которые попали в обе группы (А и В). Если такие пользователи найдутся, то их нужно будет исключить из датасета, т.к. участники групп не должны пересекаться."
   ]
  },
  {
   "cell_type": "code",
   "execution_count": 22,
   "metadata": {},
   "outputs": [
    {
     "data": {
      "text/plain": [
       "1031"
      ]
     },
     "execution_count": 22,
     "metadata": {},
     "output_type": "execute_result"
    }
   ],
   "source": [
    "orders['visitorId'].nunique()"
   ]
  },
  {
   "cell_type": "markdown",
   "metadata": {},
   "source": [
    "Пользователей, совершивших хотя бы один заказ - 1031"
   ]
  },
  {
   "cell_type": "code",
   "execution_count": 23,
   "metadata": {},
   "outputs": [
    {
     "data": {
      "text/plain": [
       "58"
      ]
     },
     "execution_count": 23,
     "metadata": {},
     "output_type": "execute_result"
    }
   ],
   "source": [
    "orderGroup = orders[['visitorId', 'group']]\n",
    "\n",
    "# сохраним в разных таблицах пользователей из группы А и из группы В\n",
    "orderGroupA = orderGroup[orderGroup['group'] == 'A'] \n",
    "orderGroupB = orderGroup[orderGroup['group'] == 'B']\n",
    "\n",
    "# выделим в отдельную группу всех тех, кто есть и в группе А, и в группе В\n",
    "orderGroupAB = orderGroupA.merge(orderGroupB, how = 'inner', left_on='visitorId', right_on='visitorId')\n",
    "\n",
    "# посчитаем, сколько людей попали в обе группы\n",
    "orderGroupAB['visitorId'].nunique()"
   ]
  },
  {
   "cell_type": "code",
   "execution_count": 24,
   "metadata": {},
   "outputs": [],
   "source": [
    "# удалим из таблицы orders все заказаы, которые были сделаны покупателями, состоящими в группе А и группе В одновременно\n",
    "orders = orders[ ~ orders['visitorId']. isin (orderGroupAB['visitorId'])]"
   ]
  },
  {
   "cell_type": "code",
   "execution_count": 25,
   "metadata": {},
   "outputs": [
    {
     "data": {
      "text/plain": [
       "973"
      ]
     },
     "execution_count": 25,
     "metadata": {},
     "output_type": "execute_result"
    }
   ],
   "source": [
    "# проверим сколько человек осталось\n",
    "orders['visitorId'].nunique()"
   ]
  },
  {
   "cell_type": "markdown",
   "metadata": {},
   "source": [
    "Создадим массив уникальных пар значений дат и групп теста"
   ]
  },
  {
   "cell_type": "code",
   "execution_count": 26,
   "metadata": {},
   "outputs": [],
   "source": [
    "datesGroups = orders[['date','group']].drop_duplicates() "
   ]
  },
  {
   "cell_type": "markdown",
   "metadata": {},
   "source": [
    "Соберём агрегированные кумулятивные по дням данные о заказах:\n",
    "- получим строки таблицы orders, дата которых меньше или равна дате элемента из datesGroups, а группа теста равна группе из datesGroups\n",
    "- вычислим максимальную дату\n",
    "- рассчитаем максимум для группы\n",
    "- найдём число уникальных ID заказов и пользователей\n",
    "- подсчитаем суммарную выручку заказов в группе теста по указанную дату включительно"
   ]
  },
  {
   "cell_type": "code",
   "execution_count": 27,
   "metadata": {},
   "outputs": [],
   "source": [
    "ordersAggregated = datesGroups.apply(\n",
    "    lambda x: orders[\n",
    "        np.logical_and(\n",
    "            orders['date'] <= x['date'], orders['group'] == x['group']\n",
    "        )\n",
    "    ].agg(\n",
    "        {\n",
    "            'date': 'max',\n",
    "            'group': 'max',\n",
    "            'transactionId': 'nunique',\n",
    "            'visitorId': 'nunique',\n",
    "            'revenue': 'sum',\n",
    "        }\n",
    "    ),\n",
    "    axis=1,\n",
    ").sort_values(by=['date', 'group'])"
   ]
  },
  {
   "cell_type": "markdown",
   "metadata": {},
   "source": [
    "Аналогичным способом получим агрегированные кумулятивные по дням данные о посетителях интернет-магазина"
   ]
  },
  {
   "cell_type": "code",
   "execution_count": 28,
   "metadata": {},
   "outputs": [],
   "source": [
    "visitorsAggregated = datesGroups.apply(\n",
    "    lambda x: visitors[\n",
    "        np.logical_and(\n",
    "            visitors['date'] <= x['date'], visitors['group'] == x['group']\n",
    "        )\n",
    "    ].agg({'date': 'max', 'group': 'max', 'visitors': 'sum'}),\n",
    "    axis=1,\n",
    ").sort_values(by=['date', 'group'])"
   ]
  },
  {
   "cell_type": "markdown",
   "metadata": {},
   "source": [
    "Объединим полученные таблицы."
   ]
  },
  {
   "cell_type": "code",
   "execution_count": 29,
   "metadata": {},
   "outputs": [],
   "source": [
    "cumulativeData = ordersAggregated.merge(visitorsAggregated, left_on=['date', 'group'], right_on=['date', 'group'])"
   ]
  },
  {
   "cell_type": "markdown",
   "metadata": {},
   "source": [
    "Дадим названия столбцам таблицы cumulativeData"
   ]
  },
  {
   "cell_type": "code",
   "execution_count": 30,
   "metadata": {},
   "outputs": [],
   "source": [
    "cumulativeData.columns = [\n",
    "    'date',\n",
    "    'group',\n",
    "    'orders',\n",
    "    'buyers',\n",
    "    'revenue',\n",
    "    'visitors',\n",
    "]"
   ]
  },
  {
   "cell_type": "code",
   "execution_count": 31,
   "metadata": {},
   "outputs": [
    {
     "data": {
      "text/html": [
       "<div>\n",
       "<style scoped>\n",
       "    .dataframe tbody tr th:only-of-type {\n",
       "        vertical-align: middle;\n",
       "    }\n",
       "\n",
       "    .dataframe tbody tr th {\n",
       "        vertical-align: top;\n",
       "    }\n",
       "\n",
       "    .dataframe thead th {\n",
       "        text-align: right;\n",
       "    }\n",
       "</style>\n",
       "<table border=\"1\" class=\"dataframe\">\n",
       "  <thead>\n",
       "    <tr style=\"text-align: right;\">\n",
       "      <th></th>\n",
       "      <th>date</th>\n",
       "      <th>group</th>\n",
       "      <th>orders</th>\n",
       "      <th>buyers</th>\n",
       "      <th>revenue</th>\n",
       "      <th>visitors</th>\n",
       "    </tr>\n",
       "  </thead>\n",
       "  <tbody>\n",
       "    <tr>\n",
       "      <th>0</th>\n",
       "      <td>2019-08-01</td>\n",
       "      <td>A</td>\n",
       "      <td>23</td>\n",
       "      <td>19</td>\n",
       "      <td>142779</td>\n",
       "      <td>719</td>\n",
       "    </tr>\n",
       "    <tr>\n",
       "      <th>1</th>\n",
       "      <td>2019-08-01</td>\n",
       "      <td>B</td>\n",
       "      <td>17</td>\n",
       "      <td>17</td>\n",
       "      <td>59758</td>\n",
       "      <td>713</td>\n",
       "    </tr>\n",
       "    <tr>\n",
       "      <th>2</th>\n",
       "      <td>2019-08-02</td>\n",
       "      <td>A</td>\n",
       "      <td>42</td>\n",
       "      <td>36</td>\n",
       "      <td>234381</td>\n",
       "      <td>1338</td>\n",
       "    </tr>\n",
       "    <tr>\n",
       "      <th>3</th>\n",
       "      <td>2019-08-02</td>\n",
       "      <td>B</td>\n",
       "      <td>40</td>\n",
       "      <td>39</td>\n",
       "      <td>221801</td>\n",
       "      <td>1294</td>\n",
       "    </tr>\n",
       "    <tr>\n",
       "      <th>4</th>\n",
       "      <td>2019-08-03</td>\n",
       "      <td>A</td>\n",
       "      <td>66</td>\n",
       "      <td>60</td>\n",
       "      <td>346854</td>\n",
       "      <td>1845</td>\n",
       "    </tr>\n",
       "  </tbody>\n",
       "</table>\n",
       "</div>"
      ],
      "text/plain": [
       "        date group  orders  buyers  revenue  visitors\n",
       "0 2019-08-01     A      23      19   142779       719\n",
       "1 2019-08-01     B      17      17    59758       713\n",
       "2 2019-08-02     A      42      36   234381      1338\n",
       "3 2019-08-02     B      40      39   221801      1294\n",
       "4 2019-08-03     A      66      60   346854      1845"
      ]
     },
     "execution_count": 31,
     "metadata": {},
     "output_type": "execute_result"
    }
   ],
   "source": [
    "cumulativeData.head()"
   ]
  },
  {
   "cell_type": "markdown",
   "metadata": {},
   "source": [
    "**1. Начнем анализ A/B-теста с построения графика кумулятивной выручки по группам.**"
   ]
  },
  {
   "cell_type": "code",
   "execution_count": 32,
   "metadata": {},
   "outputs": [
    {
     "data": {
      "image/png": "[encoded data removed]",
      "text/plain": [
       "<Figure size 864x576 with 1 Axes>"
      ]
     },
     "metadata": {
      "needs_background": "light"
     },
     "output_type": "display_data"
    }
   ],
   "source": [
    "# датафрейм с кумулятивным количеством заказов и кумулятивной выручкой по дням в группе А\n",
    "cumulativeRevenueA = cumulativeData[cumulativeData['group']=='A'][['date','revenue', 'orders']]\n",
    "\n",
    "# датафрейм с кумулятивным количеством заказов и кумулятивной выручкой по дням в группе B\n",
    "cumulativeRevenueB = cumulativeData[cumulativeData['group']=='B'][['date','revenue', 'orders']]\n",
    "\n",
    "plt.figure(figsize = (12, 8))\n",
    "# Строим график выручки группы А\n",
    "plt.plot(cumulativeRevenueA['date'], cumulativeRevenueA['revenue'], label='A')\n",
    "\n",
    "# Строим график выручки группы B\n",
    "plt.plot(cumulativeRevenueB['date'], cumulativeRevenueB['revenue'], label='B')\n",
    "plt.title('Кумулятивная выручка по группам')\n",
    "plt.xticks(rotation = 45)\n",
    "plt.xlabel('Дата') \n",
    "plt.ylabel('Сумма') \n",
    "plt.legend() \n",
    "plt.grid(True)\n",
    "plt.show()"
   ]
  },
  {
   "cell_type": "markdown",
   "metadata": {},
   "source": [
    "На графике мы видим, что выручка увеличивается в течение всего теста. Однако, если выручка группы А увеличивается почти равномерно, то график выручки группы В в одной точке резко вырос. Это может говорить о резком увеличении числа заказов, либо о появлении очень дорогих заказов в выборке."
   ]
  },
  {
   "cell_type": "markdown",
   "metadata": {},
   "source": [
    "**2. Построим графики среднего чека по группам, разделив кумулятивную выручку на кумулятивное число заказов**"
   ]
  },
  {
   "cell_type": "code",
   "execution_count": 33,
   "metadata": {},
   "outputs": [
    {
     "data": {
      "image/png": "[encoded data removed]",
      "text/plain": [
       "<Figure size 864x432 with 1 Axes>"
      ]
     },
     "metadata": {
      "needs_background": "light"
     },
     "output_type": "display_data"
    }
   ],
   "source": [
    "plt.figure(figsize = (12, 6))\n",
    "plt.plot(cumulativeRevenueA['date'], cumulativeRevenueA['revenue']/cumulativeRevenueA['orders'], label='A')\n",
    "plt.plot(cumulativeRevenueB['date'], cumulativeRevenueB['revenue']/cumulativeRevenueB['orders'], label='B')\n",
    "plt.xticks(rotation = 45)\n",
    "plt.title('График кумулятивного среднего чека по группам')\n",
    "plt.xlabel('Дата')  \n",
    "plt.ylabel('Сумма')\n",
    "plt.legend() \n",
    "plt.show()"
   ]
  },
  {
   "cell_type": "markdown",
   "metadata": {},
   "source": [
    "Средний чек сильно колеблется в первой половине графика и становится равномерным только ближе к концу теста. Причем у группы A средний чек стабилизировался, а в группе B плавно падает. Вероятно, в группу B попадали крупные заказы, которые отобразились всплесками на графике. Тогда ей нужно больше данных, чтобы прийти к реальному среднему чеку."
   ]
  },
  {
   "cell_type": "markdown",
   "metadata": {},
   "source": [
    "**3. Построим график относительного изменения кумулятивного среднего чека группы B к группе A.**"
   ]
  },
  {
   "cell_type": "code",
   "execution_count": 34,
   "metadata": {},
   "outputs": [
    {
     "data": {
      "image/png": "[encoded data removed]",
      "text/plain": [
       "<Figure size 864x432 with 1 Axes>"
      ]
     },
     "metadata": {
      "needs_background": "light"
     },
     "output_type": "display_data"
    }
   ],
   "source": [
    "# собираем данные в одном датафрейме\n",
    "mergedCumulativeRevenue = cumulativeRevenueA.merge(cumulativeRevenueB, left_on='date', right_on='date', how='left', suffixes=['A', 'B'])\n",
    "\n",
    "plt.figure(figsize = (12, 6))\n",
    "# cтроим отношение средних чеков\n",
    "plt.plot(mergedCumulativeRevenue['date'], (mergedCumulativeRevenue['revenueB']/mergedCumulativeRevenue['ordersB'])/(mergedCumulativeRevenue['revenueA']/mergedCumulativeRevenue['ordersA'])-1)\n",
    "# добавляем ось X\n",
    "plt.axhline(y=0, color='grey', linestyle='--') \n",
    "plt.xlabel('Дата') \n",
    "plt.ylabel('Отклонение') \n",
    "plt.title('Относительное изменение кумулятивного среднего чека группы B к группе A')\n",
    "plt.show()"
   ]
  },
  {
   "cell_type": "markdown",
   "metadata": {},
   "source": [
    "На полученном графике мы видим скачки в нескольких точках. По всей видимости в эти даты совершались аномальные заказы. "
   ]
  },
  {
   "cell_type": "markdown",
   "metadata": {},
   "source": [
    "**4. Построим график кумулятивного среднего количества заказов на посетителя по группам.**"
   ]
  },
  {
   "cell_type": "code",
   "execution_count": 35,
   "metadata": {},
   "outputs": [
    {
     "data": {
      "image/png": "[encoded data removed]",
      "text/plain": [
       "<Figure size 864x432 with 1 Axes>"
      ]
     },
     "metadata": {
      "needs_background": "light"
     },
     "output_type": "display_data"
    }
   ],
   "source": [
    "# определяем кумулятивное среднее количество заказов на посетителя\n",
    "cumulativeData['conversion'] = cumulativeData['orders'] / cumulativeData['visitors']\n",
    "\n",
    "# определяем данные по группам\n",
    "cumulativeDataA = cumulativeData[cumulativeData['group'] == 'A']\n",
    "cumulativeDataB = cumulativeData[cumulativeData['group'] == 'B']\n",
    "\n",
    "# строим графики\n",
    "plt.figure(figsize = (12, 6))\n",
    "plt.plot(cumulativeDataA['date'], cumulativeDataA['conversion'], label='A')\n",
    "plt.plot(cumulativeDataB['date'], cumulativeDataB['conversion'], label='B')\n",
    "plt.legend()\n",
    "plt.title('График кумулятивного среднего количества заказов на посетителя по группам')\n",
    "plt.axis([dt.datetime(2019, 8, 1), dt.datetime(2019, 9, 1), 0, 0.04])\n",
    "plt.xlabel('Дата') \n",
    "plt.ylabel('Значение') \n",
    "plt.xticks(rotation = 45)\n",
    "plt.show()\n"
   ]
  },
  {
   "cell_type": "markdown",
   "metadata": {},
   "source": [
    "В самом начале теста сегмент А имел большее среднее количество заказов на посетителя, но приблизительно с 6 августа, сегмент В стал выше, а А наоборот ушел вниз. С этого момента на протяжении всего теста мы видим, что среднее количество заказов на посетителя в сегменте В стабильно выше, чем в А."
   ]
  },
  {
   "cell_type": "markdown",
   "metadata": {},
   "source": [
    "**5. Построим график относительного изменения кумулятивного среднего количества заказов на посетителя группы B к группе A.**"
   ]
  },
  {
   "cell_type": "code",
   "execution_count": 36,
   "metadata": {},
   "outputs": [
    {
     "data": {
      "image/png": "[encoded data removed]",
      "text/plain": [
       "<Figure size 1008x432 with 1 Axes>"
      ]
     },
     "metadata": {
      "needs_background": "light"
     },
     "output_type": "display_data"
    }
   ],
   "source": [
    "mergedCumulativeConversions = cumulativeDataA[['date','conversion']].merge(cumulativeDataB[['date','conversion']], left_on='date', right_on='date', how='left', suffixes=['A', 'B'])\n",
    "\n",
    "plt.figure(figsize = (14, 6))\n",
    "plt.plot(mergedCumulativeConversions['date'], mergedCumulativeConversions['conversionB']/mergedCumulativeConversions['conversionA']-1, \n",
    "         label=\"Относительный прирост среднего количества заказов на посетителя группы B относительно группы A\")\n",
    "plt.axis([dt.datetime(2019, 8, 1), dt.datetime(2019, 9, 1), -0.2, 0.4])\n",
    "plt.axhline(y=0.1, color='black', linestyle='--')\n",
    "plt.axhline(y=0.2, color='grey', linestyle='--')\n",
    "plt.title('График относительного изменения кумулятивного среднего количества заказов на посетителя группы B к группе A')\n",
    "plt.xlabel('Дата')\n",
    "plt.ylabel('Значение') \n",
    "plt.legend()\n",
    "plt.xticks(rotation = 45)\n",
    "plt.show()"
   ]
  },
  {
   "cell_type": "markdown",
   "metadata": {},
   "source": [
    "В начале теста группа B значительно проигрывала группе A, затем вырвалась вперёд. Прирост среднего количества заказов на посетителя группы В относительно группы А примерно с 7-8 августа и до окончания теста установился между 10% и 20%."
   ]
  },
  {
   "cell_type": "markdown",
   "metadata": {},
   "source": [
    "**6. Посчитаем точечный график количества заказов по пользователям.**"
   ]
  },
  {
   "cell_type": "code",
   "execution_count": 37,
   "metadata": {},
   "outputs": [
    {
     "name": "stdout",
     "output_type": "stream",
     "text": [
      "      visitorid  orders\n",
      "908  3967698036       3\n",
      "55    249864742       3\n",
      "478  2108163459       3\n",
      "687  2988190573       3\n",
      "890  3908431265       3\n",
      "138   611059232       3\n",
      "632  2742574263       3\n",
      "157   678354126       2\n",
      "323  1404560065       2\n",
      "452  1985475298       2\n"
     ]
    }
   ],
   "source": [
    "# Посчитаем количество заказов по пользователям\n",
    "\n",
    "ordersByUsers = (\n",
    "    orders.groupby('visitorId', as_index=False)\n",
    "    .agg({'transactionId': 'nunique'})\n",
    ")\n",
    "\n",
    "ordersByUsers.columns = ['visitorid', 'orders']\n",
    "print(ordersByUsers.sort_values(by='orders', ascending=False).head(10)) "
   ]
  },
  {
   "cell_type": "code",
   "execution_count": 38,
   "metadata": {
    "scrolled": false
   },
   "outputs": [
    {
     "data": {
      "image/png": "[encoded data removed]",
      "text/plain": [
       "<Figure size 864x432 with 1 Axes>"
      ]
     },
     "metadata": {
      "needs_background": "light"
     },
     "output_type": "display_data"
    }
   ],
   "source": [
    "#Построим точечную диаграмму числа заказов на одного пользователя\n",
    "x_values = pd.Series(range(0, len(ordersByUsers)))\n",
    "\n",
    "plt.figure(figsize = (12, 6))\n",
    "plt.scatter(x_values, ordersByUsers['orders']) \n",
    "plt.title('Количество заказов на одного пользователя')\n",
    "plt.xlabel('Количество пользователей')\n",
    "plt.ylabel('Количество заказов')\n",
    "plt.show()"
   ]
  },
  {
   "cell_type": "markdown",
   "metadata": {},
   "source": [
    "Наибольшее количество пользователей совершают по одному заказу. Достаточно много пользователей встречается с 2-мя и 3-мя заказами, но т.к. их точная доля не ясна, мы не можем сделать вывод считать ли их аномалиями или нет. Для этого нужно посчитать выборочные перцентили количества заказов на одного пользователя."
   ]
  },
  {
   "cell_type": "markdown",
   "metadata": {},
   "source": [
    "**7. Построим 95-й и 99-й перцентили количества заказов на пользователя и выберем границу для определения аномальных пользователей.**"
   ]
  },
  {
   "cell_type": "code",
   "execution_count": 39,
   "metadata": {},
   "outputs": [
    {
     "name": "stdout",
     "output_type": "stream",
     "text": [
      "[1. 2.]\n",
      "1\n"
     ]
    }
   ],
   "source": [
    "print(np.percentile(ordersByUsers['orders'], [95, 99])) \n",
    "\n",
    "# сохраним значение 95-го перцентиля в переменной ordersNormal для дальнейших рассчетов\n",
    "ordersNormal = int(np.percentile(ordersByUsers['orders'], [95])[0])\n",
    "print(ordersNormal)"
   ]
  },
  {
   "cell_type": "markdown",
   "metadata": {},
   "source": [
    "Не более 1% пользователей сделали более 2-х заказов, а 95% пользователей совершили всего по одному заказу. Количество заказов **больше 1-го** будем считать аномальным."
   ]
  },
  {
   "cell_type": "markdown",
   "metadata": {},
   "source": [
    "**8. Построим точечный график стоимостей заказов.**"
   ]
  },
  {
   "cell_type": "code",
   "execution_count": 40,
   "metadata": {},
   "outputs": [
    {
     "data": {
      "image/png": "[encoded data removed]",
      "text/plain": [
       "<Figure size 1008x576 with 1 Axes>"
      ]
     },
     "metadata": {
      "needs_background": "light"
     },
     "output_type": "display_data"
    }
   ],
   "source": [
    "x_values = pd.Series(range(0, len(orders['revenue'])))\n",
    "plt.figure(figsize = (14, 8))\n",
    "plt.scatter(x_values, orders['revenue'])\n",
    "plt.title('График стоимостей заказов')\n",
    "plt.ylim(0, 200000)\n",
    "plt.xlabel('Количество заказов')\n",
    "plt.ylabel('Стоимость')\n",
    "plt.show()"
   ]
  },
  {
   "cell_type": "markdown",
   "metadata": {},
   "source": [
    "На точечной диаграмме рассеивания видно, что большая часть заказов по графику не превышает 25 000 руб. Есть выбросы, достигающие 100 000 руб."
   ]
  },
  {
   "cell_type": "markdown",
   "metadata": {},
   "source": [
    "**9. Посчитаем 95-й и 99-й перцентили стоимости заказов и выберем границу для определения аномальных заказов.**"
   ]
  },
  {
   "cell_type": "code",
   "execution_count": 41,
   "metadata": {},
   "outputs": [
    {
     "name": "stdout",
     "output_type": "stream",
     "text": [
      "[26785. 53904.]\n",
      "26785\n"
     ]
    }
   ],
   "source": [
    "print(np.percentile(orders['revenue'], [95, 99]))\n",
    "\n",
    "# сохраним значение 95-го перцентиля в переменной revenueNormal для дальнейших рассчетов\n",
    "revenueNormal = int(np.percentile(orders['revenue'], [95])[0]) \n",
    "print(revenueNormal)"
   ]
  },
  {
   "cell_type": "markdown",
   "metadata": {},
   "source": [
    "Всего 5% заказов превышают стоимость **26 785 рублей** и не более 1% дороже 53 904 рублей. В качестве граничного значения будем считать 95-й перцентиль. Все заказы, стоимость которых превышает данное значение, не будут учитываться в тесте."
   ]
  },
  {
   "cell_type": "markdown",
   "metadata": {},
   "source": [
    "**10. Посчитаем статистическую значимость различий в среднем количестве заказов на посетителя между группами по «сырым» данным.**"
   ]
  },
  {
   "cell_type": "markdown",
   "metadata": {},
   "source": [
    "Для расчёта значений статистической значимости для каждой группы теста подготовим таблицу, в которой будет содержаться следующая информация:\n",
    "\n",
    "- date — дата\n",
    "- ordersPerDateA — количество заказов в выбранную дату в группе A\n",
    "- revenuePerDateA — суммарная выручка в выбранную дату в группе A\n",
    "- ordersPerDateB — количество заказов в выбранную дату в группе B\n",
    "- revenuePerDateB — суммарная выручка в выбранную дату в группе B\n",
    "- ordersCummulativeA — суммарное число заказов до выбранной даты включительно в группе A\n",
    "- revenueCummulativeA — суммарная выручка до выбранной даты включительно в группе A\n",
    "- ordersCummulativeB — суммарное количество заказов до выбранной даты включительно в группе B\n",
    "- revenueCummulativeB — суммарная выручка до выбранной даты включительно в группе B\n",
    "- visitorsPerDateA — количество пользователей в выбранную дату в группе A\n",
    "- visitorsPerDateB — количество пользователей в выбранную дату в группе B\n",
    "- visitorsCummulativeA — количество пользователей до выбранной даты включительно в группе A\n",
    "- visitorsCummulativeB — количество пользователей до выбранной даты включительно в группе B"
   ]
  },
  {
   "cell_type": "markdown",
   "metadata": {},
   "source": [
    "Сформулируем гипотезы. \n",
    "\n",
    "Нулевая (H0): различий в среднем количестве заказов между группами нет. \n",
    "\n",
    "Альтернативная (H1): различия в среднем между группами есть."
   ]
  },
  {
   "cell_type": "code",
   "execution_count": 42,
   "metadata": {},
   "outputs": [],
   "source": [
    "# создадим таблицу с данными о посещениях пользователей группы А\n",
    "visitorsADaily = visitors[visitors['group']=='A'][['date', 'visitors']]\n",
    "visitorsADaily.columns = ['date', 'visitorsPerDateA']"
   ]
  },
  {
   "cell_type": "code",
   "execution_count": 43,
   "metadata": {},
   "outputs": [],
   "source": [
    "# создадим таблицу с данными о посещениях пользователей группы B\n",
    "visitorsBDaily = visitors[visitors['group']=='B'][['date', 'visitors']]\n",
    "visitorsBDaily.columns = ['date', 'visitorsPerDateB']"
   ]
  },
  {
   "cell_type": "code",
   "execution_count": 44,
   "metadata": {},
   "outputs": [],
   "source": [
    "# определим кумулятивное количество посещений в день для группы А\n",
    "visitorsACummulative = visitorsADaily.apply(\n",
    "    lambda x: visitorsADaily[visitorsADaily['date'] <= x['date']].agg({'date' : 'max', 'visitorsPerDateA' : 'sum'}), axis=1\n",
    ")\n",
    "visitorsACummulative.columns = ['date', 'visitorsCummulativeA']"
   ]
  },
  {
   "cell_type": "code",
   "execution_count": 45,
   "metadata": {},
   "outputs": [],
   "source": [
    "# определим кумулятивное количество посещений в день для группы В\n",
    "visitorsBCummulative = visitorsBDaily.apply(\n",
    "    lambda x: visitorsBDaily[visitorsBDaily['date'] <= x['date']].agg({'date' : 'max', 'visitorsPerDateB' : 'sum'}), axis=1\n",
    ")\n",
    "visitorsBCummulative.columns = ['date', 'visitorsCummulativeB']"
   ]
  },
  {
   "cell_type": "code",
   "execution_count": 46,
   "metadata": {},
   "outputs": [],
   "source": [
    "# создадим таблицу с количеством покупок в день и общей суммой покупок в день для группы А\n",
    "ordersADaily = orders[orders['group']=='A'][['date', 'transactionId', 'visitorId', 'revenue']]\\\n",
    "    .groupby('date', as_index=False)\\\n",
    "    .agg({'transactionId' : pd.Series.nunique, 'revenue' : 'sum'})\n",
    "ordersADaily.columns = ['date', 'ordersPerDateA', 'revenuePerDateA']"
   ]
  },
  {
   "cell_type": "code",
   "execution_count": 47,
   "metadata": {},
   "outputs": [],
   "source": [
    "# создадим таблицу с количеством покупок в день и общей суммой покупок в день для группы В\n",
    "ordersBDaily = orders[orders['group']=='B'][['date', 'transactionId', 'visitorId', 'revenue']]\\\n",
    "    .groupby('date', as_index=False)\\\n",
    "    .agg({'transactionId' : pd.Series.nunique, 'revenue' : 'sum'})\n",
    "ordersBDaily.columns = ['date', 'ordersPerDateB', 'revenuePerDateB']"
   ]
  },
  {
   "cell_type": "code",
   "execution_count": 48,
   "metadata": {},
   "outputs": [],
   "source": [
    "# создадим таблицу с кумулятивным количеством покупок и суммой покупок в день для группы А\n",
    "ordersACummulative = (\n",
    "        ordersADaily.apply(lambda x: ordersADaily[ordersADaily['date'] <= x['date']]\\\n",
    "        .agg({'date' : 'max', 'ordersPerDateA' : 'sum', 'revenuePerDateA' : 'sum'}), axis=1).sort_values(by=['date']))\n",
    "ordersACummulative.columns = ['date', 'ordersCummulativeA', 'revenueCummulativeA']"
   ]
  },
  {
   "cell_type": "code",
   "execution_count": 49,
   "metadata": {},
   "outputs": [],
   "source": [
    "# создадим таблицу с кумулятивным количеством покупок и суммой покупок в день для группы В\n",
    "ordersBCummulative = (\n",
    "        ordersBDaily.apply(lambda x: ordersBDaily[ordersBDaily['date'] <= x['date']]\\\n",
    "        .agg({'date' : 'max', 'ordersPerDateB' : 'sum', 'revenuePerDateB' : 'sum'}), axis=1).sort_values(by=['date']))\n",
    "ordersBCummulative.columns = ['date', 'ordersCummulativeB', 'revenueCummulativeB']"
   ]
  },
  {
   "cell_type": "code",
   "execution_count": 50,
   "metadata": {},
   "outputs": [
    {
     "data": {
      "text/html": [
       "<div>\n",
       "<style scoped>\n",
       "    .dataframe tbody tr th:only-of-type {\n",
       "        vertical-align: middle;\n",
       "    }\n",
       "\n",
       "    .dataframe tbody tr th {\n",
       "        vertical-align: top;\n",
       "    }\n",
       "\n",
       "    .dataframe thead th {\n",
       "        text-align: right;\n",
       "    }\n",
       "</style>\n",
       "<table border=\"1\" class=\"dataframe\">\n",
       "  <thead>\n",
       "    <tr style=\"text-align: right;\">\n",
       "      <th></th>\n",
       "      <th>date</th>\n",
       "      <th>ordersPerDateA</th>\n",
       "      <th>revenuePerDateA</th>\n",
       "      <th>ordersPerDateB</th>\n",
       "      <th>revenuePerDateB</th>\n",
       "      <th>ordersCummulativeA</th>\n",
       "      <th>revenueCummulativeA</th>\n",
       "      <th>ordersCummulativeB</th>\n",
       "      <th>revenueCummulativeB</th>\n",
       "      <th>visitorsPerDateA</th>\n",
       "      <th>visitorsPerDateB</th>\n",
       "      <th>visitorsCummulativeA</th>\n",
       "      <th>visitorsCummulativeB</th>\n",
       "    </tr>\n",
       "  </thead>\n",
       "  <tbody>\n",
       "    <tr>\n",
       "      <th>0</th>\n",
       "      <td>2019-08-01</td>\n",
       "      <td>23</td>\n",
       "      <td>142779</td>\n",
       "      <td>17</td>\n",
       "      <td>59758</td>\n",
       "      <td>23</td>\n",
       "      <td>142779</td>\n",
       "      <td>17</td>\n",
       "      <td>59758</td>\n",
       "      <td>719</td>\n",
       "      <td>713</td>\n",
       "      <td>719</td>\n",
       "      <td>713</td>\n",
       "    </tr>\n",
       "    <tr>\n",
       "      <th>1</th>\n",
       "      <td>2019-08-02</td>\n",
       "      <td>19</td>\n",
       "      <td>91602</td>\n",
       "      <td>23</td>\n",
       "      <td>162043</td>\n",
       "      <td>42</td>\n",
       "      <td>234381</td>\n",
       "      <td>40</td>\n",
       "      <td>221801</td>\n",
       "      <td>619</td>\n",
       "      <td>581</td>\n",
       "      <td>1338</td>\n",
       "      <td>1294</td>\n",
       "    </tr>\n",
       "    <tr>\n",
       "      <th>2</th>\n",
       "      <td>2019-08-03</td>\n",
       "      <td>24</td>\n",
       "      <td>112473</td>\n",
       "      <td>14</td>\n",
       "      <td>67049</td>\n",
       "      <td>66</td>\n",
       "      <td>346854</td>\n",
       "      <td>54</td>\n",
       "      <td>288850</td>\n",
       "      <td>507</td>\n",
       "      <td>509</td>\n",
       "      <td>1845</td>\n",
       "      <td>1803</td>\n",
       "    </tr>\n",
       "    <tr>\n",
       "      <th>3</th>\n",
       "      <td>2019-08-04</td>\n",
       "      <td>11</td>\n",
       "      <td>41176</td>\n",
       "      <td>14</td>\n",
       "      <td>96890</td>\n",
       "      <td>77</td>\n",
       "      <td>388030</td>\n",
       "      <td>68</td>\n",
       "      <td>385740</td>\n",
       "      <td>717</td>\n",
       "      <td>770</td>\n",
       "      <td>2562</td>\n",
       "      <td>2573</td>\n",
       "    </tr>\n",
       "    <tr>\n",
       "      <th>4</th>\n",
       "      <td>2019-08-05</td>\n",
       "      <td>22</td>\n",
       "      <td>86383</td>\n",
       "      <td>21</td>\n",
       "      <td>89908</td>\n",
       "      <td>99</td>\n",
       "      <td>474413</td>\n",
       "      <td>89</td>\n",
       "      <td>475648</td>\n",
       "      <td>756</td>\n",
       "      <td>707</td>\n",
       "      <td>3318</td>\n",
       "      <td>3280</td>\n",
       "    </tr>\n",
       "  </tbody>\n",
       "</table>\n",
       "</div>"
      ],
      "text/plain": [
       "        date  ordersPerDateA  revenuePerDateA  ordersPerDateB  \\\n",
       "0 2019-08-01              23           142779              17   \n",
       "1 2019-08-02              19            91602              23   \n",
       "2 2019-08-03              24           112473              14   \n",
       "3 2019-08-04              11            41176              14   \n",
       "4 2019-08-05              22            86383              21   \n",
       "\n",
       "   revenuePerDateB  ordersCummulativeA  revenueCummulativeA  \\\n",
       "0            59758                  23               142779   \n",
       "1           162043                  42               234381   \n",
       "2            67049                  66               346854   \n",
       "3            96890                  77               388030   \n",
       "4            89908                  99               474413   \n",
       "\n",
       "   ordersCummulativeB  revenueCummulativeB  visitorsPerDateA  \\\n",
       "0                  17                59758               719   \n",
       "1                  40               221801               619   \n",
       "2                  54               288850               507   \n",
       "3                  68               385740               717   \n",
       "4                  89               475648               756   \n",
       "\n",
       "   visitorsPerDateB  visitorsCummulativeA  visitorsCummulativeB  \n",
       "0               713                   719                   713  \n",
       "1               581                  1338                  1294  \n",
       "2               509                  1845                  1803  \n",
       "3               770                  2562                  2573  \n",
       "4               707                  3318                  3280  "
      ]
     },
     "metadata": {},
     "output_type": "display_data"
    }
   ],
   "source": [
    "# объединим все таблицы, созданные выше, в одну таблицу \"data\"\n",
    "data = ordersADaily.merge(ordersBDaily, left_on='date', right_on='date', how='left')\\\n",
    "    .merge(ordersACummulative, left_on='date', right_on='date', how='left')\\\n",
    "    .merge(ordersBCummulative, left_on='date', right_on='date', how='left')\\\n",
    "    .merge(visitorsADaily, left_on='date', right_on='date', how='left')\\\n",
    "    .merge(visitorsBDaily, left_on='date', right_on='date', how='left')\\\n",
    "    .merge(visitorsACummulative, left_on='date', right_on='date', how='left')\\\n",
    "    .merge(visitorsBCummulative, left_on='date', right_on='date', how='left')\n",
    "display(data.head())"
   ]
  },
  {
   "cell_type": "code",
   "execution_count": 51,
   "metadata": {},
   "outputs": [],
   "source": [
    "# определим количество заказов для каждого уникального пользователя в группе А\n",
    "ordersByUsersA = orders[orders['group']=='A'].groupby('visitorId', as_index=False).agg({'transactionId' : pd.Series.nunique})\n",
    "ordersByUsersA.columns = ['userId', 'orders']"
   ]
  },
  {
   "cell_type": "code",
   "execution_count": 52,
   "metadata": {},
   "outputs": [],
   "source": [
    "# определим количество для каждого уникального пользователя в группе В\n",
    "ordersByUsersB = orders[orders['group']=='B'].groupby('visitorId', as_index=False).agg({'transactionId' : pd.Series.nunique})\n",
    "ordersByUsersB.columns = ['userId', 'orders']"
   ]
  },
  {
   "cell_type": "code",
   "execution_count": 53,
   "metadata": {},
   "outputs": [],
   "source": [
    "# создадим таблицу с количеством покупок для каждого клиента группы А (если клиент ничего не купил, то значение покупок равно 0)\n",
    "sampleA = pd.concat(\n",
    "    [ordersByUsersA['orders'], \n",
    "     pd.Series(0, index=np.arange(data['visitorsPerDateA'].sum() - len(ordersByUsersA['orders'])), name='orders')],\n",
    "    axis=0)"
   ]
  },
  {
   "cell_type": "code",
   "execution_count": 54,
   "metadata": {},
   "outputs": [],
   "source": [
    "# создадим таблицу с количеством покупок для каждого клиента группы В (если клиент ничего не купил, то значение покупок равно 0)\n",
    "sampleB = pd.concat(\n",
    "    [ordersByUsersB['orders'], pd.Series(0, index=np.arange(data['visitorsPerDateB'].sum() - len(ordersByUsersB['orders'])), name='orders')],\n",
    "    axis=0)"
   ]
  },
  {
   "cell_type": "code",
   "execution_count": 55,
   "metadata": {},
   "outputs": [
    {
     "name": "stdout",
     "output_type": "stream",
     "text": [
      "Значение статистической значимости среднего количества заказов между группами составляет 0.01102\n"
     ]
    }
   ],
   "source": [
    "# рассчитаем значения статистической значимости среднего количества заказов на посетителя между группами\n",
    "print('Значение статистической значимости среднего количества заказов между группами составляет', \n",
    "      (\"{0:.5f}\".format(stats.mannwhitneyu(sampleA, sampleB)[1])))"
   ]
  },
  {
   "cell_type": "code",
   "execution_count": 56,
   "metadata": {},
   "outputs": [
    {
     "name": "stdout",
     "output_type": "stream",
     "text": [
      "Относительный прирост среднего группы В к группе А равен:  15.98%\n"
     ]
    }
   ],
   "source": [
    "# рассчитаем значения прироста среднего количества заказов на посетителя в группе В по отношению к группе А\n",
    "print('Относительный прирост среднего группы В к группе А равен: ',\n",
    "      \"{0:.2%}\".format(sampleB.mean() / sampleA.mean() - 1))"
   ]
  },
  {
   "cell_type": "markdown",
   "metadata": {},
   "source": [
    "Так как значение p-value < 0.05, нулевую гипотезу мы отвергаем. Проведенный анализ сырых данных показал, что в среднем количестве заказов между группами есть статистически значимые отличия."
   ]
  },
  {
   "cell_type": "markdown",
   "metadata": {},
   "source": [
    "**11. Посчитаем статистическую значимость различий в среднем чеке заказа между группами по «сырым» данным.**"
   ]
  },
  {
   "cell_type": "markdown",
   "metadata": {},
   "source": [
    "Нулевая гипотеза (H0): различий в среднем чеке между группами нет. \n",
    "\n",
    "Альтернативная гипотеза (H1): различия в среднем чеке между группами есть."
   ]
  },
  {
   "cell_type": "code",
   "execution_count": 57,
   "metadata": {},
   "outputs": [
    {
     "name": "stdout",
     "output_type": "stream",
     "text": [
      "Cтатистическая значимость различия средних чеков между группами:  0.829\n"
     ]
    }
   ],
   "source": [
    "print('Cтатистическая значимость различия средних чеков между группами: ',\n",
    "     '{0:.3f}'.format(stats.mannwhitneyu(orders[orders['group']=='A']['revenue'], orders[orders['group']=='B']['revenue'])[1]))"
   ]
  },
  {
   "cell_type": "code",
   "execution_count": 58,
   "metadata": {},
   "outputs": [
    {
     "name": "stdout",
     "output_type": "stream",
     "text": [
      "Относительный прирост среднего чека группы B:  28.66%\n"
     ]
    }
   ],
   "source": [
    "print('Относительный прирост среднего чека группы B: ',\n",
    "     '{0:.2%}'.format(orders[orders['group']=='B']['revenue'].mean()/orders[orders['group']=='A']['revenue'].mean()-1))"
   ]
  },
  {
   "cell_type": "markdown",
   "metadata": {},
   "source": [
    "P-value составил 0.829, что больше 0.05. Это означает, что мы не отвергать нулевую гипотезу о том, что различий в среднем чеке между гуппами нет статистически значимых отличий между группами нет. При этом средний чек группы В на 28.66% выше среднего чека группы А, что достаточно много. \n",
    "\n",
    "Данный анализ проводился на \"сырых\" данных, поэтому делать выводы об успешности А/В тестирования рано, необходимо перепроверить все расчёты на очищенных от аномалий данных."
   ]
  },
  {
   "cell_type": "markdown",
   "metadata": {},
   "source": [
    "**12. Посчитаем статистическую значимость различий в среднем количестве заказов на посетителя между группами по «очищенным» данным.**"
   ]
  },
  {
   "cell_type": "markdown",
   "metadata": {},
   "source": [
    "Для начала необходимо посчитать сколько пользователей попадают в категорию аномальных значений."
   ]
  },
  {
   "cell_type": "code",
   "execution_count": 59,
   "metadata": {},
   "outputs": [
    {
     "name": "stdout",
     "output_type": "stream",
     "text": [
      "568     113298937\n",
      "1099    148427295\n",
      "928     204675465\n",
      "33      249864742\n",
      "684     358944393\n",
      "dtype: int64\n",
      "Количество аномальных пользователей:  86\n"
     ]
    }
   ],
   "source": [
    "#из проведенных ранее рассчетов, мы относим к аномальным пользователям тех, кто сделал более одного заказа или сделал заказ\n",
    "# на сумму выше 26 785\n",
    "usersWithManyOrders = pd.concat(\n",
    "    [\n",
    "        ordersByUsersA[ordersByUsersA['orders'] > ordersNormal]['userId'],\n",
    "        ordersByUsersB[ordersByUsersB['orders'] > ordersNormal]['userId'],\n",
    "    ],\n",
    "    axis=0,\n",
    ")\n",
    "usersWithExpensiveOrders = orders[orders['revenue'] > revenueNormal]['visitorId']\n",
    "\n",
    "# объединим их в таблице abnormalUsers, удалим дубликаты, отсортируем по возрастанию.\n",
    "abnormalUsers = (\n",
    "    pd.concat([usersWithManyOrders, usersWithExpensiveOrders], axis=0)\n",
    "    .drop_duplicates()\n",
    "    .sort_values()\n",
    ")\n",
    "print(abnormalUsers.head(5))\n",
    "print('Количество аномальных пользователей: ', abnormalUsers.shape[0]) "
   ]
  },
  {
   "cell_type": "markdown",
   "metadata": {},
   "source": [
    "Теперь сделаем расчет статистической значимости различий среднего количества заказов после удаления аномальных пользователей.\n",
    "\n",
    "Сначала подготовим выборки количества заказов по пользователям по группам теста."
   ]
  },
  {
   "cell_type": "code",
   "execution_count": 60,
   "metadata": {},
   "outputs": [],
   "source": [
    "sampleAFiltered = pd.concat(\n",
    "    [\n",
    "        ordersByUsersA[\n",
    "            np.logical_not(ordersByUsersA['userId'].isin(abnormalUsers))\n",
    "        ]['orders'],\n",
    "        pd.Series(\n",
    "            0,\n",
    "            index=np.arange(\n",
    "                data['visitorsPerDateA'].sum() - len(ordersByUsersA['orders'])\n",
    "            ),\n",
    "            name='orders',\n",
    "        ),\n",
    "    ],\n",
    "    axis=0,\n",
    ")\n",
    "\n",
    "sampleBFiltered = pd.concat(\n",
    "    [\n",
    "        ordersByUsersB[\n",
    "            np.logical_not(ordersByUsersB['userId'].isin(abnormalUsers))\n",
    "        ]['orders'],\n",
    "        pd.Series(\n",
    "            0,\n",
    "            index=np.arange(\n",
    "                data['visitorsPerDateB'].sum() - len(ordersByUsersB['orders'])\n",
    "            ),\n",
    "            name='orders',\n",
    "        ),\n",
    "    ],\n",
    "    axis=0,\n",
    ") "
   ]
  },
  {
   "cell_type": "markdown",
   "metadata": {},
   "source": [
    "Применим статистический критерий Манна-Уитни к полученным выборкам."
   ]
  },
  {
   "cell_type": "code",
   "execution_count": 61,
   "metadata": {},
   "outputs": [
    {
     "name": "stdout",
     "output_type": "stream",
     "text": [
      "Значение статистической значимости среднего количества заказов между группами составляет 0.01593\n",
      "17.39%\n"
     ]
    }
   ],
   "source": [
    "print('Значение статистической значимости среднего количества заказов между группами составляет',\n",
    "      '{0:.5f}'.format(stats.mannwhitneyu(sampleAFiltered, sampleBFiltered)[1]))\n",
    "print('{0:.2%}'.format(sampleBFiltered.mean()/sampleAFiltered.mean()-1)) "
   ]
  },
  {
   "cell_type": "markdown",
   "metadata": {},
   "source": [
    "Проведенный анализ \"очищенных\" данных показал, что в среднем количестве заказов между группами есть статистически значимые отличия. \n",
    "\n",
    "Относительный прирост среднего группы В к группе А по очищенным данным выше, чем по \"сырым\" на: \n",
    "1.41% (17.39% - 15.98%)"
   ]
  },
  {
   "cell_type": "markdown",
   "metadata": {},
   "source": [
    "**13. Посчитайте статистическую значимость различий в среднем чеке заказа между группами по «очищенным» данным.**"
   ]
  },
  {
   "cell_type": "markdown",
   "metadata": {},
   "source": [
    "Теперь сделаем расчет статистической значимости различий среднего количества заказов после удаления аномальных пользователей. \n",
    "\n",
    "Сначала подготовим выборки количества заказов по пользователям по группам теста."
   ]
  },
  {
   "cell_type": "code",
   "execution_count": 62,
   "metadata": {},
   "outputs": [
    {
     "name": "stdout",
     "output_type": "stream",
     "text": [
      "Cтатистическая значимость различия средних чеков между группами:  0.727\n",
      "Относительный прирост среднего чека группы B:  -3.373%\n"
     ]
    }
   ],
   "source": [
    "# рассчитаем статистическую значимость в среднем чеке между группами А и В на очищенных данных\n",
    "print('Cтатистическая значимость различия средних чеков между группами: ',\n",
    "      '{0:.3f}'.format(stats.mannwhitneyu(\n",
    "    orders[\n",
    "        np.logical_and(\n",
    "            orders['group'] == 'A', \n",
    "            np.logical_not(orders['visitorId'].isin(abnormalUsers)),\n",
    "        )\n",
    "    ]['revenue'],\n",
    "            orders[\n",
    "                np.logical_and(\n",
    "                    orders['group'] == 'B',\n",
    "                    np.logical_not(orders['visitorId'].isin(abnormalUsers)),\n",
    "                )\n",
    "            ]['revenue'],\n",
    "        )[1]\n",
    "    )\n",
    ")\n",
    "\n",
    "# рассчитаем относительный прирост среднего чека очищенной группы B на очищенных данных\n",
    "print('Относительный прирост среднего чека группы B: ',\n",
    "    \"{0:.3%}\".format(\n",
    "        orders[\n",
    "            np.logical_and(\n",
    "                orders['group'] == 'B',\n",
    "                np.logical_not(orders['visitorId'].isin(abnormalUsers)),\n",
    "            )\n",
    "        ]['revenue'].mean()\n",
    "        / orders[\n",
    "            np.logical_and(\n",
    "                orders['group'] == 'A',\n",
    "                np.logical_not(orders['visitorId'].isin(abnormalUsers)),\n",
    "            )\n",
    "        ]['revenue'].mean()\n",
    "        - 1\n",
    "    )\n",
    ") "
   ]
  },
  {
   "cell_type": "markdown",
   "metadata": {},
   "source": [
    "Полученное значение статистической значимости в среднем чеке между группами по \"очищенным\" данным практически идентично значению полученному по \"сырым\" данным. Но после исключения аномальных значений удалось выяснить, что средний чек в группе В на 3% ниже чем в группе А. Данный показатель сильно отличается от значения полученного на \"сырых\" данных. Отличие составляет: 32.03% (28.66 -(-3.37)) Таким образом, исключение аномально высоких значений сильно повлияло на итоговый результат и позволило объективно посмотреть на статистику."
   ]
  },
  {
   "cell_type": "markdown",
   "metadata": {},
   "source": [
    "**14. Принятие решения по результатам теста.**"
   ]
  },
  {
   "cell_type": "markdown",
   "metadata": {},
   "source": [
    "В ходе анализа результатов А/В-тестирования были получены следующие результаты:\n",
    "\n",
    "- По значениям среднего количества заказов между группами А и В есть статистически значимое различие, как по сырым данным, так и после исключения аномалий.\n",
    "- По среднему чеку статистически значимого различия между группами нет. При анализе сырых данных преимущество у группы В, при анализе очищенных данных - группа В по среднему чеку немного проигрывает.\n",
    "- График различия среднего количества заказов между группами сообщает, что результаты у группы B лучше, чем у группы A. У группы В результат стабильно выше на 10% - 20%.\n",
    "- График различия среднего чека колеблется. Именно эти колебания позволили обнаружить аномалии. Сделать из этого графика определённые выводы нельзя.\n",
    "\n",
    "Таким образом, резюмируя вышеизложенные выводы, я бы рекомендовала остановить тест и признать его успешным, т.к. группа В по доходам показала результаты гораздо лучше, чем группа А. "
   ]
  },
  {
   "cell_type": "markdown",
   "metadata": {},
   "source": [
    "## Общий вывод"
   ]
  },
  {
   "cell_type": "markdown",
   "metadata": {},
   "source": [
    "В результатам А/В-тестирования группа В выигрывает по следующим показателям:\n",
    "\n",
    " - **Кумулятивная выручка** ко дню последнего дня теста  выше, чем у группы А более чем на 1,5 млн. рублей\n",
    " - **Среднее количество заказов** - выше на 17,4 %. \n",
    "\n",
    "A/B-тест подтвердил гипотезу о лучшей производительности версии B по сравнению с версией A. Можем признать A/B-тест успешным."
   ]
  }
 ],
 "metadata": {
  "ExecuteTimeLog": [
   {
    "duration": 402,
    "start_time": "2022-12-18T11:37:47.115Z"
   },
   {
    "duration": 79,
    "start_time": "2022-12-18T11:37:49.897Z"
   },
   {
    "duration": 16,
    "start_time": "2022-12-18T11:38:01.030Z"
   },
   {
    "duration": 7,
    "start_time": "2022-12-18T11:38:32.105Z"
   },
   {
    "duration": 10,
    "start_time": "2022-12-18T11:38:39.833Z"
   },
   {
    "duration": 3,
    "start_time": "2022-12-18T11:46:38.255Z"
   },
   {
    "duration": 8,
    "start_time": "2022-12-18T11:46:50.666Z"
   },
   {
    "duration": 3,
    "start_time": "2022-12-18T11:49:16.530Z"
   },
   {
    "duration": 8,
    "start_time": "2022-12-18T11:49:30.093Z"
   },
   {
    "duration": 2,
    "start_time": "2022-12-18T11:50:34.684Z"
   },
   {
    "duration": 11,
    "start_time": "2022-12-18T11:50:39.914Z"
   },
   {
    "duration": 689,
    "start_time": "2022-12-18T11:51:48.949Z"
   },
   {
    "duration": 4,
    "start_time": "2022-12-18T11:56:24.415Z"
   },
   {
    "duration": 5,
    "start_time": "2022-12-18T11:56:32.851Z"
   },
   {
    "duration": 11,
    "start_time": "2022-12-18T11:58:36.718Z"
   },
   {
    "duration": 11,
    "start_time": "2022-12-18T11:59:15.120Z"
   },
   {
    "duration": 5,
    "start_time": "2022-12-18T12:02:00.372Z"
   },
   {
    "duration": 11,
    "start_time": "2022-12-18T12:02:27.723Z"
   },
   {
    "duration": 715,
    "start_time": "2022-12-18T13:05:20.510Z"
   },
   {
    "duration": 718,
    "start_time": "2022-12-18T13:05:45.873Z"
   },
   {
    "duration": 7,
    "start_time": "2022-12-18T13:05:57.633Z"
   },
   {
    "duration": 46,
    "start_time": "2022-12-18T13:07:42.806Z"
   },
   {
    "duration": 657,
    "start_time": "2022-12-18T13:07:48.822Z"
   },
   {
    "duration": 5,
    "start_time": "2022-12-18T13:08:16.054Z"
   },
   {
    "duration": 10,
    "start_time": "2022-12-18T13:08:23.366Z"
   },
   {
    "duration": 651,
    "start_time": "2022-12-18T13:11:17.013Z"
   },
   {
    "duration": 12,
    "start_time": "2022-12-18T13:11:30.683Z"
   },
   {
    "duration": 163,
    "start_time": "2022-12-18T13:18:45.067Z"
   },
   {
    "duration": 65,
    "start_time": "2022-12-18T13:20:37.231Z"
   },
   {
    "duration": 450,
    "start_time": "2022-12-18T13:21:01.010Z"
   },
   {
    "duration": 821,
    "start_time": "2022-12-18T13:21:23.229Z"
   },
   {
    "duration": 28,
    "start_time": "2022-12-18T13:21:24.052Z"
   },
   {
    "duration": 3,
    "start_time": "2022-12-18T13:21:24.081Z"
   },
   {
    "duration": 15,
    "start_time": "2022-12-18T13:21:24.085Z"
   },
   {
    "duration": 6,
    "start_time": "2022-12-18T13:21:24.102Z"
   },
   {
    "duration": 12,
    "start_time": "2022-12-18T13:21:24.109Z"
   },
   {
    "duration": 12,
    "start_time": "2022-12-18T13:21:24.123Z"
   },
   {
    "duration": 5,
    "start_time": "2022-12-18T13:21:24.137Z"
   },
   {
    "duration": 14,
    "start_time": "2022-12-18T13:21:24.144Z"
   },
   {
    "duration": 12,
    "start_time": "2022-12-18T13:21:24.159Z"
   },
   {
    "duration": 57,
    "start_time": "2022-12-18T13:21:24.172Z"
   },
   {
    "duration": 8,
    "start_time": "2022-12-18T13:21:36.137Z"
   },
   {
    "duration": 7,
    "start_time": "2022-12-18T13:21:50.732Z"
   },
   {
    "duration": 3,
    "start_time": "2022-12-18T13:22:40.485Z"
   },
   {
    "duration": 47,
    "start_time": "2022-12-18T13:23:47.276Z"
   },
   {
    "duration": 340,
    "start_time": "2022-12-18T13:30:42.971Z"
   },
   {
    "duration": 95,
    "start_time": "2022-12-18T13:57:24.357Z"
   },
   {
    "duration": 17,
    "start_time": "2022-12-18T13:58:02.341Z"
   },
   {
    "duration": 10,
    "start_time": "2022-12-18T13:58:11.817Z"
   },
   {
    "duration": 11,
    "start_time": "2022-12-18T13:58:39.953Z"
   },
   {
    "duration": 10,
    "start_time": "2022-12-18T13:58:49.461Z"
   },
   {
    "duration": 296,
    "start_time": "2022-12-18T13:59:19.349Z"
   },
   {
    "duration": 4,
    "start_time": "2022-12-18T14:00:13.608Z"
   },
   {
    "duration": 10,
    "start_time": "2022-12-18T14:00:24.942Z"
   },
   {
    "duration": 8,
    "start_time": "2022-12-18T14:01:45.716Z"
   },
   {
    "duration": 8,
    "start_time": "2022-12-18T14:01:50.517Z"
   },
   {
    "duration": 175,
    "start_time": "2022-12-18T14:02:53.513Z"
   },
   {
    "duration": 942,
    "start_time": "2022-12-18T14:03:39.083Z"
   },
   {
    "duration": 75,
    "start_time": "2022-12-18T14:03:40.027Z"
   },
   {
    "duration": 3,
    "start_time": "2022-12-18T14:03:40.104Z"
   },
   {
    "duration": 20,
    "start_time": "2022-12-18T14:03:40.110Z"
   },
   {
    "duration": 2,
    "start_time": "2022-12-18T14:03:40.132Z"
   },
   {
    "duration": 8,
    "start_time": "2022-12-18T14:03:40.136Z"
   },
   {
    "duration": 13,
    "start_time": "2022-12-18T14:03:40.146Z"
   },
   {
    "duration": 6,
    "start_time": "2022-12-18T14:03:40.161Z"
   },
   {
    "duration": 16,
    "start_time": "2022-12-18T14:03:40.168Z"
   },
   {
    "duration": 33,
    "start_time": "2022-12-18T14:03:40.186Z"
   },
   {
    "duration": 54,
    "start_time": "2022-12-18T14:03:40.221Z"
   },
   {
    "duration": 9,
    "start_time": "2022-12-18T14:03:40.276Z"
   },
   {
    "duration": 11,
    "start_time": "2022-12-18T14:03:40.287Z"
   },
   {
    "duration": 13,
    "start_time": "2022-12-18T14:03:40.300Z"
   },
   {
    "duration": 16,
    "start_time": "2022-12-18T14:03:40.315Z"
   },
   {
    "duration": 11,
    "start_time": "2022-12-18T14:03:40.333Z"
   },
   {
    "duration": 6,
    "start_time": "2022-12-18T14:03:40.346Z"
   },
   {
    "duration": 100,
    "start_time": "2022-12-18T14:03:40.353Z"
   },
   {
    "duration": 7,
    "start_time": "2022-12-18T14:06:16.422Z"
   },
   {
    "duration": 10,
    "start_time": "2022-12-18T17:32:50.982Z"
   },
   {
    "duration": 24,
    "start_time": "2022-12-18T17:44:31.824Z"
   },
   {
    "duration": 162,
    "start_time": "2022-12-18T17:45:48.708Z"
   },
   {
    "duration": 114,
    "start_time": "2022-12-18T17:47:47.137Z"
   },
   {
    "duration": 7,
    "start_time": "2022-12-18T17:50:21.817Z"
   },
   {
    "duration": 3,
    "start_time": "2022-12-18T17:51:19.207Z"
   },
   {
    "duration": 9,
    "start_time": "2022-12-18T17:51:49.751Z"
   },
   {
    "duration": 262,
    "start_time": "2022-12-18T18:04:40.293Z"
   },
   {
    "duration": 181,
    "start_time": "2022-12-18T18:05:36.205Z"
   },
   {
    "duration": 172,
    "start_time": "2022-12-18T18:05:58.676Z"
   },
   {
    "duration": 170,
    "start_time": "2022-12-18T18:06:09.077Z"
   },
   {
    "duration": 170,
    "start_time": "2022-12-18T18:06:19.334Z"
   },
   {
    "duration": 225,
    "start_time": "2022-12-18T18:06:54.500Z"
   },
   {
    "duration": 204,
    "start_time": "2022-12-18T18:07:10.625Z"
   },
   {
    "duration": 191,
    "start_time": "2022-12-18T18:10:37.151Z"
   },
   {
    "duration": 168,
    "start_time": "2022-12-18T18:19:14.919Z"
   },
   {
    "duration": 262,
    "start_time": "2022-12-18T18:20:05.498Z"
   },
   {
    "duration": 310,
    "start_time": "2022-12-18T18:39:16.790Z"
   },
   {
    "duration": 305,
    "start_time": "2022-12-18T18:41:08.013Z"
   },
   {
    "duration": 288,
    "start_time": "2022-12-18T18:41:19.544Z"
   },
   {
    "duration": 195,
    "start_time": "2022-12-18T18:56:00.112Z"
   },
   {
    "duration": 338,
    "start_time": "2022-12-18T18:57:46.047Z"
   },
   {
    "duration": 192,
    "start_time": "2022-12-18T18:58:03.430Z"
   },
   {
    "duration": 187,
    "start_time": "2022-12-18T19:02:23.280Z"
   },
   {
    "duration": 320,
    "start_time": "2022-12-18T19:04:03.692Z"
   },
   {
    "duration": 164,
    "start_time": "2022-12-18T19:04:39.283Z"
   },
   {
    "duration": 260,
    "start_time": "2022-12-18T19:05:01.182Z"
   },
   {
    "duration": 181,
    "start_time": "2022-12-18T19:05:21.383Z"
   },
   {
    "duration": 289,
    "start_time": "2022-12-18T19:17:47.137Z"
   },
   {
    "duration": 344,
    "start_time": "2022-12-18T19:18:44.895Z"
   },
   {
    "duration": 302,
    "start_time": "2022-12-18T19:19:03.213Z"
   },
   {
    "duration": 181,
    "start_time": "2022-12-18T19:19:23.933Z"
   },
   {
    "duration": 200,
    "start_time": "2022-12-18T19:19:58.179Z"
   },
   {
    "duration": 206,
    "start_time": "2022-12-18T19:21:17.367Z"
   },
   {
    "duration": 44,
    "start_time": "2022-12-18T19:21:39.077Z"
   },
   {
    "duration": 199,
    "start_time": "2022-12-18T19:21:54.295Z"
   },
   {
    "duration": 178,
    "start_time": "2022-12-18T19:24:10.986Z"
   },
   {
    "duration": 187,
    "start_time": "2022-12-18T19:24:26.329Z"
   },
   {
    "duration": 309,
    "start_time": "2022-12-18T19:25:22.082Z"
   },
   {
    "duration": 394,
    "start_time": "2022-12-18T19:25:45.311Z"
   },
   {
    "duration": 45,
    "start_time": "2022-12-19T12:48:27.484Z"
   },
   {
    "duration": 1208,
    "start_time": "2022-12-19T12:48:37.791Z"
   },
   {
    "duration": 141,
    "start_time": "2022-12-19T12:48:39.002Z"
   },
   {
    "duration": 3,
    "start_time": "2022-12-19T12:48:39.145Z"
   },
   {
    "duration": 28,
    "start_time": "2022-12-19T12:48:39.151Z"
   },
   {
    "duration": 22,
    "start_time": "2022-12-19T12:48:39.181Z"
   },
   {
    "duration": 15,
    "start_time": "2022-12-19T12:48:39.204Z"
   },
   {
    "duration": 26,
    "start_time": "2022-12-19T12:48:39.220Z"
   },
   {
    "duration": 17,
    "start_time": "2022-12-19T12:48:39.247Z"
   },
   {
    "duration": 36,
    "start_time": "2022-12-19T12:48:39.266Z"
   },
   {
    "duration": 39,
    "start_time": "2022-12-19T12:48:39.304Z"
   },
   {
    "duration": 167,
    "start_time": "2022-12-19T12:48:39.345Z"
   },
   {
    "duration": 11,
    "start_time": "2022-12-19T12:48:39.514Z"
   },
   {
    "duration": 7,
    "start_time": "2022-12-19T12:48:39.527Z"
   },
   {
    "duration": 9,
    "start_time": "2022-12-19T12:48:39.535Z"
   },
   {
    "duration": 15,
    "start_time": "2022-12-19T12:48:39.545Z"
   },
   {
    "duration": 18,
    "start_time": "2022-12-19T12:48:39.562Z"
   },
   {
    "duration": 16,
    "start_time": "2022-12-19T12:48:39.582Z"
   },
   {
    "duration": 9,
    "start_time": "2022-12-19T12:48:39.600Z"
   },
   {
    "duration": 9,
    "start_time": "2022-12-19T12:48:39.611Z"
   },
   {
    "duration": 169,
    "start_time": "2022-12-19T12:48:39.621Z"
   },
   {
    "duration": 135,
    "start_time": "2022-12-19T12:48:39.791Z"
   },
   {
    "duration": 15,
    "start_time": "2022-12-19T12:48:39.927Z"
   },
   {
    "duration": 6,
    "start_time": "2022-12-19T12:48:39.944Z"
   },
   {
    "duration": 13,
    "start_time": "2022-12-19T12:48:39.951Z"
   },
   {
    "duration": 298,
    "start_time": "2022-12-19T12:48:39.966Z"
   },
   {
    "duration": 212,
    "start_time": "2022-12-19T12:48:40.266Z"
   },
   {
    "duration": 347,
    "start_time": "2022-12-19T12:48:40.479Z"
   },
   {
    "duration": 213,
    "start_time": "2022-12-19T12:48:40.829Z"
   },
   {
    "duration": 314,
    "start_time": "2022-12-19T12:48:41.044Z"
   },
   {
    "duration": 4,
    "start_time": "2022-12-19T12:51:17.105Z"
   },
   {
    "duration": 6,
    "start_time": "2022-12-19T12:52:47.256Z"
   },
   {
    "duration": 108,
    "start_time": "2022-12-19T12:53:26.263Z"
   },
   {
    "duration": 8,
    "start_time": "2022-12-19T12:54:06.879Z"
   },
   {
    "duration": 13,
    "start_time": "2022-12-19T12:54:35.788Z"
   },
   {
    "duration": 9,
    "start_time": "2022-12-19T12:54:35.803Z"
   },
   {
    "duration": 11,
    "start_time": "2022-12-19T13:18:31.395Z"
   },
   {
    "duration": 9,
    "start_time": "2022-12-19T13:18:52.283Z"
   },
   {
    "duration": 10,
    "start_time": "2022-12-19T13:22:03.322Z"
   },
   {
    "duration": 12,
    "start_time": "2022-12-19T13:22:44.506Z"
   },
   {
    "duration": 21,
    "start_time": "2022-12-19T13:28:49.086Z"
   },
   {
    "duration": 19,
    "start_time": "2022-12-19T14:07:37.815Z"
   },
   {
    "duration": 11,
    "start_time": "2022-12-19T14:09:31.384Z"
   },
   {
    "duration": 11,
    "start_time": "2022-12-19T14:12:19.461Z"
   },
   {
    "duration": 6,
    "start_time": "2022-12-19T14:13:05.893Z"
   },
   {
    "duration": 8,
    "start_time": "2022-12-19T14:13:18.962Z"
   },
   {
    "duration": 5,
    "start_time": "2022-12-19T14:21:15.627Z"
   },
   {
    "duration": 6,
    "start_time": "2022-12-19T14:30:16.159Z"
   },
   {
    "duration": 11,
    "start_time": "2022-12-19T14:30:54.093Z"
   },
   {
    "duration": 72,
    "start_time": "2022-12-19T14:33:06.223Z"
   },
   {
    "duration": 103,
    "start_time": "2022-12-19T14:34:06.685Z"
   },
   {
    "duration": 4,
    "start_time": "2022-12-19T14:36:13.389Z"
   },
   {
    "duration": 7,
    "start_time": "2022-12-19T14:36:49.256Z"
   },
   {
    "duration": 1155,
    "start_time": "2022-12-19T14:54:28.437Z"
   },
   {
    "duration": 83,
    "start_time": "2022-12-19T14:54:29.594Z"
   },
   {
    "duration": 3,
    "start_time": "2022-12-19T14:54:29.678Z"
   },
   {
    "duration": 15,
    "start_time": "2022-12-19T14:54:29.683Z"
   },
   {
    "duration": 4,
    "start_time": "2022-12-19T14:54:29.701Z"
   },
   {
    "duration": 9,
    "start_time": "2022-12-19T14:54:29.707Z"
   },
   {
    "duration": 19,
    "start_time": "2022-12-19T14:54:29.718Z"
   },
   {
    "duration": 6,
    "start_time": "2022-12-19T14:54:29.739Z"
   },
   {
    "duration": 17,
    "start_time": "2022-12-19T14:54:29.747Z"
   },
   {
    "duration": 13,
    "start_time": "2022-12-19T14:54:29.766Z"
   },
   {
    "duration": 63,
    "start_time": "2022-12-19T14:54:29.781Z"
   },
   {
    "duration": 7,
    "start_time": "2022-12-19T14:54:29.846Z"
   },
   {
    "duration": 24,
    "start_time": "2022-12-19T14:54:29.855Z"
   },
   {
    "duration": 8,
    "start_time": "2022-12-19T14:54:29.882Z"
   },
   {
    "duration": 23,
    "start_time": "2022-12-19T14:54:29.892Z"
   },
   {
    "duration": 4,
    "start_time": "2022-12-19T14:54:29.917Z"
   },
   {
    "duration": 13,
    "start_time": "2022-12-19T14:54:29.923Z"
   },
   {
    "duration": 22,
    "start_time": "2022-12-19T14:54:29.938Z"
   },
   {
    "duration": 20,
    "start_time": "2022-12-19T14:54:29.962Z"
   },
   {
    "duration": 22,
    "start_time": "2022-12-19T14:54:29.984Z"
   },
   {
    "duration": 13,
    "start_time": "2022-12-19T14:54:30.008Z"
   },
   {
    "duration": 40,
    "start_time": "2022-12-19T14:54:30.023Z"
   },
   {
    "duration": 178,
    "start_time": "2022-12-19T14:54:30.064Z"
   },
   {
    "duration": 134,
    "start_time": "2022-12-19T14:54:30.244Z"
   },
   {
    "duration": 5,
    "start_time": "2022-12-19T14:54:30.381Z"
   },
   {
    "duration": 13,
    "start_time": "2022-12-19T14:54:30.388Z"
   },
   {
    "duration": 31,
    "start_time": "2022-12-19T14:54:30.403Z"
   },
   {
    "duration": 313,
    "start_time": "2022-12-19T14:54:30.436Z"
   },
   {
    "duration": 221,
    "start_time": "2022-12-19T14:54:30.751Z"
   },
   {
    "duration": 271,
    "start_time": "2022-12-19T14:54:30.975Z"
   },
   {
    "duration": 226,
    "start_time": "2022-12-19T14:54:31.248Z"
   },
   {
    "duration": 309,
    "start_time": "2022-12-19T14:54:31.477Z"
   },
   {
    "duration": 1242,
    "start_time": "2022-12-20T13:05:53.576Z"
   },
   {
    "duration": 137,
    "start_time": "2022-12-20T13:05:54.822Z"
   },
   {
    "duration": 3,
    "start_time": "2022-12-20T13:05:54.961Z"
   },
   {
    "duration": 14,
    "start_time": "2022-12-20T13:05:54.966Z"
   },
   {
    "duration": 4,
    "start_time": "2022-12-20T13:05:54.982Z"
   },
   {
    "duration": 11,
    "start_time": "2022-12-20T13:05:54.987Z"
   },
   {
    "duration": 14,
    "start_time": "2022-12-20T13:05:54.999Z"
   },
   {
    "duration": 24,
    "start_time": "2022-12-20T13:05:55.014Z"
   },
   {
    "duration": 14,
    "start_time": "2022-12-20T13:05:55.040Z"
   },
   {
    "duration": 12,
    "start_time": "2022-12-20T13:05:55.057Z"
   },
   {
    "duration": 152,
    "start_time": "2022-12-20T13:05:55.071Z"
   },
   {
    "duration": 14,
    "start_time": "2022-12-20T13:05:55.224Z"
   },
   {
    "duration": 9,
    "start_time": "2022-12-20T13:05:55.239Z"
   },
   {
    "duration": 10,
    "start_time": "2022-12-20T13:05:55.250Z"
   },
   {
    "duration": 18,
    "start_time": "2022-12-20T13:05:55.262Z"
   },
   {
    "duration": 10,
    "start_time": "2022-12-20T13:05:55.282Z"
   },
   {
    "duration": 11,
    "start_time": "2022-12-20T13:05:55.293Z"
   },
   {
    "duration": 29,
    "start_time": "2022-12-20T13:05:55.305Z"
   },
   {
    "duration": 14,
    "start_time": "2022-12-20T13:05:55.339Z"
   },
   {
    "duration": 14,
    "start_time": "2022-12-20T13:05:55.355Z"
   },
   {
    "duration": 11,
    "start_time": "2022-12-20T13:05:55.371Z"
   },
   {
    "duration": 9,
    "start_time": "2022-12-20T13:05:55.383Z"
   },
   {
    "duration": 181,
    "start_time": "2022-12-20T13:05:55.393Z"
   },
   {
    "duration": 156,
    "start_time": "2022-12-20T13:05:55.576Z"
   },
   {
    "duration": 8,
    "start_time": "2022-12-20T13:05:55.734Z"
   },
   {
    "duration": 6,
    "start_time": "2022-12-20T13:05:55.744Z"
   },
   {
    "duration": 13,
    "start_time": "2022-12-20T13:05:55.752Z"
   },
   {
    "duration": 326,
    "start_time": "2022-12-20T13:05:55.768Z"
   },
   {
    "duration": 218,
    "start_time": "2022-12-20T13:05:56.096Z"
   },
   {
    "duration": 331,
    "start_time": "2022-12-20T13:05:56.316Z"
   },
   {
    "duration": 224,
    "start_time": "2022-12-20T13:05:56.649Z"
   },
   {
    "duration": 329,
    "start_time": "2022-12-20T13:05:56.875Z"
   },
   {
    "duration": 50,
    "start_time": "2022-12-20T18:25:30.972Z"
   },
   {
    "duration": 1309,
    "start_time": "2022-12-20T18:25:45.331Z"
   },
   {
    "duration": 142,
    "start_time": "2022-12-20T18:25:46.643Z"
   },
   {
    "duration": 3,
    "start_time": "2022-12-20T18:25:46.787Z"
   },
   {
    "duration": 23,
    "start_time": "2022-12-20T18:25:46.791Z"
   },
   {
    "duration": 6,
    "start_time": "2022-12-20T18:25:46.817Z"
   },
   {
    "duration": 18,
    "start_time": "2022-12-20T18:25:46.825Z"
   },
   {
    "duration": 16,
    "start_time": "2022-12-20T18:25:46.845Z"
   },
   {
    "duration": 12,
    "start_time": "2022-12-20T18:25:46.863Z"
   },
   {
    "duration": 28,
    "start_time": "2022-12-20T18:25:46.877Z"
   },
   {
    "duration": 12,
    "start_time": "2022-12-20T18:25:46.907Z"
   },
   {
    "duration": 148,
    "start_time": "2022-12-20T18:25:46.921Z"
   },
   {
    "duration": 6,
    "start_time": "2022-12-20T18:25:47.071Z"
   },
   {
    "duration": 13,
    "start_time": "2022-12-20T18:25:47.078Z"
   },
   {
    "duration": 7,
    "start_time": "2022-12-20T18:25:47.095Z"
   },
   {
    "duration": 22,
    "start_time": "2022-12-20T18:25:47.104Z"
   },
   {
    "duration": 17,
    "start_time": "2022-12-20T18:25:47.129Z"
   },
   {
    "duration": 6,
    "start_time": "2022-12-20T18:25:47.148Z"
   },
   {
    "duration": 14,
    "start_time": "2022-12-20T18:25:47.156Z"
   },
   {
    "duration": 13,
    "start_time": "2022-12-20T18:25:47.172Z"
   },
   {
    "duration": 13,
    "start_time": "2022-12-20T18:25:47.187Z"
   },
   {
    "duration": 6,
    "start_time": "2022-12-20T18:25:47.202Z"
   },
   {
    "duration": 41,
    "start_time": "2022-12-20T18:25:47.210Z"
   },
   {
    "duration": 182,
    "start_time": "2022-12-20T18:25:47.253Z"
   },
   {
    "duration": 145,
    "start_time": "2022-12-20T18:25:47.437Z"
   },
   {
    "duration": 8,
    "start_time": "2022-12-20T18:25:47.584Z"
   },
   {
    "duration": 5,
    "start_time": "2022-12-20T18:25:47.594Z"
   },
   {
    "duration": 12,
    "start_time": "2022-12-20T18:25:47.600Z"
   },
   {
    "duration": 329,
    "start_time": "2022-12-20T18:25:47.614Z"
   },
   {
    "duration": 232,
    "start_time": "2022-12-20T18:25:47.945Z"
   },
   {
    "duration": 317,
    "start_time": "2022-12-20T18:25:48.179Z"
   },
   {
    "duration": 231,
    "start_time": "2022-12-20T18:25:48.498Z"
   },
   {
    "duration": 378,
    "start_time": "2022-12-20T18:25:48.731Z"
   },
   {
    "duration": 135,
    "start_time": "2022-12-20T18:25:49.111Z"
   },
   {
    "duration": 12,
    "start_time": "2022-12-20T18:26:14.522Z"
   },
   {
    "duration": 16,
    "start_time": "2022-12-20T18:29:14.197Z"
   },
   {
    "duration": 13,
    "start_time": "2022-12-20T18:31:13.754Z"
   },
   {
    "duration": 1135,
    "start_time": "2022-12-20T18:31:45.917Z"
   },
   {
    "duration": 88,
    "start_time": "2022-12-20T18:31:47.055Z"
   },
   {
    "duration": 3,
    "start_time": "2022-12-20T18:31:47.147Z"
   },
   {
    "duration": 34,
    "start_time": "2022-12-20T18:31:47.152Z"
   },
   {
    "duration": 21,
    "start_time": "2022-12-20T18:31:47.188Z"
   },
   {
    "duration": 21,
    "start_time": "2022-12-20T18:31:47.211Z"
   },
   {
    "duration": 31,
    "start_time": "2022-12-20T18:31:47.234Z"
   },
   {
    "duration": 28,
    "start_time": "2022-12-20T18:31:47.267Z"
   },
   {
    "duration": 29,
    "start_time": "2022-12-20T18:31:47.297Z"
   },
   {
    "duration": 40,
    "start_time": "2022-12-20T18:31:47.328Z"
   },
   {
    "duration": 63,
    "start_time": "2022-12-20T18:31:47.370Z"
   },
   {
    "duration": 7,
    "start_time": "2022-12-20T18:31:47.436Z"
   },
   {
    "duration": 22,
    "start_time": "2022-12-20T18:31:47.445Z"
   },
   {
    "duration": 17,
    "start_time": "2022-12-20T18:31:47.471Z"
   },
   {
    "duration": 28,
    "start_time": "2022-12-20T18:31:47.490Z"
   },
   {
    "duration": 7,
    "start_time": "2022-12-20T18:31:47.520Z"
   },
   {
    "duration": 32,
    "start_time": "2022-12-20T18:31:47.528Z"
   },
   {
    "duration": 19,
    "start_time": "2022-12-20T18:31:47.562Z"
   },
   {
    "duration": 25,
    "start_time": "2022-12-20T18:31:47.583Z"
   },
   {
    "duration": 22,
    "start_time": "2022-12-20T18:31:47.610Z"
   },
   {
    "duration": 15,
    "start_time": "2022-12-20T18:31:47.634Z"
   },
   {
    "duration": 17,
    "start_time": "2022-12-20T18:31:47.651Z"
   },
   {
    "duration": 183,
    "start_time": "2022-12-20T18:31:47.669Z"
   },
   {
    "duration": 140,
    "start_time": "2022-12-20T18:31:47.854Z"
   },
   {
    "duration": 7,
    "start_time": "2022-12-20T18:31:47.996Z"
   },
   {
    "duration": 21,
    "start_time": "2022-12-20T18:31:48.005Z"
   },
   {
    "duration": 21,
    "start_time": "2022-12-20T18:31:48.028Z"
   },
   {
    "duration": 326,
    "start_time": "2022-12-20T18:31:48.051Z"
   },
   {
    "duration": 215,
    "start_time": "2022-12-20T18:31:48.379Z"
   },
   {
    "duration": 267,
    "start_time": "2022-12-20T18:31:48.595Z"
   },
   {
    "duration": 249,
    "start_time": "2022-12-20T18:31:48.865Z"
   },
   {
    "duration": 369,
    "start_time": "2022-12-20T18:31:49.117Z"
   },
   {
    "duration": 125,
    "start_time": "2022-12-20T18:31:49.488Z"
   },
   {
    "duration": 10,
    "start_time": "2022-12-20T18:36:27.070Z"
   },
   {
    "duration": 10,
    "start_time": "2022-12-20T18:38:28.433Z"
   },
   {
    "duration": 153,
    "start_time": "2022-12-20T18:38:31.659Z"
   },
   {
    "duration": 151,
    "start_time": "2022-12-20T18:38:54.097Z"
   },
   {
    "duration": 5,
    "start_time": "2022-12-20T19:02:02.189Z"
   },
   {
    "duration": 5,
    "start_time": "2022-12-20T19:09:54.235Z"
   },
   {
    "duration": 1181,
    "start_time": "2022-12-20T19:27:18.881Z"
   },
   {
    "duration": 65,
    "start_time": "2022-12-20T19:27:20.065Z"
   },
   {
    "duration": 7,
    "start_time": "2022-12-20T19:27:20.132Z"
   },
   {
    "duration": 23,
    "start_time": "2022-12-20T19:27:20.141Z"
   },
   {
    "duration": 3,
    "start_time": "2022-12-20T19:27:20.166Z"
   },
   {
    "duration": 27,
    "start_time": "2022-12-20T19:27:20.171Z"
   },
   {
    "duration": 20,
    "start_time": "2022-12-20T19:27:20.200Z"
   },
   {
    "duration": 14,
    "start_time": "2022-12-20T19:27:20.222Z"
   },
   {
    "duration": 15,
    "start_time": "2022-12-20T19:27:20.238Z"
   },
   {
    "duration": 18,
    "start_time": "2022-12-20T19:27:20.255Z"
   },
   {
    "duration": 52,
    "start_time": "2022-12-20T19:27:20.274Z"
   },
   {
    "duration": 6,
    "start_time": "2022-12-20T19:27:20.328Z"
   },
   {
    "duration": 11,
    "start_time": "2022-12-20T19:27:20.336Z"
   },
   {
    "duration": 17,
    "start_time": "2022-12-20T19:27:20.350Z"
   },
   {
    "duration": 15,
    "start_time": "2022-12-20T19:27:20.368Z"
   },
   {
    "duration": 112,
    "start_time": "2022-12-20T19:27:20.384Z"
   },
   {
    "duration": 0,
    "start_time": "2022-12-20T19:27:20.498Z"
   },
   {
    "duration": 0,
    "start_time": "2022-12-20T19:27:20.499Z"
   },
   {
    "duration": 0,
    "start_time": "2022-12-20T19:27:20.501Z"
   },
   {
    "duration": 0,
    "start_time": "2022-12-20T19:27:20.502Z"
   },
   {
    "duration": 0,
    "start_time": "2022-12-20T19:27:20.504Z"
   },
   {
    "duration": 0,
    "start_time": "2022-12-20T19:27:20.505Z"
   },
   {
    "duration": 0,
    "start_time": "2022-12-20T19:27:20.507Z"
   },
   {
    "duration": 0,
    "start_time": "2022-12-20T19:27:20.508Z"
   },
   {
    "duration": 0,
    "start_time": "2022-12-20T19:27:20.510Z"
   },
   {
    "duration": 0,
    "start_time": "2022-12-20T19:27:20.512Z"
   },
   {
    "duration": 0,
    "start_time": "2022-12-20T19:27:20.513Z"
   },
   {
    "duration": 0,
    "start_time": "2022-12-20T19:27:20.515Z"
   },
   {
    "duration": 1,
    "start_time": "2022-12-20T19:27:20.516Z"
   },
   {
    "duration": 0,
    "start_time": "2022-12-20T19:27:20.518Z"
   },
   {
    "duration": 0,
    "start_time": "2022-12-20T19:27:20.551Z"
   },
   {
    "duration": 0,
    "start_time": "2022-12-20T19:27:20.552Z"
   },
   {
    "duration": 0,
    "start_time": "2022-12-20T19:27:20.553Z"
   },
   {
    "duration": 0,
    "start_time": "2022-12-20T19:27:20.555Z"
   },
   {
    "duration": 0,
    "start_time": "2022-12-20T19:27:20.556Z"
   },
   {
    "duration": 1135,
    "start_time": "2022-12-20T19:28:14.977Z"
   },
   {
    "duration": 90,
    "start_time": "2022-12-20T19:28:16.114Z"
   },
   {
    "duration": 3,
    "start_time": "2022-12-20T19:28:16.206Z"
   },
   {
    "duration": 43,
    "start_time": "2022-12-20T19:28:16.211Z"
   },
   {
    "duration": 12,
    "start_time": "2022-12-20T19:28:16.257Z"
   },
   {
    "duration": 21,
    "start_time": "2022-12-20T19:28:16.270Z"
   },
   {
    "duration": 35,
    "start_time": "2022-12-20T19:28:16.293Z"
   },
   {
    "duration": 24,
    "start_time": "2022-12-20T19:28:16.330Z"
   },
   {
    "duration": 27,
    "start_time": "2022-12-20T19:28:16.356Z"
   },
   {
    "duration": 22,
    "start_time": "2022-12-20T19:28:16.387Z"
   },
   {
    "duration": 76,
    "start_time": "2022-12-20T19:28:16.411Z"
   },
   {
    "duration": 7,
    "start_time": "2022-12-20T19:28:16.488Z"
   },
   {
    "duration": 26,
    "start_time": "2022-12-20T19:28:16.496Z"
   },
   {
    "duration": 28,
    "start_time": "2022-12-20T19:28:16.524Z"
   },
   {
    "duration": 39,
    "start_time": "2022-12-20T19:28:16.554Z"
   },
   {
    "duration": 30,
    "start_time": "2022-12-20T19:28:16.595Z"
   },
   {
    "duration": 24,
    "start_time": "2022-12-20T19:28:16.627Z"
   },
   {
    "duration": 34,
    "start_time": "2022-12-20T19:28:16.652Z"
   },
   {
    "duration": 48,
    "start_time": "2022-12-20T19:28:16.688Z"
   },
   {
    "duration": 34,
    "start_time": "2022-12-20T19:28:16.738Z"
   },
   {
    "duration": 17,
    "start_time": "2022-12-20T19:28:16.774Z"
   },
   {
    "duration": 26,
    "start_time": "2022-12-20T19:28:16.793Z"
   },
   {
    "duration": 202,
    "start_time": "2022-12-20T19:28:16.821Z"
   },
   {
    "duration": 138,
    "start_time": "2022-12-20T19:28:17.025Z"
   },
   {
    "duration": 7,
    "start_time": "2022-12-20T19:28:17.165Z"
   },
   {
    "duration": 40,
    "start_time": "2022-12-20T19:28:17.174Z"
   },
   {
    "duration": 34,
    "start_time": "2022-12-20T19:28:17.216Z"
   },
   {
    "duration": 315,
    "start_time": "2022-12-20T19:28:17.253Z"
   },
   {
    "duration": 222,
    "start_time": "2022-12-20T19:28:17.570Z"
   },
   {
    "duration": 289,
    "start_time": "2022-12-20T19:28:17.794Z"
   },
   {
    "duration": 228,
    "start_time": "2022-12-20T19:28:18.084Z"
   },
   {
    "duration": 343,
    "start_time": "2022-12-20T19:28:18.314Z"
   },
   {
    "duration": 12,
    "start_time": "2022-12-20T19:28:18.659Z"
   },
   {
    "duration": 135,
    "start_time": "2022-12-20T19:28:18.673Z"
   },
   {
    "duration": 6,
    "start_time": "2022-12-20T19:28:18.810Z"
   },
   {
    "duration": 1102,
    "start_time": "2022-12-20T19:30:15.879Z"
   },
   {
    "duration": 93,
    "start_time": "2022-12-20T19:30:16.983Z"
   },
   {
    "duration": 4,
    "start_time": "2022-12-20T19:30:17.078Z"
   },
   {
    "duration": 45,
    "start_time": "2022-12-20T19:30:17.084Z"
   },
   {
    "duration": 43,
    "start_time": "2022-12-20T19:30:17.132Z"
   },
   {
    "duration": 39,
    "start_time": "2022-12-20T19:30:17.177Z"
   },
   {
    "duration": 55,
    "start_time": "2022-12-20T19:30:17.218Z"
   },
   {
    "duration": 25,
    "start_time": "2022-12-20T19:30:17.275Z"
   },
   {
    "duration": 41,
    "start_time": "2022-12-20T19:30:17.302Z"
   },
   {
    "duration": 44,
    "start_time": "2022-12-20T19:30:17.345Z"
   },
   {
    "duration": 82,
    "start_time": "2022-12-20T19:30:17.391Z"
   },
   {
    "duration": 8,
    "start_time": "2022-12-20T19:30:17.476Z"
   },
   {
    "duration": 33,
    "start_time": "2022-12-20T19:30:17.486Z"
   },
   {
    "duration": 35,
    "start_time": "2022-12-20T19:30:17.522Z"
   },
   {
    "duration": 36,
    "start_time": "2022-12-20T19:30:17.558Z"
   },
   {
    "duration": 49,
    "start_time": "2022-12-20T19:30:17.595Z"
   },
   {
    "duration": 57,
    "start_time": "2022-12-20T19:30:17.645Z"
   },
   {
    "duration": 44,
    "start_time": "2022-12-20T19:30:17.705Z"
   },
   {
    "duration": 33,
    "start_time": "2022-12-20T19:30:17.752Z"
   },
   {
    "duration": 27,
    "start_time": "2022-12-20T19:30:17.787Z"
   },
   {
    "duration": 26,
    "start_time": "2022-12-20T19:30:17.816Z"
   },
   {
    "duration": 27,
    "start_time": "2022-12-20T19:30:17.844Z"
   },
   {
    "duration": 200,
    "start_time": "2022-12-20T19:30:17.873Z"
   },
   {
    "duration": 143,
    "start_time": "2022-12-20T19:30:18.075Z"
   },
   {
    "duration": 6,
    "start_time": "2022-12-20T19:30:18.220Z"
   },
   {
    "duration": 33,
    "start_time": "2022-12-20T19:30:18.227Z"
   },
   {
    "duration": 48,
    "start_time": "2022-12-20T19:30:18.262Z"
   },
   {
    "duration": 315,
    "start_time": "2022-12-20T19:30:18.312Z"
   },
   {
    "duration": 215,
    "start_time": "2022-12-20T19:30:18.628Z"
   },
   {
    "duration": 311,
    "start_time": "2022-12-20T19:30:18.850Z"
   },
   {
    "duration": 258,
    "start_time": "2022-12-20T19:30:19.163Z"
   },
   {
    "duration": 396,
    "start_time": "2022-12-20T19:30:19.423Z"
   },
   {
    "duration": 12,
    "start_time": "2022-12-20T19:30:19.821Z"
   },
   {
    "duration": 215,
    "start_time": "2022-12-20T19:30:19.836Z"
   },
   {
    "duration": 4,
    "start_time": "2022-12-20T19:30:20.053Z"
   },
   {
    "duration": 125,
    "start_time": "2022-12-20T20:13:18.019Z"
   },
   {
    "duration": 142,
    "start_time": "2022-12-20T20:14:03.390Z"
   },
   {
    "duration": 151,
    "start_time": "2022-12-20T20:30:40.367Z"
   },
   {
    "duration": 262,
    "start_time": "2022-12-20T20:30:50.922Z"
   },
   {
    "duration": 158,
    "start_time": "2022-12-20T20:31:02.980Z"
   },
   {
    "duration": 153,
    "start_time": "2022-12-20T20:31:30.360Z"
   },
   {
    "duration": 146,
    "start_time": "2022-12-20T20:31:50.194Z"
   },
   {
    "duration": 156,
    "start_time": "2022-12-20T20:32:00.744Z"
   },
   {
    "duration": 156,
    "start_time": "2022-12-20T20:32:26.455Z"
   },
   {
    "duration": 161,
    "start_time": "2022-12-20T20:32:47.232Z"
   },
   {
    "duration": 154,
    "start_time": "2022-12-20T20:32:58.652Z"
   },
   {
    "duration": 167,
    "start_time": "2022-12-20T20:33:24.209Z"
   },
   {
    "duration": 177,
    "start_time": "2022-12-20T20:33:30.758Z"
   },
   {
    "duration": 1152,
    "start_time": "2022-12-20T20:34:28.333Z"
   },
   {
    "duration": 5,
    "start_time": "2022-12-20T20:34:37.784Z"
   },
   {
    "duration": 1174,
    "start_time": "2022-12-21T11:08:02.760Z"
   },
   {
    "duration": 117,
    "start_time": "2022-12-21T11:08:03.937Z"
   },
   {
    "duration": 2,
    "start_time": "2022-12-21T11:08:04.056Z"
   },
   {
    "duration": 67,
    "start_time": "2022-12-21T11:08:04.061Z"
   },
   {
    "duration": 77,
    "start_time": "2022-12-21T11:08:04.130Z"
   },
   {
    "duration": 13,
    "start_time": "2022-12-21T11:08:04.208Z"
   },
   {
    "duration": 12,
    "start_time": "2022-12-21T11:08:04.223Z"
   },
   {
    "duration": 18,
    "start_time": "2022-12-21T11:08:04.236Z"
   },
   {
    "duration": 16,
    "start_time": "2022-12-21T11:08:04.256Z"
   },
   {
    "duration": 15,
    "start_time": "2022-12-21T11:08:04.274Z"
   },
   {
    "duration": 147,
    "start_time": "2022-12-21T11:08:04.291Z"
   },
   {
    "duration": 5,
    "start_time": "2022-12-21T11:08:04.439Z"
   },
   {
    "duration": 9,
    "start_time": "2022-12-21T11:08:04.446Z"
   },
   {
    "duration": 10,
    "start_time": "2022-12-21T11:08:04.456Z"
   },
   {
    "duration": 21,
    "start_time": "2022-12-21T11:08:04.467Z"
   },
   {
    "duration": 5,
    "start_time": "2022-12-21T11:08:04.489Z"
   },
   {
    "duration": 11,
    "start_time": "2022-12-21T11:08:04.496Z"
   },
   {
    "duration": 16,
    "start_time": "2022-12-21T11:08:04.508Z"
   },
   {
    "duration": 23,
    "start_time": "2022-12-21T11:08:04.525Z"
   },
   {
    "duration": 22,
    "start_time": "2022-12-21T11:08:04.549Z"
   },
   {
    "duration": 13,
    "start_time": "2022-12-21T11:08:04.573Z"
   },
   {
    "duration": 14,
    "start_time": "2022-12-21T11:08:04.587Z"
   },
   {
    "duration": 177,
    "start_time": "2022-12-21T11:08:04.602Z"
   },
   {
    "duration": 163,
    "start_time": "2022-12-21T11:08:04.781Z"
   },
   {
    "duration": 9,
    "start_time": "2022-12-21T11:08:04.946Z"
   },
   {
    "duration": 20,
    "start_time": "2022-12-21T11:08:04.957Z"
   },
   {
    "duration": 27,
    "start_time": "2022-12-21T11:08:04.979Z"
   },
   {
    "duration": 364,
    "start_time": "2022-12-21T11:08:05.010Z"
   },
   {
    "duration": 219,
    "start_time": "2022-12-21T11:08:05.376Z"
   },
   {
    "duration": 327,
    "start_time": "2022-12-21T11:08:05.597Z"
   },
   {
    "duration": 217,
    "start_time": "2022-12-21T11:08:05.925Z"
   },
   {
    "duration": 345,
    "start_time": "2022-12-21T11:08:06.143Z"
   },
   {
    "duration": 11,
    "start_time": "2022-12-21T11:08:06.490Z"
   },
   {
    "duration": 143,
    "start_time": "2022-12-21T11:08:06.503Z"
   },
   {
    "duration": 5,
    "start_time": "2022-12-21T11:08:06.648Z"
   },
   {
    "duration": 197,
    "start_time": "2022-12-21T11:08:06.655Z"
   },
   {
    "duration": 6,
    "start_time": "2022-12-21T11:08:06.854Z"
   },
   {
    "duration": 4,
    "start_time": "2022-12-21T13:37:42.050Z"
   },
   {
    "duration": 4,
    "start_time": "2022-12-21T13:38:33.575Z"
   },
   {
    "duration": 50,
    "start_time": "2022-12-21T13:39:42.959Z"
   },
   {
    "duration": 45,
    "start_time": "2022-12-21T13:40:53.760Z"
   },
   {
    "duration": 15,
    "start_time": "2022-12-21T13:42:12.461Z"
   },
   {
    "duration": 16,
    "start_time": "2022-12-21T13:42:55.253Z"
   },
   {
    "duration": 50,
    "start_time": "2022-12-21T13:45:53.300Z"
   },
   {
    "duration": 127,
    "start_time": "2022-12-21T13:47:29.467Z"
   },
   {
    "duration": 47,
    "start_time": "2022-12-21T13:47:46.698Z"
   },
   {
    "duration": 29,
    "start_time": "2022-12-21T13:47:49.987Z"
   },
   {
    "duration": 62,
    "start_time": "2022-12-21T13:49:46.114Z"
   },
   {
    "duration": 72,
    "start_time": "2022-12-21T13:50:10.300Z"
   },
   {
    "duration": 6,
    "start_time": "2022-12-21T13:51:05.256Z"
   },
   {
    "duration": 5,
    "start_time": "2022-12-21T13:53:34.559Z"
   },
   {
    "duration": 5,
    "start_time": "2022-12-21T13:53:37.238Z"
   },
   {
    "duration": 32,
    "start_time": "2022-12-21T13:55:46.262Z"
   },
   {
    "duration": 5,
    "start_time": "2022-12-21T13:56:41.988Z"
   },
   {
    "duration": 4,
    "start_time": "2022-12-21T14:00:31.763Z"
   },
   {
    "duration": 4,
    "start_time": "2022-12-21T14:00:50.619Z"
   },
   {
    "duration": 7,
    "start_time": "2022-12-21T14:20:46.925Z"
   },
   {
    "duration": 6,
    "start_time": "2022-12-21T14:22:49.847Z"
   },
   {
    "duration": 6,
    "start_time": "2022-12-21T14:24:02.288Z"
   },
   {
    "duration": 6,
    "start_time": "2022-12-21T14:24:09.155Z"
   },
   {
    "duration": 50,
    "start_time": "2022-12-21T14:47:07.251Z"
   },
   {
    "duration": 783,
    "start_time": "2022-12-21T14:47:15.522Z"
   },
   {
    "duration": 1012,
    "start_time": "2022-12-21T14:49:03.354Z"
   },
   {
    "duration": 8,
    "start_time": "2022-12-21T14:50:24.454Z"
   },
   {
    "duration": 8,
    "start_time": "2022-12-21T14:52:20.015Z"
   },
   {
    "duration": 9,
    "start_time": "2022-12-21T14:56:02.604Z"
   },
   {
    "duration": 10,
    "start_time": "2022-12-21T14:56:39.532Z"
   },
   {
    "duration": 7,
    "start_time": "2022-12-21T14:59:34.131Z"
   },
   {
    "duration": 22,
    "start_time": "2022-12-21T14:59:37.435Z"
   },
   {
    "duration": 22,
    "start_time": "2022-12-21T15:01:30.018Z"
   },
   {
    "duration": 21,
    "start_time": "2022-12-21T15:03:20.897Z"
   },
   {
    "duration": 25,
    "start_time": "2022-12-21T15:04:31.485Z"
   },
   {
    "duration": 1209,
    "start_time": "2022-12-21T20:28:07.257Z"
   },
   {
    "duration": 119,
    "start_time": "2022-12-21T20:28:08.468Z"
   },
   {
    "duration": 4,
    "start_time": "2022-12-21T20:28:08.588Z"
   },
   {
    "duration": 14,
    "start_time": "2022-12-21T20:28:08.594Z"
   },
   {
    "duration": 3,
    "start_time": "2022-12-21T20:28:08.611Z"
   },
   {
    "duration": 8,
    "start_time": "2022-12-21T20:28:08.615Z"
   },
   {
    "duration": 12,
    "start_time": "2022-12-21T20:28:08.625Z"
   },
   {
    "duration": 7,
    "start_time": "2022-12-21T20:28:08.638Z"
   },
   {
    "duration": 30,
    "start_time": "2022-12-21T20:28:08.647Z"
   },
   {
    "duration": 12,
    "start_time": "2022-12-21T20:28:08.679Z"
   },
   {
    "duration": 140,
    "start_time": "2022-12-21T20:28:08.693Z"
   },
   {
    "duration": 6,
    "start_time": "2022-12-21T20:28:08.835Z"
   },
   {
    "duration": 8,
    "start_time": "2022-12-21T20:28:08.842Z"
   },
   {
    "duration": 4,
    "start_time": "2022-12-21T20:28:08.853Z"
   },
   {
    "duration": 11,
    "start_time": "2022-12-21T20:28:08.859Z"
   },
   {
    "duration": 3,
    "start_time": "2022-12-21T20:28:08.872Z"
   },
   {
    "duration": 12,
    "start_time": "2022-12-21T20:28:08.877Z"
   },
   {
    "duration": 11,
    "start_time": "2022-12-21T20:28:08.891Z"
   },
   {
    "duration": 12,
    "start_time": "2022-12-21T20:28:08.904Z"
   },
   {
    "duration": 11,
    "start_time": "2022-12-21T20:28:08.917Z"
   },
   {
    "duration": 6,
    "start_time": "2022-12-21T20:28:08.930Z"
   },
   {
    "duration": 8,
    "start_time": "2022-12-21T20:28:08.938Z"
   },
   {
    "duration": 174,
    "start_time": "2022-12-21T20:28:08.948Z"
   },
   {
    "duration": 124,
    "start_time": "2022-12-21T20:28:09.124Z"
   },
   {
    "duration": 7,
    "start_time": "2022-12-21T20:28:09.249Z"
   },
   {
    "duration": 20,
    "start_time": "2022-12-21T20:28:09.257Z"
   },
   {
    "duration": 11,
    "start_time": "2022-12-21T20:28:09.279Z"
   },
   {
    "duration": 288,
    "start_time": "2022-12-21T20:28:09.292Z"
   },
   {
    "duration": 207,
    "start_time": "2022-12-21T20:28:09.582Z"
   },
   {
    "duration": 320,
    "start_time": "2022-12-21T20:28:09.790Z"
   },
   {
    "duration": 214,
    "start_time": "2022-12-21T20:28:10.112Z"
   },
   {
    "duration": 306,
    "start_time": "2022-12-21T20:28:10.327Z"
   },
   {
    "duration": 9,
    "start_time": "2022-12-21T20:28:10.635Z"
   },
   {
    "duration": 149,
    "start_time": "2022-12-21T20:28:10.646Z"
   },
   {
    "duration": 4,
    "start_time": "2022-12-21T20:28:10.797Z"
   },
   {
    "duration": 248,
    "start_time": "2022-12-21T20:28:10.802Z"
   },
   {
    "duration": 4,
    "start_time": "2022-12-21T20:28:11.052Z"
   },
   {
    "duration": 9,
    "start_time": "2022-12-21T20:28:11.058Z"
   },
   {
    "duration": 7,
    "start_time": "2022-12-21T20:28:11.069Z"
   },
   {
    "duration": 48,
    "start_time": "2022-12-21T20:28:11.077Z"
   },
   {
    "duration": 63,
    "start_time": "2022-12-21T20:28:11.128Z"
   },
   {
    "duration": 19,
    "start_time": "2022-12-21T20:28:11.193Z"
   },
   {
    "duration": 13,
    "start_time": "2022-12-21T20:28:11.213Z"
   },
   {
    "duration": 59,
    "start_time": "2022-12-21T20:28:11.227Z"
   },
   {
    "duration": 52,
    "start_time": "2022-12-21T20:28:11.288Z"
   },
   {
    "duration": 41,
    "start_time": "2022-12-21T20:28:11.342Z"
   },
   {
    "duration": 63,
    "start_time": "2022-12-21T20:28:11.384Z"
   },
   {
    "duration": 87,
    "start_time": "2022-12-21T20:28:11.449Z"
   },
   {
    "duration": 20,
    "start_time": "2022-12-21T20:28:11.538Z"
   },
   {
    "duration": 7,
    "start_time": "2022-12-21T20:28:11.560Z"
   },
   {
    "duration": 47,
    "start_time": "2022-12-21T20:28:11.568Z"
   },
   {
    "duration": 5,
    "start_time": "2022-12-21T20:28:11.617Z"
   },
   {
    "duration": 12,
    "start_time": "2022-12-21T20:28:11.623Z"
   },
   {
    "duration": 6,
    "start_time": "2022-12-21T20:28:11.637Z"
   },
   {
    "duration": 11,
    "start_time": "2022-12-21T20:28:11.645Z"
   },
   {
    "duration": 24,
    "start_time": "2022-12-21T20:28:11.658Z"
   },
   {
    "duration": 25,
    "start_time": "2022-12-21T20:28:11.684Z"
   },
   {
    "duration": 766,
    "start_time": "2022-12-21T20:50:48.049Z"
   },
   {
    "duration": 12,
    "start_time": "2022-12-21T20:53:11.384Z"
   },
   {
    "duration": 13,
    "start_time": "2022-12-21T20:54:51.333Z"
   },
   {
    "duration": 175,
    "start_time": "2022-12-21T21:26:47.999Z"
   },
   {
    "duration": 181,
    "start_time": "2022-12-21T21:27:00.296Z"
   },
   {
    "duration": 266,
    "start_time": "2022-12-21T21:27:38.049Z"
   },
   {
    "duration": 208,
    "start_time": "2022-12-21T21:27:56.477Z"
   },
   {
    "duration": 183,
    "start_time": "2022-12-21T21:28:47.077Z"
   },
   {
    "duration": 292,
    "start_time": "2022-12-21T22:03:03.956Z"
   },
   {
    "duration": 198,
    "start_time": "2022-12-21T22:06:39.117Z"
   },
   {
    "duration": 193,
    "start_time": "2022-12-21T22:06:50.639Z"
   },
   {
    "duration": 196,
    "start_time": "2022-12-21T22:07:44.389Z"
   },
   {
    "duration": 326,
    "start_time": "2022-12-21T22:08:40.381Z"
   },
   {
    "duration": 307,
    "start_time": "2022-12-21T22:08:51.705Z"
   },
   {
    "duration": 114,
    "start_time": "2022-12-21T22:09:17.166Z"
   },
   {
    "duration": 112,
    "start_time": "2022-12-21T22:09:23.578Z"
   },
   {
    "duration": 138,
    "start_time": "2022-12-21T22:09:55.594Z"
   },
   {
    "duration": 216,
    "start_time": "2022-12-21T22:10:13.646Z"
   },
   {
    "duration": 158,
    "start_time": "2022-12-21T22:11:13.158Z"
   },
   {
    "duration": 173,
    "start_time": "2022-12-21T22:11:58.045Z"
   },
   {
    "duration": 48,
    "start_time": "2022-12-22T10:38:21.021Z"
   },
   {
    "duration": 1210,
    "start_time": "2022-12-22T10:38:28.991Z"
   },
   {
    "duration": 119,
    "start_time": "2022-12-22T10:38:30.203Z"
   },
   {
    "duration": 2,
    "start_time": "2022-12-22T10:38:30.324Z"
   },
   {
    "duration": 28,
    "start_time": "2022-12-22T10:38:30.329Z"
   },
   {
    "duration": 26,
    "start_time": "2022-12-22T10:38:30.360Z"
   },
   {
    "duration": 23,
    "start_time": "2022-12-22T10:38:30.388Z"
   },
   {
    "duration": 33,
    "start_time": "2022-12-22T10:38:30.413Z"
   },
   {
    "duration": 22,
    "start_time": "2022-12-22T10:38:30.447Z"
   },
   {
    "duration": 31,
    "start_time": "2022-12-22T10:38:30.470Z"
   },
   {
    "duration": 34,
    "start_time": "2022-12-22T10:38:30.504Z"
   },
   {
    "duration": 156,
    "start_time": "2022-12-22T10:38:30.539Z"
   },
   {
    "duration": 6,
    "start_time": "2022-12-22T10:38:30.696Z"
   },
   {
    "duration": 18,
    "start_time": "2022-12-22T10:38:30.704Z"
   },
   {
    "duration": 45,
    "start_time": "2022-12-22T10:38:30.723Z"
   },
   {
    "duration": 29,
    "start_time": "2022-12-22T10:38:30.770Z"
   },
   {
    "duration": 17,
    "start_time": "2022-12-22T10:38:30.801Z"
   },
   {
    "duration": 21,
    "start_time": "2022-12-22T10:38:30.819Z"
   },
   {
    "duration": 38,
    "start_time": "2022-12-22T10:38:30.842Z"
   },
   {
    "duration": 38,
    "start_time": "2022-12-22T10:38:30.881Z"
   },
   {
    "duration": 55,
    "start_time": "2022-12-22T10:38:30.921Z"
   },
   {
    "duration": 29,
    "start_time": "2022-12-22T10:38:30.978Z"
   },
   {
    "duration": 22,
    "start_time": "2022-12-22T10:38:31.009Z"
   },
   {
    "duration": 186,
    "start_time": "2022-12-22T10:38:31.033Z"
   },
   {
    "duration": 122,
    "start_time": "2022-12-22T10:38:31.221Z"
   },
   {
    "duration": 6,
    "start_time": "2022-12-22T10:38:31.345Z"
   },
   {
    "duration": 8,
    "start_time": "2022-12-22T10:38:31.352Z"
   },
   {
    "duration": 15,
    "start_time": "2022-12-22T10:38:31.361Z"
   },
   {
    "duration": 314,
    "start_time": "2022-12-22T10:38:31.379Z"
   },
   {
    "duration": 203,
    "start_time": "2022-12-22T10:38:31.694Z"
   },
   {
    "duration": 357,
    "start_time": "2022-12-22T10:38:31.899Z"
   },
   {
    "duration": 224,
    "start_time": "2022-12-22T10:38:32.258Z"
   },
   {
    "duration": 355,
    "start_time": "2022-12-22T10:38:32.484Z"
   },
   {
    "duration": 10,
    "start_time": "2022-12-22T10:38:32.841Z"
   },
   {
    "duration": 163,
    "start_time": "2022-12-22T10:38:32.853Z"
   },
   {
    "duration": 4,
    "start_time": "2022-12-22T10:38:33.018Z"
   },
   {
    "duration": 184,
    "start_time": "2022-12-22T10:38:33.023Z"
   },
   {
    "duration": 7,
    "start_time": "2022-12-22T10:38:33.209Z"
   },
   {
    "duration": 5,
    "start_time": "2022-12-22T10:38:33.218Z"
   },
   {
    "duration": 11,
    "start_time": "2022-12-22T10:38:33.224Z"
   },
   {
    "duration": 45,
    "start_time": "2022-12-22T10:38:33.237Z"
   },
   {
    "duration": 53,
    "start_time": "2022-12-22T10:38:33.284Z"
   },
   {
    "duration": 13,
    "start_time": "2022-12-22T10:38:33.339Z"
   },
   {
    "duration": 12,
    "start_time": "2022-12-22T10:38:33.354Z"
   },
   {
    "duration": 61,
    "start_time": "2022-12-22T10:38:33.368Z"
   },
   {
    "duration": 46,
    "start_time": "2022-12-22T10:38:33.431Z"
   },
   {
    "duration": 41,
    "start_time": "2022-12-22T10:38:33.478Z"
   },
   {
    "duration": 64,
    "start_time": "2022-12-22T10:38:33.521Z"
   },
   {
    "duration": 87,
    "start_time": "2022-12-22T10:38:33.587Z"
   },
   {
    "duration": 5,
    "start_time": "2022-12-22T10:38:33.676Z"
   },
   {
    "duration": 5,
    "start_time": "2022-12-22T10:38:33.683Z"
   },
   {
    "duration": 43,
    "start_time": "2022-12-22T10:38:33.689Z"
   },
   {
    "duration": 4,
    "start_time": "2022-12-22T10:38:33.734Z"
   },
   {
    "duration": 16,
    "start_time": "2022-12-22T10:38:33.739Z"
   },
   {
    "duration": 8,
    "start_time": "2022-12-22T10:38:33.756Z"
   },
   {
    "duration": 9,
    "start_time": "2022-12-22T10:38:33.767Z"
   },
   {
    "duration": 9,
    "start_time": "2022-12-22T10:38:33.778Z"
   },
   {
    "duration": 48,
    "start_time": "2022-12-22T10:38:33.788Z"
   },
   {
    "duration": 15,
    "start_time": "2022-12-22T10:38:33.837Z"
   },
   {
    "duration": 7,
    "start_time": "2022-12-22T12:14:25.901Z"
   },
   {
    "duration": 8,
    "start_time": "2022-12-22T12:14:28.435Z"
   },
   {
    "duration": 6,
    "start_time": "2022-12-22T12:14:30.333Z"
   },
   {
    "duration": 6,
    "start_time": "2022-12-22T12:16:29.033Z"
   },
   {
    "duration": 7,
    "start_time": "2022-12-22T12:17:25.073Z"
   },
   {
    "duration": 7,
    "start_time": "2022-12-22T12:17:27.039Z"
   },
   {
    "duration": 5,
    "start_time": "2022-12-22T12:17:29.267Z"
   },
   {
    "duration": 21,
    "start_time": "2022-12-22T12:21:22.574Z"
   },
   {
    "duration": 11,
    "start_time": "2022-12-22T12:22:36.065Z"
   },
   {
    "duration": 108,
    "start_time": "2022-12-22T12:22:49.263Z"
   },
   {
    "duration": 13,
    "start_time": "2022-12-22T12:23:02.092Z"
   },
   {
    "duration": 1138,
    "start_time": "2022-12-22T12:25:17.305Z"
   },
   {
    "duration": 145,
    "start_time": "2022-12-22T12:25:18.446Z"
   },
   {
    "duration": 4,
    "start_time": "2022-12-22T12:25:18.592Z"
   },
   {
    "duration": 20,
    "start_time": "2022-12-22T12:25:18.598Z"
   },
   {
    "duration": 7,
    "start_time": "2022-12-22T12:25:18.620Z"
   },
   {
    "duration": 19,
    "start_time": "2022-12-22T12:25:18.629Z"
   },
   {
    "duration": 29,
    "start_time": "2022-12-22T12:25:18.650Z"
   },
   {
    "duration": 38,
    "start_time": "2022-12-22T12:25:18.682Z"
   },
   {
    "duration": 22,
    "start_time": "2022-12-22T12:25:18.723Z"
   },
   {
    "duration": 22,
    "start_time": "2022-12-22T12:25:18.748Z"
   },
   {
    "duration": 7,
    "start_time": "2022-12-22T12:25:18.772Z"
   },
   {
    "duration": 17,
    "start_time": "2022-12-22T12:25:18.781Z"
   },
   {
    "duration": 16,
    "start_time": "2022-12-22T12:25:18.800Z"
   },
   {
    "duration": 18,
    "start_time": "2022-12-22T12:25:18.818Z"
   },
   {
    "duration": 16,
    "start_time": "2022-12-22T12:25:18.839Z"
   },
   {
    "duration": 10,
    "start_time": "2022-12-22T12:25:18.857Z"
   },
   {
    "duration": 9,
    "start_time": "2022-12-22T12:25:18.869Z"
   },
   {
    "duration": 15,
    "start_time": "2022-12-22T12:25:18.879Z"
   },
   {
    "duration": 9,
    "start_time": "2022-12-22T12:25:18.896Z"
   },
   {
    "duration": 20,
    "start_time": "2022-12-22T12:25:18.906Z"
   },
   {
    "duration": 30,
    "start_time": "2022-12-22T12:25:18.928Z"
   },
   {
    "duration": 8,
    "start_time": "2022-12-22T12:25:18.960Z"
   },
   {
    "duration": 11,
    "start_time": "2022-12-22T12:25:18.970Z"
   },
   {
    "duration": 7,
    "start_time": "2022-12-22T12:25:18.983Z"
   },
   {
    "duration": 14,
    "start_time": "2022-12-22T12:25:18.991Z"
   },
   {
    "duration": 20,
    "start_time": "2022-12-22T12:25:19.007Z"
   },
   {
    "duration": 191,
    "start_time": "2022-12-22T12:25:19.029Z"
   },
   {
    "duration": 148,
    "start_time": "2022-12-22T12:25:19.226Z"
   },
   {
    "duration": 6,
    "start_time": "2022-12-22T12:25:19.376Z"
   },
   {
    "duration": 9,
    "start_time": "2022-12-22T12:25:19.384Z"
   },
   {
    "duration": 22,
    "start_time": "2022-12-22T12:25:19.395Z"
   },
   {
    "duration": 313,
    "start_time": "2022-12-22T12:25:19.419Z"
   },
   {
    "duration": 223,
    "start_time": "2022-12-22T12:25:19.733Z"
   },
   {
    "duration": 272,
    "start_time": "2022-12-22T12:25:19.957Z"
   },
   {
    "duration": 232,
    "start_time": "2022-12-22T12:25:20.231Z"
   },
   {
    "duration": 321,
    "start_time": "2022-12-22T12:25:20.465Z"
   },
   {
    "duration": 9,
    "start_time": "2022-12-22T12:25:20.788Z"
   },
   {
    "duration": 169,
    "start_time": "2022-12-22T12:25:20.799Z"
   },
   {
    "duration": 5,
    "start_time": "2022-12-22T12:25:20.970Z"
   },
   {
    "duration": 204,
    "start_time": "2022-12-22T12:25:20.976Z"
   },
   {
    "duration": 5,
    "start_time": "2022-12-22T12:25:21.182Z"
   },
   {
    "duration": 32,
    "start_time": "2022-12-22T12:25:21.189Z"
   },
   {
    "duration": 12,
    "start_time": "2022-12-22T12:25:21.222Z"
   },
   {
    "duration": 61,
    "start_time": "2022-12-22T12:25:21.235Z"
   },
   {
    "duration": 47,
    "start_time": "2022-12-22T12:25:21.298Z"
   },
   {
    "duration": 24,
    "start_time": "2022-12-22T12:25:21.347Z"
   },
   {
    "duration": 26,
    "start_time": "2022-12-22T12:25:21.373Z"
   },
   {
    "duration": 59,
    "start_time": "2022-12-22T12:25:21.400Z"
   },
   {
    "duration": 57,
    "start_time": "2022-12-22T12:25:21.461Z"
   },
   {
    "duration": 32,
    "start_time": "2022-12-22T12:25:21.520Z"
   },
   {
    "duration": 80,
    "start_time": "2022-12-22T12:25:21.554Z"
   },
   {
    "duration": 98,
    "start_time": "2022-12-22T12:25:21.635Z"
   },
   {
    "duration": 4,
    "start_time": "2022-12-22T12:25:21.735Z"
   },
   {
    "duration": 7,
    "start_time": "2022-12-22T12:25:21.740Z"
   },
   {
    "duration": 26,
    "start_time": "2022-12-22T12:25:21.748Z"
   },
   {
    "duration": 4,
    "start_time": "2022-12-22T12:25:21.776Z"
   },
   {
    "duration": 34,
    "start_time": "2022-12-22T12:25:21.782Z"
   },
   {
    "duration": 7,
    "start_time": "2022-12-22T12:25:21.817Z"
   },
   {
    "duration": 14,
    "start_time": "2022-12-22T12:25:21.826Z"
   },
   {
    "duration": 16,
    "start_time": "2022-12-22T12:25:21.842Z"
   },
   {
    "duration": 26,
    "start_time": "2022-12-22T12:25:21.860Z"
   },
   {
    "duration": 38,
    "start_time": "2022-12-22T12:25:21.887Z"
   },
   {
    "duration": 986,
    "start_time": "2022-12-22T13:22:30.108Z"
   },
   {
    "duration": 127,
    "start_time": "2022-12-22T13:22:31.096Z"
   },
   {
    "duration": 3,
    "start_time": "2022-12-22T13:22:31.224Z"
   },
   {
    "duration": 28,
    "start_time": "2022-12-22T13:22:31.228Z"
   },
   {
    "duration": 16,
    "start_time": "2022-12-22T13:22:31.258Z"
   },
   {
    "duration": 24,
    "start_time": "2022-12-22T13:22:31.276Z"
   },
   {
    "duration": 21,
    "start_time": "2022-12-22T13:22:31.302Z"
   },
   {
    "duration": 24,
    "start_time": "2022-12-22T13:22:31.324Z"
   },
   {
    "duration": 20,
    "start_time": "2022-12-22T13:22:31.349Z"
   },
   {
    "duration": 27,
    "start_time": "2022-12-22T13:22:31.370Z"
   },
   {
    "duration": 15,
    "start_time": "2022-12-22T13:22:31.398Z"
   },
   {
    "duration": 23,
    "start_time": "2022-12-22T13:22:31.415Z"
   },
   {
    "duration": 29,
    "start_time": "2022-12-22T13:22:31.440Z"
   },
   {
    "duration": 29,
    "start_time": "2022-12-22T13:22:31.473Z"
   },
   {
    "duration": 23,
    "start_time": "2022-12-22T13:22:31.503Z"
   },
   {
    "duration": 23,
    "start_time": "2022-12-22T13:22:31.528Z"
   },
   {
    "duration": 21,
    "start_time": "2022-12-22T13:22:31.553Z"
   },
   {
    "duration": 64,
    "start_time": "2022-12-22T13:22:31.576Z"
   },
   {
    "duration": 36,
    "start_time": "2022-12-22T13:22:31.641Z"
   },
   {
    "duration": 37,
    "start_time": "2022-12-22T13:22:31.679Z"
   },
   {
    "duration": 35,
    "start_time": "2022-12-22T13:22:31.718Z"
   },
   {
    "duration": 26,
    "start_time": "2022-12-22T13:22:31.755Z"
   },
   {
    "duration": 22,
    "start_time": "2022-12-22T13:22:31.783Z"
   },
   {
    "duration": 27,
    "start_time": "2022-12-22T13:22:31.807Z"
   },
   {
    "duration": 42,
    "start_time": "2022-12-22T13:22:31.836Z"
   },
   {
    "duration": 37,
    "start_time": "2022-12-22T13:22:31.880Z"
   },
   {
    "duration": 172,
    "start_time": "2022-12-22T13:22:31.918Z"
   },
   {
    "duration": 116,
    "start_time": "2022-12-22T13:22:32.092Z"
   },
   {
    "duration": 5,
    "start_time": "2022-12-22T13:22:32.209Z"
   },
   {
    "duration": 24,
    "start_time": "2022-12-22T13:22:32.216Z"
   },
   {
    "duration": 24,
    "start_time": "2022-12-22T13:22:32.241Z"
   },
   {
    "duration": 325,
    "start_time": "2022-12-22T13:22:32.267Z"
   },
   {
    "duration": 207,
    "start_time": "2022-12-22T13:22:32.593Z"
   },
   {
    "duration": 262,
    "start_time": "2022-12-22T13:22:32.802Z"
   },
   {
    "duration": 225,
    "start_time": "2022-12-22T13:22:33.066Z"
   },
   {
    "duration": 350,
    "start_time": "2022-12-22T13:22:33.293Z"
   },
   {
    "duration": 9,
    "start_time": "2022-12-22T13:22:33.645Z"
   },
   {
    "duration": 174,
    "start_time": "2022-12-22T13:22:33.656Z"
   },
   {
    "duration": 4,
    "start_time": "2022-12-22T13:22:33.831Z"
   },
   {
    "duration": 187,
    "start_time": "2022-12-22T13:22:33.837Z"
   },
   {
    "duration": 4,
    "start_time": "2022-12-22T13:22:34.028Z"
   },
   {
    "duration": 8,
    "start_time": "2022-12-22T13:22:34.034Z"
   },
   {
    "duration": 15,
    "start_time": "2022-12-22T13:22:34.043Z"
   },
   {
    "duration": 53,
    "start_time": "2022-12-22T13:22:34.060Z"
   },
   {
    "duration": 56,
    "start_time": "2022-12-22T13:22:34.115Z"
   },
   {
    "duration": 35,
    "start_time": "2022-12-22T13:22:34.172Z"
   },
   {
    "duration": 14,
    "start_time": "2022-12-22T13:22:34.209Z"
   },
   {
    "duration": 69,
    "start_time": "2022-12-22T13:22:34.224Z"
   },
   {
    "duration": 178,
    "start_time": "2022-12-22T13:22:34.295Z"
   },
   {
    "duration": 90,
    "start_time": "2022-12-22T13:22:34.475Z"
   },
   {
    "duration": 61,
    "start_time": "2022-12-22T13:22:34.567Z"
   },
   {
    "duration": 75,
    "start_time": "2022-12-22T13:22:34.630Z"
   },
   {
    "duration": 5,
    "start_time": "2022-12-22T13:22:34.707Z"
   },
   {
    "duration": 7,
    "start_time": "2022-12-22T13:22:34.713Z"
   },
   {
    "duration": 61,
    "start_time": "2022-12-22T13:22:34.722Z"
   },
   {
    "duration": 7,
    "start_time": "2022-12-22T13:22:34.785Z"
   },
   {
    "duration": 40,
    "start_time": "2022-12-22T13:22:34.794Z"
   },
   {
    "duration": 42,
    "start_time": "2022-12-22T13:22:34.836Z"
   },
   {
    "duration": 22,
    "start_time": "2022-12-22T13:22:34.879Z"
   },
   {
    "duration": 18,
    "start_time": "2022-12-22T13:22:34.903Z"
   },
   {
    "duration": 37,
    "start_time": "2022-12-22T13:22:34.923Z"
   },
   {
    "duration": 20,
    "start_time": "2022-12-22T13:22:34.962Z"
   },
   {
    "duration": 9,
    "start_time": "2022-12-22T13:35:04.052Z"
   },
   {
    "duration": 47,
    "start_time": "2022-12-22T20:25:37.261Z"
   },
   {
    "duration": 1362,
    "start_time": "2022-12-22T20:25:44.518Z"
   },
   {
    "duration": 293,
    "start_time": "2022-12-22T20:25:45.882Z"
   },
   {
    "duration": 6,
    "start_time": "2022-12-22T20:25:46.177Z"
   },
   {
    "duration": 24,
    "start_time": "2022-12-22T20:25:46.186Z"
   },
   {
    "duration": 4,
    "start_time": "2022-12-22T20:25:46.212Z"
   },
   {
    "duration": 14,
    "start_time": "2022-12-22T20:25:46.218Z"
   },
   {
    "duration": 10,
    "start_time": "2022-12-22T20:25:46.234Z"
   },
   {
    "duration": 13,
    "start_time": "2022-12-22T20:25:46.246Z"
   },
   {
    "duration": 20,
    "start_time": "2022-12-22T20:25:46.261Z"
   },
   {
    "duration": 12,
    "start_time": "2022-12-22T20:25:46.284Z"
   },
   {
    "duration": 11,
    "start_time": "2022-12-22T20:25:46.299Z"
   },
   {
    "duration": 17,
    "start_time": "2022-12-22T20:25:46.312Z"
   },
   {
    "duration": 23,
    "start_time": "2022-12-22T20:25:46.330Z"
   },
   {
    "duration": 24,
    "start_time": "2022-12-22T20:25:46.382Z"
   },
   {
    "duration": 16,
    "start_time": "2022-12-22T20:25:46.408Z"
   },
   {
    "duration": 7,
    "start_time": "2022-12-22T20:25:46.426Z"
   },
   {
    "duration": 12,
    "start_time": "2022-12-22T20:25:46.434Z"
   },
   {
    "duration": 16,
    "start_time": "2022-12-22T20:25:46.448Z"
   },
   {
    "duration": 9,
    "start_time": "2022-12-22T20:25:46.479Z"
   },
   {
    "duration": 18,
    "start_time": "2022-12-22T20:25:46.491Z"
   },
   {
    "duration": 12,
    "start_time": "2022-12-22T20:25:46.510Z"
   },
   {
    "duration": 8,
    "start_time": "2022-12-22T20:25:46.523Z"
   },
   {
    "duration": 13,
    "start_time": "2022-12-22T20:25:46.532Z"
   },
   {
    "duration": 6,
    "start_time": "2022-12-22T20:25:46.577Z"
   },
   {
    "duration": 16,
    "start_time": "2022-12-22T20:25:46.585Z"
   },
   {
    "duration": 7,
    "start_time": "2022-12-22T20:25:46.603Z"
   },
   {
    "duration": 217,
    "start_time": "2022-12-22T20:25:46.612Z"
   },
   {
    "duration": 159,
    "start_time": "2022-12-22T20:25:46.830Z"
   },
   {
    "duration": 10,
    "start_time": "2022-12-22T20:25:46.991Z"
   },
   {
    "duration": 19,
    "start_time": "2022-12-22T20:25:47.003Z"
   },
   {
    "duration": 16,
    "start_time": "2022-12-22T20:25:47.024Z"
   },
   {
    "duration": 338,
    "start_time": "2022-12-22T20:25:47.042Z"
   },
   {
    "duration": 276,
    "start_time": "2022-12-22T20:25:47.383Z"
   },
   {
    "duration": 392,
    "start_time": "2022-12-22T20:25:47.661Z"
   },
   {
    "duration": 267,
    "start_time": "2022-12-22T20:25:48.055Z"
   },
   {
    "duration": 348,
    "start_time": "2022-12-22T20:25:48.324Z"
   },
   {
    "duration": 15,
    "start_time": "2022-12-22T20:25:48.674Z"
   },
   {
    "duration": 172,
    "start_time": "2022-12-22T20:25:48.692Z"
   },
   {
    "duration": 15,
    "start_time": "2022-12-22T20:25:48.866Z"
   },
   {
    "duration": 211,
    "start_time": "2022-12-22T20:25:48.883Z"
   },
   {
    "duration": 4,
    "start_time": "2022-12-22T20:25:49.101Z"
   },
   {
    "duration": 7,
    "start_time": "2022-12-22T20:25:49.107Z"
   },
   {
    "duration": 13,
    "start_time": "2022-12-22T20:25:49.116Z"
   },
   {
    "duration": 69,
    "start_time": "2022-12-22T20:25:49.130Z"
   },
   {
    "duration": 61,
    "start_time": "2022-12-22T20:25:49.201Z"
   },
   {
    "duration": 36,
    "start_time": "2022-12-22T20:25:49.264Z"
   },
   {
    "duration": 24,
    "start_time": "2022-12-22T20:25:49.303Z"
   },
   {
    "duration": 49,
    "start_time": "2022-12-22T20:25:49.328Z"
   },
   {
    "duration": 68,
    "start_time": "2022-12-22T20:25:49.379Z"
   },
   {
    "duration": 36,
    "start_time": "2022-12-22T20:25:49.449Z"
   },
   {
    "duration": 72,
    "start_time": "2022-12-22T20:25:49.487Z"
   },
   {
    "duration": 82,
    "start_time": "2022-12-22T20:25:49.561Z"
   },
   {
    "duration": 6,
    "start_time": "2022-12-22T20:25:49.645Z"
   },
   {
    "duration": 7,
    "start_time": "2022-12-22T20:25:49.652Z"
   },
   {
    "duration": 41,
    "start_time": "2022-12-22T20:25:49.660Z"
   },
   {
    "duration": 5,
    "start_time": "2022-12-22T20:25:49.703Z"
   },
   {
    "duration": 11,
    "start_time": "2022-12-22T20:25:49.709Z"
   },
   {
    "duration": 7,
    "start_time": "2022-12-22T20:25:49.722Z"
   },
   {
    "duration": 10,
    "start_time": "2022-12-22T20:25:49.731Z"
   },
   {
    "duration": 11,
    "start_time": "2022-12-22T20:25:49.742Z"
   },
   {
    "duration": 20,
    "start_time": "2022-12-22T20:25:49.784Z"
   },
   {
    "duration": 19,
    "start_time": "2022-12-22T20:25:49.806Z"
   },
   {
    "duration": 235,
    "start_time": "2022-12-22T20:26:23.523Z"
   },
   {
    "duration": 277,
    "start_time": "2022-12-22T20:26:33.892Z"
   },
   {
    "duration": 298,
    "start_time": "2022-12-22T20:28:23.199Z"
   },
   {
    "duration": 331,
    "start_time": "2022-12-22T20:29:44.770Z"
   },
   {
    "duration": 283,
    "start_time": "2022-12-22T20:29:58.131Z"
   },
   {
    "duration": 261,
    "start_time": "2022-12-22T20:31:48.922Z"
   },
   {
    "duration": 220,
    "start_time": "2022-12-22T20:32:04.124Z"
   },
   {
    "duration": 359,
    "start_time": "2022-12-22T20:34:14.304Z"
   },
   {
    "duration": 164,
    "start_time": "2022-12-22T20:35:33.076Z"
   },
   {
    "duration": 1033,
    "start_time": "2022-12-22T20:39:58.663Z"
   },
   {
    "duration": 131,
    "start_time": "2022-12-22T20:39:59.698Z"
   },
   {
    "duration": 3,
    "start_time": "2022-12-22T20:39:59.831Z"
   },
   {
    "duration": 16,
    "start_time": "2022-12-22T20:39:59.836Z"
   },
   {
    "duration": 3,
    "start_time": "2022-12-22T20:39:59.854Z"
   },
   {
    "duration": 8,
    "start_time": "2022-12-22T20:39:59.859Z"
   },
   {
    "duration": 12,
    "start_time": "2022-12-22T20:39:59.868Z"
   },
   {
    "duration": 15,
    "start_time": "2022-12-22T20:39:59.881Z"
   },
   {
    "duration": 13,
    "start_time": "2022-12-22T20:39:59.897Z"
   },
   {
    "duration": 11,
    "start_time": "2022-12-22T20:39:59.912Z"
   },
   {
    "duration": 6,
    "start_time": "2022-12-22T20:39:59.925Z"
   },
   {
    "duration": 13,
    "start_time": "2022-12-22T20:39:59.932Z"
   },
   {
    "duration": 12,
    "start_time": "2022-12-22T20:39:59.947Z"
   },
   {
    "duration": 20,
    "start_time": "2022-12-22T20:39:59.961Z"
   },
   {
    "duration": 13,
    "start_time": "2022-12-22T20:39:59.983Z"
   },
   {
    "duration": 38,
    "start_time": "2022-12-22T20:39:59.998Z"
   },
   {
    "duration": 24,
    "start_time": "2022-12-22T20:40:00.038Z"
   },
   {
    "duration": 16,
    "start_time": "2022-12-22T20:40:00.063Z"
   },
   {
    "duration": 12,
    "start_time": "2022-12-22T20:40:00.080Z"
   },
   {
    "duration": 20,
    "start_time": "2022-12-22T20:40:00.093Z"
   },
   {
    "duration": 14,
    "start_time": "2022-12-22T20:40:00.114Z"
   },
   {
    "duration": 11,
    "start_time": "2022-12-22T20:40:00.129Z"
   },
   {
    "duration": 13,
    "start_time": "2022-12-22T20:40:00.142Z"
   },
   {
    "duration": 29,
    "start_time": "2022-12-22T20:40:00.157Z"
   },
   {
    "duration": 16,
    "start_time": "2022-12-22T20:40:00.188Z"
   },
   {
    "duration": 20,
    "start_time": "2022-12-22T20:40:00.206Z"
   },
   {
    "duration": 178,
    "start_time": "2022-12-22T20:40:00.228Z"
   },
   {
    "duration": 122,
    "start_time": "2022-12-22T20:40:00.409Z"
   },
   {
    "duration": 6,
    "start_time": "2022-12-22T20:40:00.533Z"
   },
   {
    "duration": 40,
    "start_time": "2022-12-22T20:40:00.540Z"
   },
   {
    "duration": 23,
    "start_time": "2022-12-22T20:40:00.581Z"
   },
   {
    "duration": 299,
    "start_time": "2022-12-22T20:40:00.606Z"
   },
   {
    "duration": 223,
    "start_time": "2022-12-22T20:40:00.906Z"
   },
   {
    "duration": 255,
    "start_time": "2022-12-22T20:40:01.131Z"
   },
   {
    "duration": 215,
    "start_time": "2022-12-22T20:40:01.388Z"
   },
   {
    "duration": 323,
    "start_time": "2022-12-22T20:40:01.605Z"
   },
   {
    "duration": 9,
    "start_time": "2022-12-22T20:40:01.930Z"
   },
   {
    "duration": 168,
    "start_time": "2022-12-22T20:40:01.941Z"
   },
   {
    "duration": 4,
    "start_time": "2022-12-22T20:40:02.111Z"
   },
   {
    "duration": 174,
    "start_time": "2022-12-22T20:40:02.116Z"
   },
   {
    "duration": 4,
    "start_time": "2022-12-22T20:40:02.291Z"
   },
   {
    "duration": 65,
    "start_time": "2022-12-22T20:40:02.296Z"
   },
   {
    "duration": 72,
    "start_time": "2022-12-22T20:40:02.378Z"
   },
   {
    "duration": 4860,
    "start_time": "2022-12-22T20:40:02.451Z"
   },
   {
    "duration": 0,
    "start_time": "2022-12-22T20:40:07.312Z"
   },
   {
    "duration": 0,
    "start_time": "2022-12-22T20:40:07.314Z"
   },
   {
    "duration": 0,
    "start_time": "2022-12-22T20:40:07.315Z"
   },
   {
    "duration": 0,
    "start_time": "2022-12-22T20:40:07.315Z"
   },
   {
    "duration": 0,
    "start_time": "2022-12-22T20:40:07.316Z"
   },
   {
    "duration": 0,
    "start_time": "2022-12-22T20:40:07.317Z"
   },
   {
    "duration": 0,
    "start_time": "2022-12-22T20:40:07.318Z"
   },
   {
    "duration": 0,
    "start_time": "2022-12-22T20:40:07.319Z"
   },
   {
    "duration": 0,
    "start_time": "2022-12-22T20:40:07.320Z"
   },
   {
    "duration": 1020,
    "start_time": "2022-12-22T20:50:52.044Z"
   },
   {
    "duration": 130,
    "start_time": "2022-12-22T20:50:53.066Z"
   },
   {
    "duration": 3,
    "start_time": "2022-12-22T20:50:53.197Z"
   },
   {
    "duration": 21,
    "start_time": "2022-12-22T20:50:53.203Z"
   },
   {
    "duration": 7,
    "start_time": "2022-12-22T20:50:53.226Z"
   },
   {
    "duration": 17,
    "start_time": "2022-12-22T20:50:53.235Z"
   },
   {
    "duration": 11,
    "start_time": "2022-12-22T20:50:53.253Z"
   },
   {
    "duration": 11,
    "start_time": "2022-12-22T20:50:53.265Z"
   },
   {
    "duration": 10,
    "start_time": "2022-12-22T20:50:53.278Z"
   },
   {
    "duration": 9,
    "start_time": "2022-12-22T20:50:53.291Z"
   },
   {
    "duration": 11,
    "start_time": "2022-12-22T20:50:53.301Z"
   },
   {
    "duration": 23,
    "start_time": "2022-12-22T20:50:53.314Z"
   },
   {
    "duration": 23,
    "start_time": "2022-12-22T20:50:53.339Z"
   },
   {
    "duration": 23,
    "start_time": "2022-12-22T20:50:53.363Z"
   },
   {
    "duration": 21,
    "start_time": "2022-12-22T20:50:53.388Z"
   },
   {
    "duration": 17,
    "start_time": "2022-12-22T20:50:53.411Z"
   },
   {
    "duration": 23,
    "start_time": "2022-12-22T20:50:53.430Z"
   },
   {
    "duration": 11,
    "start_time": "2022-12-22T20:50:53.455Z"
   },
   {
    "duration": 20,
    "start_time": "2022-12-22T20:50:53.467Z"
   },
   {
    "duration": 28,
    "start_time": "2022-12-22T20:50:53.488Z"
   },
   {
    "duration": 20,
    "start_time": "2022-12-22T20:50:53.517Z"
   },
   {
    "duration": 24,
    "start_time": "2022-12-22T20:50:53.538Z"
   },
   {
    "duration": 21,
    "start_time": "2022-12-22T20:50:53.563Z"
   },
   {
    "duration": 11,
    "start_time": "2022-12-22T20:50:53.585Z"
   },
   {
    "duration": 14,
    "start_time": "2022-12-22T20:50:53.598Z"
   },
   {
    "duration": 16,
    "start_time": "2022-12-22T20:50:53.613Z"
   },
   {
    "duration": 160,
    "start_time": "2022-12-22T20:50:53.630Z"
   },
   {
    "duration": 144,
    "start_time": "2022-12-22T20:50:53.794Z"
   },
   {
    "duration": 9,
    "start_time": "2022-12-22T20:50:53.940Z"
   },
   {
    "duration": 31,
    "start_time": "2022-12-22T20:50:53.951Z"
   },
   {
    "duration": 36,
    "start_time": "2022-12-22T20:50:53.985Z"
   },
   {
    "duration": 326,
    "start_time": "2022-12-22T20:50:54.023Z"
   },
   {
    "duration": 202,
    "start_time": "2022-12-22T20:50:54.351Z"
   },
   {
    "duration": 303,
    "start_time": "2022-12-22T20:50:54.555Z"
   },
   {
    "duration": 221,
    "start_time": "2022-12-22T20:50:54.860Z"
   },
   {
    "duration": 319,
    "start_time": "2022-12-22T20:50:55.082Z"
   },
   {
    "duration": 9,
    "start_time": "2022-12-22T20:50:55.403Z"
   },
   {
    "duration": 164,
    "start_time": "2022-12-22T20:50:55.414Z"
   },
   {
    "duration": 4,
    "start_time": "2022-12-22T20:50:55.579Z"
   },
   {
    "duration": 189,
    "start_time": "2022-12-22T20:50:55.584Z"
   },
   {
    "duration": 5,
    "start_time": "2022-12-22T20:50:55.775Z"
   },
   {
    "duration": 8,
    "start_time": "2022-12-22T20:50:55.781Z"
   },
   {
    "duration": 10,
    "start_time": "2022-12-22T20:50:55.791Z"
   },
   {
    "duration": 69,
    "start_time": "2022-12-22T20:50:55.802Z"
   },
   {
    "duration": 52,
    "start_time": "2022-12-22T20:50:55.873Z"
   },
   {
    "duration": 18,
    "start_time": "2022-12-22T20:50:55.927Z"
   },
   {
    "duration": 19,
    "start_time": "2022-12-22T20:50:55.946Z"
   },
   {
    "duration": 52,
    "start_time": "2022-12-22T20:50:55.967Z"
   },
   {
    "duration": 61,
    "start_time": "2022-12-22T20:50:56.020Z"
   },
   {
    "duration": 39,
    "start_time": "2022-12-22T20:50:56.083Z"
   },
   {
    "duration": 70,
    "start_time": "2022-12-22T20:50:56.123Z"
   },
   {
    "duration": 72,
    "start_time": "2022-12-22T20:50:56.194Z"
   },
   {
    "duration": 11,
    "start_time": "2022-12-22T20:50:56.267Z"
   },
   {
    "duration": 4,
    "start_time": "2022-12-22T20:50:56.280Z"
   },
   {
    "duration": 42,
    "start_time": "2022-12-22T20:50:56.285Z"
   },
   {
    "duration": 4,
    "start_time": "2022-12-22T20:50:56.328Z"
   },
   {
    "duration": 20,
    "start_time": "2022-12-22T20:50:56.333Z"
   },
   {
    "duration": 7,
    "start_time": "2022-12-22T20:50:56.354Z"
   },
   {
    "duration": 10,
    "start_time": "2022-12-22T20:50:56.363Z"
   },
   {
    "duration": 8,
    "start_time": "2022-12-22T20:50:56.374Z"
   },
   {
    "duration": 19,
    "start_time": "2022-12-22T20:50:56.383Z"
   },
   {
    "duration": 12,
    "start_time": "2022-12-22T20:50:56.404Z"
   },
   {
    "duration": 5,
    "start_time": "2022-12-22T20:58:41.365Z"
   },
   {
    "duration": 126,
    "start_time": "2022-12-22T20:59:33.909Z"
   },
   {
    "duration": 5,
    "start_time": "2022-12-22T21:03:14.324Z"
   },
   {
    "duration": 3,
    "start_time": "2022-12-22T21:03:30.018Z"
   },
   {
    "duration": 9,
    "start_time": "2022-12-22T21:03:52.216Z"
   },
   {
    "duration": 5,
    "start_time": "2022-12-22T21:06:08.956Z"
   },
   {
    "duration": 5,
    "start_time": "2022-12-22T21:06:42.778Z"
   },
   {
    "duration": 5,
    "start_time": "2022-12-22T21:09:03.675Z"
   },
   {
    "duration": 19,
    "start_time": "2022-12-22T22:16:31.989Z"
   },
   {
    "duration": 4,
    "start_time": "2022-12-22T22:16:34.520Z"
   },
   {
    "duration": 19,
    "start_time": "2022-12-22T22:17:00.460Z"
   },
   {
    "duration": 1001,
    "start_time": "2022-12-22T22:21:36.006Z"
   },
   {
    "duration": 144,
    "start_time": "2022-12-22T22:21:37.009Z"
   },
   {
    "duration": 2,
    "start_time": "2022-12-22T22:21:37.155Z"
   },
   {
    "duration": 13,
    "start_time": "2022-12-22T22:21:37.159Z"
   },
   {
    "duration": 3,
    "start_time": "2022-12-22T22:21:37.174Z"
   },
   {
    "duration": 9,
    "start_time": "2022-12-22T22:21:37.178Z"
   },
   {
    "duration": 11,
    "start_time": "2022-12-22T22:21:37.188Z"
   },
   {
    "duration": 8,
    "start_time": "2022-12-22T22:21:37.200Z"
   },
   {
    "duration": 8,
    "start_time": "2022-12-22T22:21:37.209Z"
   },
   {
    "duration": 8,
    "start_time": "2022-12-22T22:21:37.218Z"
   },
   {
    "duration": 7,
    "start_time": "2022-12-22T22:21:37.228Z"
   },
   {
    "duration": 12,
    "start_time": "2022-12-22T22:21:37.236Z"
   },
   {
    "duration": 29,
    "start_time": "2022-12-22T22:21:37.249Z"
   },
   {
    "duration": 10,
    "start_time": "2022-12-22T22:21:37.281Z"
   },
   {
    "duration": 12,
    "start_time": "2022-12-22T22:21:37.293Z"
   },
   {
    "duration": 6,
    "start_time": "2022-12-22T22:21:37.307Z"
   },
   {
    "duration": 6,
    "start_time": "2022-12-22T22:21:37.315Z"
   },
   {
    "duration": 24,
    "start_time": "2022-12-22T22:21:37.322Z"
   },
   {
    "duration": 13,
    "start_time": "2022-12-22T22:21:37.347Z"
   },
   {
    "duration": 18,
    "start_time": "2022-12-22T22:21:37.361Z"
   },
   {
    "duration": 11,
    "start_time": "2022-12-22T22:21:37.381Z"
   },
   {
    "duration": 9,
    "start_time": "2022-12-22T22:21:37.394Z"
   },
   {
    "duration": 15,
    "start_time": "2022-12-22T22:21:37.404Z"
   },
   {
    "duration": 4,
    "start_time": "2022-12-22T22:21:37.421Z"
   },
   {
    "duration": 10,
    "start_time": "2022-12-22T22:21:37.426Z"
   },
   {
    "duration": 9,
    "start_time": "2022-12-22T22:21:37.438Z"
   },
   {
    "duration": 172,
    "start_time": "2022-12-22T22:21:37.449Z"
   },
   {
    "duration": 128,
    "start_time": "2022-12-22T22:21:37.623Z"
   },
   {
    "duration": 6,
    "start_time": "2022-12-22T22:21:37.753Z"
   },
   {
    "duration": 18,
    "start_time": "2022-12-22T22:21:37.760Z"
   },
   {
    "duration": 8,
    "start_time": "2022-12-22T22:21:37.779Z"
   },
   {
    "duration": 289,
    "start_time": "2022-12-22T22:21:37.789Z"
   },
   {
    "duration": 201,
    "start_time": "2022-12-22T22:21:38.079Z"
   },
   {
    "duration": 298,
    "start_time": "2022-12-22T22:21:38.282Z"
   },
   {
    "duration": 220,
    "start_time": "2022-12-22T22:21:38.582Z"
   },
   {
    "duration": 317,
    "start_time": "2022-12-22T22:21:38.803Z"
   },
   {
    "duration": 10,
    "start_time": "2022-12-22T22:21:39.122Z"
   },
   {
    "duration": 163,
    "start_time": "2022-12-22T22:21:39.134Z"
   },
   {
    "duration": 5,
    "start_time": "2022-12-22T22:21:39.299Z"
   },
   {
    "duration": 178,
    "start_time": "2022-12-22T22:21:39.305Z"
   },
   {
    "duration": 4,
    "start_time": "2022-12-22T22:21:39.487Z"
   },
   {
    "duration": 12,
    "start_time": "2022-12-22T22:21:39.493Z"
   },
   {
    "duration": 14,
    "start_time": "2022-12-22T22:21:39.506Z"
   },
   {
    "duration": 50,
    "start_time": "2022-12-22T22:21:39.522Z"
   },
   {
    "duration": 44,
    "start_time": "2022-12-22T22:21:39.574Z"
   },
   {
    "duration": 26,
    "start_time": "2022-12-22T22:21:39.620Z"
   },
   {
    "duration": 14,
    "start_time": "2022-12-22T22:21:39.648Z"
   },
   {
    "duration": 61,
    "start_time": "2022-12-22T22:21:39.664Z"
   },
   {
    "duration": 52,
    "start_time": "2022-12-22T22:21:39.726Z"
   },
   {
    "duration": 31,
    "start_time": "2022-12-22T22:21:39.779Z"
   },
   {
    "duration": 83,
    "start_time": "2022-12-22T22:21:39.812Z"
   },
   {
    "duration": 81,
    "start_time": "2022-12-22T22:21:39.897Z"
   },
   {
    "duration": 10,
    "start_time": "2022-12-22T22:21:39.980Z"
   },
   {
    "duration": 18,
    "start_time": "2022-12-22T22:21:39.991Z"
   },
   {
    "duration": 34,
    "start_time": "2022-12-22T22:21:40.010Z"
   },
   {
    "duration": 6,
    "start_time": "2022-12-22T22:21:40.046Z"
   },
   {
    "duration": 19,
    "start_time": "2022-12-22T22:21:40.053Z"
   },
   {
    "duration": 6,
    "start_time": "2022-12-22T22:21:40.074Z"
   },
   {
    "duration": 33,
    "start_time": "2022-12-22T22:21:40.081Z"
   },
   {
    "duration": 16,
    "start_time": "2022-12-22T22:21:40.116Z"
   },
   {
    "duration": 26,
    "start_time": "2022-12-22T22:21:40.133Z"
   },
   {
    "duration": 14,
    "start_time": "2022-12-22T22:21:40.160Z"
   }
  ],
  "kernelspec": {
   "display_name": "Python 3 (ipykernel)",
   "language": "python",
   "name": "python3"
  },
  "language_info": {
   "codemirror_mode": {
    "name": "ipython",
    "version": 3
   },
   "file_extension": ".py",
   "mimetype": "text/x-python",
   "name": "python",
   "nbconvert_exporter": "python",
   "pygments_lexer": "ipython3",
   "version": "3.9.7"
  },
  "toc": {
   "base_numbering": 1,
   "nav_menu": {
    "height": "320.972px",
    "width": "275.984px"
   },
   "number_sections": false,
   "sideBar": true,
   "skip_h1_title": false,
   "title_cell": "Table of Contents",
   "title_sidebar": "Contents",
   "toc_cell": false,
   "toc_position": {
    "height": "calc(100% - 180px)",
    "left": "10px",
    "top": "150px",
    "width": "192px"
   },
   "toc_section_display": true,
   "toc_window_display": false
  }
 },
 "nbformat": 4,
 "nbformat_minor": 2
}
