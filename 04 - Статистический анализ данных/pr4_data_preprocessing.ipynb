{
 "cells": [
  {
   "cell_type": "markdown",
   "id": "97b31d02",
   "metadata": {
    "deletable": false,
    "editable": false,
    "id": "c81daeeb"
   },
   "source": [
    "# Исследование надежности заемщиков\n"
   ]
  },
  {
   "cell_type": "markdown",
   "id": "ae65b1f1",
   "metadata": {
    "deletable": false,
    "editable": false,
    "id": "827c20bf"
   },
   "source": [
    "Во второй части проекта вы выполните шаги 3 и 4. Их вручную проверит ревьюер.\n",
    "Чтобы вам не пришлось писать код заново для шагов 1 и 2, мы добавили авторские решения в ячейки с кодом. \n",
    "\n"
   ]
  },
  {
   "cell_type": "markdown",
   "id": "2927845e",
   "metadata": {
    "deletable": false,
    "editable": false,
    "id": "744d7639"
   },
   "source": [
    "## Откройте таблицу и изучите общую информацию о данных"
   ]
  },
  {
   "cell_type": "markdown",
   "id": "ca11e5a0",
   "metadata": {
    "deletable": false,
    "editable": false,
    "id": "e7a14c31"
   },
   "source": [
    "**Задание 1. Импортируйте библиотеку pandas. Считайте данные из csv-файла в датафрейм и сохраните в переменную `data`. Путь к файлу:**\n",
    "\n",
    "`/datasets/data.csv`"
   ]
  },
  {
   "cell_type": "code",
   "execution_count": 1,
   "id": "285c0f73",
   "metadata": {
    "deletable": false,
    "id": "7bcf75c9"
   },
   "outputs": [],
   "source": [
    "import pandas as pd\n",
    "\n",
    "try:\n",
    "    data = pd.read_csv('/datasets/data.csv')\n",
    "except:\n",
    "    data = pd.read_csv('https://code.s3.yandex.net/datasets/data.csv')"
   ]
  },
  {
   "cell_type": "markdown",
   "id": "061f2f6f",
   "metadata": {
    "deletable": false,
    "editable": false,
    "id": "b8038fe3"
   },
   "source": [
    "**Задание 2. Выведите первые 20 строчек датафрейма `data` на экран.**"
   ]
  },
  {
   "cell_type": "code",
   "execution_count": 2,
   "id": "4720ce2e",
   "metadata": {
    "deletable": false,
    "id": "2a7cab99",
    "outputId": "1a8f3ef2-d323-4ec2-ddf7-89670b5944c4"
   },
   "outputs": [
    {
     "data": {
      "text/html": [
       "<div>\n",
       "<style scoped>\n",
       "    .dataframe tbody tr th:only-of-type {\n",
       "        vertical-align: middle;\n",
       "    }\n",
       "\n",
       "    .dataframe tbody tr th {\n",
       "        vertical-align: top;\n",
       "    }\n",
       "\n",
       "    .dataframe thead th {\n",
       "        text-align: right;\n",
       "    }\n",
       "</style>\n",
       "<table border=\"1\" class=\"dataframe\">\n",
       "  <thead>\n",
       "    <tr style=\"text-align: right;\">\n",
       "      <th></th>\n",
       "      <th>children</th>\n",
       "      <th>days_employed</th>\n",
       "      <th>dob_years</th>\n",
       "      <th>education</th>\n",
       "      <th>education_id</th>\n",
       "      <th>family_status</th>\n",
       "      <th>family_status_id</th>\n",
       "      <th>gender</th>\n",
       "      <th>income_type</th>\n",
       "      <th>debt</th>\n",
       "      <th>total_income</th>\n",
       "      <th>purpose</th>\n",
       "    </tr>\n",
       "  </thead>\n",
       "  <tbody>\n",
       "    <tr>\n",
       "      <th>0</th>\n",
       "      <td>1</td>\n",
       "      <td>-8437.673028</td>\n",
       "      <td>42</td>\n",
       "      <td>высшее</td>\n",
       "      <td>0</td>\n",
       "      <td>женат / замужем</td>\n",
       "      <td>0</td>\n",
       "      <td>F</td>\n",
       "      <td>сотрудник</td>\n",
       "      <td>0</td>\n",
       "      <td>253875.639453</td>\n",
       "      <td>покупка жилья</td>\n",
       "    </tr>\n",
       "    <tr>\n",
       "      <th>1</th>\n",
       "      <td>1</td>\n",
       "      <td>-4024.803754</td>\n",
       "      <td>36</td>\n",
       "      <td>среднее</td>\n",
       "      <td>1</td>\n",
       "      <td>женат / замужем</td>\n",
       "      <td>0</td>\n",
       "      <td>F</td>\n",
       "      <td>сотрудник</td>\n",
       "      <td>0</td>\n",
       "      <td>112080.014102</td>\n",
       "      <td>приобретение автомобиля</td>\n",
       "    </tr>\n",
       "    <tr>\n",
       "      <th>2</th>\n",
       "      <td>0</td>\n",
       "      <td>-5623.422610</td>\n",
       "      <td>33</td>\n",
       "      <td>Среднее</td>\n",
       "      <td>1</td>\n",
       "      <td>женат / замужем</td>\n",
       "      <td>0</td>\n",
       "      <td>M</td>\n",
       "      <td>сотрудник</td>\n",
       "      <td>0</td>\n",
       "      <td>145885.952297</td>\n",
       "      <td>покупка жилья</td>\n",
       "    </tr>\n",
       "    <tr>\n",
       "      <th>3</th>\n",
       "      <td>3</td>\n",
       "      <td>-4124.747207</td>\n",
       "      <td>32</td>\n",
       "      <td>среднее</td>\n",
       "      <td>1</td>\n",
       "      <td>женат / замужем</td>\n",
       "      <td>0</td>\n",
       "      <td>M</td>\n",
       "      <td>сотрудник</td>\n",
       "      <td>0</td>\n",
       "      <td>267628.550329</td>\n",
       "      <td>дополнительное образование</td>\n",
       "    </tr>\n",
       "    <tr>\n",
       "      <th>4</th>\n",
       "      <td>0</td>\n",
       "      <td>340266.072047</td>\n",
       "      <td>53</td>\n",
       "      <td>среднее</td>\n",
       "      <td>1</td>\n",
       "      <td>гражданский брак</td>\n",
       "      <td>1</td>\n",
       "      <td>F</td>\n",
       "      <td>пенсионер</td>\n",
       "      <td>0</td>\n",
       "      <td>158616.077870</td>\n",
       "      <td>сыграть свадьбу</td>\n",
       "    </tr>\n",
       "    <tr>\n",
       "      <th>5</th>\n",
       "      <td>0</td>\n",
       "      <td>-926.185831</td>\n",
       "      <td>27</td>\n",
       "      <td>высшее</td>\n",
       "      <td>0</td>\n",
       "      <td>гражданский брак</td>\n",
       "      <td>1</td>\n",
       "      <td>M</td>\n",
       "      <td>компаньон</td>\n",
       "      <td>0</td>\n",
       "      <td>255763.565419</td>\n",
       "      <td>покупка жилья</td>\n",
       "    </tr>\n",
       "    <tr>\n",
       "      <th>6</th>\n",
       "      <td>0</td>\n",
       "      <td>-2879.202052</td>\n",
       "      <td>43</td>\n",
       "      <td>высшее</td>\n",
       "      <td>0</td>\n",
       "      <td>женат / замужем</td>\n",
       "      <td>0</td>\n",
       "      <td>F</td>\n",
       "      <td>компаньон</td>\n",
       "      <td>0</td>\n",
       "      <td>240525.971920</td>\n",
       "      <td>операции с жильем</td>\n",
       "    </tr>\n",
       "    <tr>\n",
       "      <th>7</th>\n",
       "      <td>0</td>\n",
       "      <td>-152.779569</td>\n",
       "      <td>50</td>\n",
       "      <td>СРЕДНЕЕ</td>\n",
       "      <td>1</td>\n",
       "      <td>женат / замужем</td>\n",
       "      <td>0</td>\n",
       "      <td>M</td>\n",
       "      <td>сотрудник</td>\n",
       "      <td>0</td>\n",
       "      <td>135823.934197</td>\n",
       "      <td>образование</td>\n",
       "    </tr>\n",
       "    <tr>\n",
       "      <th>8</th>\n",
       "      <td>2</td>\n",
       "      <td>-6929.865299</td>\n",
       "      <td>35</td>\n",
       "      <td>ВЫСШЕЕ</td>\n",
       "      <td>0</td>\n",
       "      <td>гражданский брак</td>\n",
       "      <td>1</td>\n",
       "      <td>F</td>\n",
       "      <td>сотрудник</td>\n",
       "      <td>0</td>\n",
       "      <td>95856.832424</td>\n",
       "      <td>на проведение свадьбы</td>\n",
       "    </tr>\n",
       "    <tr>\n",
       "      <th>9</th>\n",
       "      <td>0</td>\n",
       "      <td>-2188.756445</td>\n",
       "      <td>41</td>\n",
       "      <td>среднее</td>\n",
       "      <td>1</td>\n",
       "      <td>женат / замужем</td>\n",
       "      <td>0</td>\n",
       "      <td>M</td>\n",
       "      <td>сотрудник</td>\n",
       "      <td>0</td>\n",
       "      <td>144425.938277</td>\n",
       "      <td>покупка жилья для семьи</td>\n",
       "    </tr>\n",
       "    <tr>\n",
       "      <th>10</th>\n",
       "      <td>2</td>\n",
       "      <td>-4171.483647</td>\n",
       "      <td>36</td>\n",
       "      <td>высшее</td>\n",
       "      <td>0</td>\n",
       "      <td>женат / замужем</td>\n",
       "      <td>0</td>\n",
       "      <td>M</td>\n",
       "      <td>компаньон</td>\n",
       "      <td>0</td>\n",
       "      <td>113943.491460</td>\n",
       "      <td>покупка недвижимости</td>\n",
       "    </tr>\n",
       "    <tr>\n",
       "      <th>11</th>\n",
       "      <td>0</td>\n",
       "      <td>-792.701887</td>\n",
       "      <td>40</td>\n",
       "      <td>среднее</td>\n",
       "      <td>1</td>\n",
       "      <td>женат / замужем</td>\n",
       "      <td>0</td>\n",
       "      <td>F</td>\n",
       "      <td>сотрудник</td>\n",
       "      <td>0</td>\n",
       "      <td>77069.234271</td>\n",
       "      <td>покупка коммерческой недвижимости</td>\n",
       "    </tr>\n",
       "    <tr>\n",
       "      <th>12</th>\n",
       "      <td>0</td>\n",
       "      <td>NaN</td>\n",
       "      <td>65</td>\n",
       "      <td>среднее</td>\n",
       "      <td>1</td>\n",
       "      <td>гражданский брак</td>\n",
       "      <td>1</td>\n",
       "      <td>M</td>\n",
       "      <td>пенсионер</td>\n",
       "      <td>0</td>\n",
       "      <td>NaN</td>\n",
       "      <td>сыграть свадьбу</td>\n",
       "    </tr>\n",
       "    <tr>\n",
       "      <th>13</th>\n",
       "      <td>0</td>\n",
       "      <td>-1846.641941</td>\n",
       "      <td>54</td>\n",
       "      <td>неоконченное высшее</td>\n",
       "      <td>2</td>\n",
       "      <td>женат / замужем</td>\n",
       "      <td>0</td>\n",
       "      <td>F</td>\n",
       "      <td>сотрудник</td>\n",
       "      <td>0</td>\n",
       "      <td>130458.228857</td>\n",
       "      <td>приобретение автомобиля</td>\n",
       "    </tr>\n",
       "    <tr>\n",
       "      <th>14</th>\n",
       "      <td>0</td>\n",
       "      <td>-1844.956182</td>\n",
       "      <td>56</td>\n",
       "      <td>высшее</td>\n",
       "      <td>0</td>\n",
       "      <td>гражданский брак</td>\n",
       "      <td>1</td>\n",
       "      <td>F</td>\n",
       "      <td>компаньон</td>\n",
       "      <td>1</td>\n",
       "      <td>165127.911772</td>\n",
       "      <td>покупка жилой недвижимости</td>\n",
       "    </tr>\n",
       "    <tr>\n",
       "      <th>15</th>\n",
       "      <td>1</td>\n",
       "      <td>-972.364419</td>\n",
       "      <td>26</td>\n",
       "      <td>среднее</td>\n",
       "      <td>1</td>\n",
       "      <td>женат / замужем</td>\n",
       "      <td>0</td>\n",
       "      <td>F</td>\n",
       "      <td>сотрудник</td>\n",
       "      <td>0</td>\n",
       "      <td>116820.904450</td>\n",
       "      <td>строительство собственной недвижимости</td>\n",
       "    </tr>\n",
       "    <tr>\n",
       "      <th>16</th>\n",
       "      <td>0</td>\n",
       "      <td>-1719.934226</td>\n",
       "      <td>35</td>\n",
       "      <td>среднее</td>\n",
       "      <td>1</td>\n",
       "      <td>женат / замужем</td>\n",
       "      <td>0</td>\n",
       "      <td>F</td>\n",
       "      <td>сотрудник</td>\n",
       "      <td>0</td>\n",
       "      <td>289202.704229</td>\n",
       "      <td>недвижимость</td>\n",
       "    </tr>\n",
       "    <tr>\n",
       "      <th>17</th>\n",
       "      <td>0</td>\n",
       "      <td>-2369.999720</td>\n",
       "      <td>33</td>\n",
       "      <td>высшее</td>\n",
       "      <td>0</td>\n",
       "      <td>гражданский брак</td>\n",
       "      <td>1</td>\n",
       "      <td>M</td>\n",
       "      <td>сотрудник</td>\n",
       "      <td>0</td>\n",
       "      <td>90410.586745</td>\n",
       "      <td>строительство недвижимости</td>\n",
       "    </tr>\n",
       "    <tr>\n",
       "      <th>18</th>\n",
       "      <td>0</td>\n",
       "      <td>400281.136913</td>\n",
       "      <td>53</td>\n",
       "      <td>среднее</td>\n",
       "      <td>1</td>\n",
       "      <td>вдовец / вдова</td>\n",
       "      <td>2</td>\n",
       "      <td>F</td>\n",
       "      <td>пенсионер</td>\n",
       "      <td>0</td>\n",
       "      <td>56823.777243</td>\n",
       "      <td>на покупку подержанного автомобиля</td>\n",
       "    </tr>\n",
       "    <tr>\n",
       "      <th>19</th>\n",
       "      <td>0</td>\n",
       "      <td>-10038.818549</td>\n",
       "      <td>48</td>\n",
       "      <td>СРЕДНЕЕ</td>\n",
       "      <td>1</td>\n",
       "      <td>в разводе</td>\n",
       "      <td>3</td>\n",
       "      <td>F</td>\n",
       "      <td>сотрудник</td>\n",
       "      <td>0</td>\n",
       "      <td>242831.107982</td>\n",
       "      <td>на покупку своего автомобиля</td>\n",
       "    </tr>\n",
       "  </tbody>\n",
       "</table>\n",
       "</div>"
      ],
      "text/plain": [
       "    children  days_employed  dob_years            education  education_id  \\\n",
       "0          1   -8437.673028         42               высшее             0   \n",
       "1          1   -4024.803754         36              среднее             1   \n",
       "2          0   -5623.422610         33              Среднее             1   \n",
       "3          3   -4124.747207         32              среднее             1   \n",
       "4          0  340266.072047         53              среднее             1   \n",
       "5          0    -926.185831         27               высшее             0   \n",
       "6          0   -2879.202052         43               высшее             0   \n",
       "7          0    -152.779569         50              СРЕДНЕЕ             1   \n",
       "8          2   -6929.865299         35               ВЫСШЕЕ             0   \n",
       "9          0   -2188.756445         41              среднее             1   \n",
       "10         2   -4171.483647         36               высшее             0   \n",
       "11         0    -792.701887         40              среднее             1   \n",
       "12         0            NaN         65              среднее             1   \n",
       "13         0   -1846.641941         54  неоконченное высшее             2   \n",
       "14         0   -1844.956182         56               высшее             0   \n",
       "15         1    -972.364419         26              среднее             1   \n",
       "16         0   -1719.934226         35              среднее             1   \n",
       "17         0   -2369.999720         33               высшее             0   \n",
       "18         0  400281.136913         53              среднее             1   \n",
       "19         0  -10038.818549         48              СРЕДНЕЕ             1   \n",
       "\n",
       "       family_status  family_status_id gender income_type  debt  \\\n",
       "0    женат / замужем                 0      F   сотрудник     0   \n",
       "1    женат / замужем                 0      F   сотрудник     0   \n",
       "2    женат / замужем                 0      M   сотрудник     0   \n",
       "3    женат / замужем                 0      M   сотрудник     0   \n",
       "4   гражданский брак                 1      F   пенсионер     0   \n",
       "5   гражданский брак                 1      M   компаньон     0   \n",
       "6    женат / замужем                 0      F   компаньон     0   \n",
       "7    женат / замужем                 0      M   сотрудник     0   \n",
       "8   гражданский брак                 1      F   сотрудник     0   \n",
       "9    женат / замужем                 0      M   сотрудник     0   \n",
       "10   женат / замужем                 0      M   компаньон     0   \n",
       "11   женат / замужем                 0      F   сотрудник     0   \n",
       "12  гражданский брак                 1      M   пенсионер     0   \n",
       "13   женат / замужем                 0      F   сотрудник     0   \n",
       "14  гражданский брак                 1      F   компаньон     1   \n",
       "15   женат / замужем                 0      F   сотрудник     0   \n",
       "16   женат / замужем                 0      F   сотрудник     0   \n",
       "17  гражданский брак                 1      M   сотрудник     0   \n",
       "18    вдовец / вдова                 2      F   пенсионер     0   \n",
       "19         в разводе                 3      F   сотрудник     0   \n",
       "\n",
       "     total_income                                 purpose  \n",
       "0   253875.639453                           покупка жилья  \n",
       "1   112080.014102                 приобретение автомобиля  \n",
       "2   145885.952297                           покупка жилья  \n",
       "3   267628.550329              дополнительное образование  \n",
       "4   158616.077870                         сыграть свадьбу  \n",
       "5   255763.565419                           покупка жилья  \n",
       "6   240525.971920                       операции с жильем  \n",
       "7   135823.934197                             образование  \n",
       "8    95856.832424                   на проведение свадьбы  \n",
       "9   144425.938277                 покупка жилья для семьи  \n",
       "10  113943.491460                    покупка недвижимости  \n",
       "11   77069.234271       покупка коммерческой недвижимости  \n",
       "12            NaN                         сыграть свадьбу  \n",
       "13  130458.228857                 приобретение автомобиля  \n",
       "14  165127.911772              покупка жилой недвижимости  \n",
       "15  116820.904450  строительство собственной недвижимости  \n",
       "16  289202.704229                            недвижимость  \n",
       "17   90410.586745              строительство недвижимости  \n",
       "18   56823.777243      на покупку подержанного автомобиля  \n",
       "19  242831.107982            на покупку своего автомобиля  "
      ]
     },
     "execution_count": 2,
     "metadata": {},
     "output_type": "execute_result"
    }
   ],
   "source": [
    "data.head(20)"
   ]
  },
  {
   "cell_type": "markdown",
   "id": "dd7cc85c",
   "metadata": {
    "deletable": false,
    "editable": false,
    "id": "1c12e233"
   },
   "source": [
    "**Задание 3. Выведите основную информацию о датафрейме с помощью метода `info()`.**"
   ]
  },
  {
   "cell_type": "code",
   "execution_count": 3,
   "id": "fe2cb47f",
   "metadata": {
    "deletable": false,
    "id": "2b757bca",
    "outputId": "15376089-8dad-46c9-b520-c05248d43158"
   },
   "outputs": [
    {
     "name": "stdout",
     "output_type": "stream",
     "text": [
      "<class 'pandas.core.frame.DataFrame'>\n",
      "RangeIndex: 21525 entries, 0 to 21524\n",
      "Data columns (total 12 columns):\n",
      " #   Column            Non-Null Count  Dtype  \n",
      "---  ------            --------------  -----  \n",
      " 0   children          21525 non-null  int64  \n",
      " 1   days_employed     19351 non-null  float64\n",
      " 2   dob_years         21525 non-null  int64  \n",
      " 3   education         21525 non-null  object \n",
      " 4   education_id      21525 non-null  int64  \n",
      " 5   family_status     21525 non-null  object \n",
      " 6   family_status_id  21525 non-null  int64  \n",
      " 7   gender            21525 non-null  object \n",
      " 8   income_type       21525 non-null  object \n",
      " 9   debt              21525 non-null  int64  \n",
      " 10  total_income      19351 non-null  float64\n",
      " 11  purpose           21525 non-null  object \n",
      "dtypes: float64(2), int64(5), object(5)\n",
      "memory usage: 2.0+ MB\n"
     ]
    }
   ],
   "source": [
    "data.info()"
   ]
  },
  {
   "cell_type": "markdown",
   "id": "7d232897",
   "metadata": {
    "deletable": false,
    "editable": false,
    "id": "333ec665"
   },
   "source": [
    "## Предобработка данных"
   ]
  },
  {
   "cell_type": "markdown",
   "id": "a2132542",
   "metadata": {
    "deletable": false,
    "editable": false,
    "id": "02d92d53"
   },
   "source": [
    "### Удаление пропусков"
   ]
  },
  {
   "cell_type": "markdown",
   "id": "5e00aaae",
   "metadata": {
    "deletable": false,
    "editable": false,
    "id": "cd84967c"
   },
   "source": [
    "**Задание 4. Выведите количество пропущенных значений для каждого столбца. Используйте комбинацию двух методов.**"
   ]
  },
  {
   "cell_type": "code",
   "execution_count": 4,
   "id": "d880f3c5",
   "metadata": {
    "deletable": false,
    "id": "7f9b2309",
    "outputId": "81f4d817-781c-465c-ed15-91ce4446810d"
   },
   "outputs": [
    {
     "data": {
      "text/plain": [
       "children               0\n",
       "days_employed       2174\n",
       "dob_years              0\n",
       "education              0\n",
       "education_id           0\n",
       "family_status          0\n",
       "family_status_id       0\n",
       "gender                 0\n",
       "income_type            0\n",
       "debt                   0\n",
       "total_income        2174\n",
       "purpose                0\n",
       "dtype: int64"
      ]
     },
     "execution_count": 4,
     "metadata": {},
     "output_type": "execute_result"
    }
   ],
   "source": [
    "data.isna().sum()"
   ]
  },
  {
   "cell_type": "markdown",
   "id": "6a982018",
   "metadata": {
    "deletable": false,
    "editable": false,
    "id": "db86e27b"
   },
   "source": [
    "**Задание 5. В двух столбцах есть пропущенные значения. Один из них — `days_employed`. Пропуски в этом столбце вы обработаете на следующем этапе. Другой столбец с пропущенными значениями — `total_income` — хранит данные о доходах. На сумму дохода сильнее всего влияет тип занятости, поэтому заполнить пропуски в этом столбце нужно медианным значением по каждому типу из столбца `income_type`. Например, у человека с типом занятости `сотрудник` пропуск в столбце `total_income` должен быть заполнен медианным доходом среди всех записей с тем же типом.**"
   ]
  },
  {
   "cell_type": "code",
   "execution_count": 5,
   "id": "d4087a6b",
   "metadata": {
    "deletable": false,
    "id": "42006a93"
   },
   "outputs": [],
   "source": [
    "for t in data['income_type'].unique():\n",
    "    data.loc[(data['income_type'] == t) & (data['total_income'].isna()), 'total_income'] = \\\n",
    "    data.loc[(data['income_type'] == t), 'total_income'].median()"
   ]
  },
  {
   "cell_type": "markdown",
   "id": "3d46a7f4",
   "metadata": {
    "deletable": false,
    "editable": false,
    "id": "89da5ece"
   },
   "source": [
    "### Обработка аномальных значений"
   ]
  },
  {
   "cell_type": "markdown",
   "id": "ac57a11d",
   "metadata": {
    "deletable": false,
    "editable": false,
    "id": "57964554"
   },
   "source": [
    "**Задание 6. В данных могут встречаться артефакты (аномалии) — значения, которые не отражают действительность и появились по какой-то ошибке. таким артефактом будет отрицательное количество дней трудового стажа в столбце `days_employed`. Для реальных данных это нормально. Обработайте значения в этом столбце: замените все отрицательные значения положительными с помощью метода `abs()`.**"
   ]
  },
  {
   "cell_type": "code",
   "execution_count": 6,
   "id": "da13faed",
   "metadata": {
    "deletable": false,
    "id": "f6f055bf"
   },
   "outputs": [],
   "source": [
    "data['days_employed'] = data['days_employed'].abs()"
   ]
  },
  {
   "cell_type": "markdown",
   "id": "33455c4b",
   "metadata": {
    "deletable": false,
    "editable": false,
    "id": "6107dd2f"
   },
   "source": [
    "**Задание 7. Для каждого типа занятости выведите медианное значение трудового стажа `days_employed` в днях.**"
   ]
  },
  {
   "cell_type": "code",
   "execution_count": 7,
   "id": "f09bf49b",
   "metadata": {
    "deletable": false,
    "id": "85a5faf6",
    "outputId": "801ef80e-522b-4668-f34e-565af7432bcf"
   },
   "outputs": [
    {
     "data": {
      "text/plain": [
       "income_type\n",
       "безработный        366413.652744\n",
       "в декрете            3296.759962\n",
       "госслужащий          2689.368353\n",
       "компаньон            1547.382223\n",
       "пенсионер          365213.306266\n",
       "предприниматель       520.848083\n",
       "сотрудник            1574.202821\n",
       "студент               578.751554\n",
       "Name: days_employed, dtype: float64"
      ]
     },
     "execution_count": 7,
     "metadata": {},
     "output_type": "execute_result"
    }
   ],
   "source": [
    "data.groupby('income_type')['days_employed'].agg('median')"
   ]
  },
  {
   "cell_type": "markdown",
   "id": "28cf5d81",
   "metadata": {
    "deletable": false,
    "editable": false,
    "id": "38d1a030"
   },
   "source": [
    "У двух типов (безработные и пенсионеры) получатся аномально большие значения. Исправить такие значения сложно, поэтому оставьте их как есть. Тем более этот столбец не понадобится вам для исследования."
   ]
  },
  {
   "cell_type": "markdown",
   "id": "32e82e91",
   "metadata": {
    "deletable": false,
    "editable": false,
    "id": "d8a9f147"
   },
   "source": [
    "**Задание 8. Выведите перечень уникальных значений столбца `children`.**"
   ]
  },
  {
   "cell_type": "code",
   "execution_count": 8,
   "id": "4b2c8bf1",
   "metadata": {
    "deletable": false,
    "id": "ef5056eb",
    "outputId": "6975b15c-7f95-4697-d16d-a0c79b657b03"
   },
   "outputs": [
    {
     "data": {
      "text/plain": [
       "array([ 1,  0,  3,  2, -1,  4, 20,  5])"
      ]
     },
     "execution_count": 8,
     "metadata": {},
     "output_type": "execute_result"
    }
   ],
   "source": [
    "data['children'].unique()"
   ]
  },
  {
   "cell_type": "markdown",
   "id": "76f036cc",
   "metadata": {
    "deletable": false,
    "editable": false,
    "id": "40b9ebf2"
   },
   "source": [
    "**Задание 9. В столбце `children` есть два аномальных значения. Удалите строки, в которых встречаются такие аномальные значения из датафрейма `data`.**"
   ]
  },
  {
   "cell_type": "code",
   "execution_count": 9,
   "id": "f964c26e",
   "metadata": {
    "deletable": false,
    "id": "3ff9801d"
   },
   "outputs": [],
   "source": [
    "data = data[(data['children'] != -1) & (data['children'] != 20)]"
   ]
  },
  {
   "cell_type": "markdown",
   "id": "8186e89b",
   "metadata": {
    "deletable": false,
    "editable": false,
    "id": "bbc4d0ce"
   },
   "source": [
    "**Задание 10. Ещё раз выведите перечень уникальных значений столбца `children`, чтобы убедиться, что артефакты удалены.**"
   ]
  },
  {
   "cell_type": "code",
   "execution_count": 10,
   "id": "2e0ba18e",
   "metadata": {
    "deletable": false,
    "id": "ad4fa8b7",
    "outputId": "b2097101-d49d-44d9-901b-32a65c9463d1"
   },
   "outputs": [
    {
     "data": {
      "text/plain": [
       "array([1, 0, 3, 2, 4, 5])"
      ]
     },
     "execution_count": 10,
     "metadata": {},
     "output_type": "execute_result"
    }
   ],
   "source": [
    "data['children'].unique()"
   ]
  },
  {
   "cell_type": "markdown",
   "id": "611b1088",
   "metadata": {
    "deletable": false,
    "editable": false,
    "id": "75440b63"
   },
   "source": [
    "### Удаление пропусков (продолжение)"
   ]
  },
  {
   "cell_type": "markdown",
   "id": "81ce2566",
   "metadata": {
    "deletable": false,
    "editable": false,
    "id": "f4ea573f"
   },
   "source": [
    "**Задание 11. Заполните пропуски в столбце `days_employed` медианными значениями по каждого типа занятости `income_type`.**"
   ]
  },
  {
   "cell_type": "code",
   "execution_count": 11,
   "id": "9cfc953e",
   "metadata": {
    "deletable": false,
    "id": "af6b1a7e"
   },
   "outputs": [],
   "source": [
    "for t in data['income_type'].unique():\n",
    "    data.loc[(data['income_type'] == t) & (data['days_employed'].isna()), 'days_employed'] = \\\n",
    "    data.loc[(data['income_type'] == t), 'days_employed'].median()"
   ]
  },
  {
   "cell_type": "markdown",
   "id": "3ae4604a",
   "metadata": {
    "deletable": false,
    "editable": false,
    "id": "2753f40d"
   },
   "source": [
    "**Задание 12. Убедитесь, что все пропуски заполнены. Проверьте себя и ещё раз выведите количество пропущенных значений для каждого столбца с помощью двух методов.**"
   ]
  },
  {
   "cell_type": "code",
   "execution_count": 12,
   "id": "61a6ca40",
   "metadata": {
    "deletable": false,
    "id": "55f78bc2",
    "outputId": "8da1e4e1-358e-4e87-98c9-f261bce0a7b2"
   },
   "outputs": [
    {
     "data": {
      "text/plain": [
       "children            0\n",
       "days_employed       0\n",
       "dob_years           0\n",
       "education           0\n",
       "education_id        0\n",
       "family_status       0\n",
       "family_status_id    0\n",
       "gender              0\n",
       "income_type         0\n",
       "debt                0\n",
       "total_income        0\n",
       "purpose             0\n",
       "dtype: int64"
      ]
     },
     "execution_count": 12,
     "metadata": {},
     "output_type": "execute_result"
    }
   ],
   "source": [
    "data.isna().sum()"
   ]
  },
  {
   "cell_type": "markdown",
   "id": "248b0262",
   "metadata": {
    "deletable": false,
    "editable": false,
    "id": "ddc81e43"
   },
   "source": [
    "### Изменение типов данных"
   ]
  },
  {
   "cell_type": "markdown",
   "id": "c508fe02",
   "metadata": {
    "deletable": false,
    "editable": false,
    "id": "42d19d24"
   },
   "source": [
    "**Задание 13. Замените вещественный тип данных в столбце `total_income` на целочисленный с помощью метода `astype()`.**"
   ]
  },
  {
   "cell_type": "code",
   "execution_count": 13,
   "id": "1fcdfefa",
   "metadata": {
    "deletable": false,
    "id": "920b65ad"
   },
   "outputs": [],
   "source": [
    "data['total_income'] = data['total_income'].astype(int)"
   ]
  },
  {
   "cell_type": "markdown",
   "id": "9c1e7df2",
   "metadata": {
    "deletable": false,
    "editable": false,
    "id": "80c420ba"
   },
   "source": [
    "### Обработка дубликатов"
   ]
  },
  {
   "cell_type": "markdown",
   "id": "d6dff0fa",
   "metadata": {
    "deletable": false,
    "editable": false
   },
   "source": [
    "**Задание 14. Обработайте неявные дубликаты в столбце `education`. В этом столбце есть одни и те же значения, но записанные по-разному: с использованием заглавных и строчных букв. Приведите их к нижнему регистру. Проверьте остальные столбцы.**"
   ]
  },
  {
   "cell_type": "code",
   "execution_count": 14,
   "id": "a630b122",
   "metadata": {
    "deletable": false
   },
   "outputs": [],
   "source": [
    "data['education'] = data['education'].str.lower()"
   ]
  },
  {
   "cell_type": "markdown",
   "id": "28f3b848",
   "metadata": {
    "deletable": false,
    "editable": false,
    "id": "dc587695"
   },
   "source": [
    "**Задание 15. Выведите на экран количество строк-дубликатов в данных. Если такие строки присутствуют, удалите их.**"
   ]
  },
  {
   "cell_type": "code",
   "execution_count": 15,
   "id": "bd067151",
   "metadata": {
    "deletable": false,
    "id": "3ee445e4",
    "outputId": "9684deba-1934-42d1-99e1-cda61740f822"
   },
   "outputs": [
    {
     "data": {
      "text/plain": [
       "71"
      ]
     },
     "execution_count": 15,
     "metadata": {},
     "output_type": "execute_result"
    }
   ],
   "source": [
    "data.duplicated().sum()"
   ]
  },
  {
   "cell_type": "code",
   "execution_count": 16,
   "id": "d5d59556",
   "metadata": {
    "deletable": false,
    "id": "8575fe05"
   },
   "outputs": [],
   "source": [
    "data = data.drop_duplicates()"
   ]
  },
  {
   "cell_type": "markdown",
   "id": "b25ff56e",
   "metadata": {
    "deletable": false,
    "editable": false,
    "id": "9904cf55"
   },
   "source": [
    "### Категоризация данных"
   ]
  },
  {
   "cell_type": "markdown",
   "id": "2a35d495",
   "metadata": {
    "deletable": false,
    "editable": false,
    "id": "72fcc8a2"
   },
   "source": [
    "**Задание 16. На основании диапазонов, указанных ниже, создайте в датафрейме `data` столбец `total_income_category` с категориями:**\n",
    "\n",
    "- 0–30000 — `'E'`;\n",
    "- 30001–50000 — `'D'`;\n",
    "- 50001–200000 — `'C'`;\n",
    "- 200001–1000000 — `'B'`;\n",
    "- 1000001 и выше — `'A'`.\n",
    "\n",
    "\n",
    "**Например, кредитополучателю с доходом 25000 нужно назначить категорию `'E'`, а клиенту, получающему 235000, — `'B'`. Используйте собственную функцию с именем `categorize_income()` и метод `apply()`.**"
   ]
  },
  {
   "cell_type": "code",
   "execution_count": 17,
   "id": "d58a5476",
   "metadata": {
    "deletable": false,
    "id": "e1771346"
   },
   "outputs": [],
   "source": [
    "def categorize_income(income):\n",
    "    try:\n",
    "        if 0 <= income <= 30000:\n",
    "            return 'E'\n",
    "        elif 30001 <= income <= 50000:\n",
    "            return 'D'\n",
    "        elif 50001 <= income <= 200000:\n",
    "            return 'C'\n",
    "        elif 200001 <= income <= 1000000:\n",
    "            return 'B'\n",
    "        elif income >= 1000001:\n",
    "            return 'A'\n",
    "    except:\n",
    "        pass"
   ]
  },
  {
   "cell_type": "code",
   "execution_count": 18,
   "id": "6f2b965d",
   "metadata": {
    "deletable": false,
    "id": "d5f3586d"
   },
   "outputs": [],
   "source": [
    "data['total_income_category'] = data['total_income'].apply(categorize_income)"
   ]
  },
  {
   "cell_type": "markdown",
   "id": "5a31c566",
   "metadata": {
    "deletable": false,
    "editable": false,
    "id": "dde49b5c"
   },
   "source": [
    "**Задание 17. Выведите на экран перечень уникальных целей взятия кредита из столбца `purpose`.**"
   ]
  },
  {
   "cell_type": "code",
   "execution_count": 19,
   "id": "266406b9",
   "metadata": {
    "deletable": false,
    "id": "f67ce9b3",
    "outputId": "673c12d9-7d7e-4ae0-9812-c622c89dd244"
   },
   "outputs": [
    {
     "data": {
      "text/plain": [
       "array(['покупка жилья', 'приобретение автомобиля',\n",
       "       'дополнительное образование', 'сыграть свадьбу',\n",
       "       'операции с жильем', 'образование', 'на проведение свадьбы',\n",
       "       'покупка жилья для семьи', 'покупка недвижимости',\n",
       "       'покупка коммерческой недвижимости', 'покупка жилой недвижимости',\n",
       "       'строительство собственной недвижимости', 'недвижимость',\n",
       "       'строительство недвижимости', 'на покупку подержанного автомобиля',\n",
       "       'на покупку своего автомобиля',\n",
       "       'операции с коммерческой недвижимостью',\n",
       "       'строительство жилой недвижимости', 'жилье',\n",
       "       'операции со своей недвижимостью', 'автомобили',\n",
       "       'заняться образованием', 'сделка с подержанным автомобилем',\n",
       "       'получение образования', 'автомобиль', 'свадьба',\n",
       "       'получение дополнительного образования', 'покупка своего жилья',\n",
       "       'операции с недвижимостью', 'получение высшего образования',\n",
       "       'свой автомобиль', 'сделка с автомобилем',\n",
       "       'профильное образование', 'высшее образование',\n",
       "       'покупка жилья для сдачи', 'на покупку автомобиля', 'ремонт жилью',\n",
       "       'заняться высшим образованием'], dtype=object)"
      ]
     },
     "execution_count": 19,
     "metadata": {},
     "output_type": "execute_result"
    }
   ],
   "source": [
    "data['purpose'].unique()"
   ]
  },
  {
   "cell_type": "markdown",
   "id": "84dffb39",
   "metadata": {
    "deletable": false,
    "editable": false,
    "id": "85d0aef0"
   },
   "source": [
    "**Задание 18. Создайте функцию, которая на основании данных из столбца `purpose` сформирует новый столбец `purpose_category`, в который войдут следующие категории:**\n",
    "\n",
    "- `'операции с автомобилем'`,\n",
    "- `'операции с недвижимостью'`,\n",
    "- `'проведение свадьбы'`,\n",
    "- `'получение образования'`.\n",
    "\n",
    "**Например, если в столбце `purpose` находится подстрока `'на покупку автомобиля'`, то в столбце `purpose_category` должна появиться строка `'операции с автомобилем'`.**\n",
    "\n",
    "**Используйте собственную функцию с именем `categorize_purpose()` и метод `apply()`. Изучите данные в столбце `purpose` и определите, какие подстроки помогут вам правильно определить категорию.**"
   ]
  },
  {
   "cell_type": "code",
   "execution_count": 20,
   "id": "ce222737",
   "metadata": {
    "deletable": false,
    "id": "e149fab4"
   },
   "outputs": [],
   "source": [
    "def categorize_purpose(row):\n",
    "    try:\n",
    "        if 'автом' in row:\n",
    "            return 'операции с автомобилем'\n",
    "        elif 'жил' in row or 'недвиж' in row:\n",
    "            return 'операции с недвижимостью'\n",
    "        elif 'свад' in row:\n",
    "            return 'проведение свадьбы'\n",
    "        elif 'образов' in row:\n",
    "            return 'получение образования'\n",
    "    except:\n",
    "        return 'нет категории'"
   ]
  },
  {
   "cell_type": "code",
   "execution_count": 21,
   "id": "09ba33e6",
   "metadata": {
    "deletable": false,
    "id": "bf36e69b"
   },
   "outputs": [],
   "source": [
    "data['purpose_category'] = data['purpose'].apply(categorize_purpose)"
   ]
  },
  {
   "cell_type": "markdown",
   "id": "e7467c28",
   "metadata": {
    "deletable": false,
    "editable": false,
    "id": "09b242bf"
   },
   "source": [
    "### Шаг 3. Исследуйте данные и ответьте на вопросы"
   ]
  },
  {
   "cell_type": "markdown",
   "id": "0e59cc75",
   "metadata": {
    "deletable": false,
    "editable": false,
    "id": "c5d66278"
   },
   "source": [
    "#### 3.1 Есть ли зависимость между количеством детей и возвратом кредита в срок?"
   ]
  },
  {
   "cell_type": "code",
   "execution_count": 22,
   "id": "fae320e8",
   "metadata": {
    "deletable": false,
    "id": "2cacfc4a"
   },
   "outputs": [
    {
     "data": {
      "text/plain": [
       "array([0, 1])"
      ]
     },
     "execution_count": 22,
     "metadata": {},
     "output_type": "execute_result"
    }
   ],
   "source": [
    "# Ознакомимся с данными. Проверим, какие значения содержатся в столбце с информацией о задолженности. Если 0 и 1, значит,данные \n",
    "#заполнены корректно. \n",
    "\n",
    "data['debt'].unique()"
   ]
  },
  {
   "cell_type": "code",
   "execution_count": 23,
   "id": "1f80cbf4",
   "metadata": {},
   "outputs": [
    {
     "data": {
      "text/html": [
       "<div>\n",
       "<style scoped>\n",
       "    .dataframe tbody tr th:only-of-type {\n",
       "        vertical-align: middle;\n",
       "    }\n",
       "\n",
       "    .dataframe tbody tr th {\n",
       "        vertical-align: top;\n",
       "    }\n",
       "\n",
       "    .dataframe thead tr th {\n",
       "        text-align: left;\n",
       "    }\n",
       "\n",
       "    .dataframe thead tr:last-of-type th {\n",
       "        text-align: right;\n",
       "    }\n",
       "</style>\n",
       "<table border=\"1\" class=\"dataframe\">\n",
       "  <thead>\n",
       "    <tr>\n",
       "      <th></th>\n",
       "      <th>sum</th>\n",
       "      <th>count</th>\n",
       "      <th>percent_debt</th>\n",
       "    </tr>\n",
       "    <tr>\n",
       "      <th></th>\n",
       "      <th>debt</th>\n",
       "      <th>debt</th>\n",
       "      <th></th>\n",
       "    </tr>\n",
       "    <tr>\n",
       "      <th>children</th>\n",
       "      <th></th>\n",
       "      <th></th>\n",
       "      <th></th>\n",
       "    </tr>\n",
       "  </thead>\n",
       "  <tbody>\n",
       "    <tr>\n",
       "      <th>0</th>\n",
       "      <td>1063</td>\n",
       "      <td>14091</td>\n",
       "      <td>7.54</td>\n",
       "    </tr>\n",
       "    <tr>\n",
       "      <th>1</th>\n",
       "      <td>444</td>\n",
       "      <td>4808</td>\n",
       "      <td>9.23</td>\n",
       "    </tr>\n",
       "    <tr>\n",
       "      <th>2</th>\n",
       "      <td>194</td>\n",
       "      <td>2052</td>\n",
       "      <td>9.45</td>\n",
       "    </tr>\n",
       "    <tr>\n",
       "      <th>3</th>\n",
       "      <td>27</td>\n",
       "      <td>330</td>\n",
       "      <td>8.18</td>\n",
       "    </tr>\n",
       "    <tr>\n",
       "      <th>4</th>\n",
       "      <td>4</td>\n",
       "      <td>41</td>\n",
       "      <td>9.76</td>\n",
       "    </tr>\n",
       "    <tr>\n",
       "      <th>5</th>\n",
       "      <td>0</td>\n",
       "      <td>9</td>\n",
       "      <td>0.00</td>\n",
       "    </tr>\n",
       "  </tbody>\n",
       "</table>\n",
       "</div>"
      ],
      "text/plain": [
       "           sum  count percent_debt\n",
       "          debt   debt             \n",
       "children                          \n",
       "0         1063  14091         7.54\n",
       "1          444   4808         9.23\n",
       "2          194   2052         9.45\n",
       "3           27    330         8.18\n",
       "4            4     41         9.76\n",
       "5            0      9         0.00"
      ]
     },
     "execution_count": 23,
     "metadata": {},
     "output_type": "execute_result"
    }
   ],
   "source": [
    "data_children = data.pivot_table(index=['children'], values=['debt'], aggfunc=['sum', 'count'])\n",
    "data_children['percent_debt'] = round(data_children['sum'] / data_children['count'] * 100, 2)\n",
    "data_children"
   ]
  },
  {
   "cell_type": "markdown",
   "id": "52ea323a",
   "metadata": {
    "deletable": false,
    "id": "3a6b99ec"
   },
   "source": [
    "**Вывод:** \n",
    "\n",
    "\n",
    "Проведенное исследование показало, что среди заемщиков не имеющих детей и имеющих от одного до четырех детей, наименьшее количество должников в категории без детей. При этом, в категории с количеством детей равным 5, должников - 0%. Но нужно учесть, что в этой категории имеется всего 9 записей, при общем размере анализируемых данных более двадцати тысяч. \n",
    "\n",
    "По выборкам по с количеством детей от 1 до 4 мы имеем следующую картину:\n",
    "- У заёмщиков с двумя детьми процент должников на 0,22% больше, чем у тех, кто имеет одного ребенка\n",
    "- У заемщиков с 9,76% должников, что на 0,31% больше, чем у тех, кто имеет двоих детей\n",
    "- Категория заёмщиков с тремя детьми нарушает эту последовательность, т.к. процент должников в этой категории существенно ниже, чем в других категориях с детьми. \n",
    "\n",
    "В результате можем сделать вывод, что отчасти зависимость между количеством детей и сроком возврата кредита прослеживается, если рассматривать категории, по которым имеем наибольшее количество данных (от 0 до 2 детей). Для получения же более точных выводов необходимо большее количество наблюдений по клиентам из категорий с 3, 4 и 5 детьми."
   ]
  },
  {
   "cell_type": "markdown",
   "id": "07175d5a",
   "metadata": {
    "deletable": false,
    "editable": false,
    "id": "97be82ca"
   },
   "source": [
    "#### 3.2 Есть ли зависимость между семейным положением и возвратом кредита в срок?"
   ]
  },
  {
   "cell_type": "code",
   "execution_count": 31,
   "id": "85bac6e3",
   "metadata": {
    "deletable": false,
    "id": "dc3f7ee8",
    "scrolled": false
   },
   "outputs": [
    {
     "data": {
      "text/html": [
       "<div>\n",
       "<style scoped>\n",
       "    .dataframe tbody tr th:only-of-type {\n",
       "        vertical-align: middle;\n",
       "    }\n",
       "\n",
       "    .dataframe tbody tr th {\n",
       "        vertical-align: top;\n",
       "    }\n",
       "\n",
       "    .dataframe thead tr th {\n",
       "        text-align: left;\n",
       "    }\n",
       "\n",
       "    .dataframe thead tr:last-of-type th {\n",
       "        text-align: right;\n",
       "    }\n",
       "</style>\n",
       "<table border=\"1\" class=\"dataframe\">\n",
       "  <thead>\n",
       "    <tr>\n",
       "      <th></th>\n",
       "      <th>sum</th>\n",
       "      <th>count</th>\n",
       "      <th>percent_debt</th>\n",
       "    </tr>\n",
       "    <tr>\n",
       "      <th></th>\n",
       "      <th>debt</th>\n",
       "      <th>debt</th>\n",
       "      <th></th>\n",
       "    </tr>\n",
       "    <tr>\n",
       "      <th>family_status</th>\n",
       "      <th></th>\n",
       "      <th></th>\n",
       "      <th></th>\n",
       "    </tr>\n",
       "  </thead>\n",
       "  <tbody>\n",
       "    <tr>\n",
       "      <th>Не женат / не замужем</th>\n",
       "      <td>273</td>\n",
       "      <td>2796</td>\n",
       "      <td>9.76</td>\n",
       "    </tr>\n",
       "    <tr>\n",
       "      <th>в разводе</th>\n",
       "      <td>84</td>\n",
       "      <td>1189</td>\n",
       "      <td>7.06</td>\n",
       "    </tr>\n",
       "    <tr>\n",
       "      <th>вдовец / вдова</th>\n",
       "      <td>63</td>\n",
       "      <td>951</td>\n",
       "      <td>6.62</td>\n",
       "    </tr>\n",
       "    <tr>\n",
       "      <th>гражданский брак</th>\n",
       "      <td>385</td>\n",
       "      <td>4134</td>\n",
       "      <td>9.31</td>\n",
       "    </tr>\n",
       "    <tr>\n",
       "      <th>женат / замужем</th>\n",
       "      <td>927</td>\n",
       "      <td>12261</td>\n",
       "      <td>7.56</td>\n",
       "    </tr>\n",
       "  </tbody>\n",
       "</table>\n",
       "</div>"
      ],
      "text/plain": [
       "                       sum  count percent_debt\n",
       "                      debt   debt             \n",
       "family_status                                 \n",
       "Не женат / не замужем  273   2796         9.76\n",
       "в разводе               84   1189         7.06\n",
       "вдовец / вдова          63    951         6.62\n",
       "гражданский брак       385   4134         9.31\n",
       "женат / замужем        927  12261         7.56"
      ]
     },
     "execution_count": 31,
     "metadata": {},
     "output_type": "execute_result"
    }
   ],
   "source": [
    "data_status = data.pivot_table(index=['family_status'], values=['debt'], aggfunc=['sum', 'count'])\n",
    "data_status['percent_debt'] = round(data_status['sum'] / data_status['count'] * 100, 2)\n",
    "data_status"
   ]
  },
  {
   "cell_type": "markdown",
   "id": "3a5b3e7e",
   "metadata": {
    "deletable": false,
    "id": "1cef7837"
   },
   "source": [
    "**Вывод:** \n",
    "\n",
    "В данном иссследовании мы делили заемщиков на группы по семейному статусу. Из полученных данных можно сделать следующие выводы:\n",
    "\n",
    "Заемщики, которые никогда не вступали в брак (категории: \"не женат / не замужем\" и \"гражданский брак\"), иемют процент должников существенно выше, чем заемщики, которые в настоящее время или ранее состояли в официальном браке (категории: \"женат / замужем\", \"вдовец / вдова\", \"в разводе\")."
   ]
  },
  {
   "cell_type": "markdown",
   "id": "1a21cfa8",
   "metadata": {
    "deletable": false,
    "editable": false,
    "id": "1e8b2fca"
   },
   "source": [
    "#### 3.3 Есть ли зависимость между уровнем дохода и возвратом кредита в срок?"
   ]
  },
  {
   "cell_type": "code",
   "execution_count": 30,
   "id": "170980f6",
   "metadata": {
    "deletable": false,
    "id": "cd7e3720"
   },
   "outputs": [
    {
     "data": {
      "text/html": [
       "<div>\n",
       "<style scoped>\n",
       "    .dataframe tbody tr th:only-of-type {\n",
       "        vertical-align: middle;\n",
       "    }\n",
       "\n",
       "    .dataframe tbody tr th {\n",
       "        vertical-align: top;\n",
       "    }\n",
       "\n",
       "    .dataframe thead tr th {\n",
       "        text-align: left;\n",
       "    }\n",
       "\n",
       "    .dataframe thead tr:last-of-type th {\n",
       "        text-align: right;\n",
       "    }\n",
       "</style>\n",
       "<table border=\"1\" class=\"dataframe\">\n",
       "  <thead>\n",
       "    <tr>\n",
       "      <th></th>\n",
       "      <th>sum</th>\n",
       "      <th>count</th>\n",
       "      <th>percent_debt</th>\n",
       "    </tr>\n",
       "    <tr>\n",
       "      <th></th>\n",
       "      <th>debt</th>\n",
       "      <th>debt</th>\n",
       "      <th></th>\n",
       "    </tr>\n",
       "    <tr>\n",
       "      <th>total_income_category</th>\n",
       "      <th></th>\n",
       "      <th></th>\n",
       "      <th></th>\n",
       "    </tr>\n",
       "  </thead>\n",
       "  <tbody>\n",
       "    <tr>\n",
       "      <th>A</th>\n",
       "      <td>2</td>\n",
       "      <td>25</td>\n",
       "      <td>8.00</td>\n",
       "    </tr>\n",
       "    <tr>\n",
       "      <th>B</th>\n",
       "      <td>354</td>\n",
       "      <td>5014</td>\n",
       "      <td>7.06</td>\n",
       "    </tr>\n",
       "    <tr>\n",
       "      <th>C</th>\n",
       "      <td>1353</td>\n",
       "      <td>15921</td>\n",
       "      <td>8.50</td>\n",
       "    </tr>\n",
       "    <tr>\n",
       "      <th>D</th>\n",
       "      <td>21</td>\n",
       "      <td>349</td>\n",
       "      <td>6.02</td>\n",
       "    </tr>\n",
       "    <tr>\n",
       "      <th>E</th>\n",
       "      <td>2</td>\n",
       "      <td>22</td>\n",
       "      <td>9.09</td>\n",
       "    </tr>\n",
       "  </tbody>\n",
       "</table>\n",
       "</div>"
      ],
      "text/plain": [
       "                        sum  count percent_debt\n",
       "                       debt   debt             \n",
       "total_income_category                          \n",
       "A                         2     25         8.00\n",
       "B                       354   5014         7.06\n",
       "C                      1353  15921         8.50\n",
       "D                        21    349         6.02\n",
       "E                         2     22         9.09"
      ]
     },
     "execution_count": 30,
     "metadata": {},
     "output_type": "execute_result"
    }
   ],
   "source": [
    "data_income = data.pivot_table(index=['total_income_category'], values=['debt'], aggfunc=['sum', 'count'])\n",
    "data_income['percent_debt'] = round(data_income['sum'] / data_income['count'] * 100, 2)\n",
    "data_income"
   ]
  },
  {
   "cell_type": "markdown",
   "id": "46815e50",
   "metadata": {
    "deletable": false,
    "id": "e8593def"
   },
   "source": [
    "**Вывод:** \n",
    "\n",
    "Из полученных данных видно, что процент должников в категории заемщиков с наименьшим доходом (кат. E) превышает остальные категории. Но в категории А процент должников также достаточно велик, хотя это категория заемщиков с самым большим доходом, превышающим 1 млн. руб. в месяц. Между категориями C и B соотношение должников распределилось с разницей примерно в 1,5% в пользу категории B. В целом, из полученных данных мы не можем сделать вывод о прямой зависимости между уровнем дохода и возвратом кредита в срок. Но, нужно учесть, что выборки в категориях A, D и E в сотни раз меньше, чем в категориях B и C. \n",
    "Вполне возможно, что при анализе сопоставимых по размеру выборок, мы получим другие данные и сможем увидеть зависимость количества должников от уровня дохода."
   ]
  },
  {
   "cell_type": "markdown",
   "id": "c2f90fa5",
   "metadata": {
    "deletable": false,
    "editable": false,
    "id": "99ecbd1f"
   },
   "source": [
    "#### 3.4 Как разные цели кредита влияют на его возврат в срок?"
   ]
  },
  {
   "cell_type": "code",
   "execution_count": 32,
   "id": "f7172200",
   "metadata": {
    "deletable": false,
    "id": "2b687290"
   },
   "outputs": [
    {
     "data": {
      "text/html": [
       "<div>\n",
       "<style scoped>\n",
       "    .dataframe tbody tr th:only-of-type {\n",
       "        vertical-align: middle;\n",
       "    }\n",
       "\n",
       "    .dataframe tbody tr th {\n",
       "        vertical-align: top;\n",
       "    }\n",
       "\n",
       "    .dataframe thead tr th {\n",
       "        text-align: left;\n",
       "    }\n",
       "\n",
       "    .dataframe thead tr:last-of-type th {\n",
       "        text-align: right;\n",
       "    }\n",
       "</style>\n",
       "<table border=\"1\" class=\"dataframe\">\n",
       "  <thead>\n",
       "    <tr>\n",
       "      <th></th>\n",
       "      <th>sum</th>\n",
       "      <th>count</th>\n",
       "      <th>percent_debt</th>\n",
       "    </tr>\n",
       "    <tr>\n",
       "      <th></th>\n",
       "      <th>debt</th>\n",
       "      <th>debt</th>\n",
       "      <th></th>\n",
       "    </tr>\n",
       "    <tr>\n",
       "      <th>purpose_category</th>\n",
       "      <th></th>\n",
       "      <th></th>\n",
       "      <th></th>\n",
       "    </tr>\n",
       "  </thead>\n",
       "  <tbody>\n",
       "    <tr>\n",
       "      <th>операции с автомобилем</th>\n",
       "      <td>400</td>\n",
       "      <td>4279</td>\n",
       "      <td>9.35</td>\n",
       "    </tr>\n",
       "    <tr>\n",
       "      <th>операции с недвижимостью</th>\n",
       "      <td>780</td>\n",
       "      <td>10751</td>\n",
       "      <td>7.26</td>\n",
       "    </tr>\n",
       "    <tr>\n",
       "      <th>получение образования</th>\n",
       "      <td>369</td>\n",
       "      <td>3988</td>\n",
       "      <td>9.25</td>\n",
       "    </tr>\n",
       "    <tr>\n",
       "      <th>проведение свадьбы</th>\n",
       "      <td>183</td>\n",
       "      <td>2313</td>\n",
       "      <td>7.91</td>\n",
       "    </tr>\n",
       "  </tbody>\n",
       "</table>\n",
       "</div>"
      ],
      "text/plain": [
       "                          sum  count percent_debt\n",
       "                         debt   debt             \n",
       "purpose_category                                 \n",
       "операции с автомобилем    400   4279         9.35\n",
       "операции с недвижимостью  780  10751         7.26\n",
       "получение образования     369   3988         9.25\n",
       "проведение свадьбы        183   2313         7.91"
      ]
     },
     "execution_count": 32,
     "metadata": {},
     "output_type": "execute_result"
    }
   ],
   "source": [
    "data_purpose = data.pivot_table(index=['purpose_category'], values=['debt'], aggfunc=['sum', 'count'])\n",
    "data_purpose['percent_debt'] = round(data_purpose['sum'] / data_purpose['count'] * 100, 2)\n",
    "data_purpose"
   ]
  },
  {
   "cell_type": "markdown",
   "id": "0f33400d",
   "metadata": {
    "deletable": false,
    "id": "b4bb2ce6"
   },
   "source": [
    "**Вывод:** \n",
    "Исследование показало, что процент должников в категориях \"операции с автомобилем\" и \"получение образования\" чуть выше, чем в оставшихся двух категориях. Разница составляет: 1,5-2%."
   ]
  },
  {
   "cell_type": "markdown",
   "id": "15fb30f3",
   "metadata": {
    "deletable": false,
    "editable": false,
    "id": "09c3ac4c"
   },
   "source": [
    "#### 3.5 Приведите возможные причины появления пропусков в исходных данных."
   ]
  },
  {
   "cell_type": "markdown",
   "id": "993429c2",
   "metadata": {
    "deletable": false,
    "id": "9da2ceda"
   },
   "source": [
    "*Ответ:*\n",
    "\n",
    "Пропуски были обнаружены в столбцах, содержащих общий трудовой стаж в днях (days_employed) и ежемесячный доход (total_income). Количество пропусков в этих столбцах равно и составляет 2174. Можно предположить, что в датасет занесены только те данные, которые подтверждены справкой 2-НДФЛ, а сотрудники, по которым есть пропуски, такую справку не предоставили. Другой возможный вариант - сбой в работе системы, в результате которого не подтянулись данные из другой системы. Чтобы определить точную причину, нужно выяснить, каким образом заполняются данные по доходам и стажу."
   ]
  },
  {
   "cell_type": "markdown",
   "id": "36c6b00f",
   "metadata": {
    "deletable": false,
    "editable": false,
    "id": "7b0487d6"
   },
   "source": [
    "#### 3.6 Объясните, почему заполнить пропуски медианным значением — лучшее решение для количественных переменных."
   ]
  },
  {
   "cell_type": "markdown",
   "id": "d16c7f15",
   "metadata": {
    "deletable": false,
    "id": "7ecf2b8e"
   },
   "source": [
    "*Ответ:* \n",
    "\n",
    "Пропуски в количественных переменных сильно влияют на результат анализа данных и приводят в неверной интерпретации. Чтобы этого не допустить принято заполнять пропуски средним арифметическим или медианным значением. В исследуемом нами наборе данных пропуски были выявлены в столбцах, содежащих количество дней трудового стажа и размер ежемесячного дохода. В этих столбцах есть данные, которые сильно выделяются среди большинства. В таких случаях среднее значение даёт некорректную характеристику данных, поэтому для заполнения пропусков мы применили медианное значение."
   ]
  },
  {
   "cell_type": "markdown",
   "id": "1618cc26",
   "metadata": {
    "deletable": false,
    "editable": false,
    "id": "6db5255a"
   },
   "source": [
    "### Шаг 4: общий вывод."
   ]
  },
  {
   "cell_type": "markdown",
   "id": "498e9710",
   "metadata": {
    "deletable": false,
    "id": "bad65432"
   },
   "source": [
    "В данном проекте было проведено исследование надежности заемщиков банка. Входные данные от банка - статистика о платежеспособности клиентов. Результаты иссследования будут учтены при построении модели кредитного скоринга - — специальной системы, которая оценивает способность потенциального заёмщика вернуть кредит банку.\n",
    "\n",
    "Целью исследования является проверка нескольких гипотез:\n",
    "\n",
    "- Гипотеза 1: количество детей влияет на факт погашения кредита в срок;\n",
    "- Гипотеза 2: семейное положение влияет на факт погашения кредита в срок;\n",
    "- Гипотеза 3: уровень дохода влияет на факт погашения кредита в срок;\n",
    "- Гипотеза 4: цель кредита влияет на факт погашения кредита в срок;\n",
    "\n",
    "В результате проверки гипотез мы установили:\n",
    "\n",
    "**Гипотеза 1 частично подтверждена:**\n",
    "\n",
    "- 7,54% доля просроченных кредитов у заемщиков без детей;\n",
    "- 9,23% доля просроченных кредитов у заемщиков с одним ребенком;\n",
    "- 9,45% доля просроченных кредитов у заемщиков с двумя детьми.\n",
    "\n",
    "Для более точных выводов необходимо больше данных по клиентам с 3, 4 и 5 детьми.\n",
    "\n",
    "Рекомендация: провести дополнительное исследование на большей выборке данных.\n",
    "\n",
    "**Гипотеза 2 подтверждена:**\n",
    "\n",
    "- Заемщики из категорий \"не женат/не замужем\" (9,76%) и \"гражданский брак\" (9,31%) иемют процент должников существенно выше, чем заемщики, которые в настоящее время или ранее состояли в официальном браке, из категорий \"женат/замужем\" (7,56%), \"вдовец/вдова\" (6,62%), \"в разводе\"(7,06%).\n",
    "\n",
    "**Гипотеза 3 частично подтверждена:**\n",
    "\n",
    "7,06% - доля просроченных кредитов у клиентов с уровнем дохода от 200.001 до 1.000.000\n",
    "8,50% - доля просроченных кредитов у клиентов с уровнем дохода от до 50.001 до 200.000\n",
    "\n",
    "Для более точных выводов необходимо больше данных по клиентам с уровнем дохода категорий A (до 30.000), E(от 1.000.001) и D(от 30.001 до 50.000).\n",
    "\n",
    "Рекомендация: провести дополнительное исследование на большей выборке данных.\n",
    "\n",
    "**Гипотеза 4 подтверждена:**\n",
    "\n",
    "9,35% - доля просроченных кредитов, целью которых были операции с автомобилями\n",
    "9,25% - доля просроченных кредитов, целью которых было получение образования\n",
    "7,91% - доля просроченных кредитов, целью которых было проведение свадьбы\n",
    "7,26% - доля просроченных кредитов, целью которых были операции с недвижимостью\n",
    "\n",
    "**Общие рекомендации:**\n",
    "\n",
    "1. Для построения модели кредитного скоринга можно использовать зависимости из второй и четвертой гипотез (семейное положение и цели кредита)\n",
    "\n",
    "2. Необходимо собрать более полную выборку для повторной проверки первой и третьей гипотез.\n"
   ]
  }
 ],
 "metadata": {
  "ExecuteTimeLog": [
   {
    "duration": 86,
    "start_time": "2022-09-12T08:02:50.403Z"
   },
   {
    "duration": 481,
    "start_time": "2022-09-12T08:03:08.111Z"
   },
   {
    "duration": 34,
    "start_time": "2022-09-12T08:03:08.594Z"
   },
   {
    "duration": 19,
    "start_time": "2022-09-12T08:03:08.630Z"
   },
   {
    "duration": 21,
    "start_time": "2022-09-12T08:03:08.654Z"
   },
   {
    "duration": 33,
    "start_time": "2022-09-12T08:03:08.676Z"
   },
   {
    "duration": 5,
    "start_time": "2022-09-12T08:03:08.710Z"
   },
   {
    "duration": 13,
    "start_time": "2022-09-12T08:03:08.717Z"
   },
   {
    "duration": 4,
    "start_time": "2022-09-12T08:03:08.732Z"
   },
   {
    "duration": 24,
    "start_time": "2022-09-12T08:03:08.737Z"
   },
   {
    "duration": 5,
    "start_time": "2022-09-12T08:03:08.764Z"
   },
   {
    "duration": 53,
    "start_time": "2022-09-12T08:03:08.770Z"
   },
   {
    "duration": 12,
    "start_time": "2022-09-12T08:03:08.825Z"
   },
   {
    "duration": 22,
    "start_time": "2022-09-12T08:03:08.839Z"
   },
   {
    "duration": 24,
    "start_time": "2022-09-12T08:03:08.863Z"
   },
   {
    "duration": 21,
    "start_time": "2022-09-12T08:03:08.889Z"
   },
   {
    "duration": 18,
    "start_time": "2022-09-12T08:03:08.912Z"
   },
   {
    "duration": 4,
    "start_time": "2022-09-12T08:03:08.931Z"
   },
   {
    "duration": 24,
    "start_time": "2022-09-12T08:03:08.937Z"
   },
   {
    "duration": 9,
    "start_time": "2022-09-12T08:03:08.965Z"
   },
   {
    "duration": 6,
    "start_time": "2022-09-12T08:03:08.976Z"
   },
   {
    "duration": 12,
    "start_time": "2022-09-12T08:03:08.983Z"
   },
   {
    "duration": 7,
    "start_time": "2022-09-12T08:03:08.997Z"
   },
   {
    "duration": 8,
    "start_time": "2022-09-12T08:03:09.006Z"
   },
   {
    "duration": 16,
    "start_time": "2022-09-12T08:03:09.016Z"
   },
   {
    "duration": 15,
    "start_time": "2022-09-12T08:03:09.034Z"
   },
   {
    "duration": 5,
    "start_time": "2022-09-12T08:03:32.668Z"
   },
   {
    "duration": 18,
    "start_time": "2022-09-12T08:06:29.153Z"
   },
   {
    "duration": 19,
    "start_time": "2022-09-12T08:06:47.652Z"
   },
   {
    "duration": 6,
    "start_time": "2022-09-12T08:08:27.714Z"
   },
   {
    "duration": 15,
    "start_time": "2022-09-12T08:08:41.048Z"
   },
   {
    "duration": 15,
    "start_time": "2022-09-12T08:22:28.980Z"
   },
   {
    "duration": 1300,
    "start_time": "2022-09-12T08:23:57.540Z"
   },
   {
    "duration": 16,
    "start_time": "2022-09-12T08:24:21.228Z"
   },
   {
    "duration": 12,
    "start_time": "2022-09-12T08:25:54.777Z"
   },
   {
    "duration": 24,
    "start_time": "2022-09-12T08:27:09.344Z"
   },
   {
    "duration": 18,
    "start_time": "2022-09-12T08:27:26.819Z"
   },
   {
    "duration": 10,
    "start_time": "2022-09-12T08:28:27.943Z"
   },
   {
    "duration": 14,
    "start_time": "2022-09-12T08:38:12.117Z"
   },
   {
    "duration": 6,
    "start_time": "2022-09-12T08:39:01.032Z"
   },
   {
    "duration": 6,
    "start_time": "2022-09-12T08:44:26.676Z"
   },
   {
    "duration": 4,
    "start_time": "2022-09-12T08:53:05.287Z"
   },
   {
    "duration": 5,
    "start_time": "2022-09-12T08:55:32.518Z"
   },
   {
    "duration": 15,
    "start_time": "2022-09-12T09:03:12.635Z"
   },
   {
    "duration": 8,
    "start_time": "2022-09-12T09:03:38.344Z"
   },
   {
    "duration": 6,
    "start_time": "2022-09-12T09:03:54.953Z"
   },
   {
    "duration": 6,
    "start_time": "2022-09-12T09:04:10.447Z"
   },
   {
    "duration": 23,
    "start_time": "2022-09-12T13:43:41.365Z"
   },
   {
    "duration": 9,
    "start_time": "2022-09-12T13:46:33.908Z"
   },
   {
    "duration": 12,
    "start_time": "2022-09-12T13:47:06.140Z"
   },
   {
    "duration": 7,
    "start_time": "2022-09-12T13:48:04.124Z"
   },
   {
    "duration": 9,
    "start_time": "2022-09-12T13:49:06.234Z"
   },
   {
    "duration": 7,
    "start_time": "2022-09-12T13:49:49.394Z"
   },
   {
    "duration": 7,
    "start_time": "2022-09-12T13:50:07.961Z"
   },
   {
    "duration": 7,
    "start_time": "2022-09-12T13:50:27.716Z"
   },
   {
    "duration": 7,
    "start_time": "2022-09-12T13:50:44.720Z"
   },
   {
    "duration": 5,
    "start_time": "2022-09-12T14:12:03.692Z"
   },
   {
    "duration": 7,
    "start_time": "2022-09-12T14:12:33.556Z"
   },
   {
    "duration": 7,
    "start_time": "2022-09-12T14:15:51.930Z"
   },
   {
    "duration": 2,
    "start_time": "2022-09-12T14:17:33.505Z"
   },
   {
    "duration": 4,
    "start_time": "2022-09-12T14:17:50.600Z"
   },
   {
    "duration": 3,
    "start_time": "2022-09-12T14:19:19.815Z"
   },
   {
    "duration": 5,
    "start_time": "2022-09-12T14:40:00.731Z"
   },
   {
    "duration": 5,
    "start_time": "2022-09-12T14:40:14.530Z"
   },
   {
    "duration": 14,
    "start_time": "2022-09-12T14:47:01.559Z"
   },
   {
    "duration": 968,
    "start_time": "2022-09-12T14:47:20.631Z"
   },
   {
    "duration": 18,
    "start_time": "2022-09-12T14:48:26.110Z"
   },
   {
    "duration": 116,
    "start_time": "2022-09-12T14:48:29.070Z"
   },
   {
    "duration": 98,
    "start_time": "2022-09-12T14:50:39.572Z"
   },
   {
    "duration": 16,
    "start_time": "2022-09-12T14:51:24.516Z"
   },
   {
    "duration": 655,
    "start_time": "2022-09-12T14:51:26.763Z"
   },
   {
    "duration": 44,
    "start_time": "2022-09-12T18:05:18.483Z"
   },
   {
    "duration": 6,
    "start_time": "2022-09-12T18:05:42.792Z"
   },
   {
    "duration": 459,
    "start_time": "2022-09-12T18:05:56.755Z"
   },
   {
    "duration": 21,
    "start_time": "2022-09-12T18:05:57.216Z"
   },
   {
    "duration": 14,
    "start_time": "2022-09-12T18:05:57.239Z"
   },
   {
    "duration": 9,
    "start_time": "2022-09-12T18:05:57.255Z"
   },
   {
    "duration": 45,
    "start_time": "2022-09-12T18:05:57.265Z"
   },
   {
    "duration": 15,
    "start_time": "2022-09-12T18:05:57.313Z"
   },
   {
    "duration": 9,
    "start_time": "2022-09-12T18:05:57.330Z"
   },
   {
    "duration": 10,
    "start_time": "2022-09-12T18:05:57.341Z"
   },
   {
    "duration": 18,
    "start_time": "2022-09-12T18:05:57.353Z"
   },
   {
    "duration": 5,
    "start_time": "2022-09-12T18:05:57.375Z"
   },
   {
    "duration": 44,
    "start_time": "2022-09-12T18:05:57.382Z"
   },
   {
    "duration": 13,
    "start_time": "2022-09-12T18:05:57.429Z"
   },
   {
    "duration": 26,
    "start_time": "2022-09-12T18:05:57.444Z"
   },
   {
    "duration": 19,
    "start_time": "2022-09-12T18:05:57.472Z"
   },
   {
    "duration": 34,
    "start_time": "2022-09-12T18:05:57.493Z"
   },
   {
    "duration": 28,
    "start_time": "2022-09-12T18:05:57.528Z"
   },
   {
    "duration": 4,
    "start_time": "2022-09-12T18:05:57.558Z"
   },
   {
    "duration": 20,
    "start_time": "2022-09-12T18:05:57.564Z"
   },
   {
    "duration": 6,
    "start_time": "2022-09-12T18:05:57.586Z"
   },
   {
    "duration": 13,
    "start_time": "2022-09-12T18:05:57.594Z"
   },
   {
    "duration": 10,
    "start_time": "2022-09-12T18:05:57.609Z"
   },
   {
    "duration": 8,
    "start_time": "2022-09-12T18:05:57.620Z"
   },
   {
    "duration": 12,
    "start_time": "2022-09-12T18:05:57.630Z"
   },
   {
    "duration": 8,
    "start_time": "2022-09-12T18:05:57.644Z"
   },
   {
    "duration": 25,
    "start_time": "2022-09-12T18:05:57.654Z"
   },
   {
    "duration": 1573,
    "start_time": "2022-09-12T18:05:57.681Z"
   },
   {
    "duration": 0,
    "start_time": "2022-09-12T18:05:59.256Z"
   },
   {
    "duration": 0,
    "start_time": "2022-09-12T18:05:59.257Z"
   },
   {
    "duration": 0,
    "start_time": "2022-09-12T18:05:59.258Z"
   },
   {
    "duration": 28,
    "start_time": "2022-09-12T18:13:54.671Z"
   },
   {
    "duration": 32,
    "start_time": "2022-09-12T18:21:26.680Z"
   },
   {
    "duration": 21,
    "start_time": "2022-09-12T18:28:03.855Z"
   },
   {
    "duration": 29,
    "start_time": "2022-09-12T18:37:20.549Z"
   },
   {
    "duration": 28,
    "start_time": "2022-09-12T18:40:01.442Z"
   },
   {
    "duration": 32,
    "start_time": "2022-09-12T18:46:49.862Z"
   },
   {
    "duration": 454,
    "start_time": "2022-09-12T18:47:18.041Z"
   },
   {
    "duration": 36,
    "start_time": "2022-09-12T18:47:18.497Z"
   },
   {
    "duration": 17,
    "start_time": "2022-09-12T18:47:18.539Z"
   },
   {
    "duration": 8,
    "start_time": "2022-09-12T18:47:18.558Z"
   },
   {
    "duration": 42,
    "start_time": "2022-09-12T18:47:18.567Z"
   },
   {
    "duration": 6,
    "start_time": "2022-09-12T18:47:18.610Z"
   },
   {
    "duration": 22,
    "start_time": "2022-09-12T18:47:18.623Z"
   },
   {
    "duration": 4,
    "start_time": "2022-09-12T18:47:18.647Z"
   },
   {
    "duration": 15,
    "start_time": "2022-09-12T18:47:18.652Z"
   },
   {
    "duration": 4,
    "start_time": "2022-09-12T18:47:18.671Z"
   },
   {
    "duration": 39,
    "start_time": "2022-09-12T18:47:18.677Z"
   },
   {
    "duration": 14,
    "start_time": "2022-09-12T18:47:18.724Z"
   },
   {
    "duration": 4,
    "start_time": "2022-09-12T18:47:18.740Z"
   },
   {
    "duration": 12,
    "start_time": "2022-09-12T18:47:18.745Z"
   },
   {
    "duration": 18,
    "start_time": "2022-09-12T18:47:18.758Z"
   },
   {
    "duration": 30,
    "start_time": "2022-09-12T18:47:18.778Z"
   },
   {
    "duration": 11,
    "start_time": "2022-09-12T18:47:18.815Z"
   },
   {
    "duration": 15,
    "start_time": "2022-09-12T18:47:18.831Z"
   },
   {
    "duration": 6,
    "start_time": "2022-09-12T18:47:18.847Z"
   },
   {
    "duration": 4,
    "start_time": "2022-09-12T18:47:18.854Z"
   },
   {
    "duration": 11,
    "start_time": "2022-09-12T18:47:18.860Z"
   },
   {
    "duration": 8,
    "start_time": "2022-09-12T18:47:18.873Z"
   },
   {
    "duration": 5,
    "start_time": "2022-09-12T18:47:18.883Z"
   },
   {
    "duration": 27,
    "start_time": "2022-09-12T18:47:18.889Z"
   },
   {
    "duration": 82,
    "start_time": "2022-09-12T18:47:18.922Z"
   },
   {
    "duration": 0,
    "start_time": "2022-09-12T18:47:19.005Z"
   },
   {
    "duration": 0,
    "start_time": "2022-09-12T18:47:19.007Z"
   },
   {
    "duration": 0,
    "start_time": "2022-09-12T18:47:19.009Z"
   },
   {
    "duration": 0,
    "start_time": "2022-09-12T18:47:19.012Z"
   },
   {
    "duration": 28,
    "start_time": "2022-09-12T18:49:58.829Z"
   },
   {
    "duration": 35,
    "start_time": "2022-09-12T18:52:50.926Z"
   },
   {
    "duration": 61,
    "start_time": "2022-09-13T07:15:09.837Z"
   },
   {
    "duration": 729,
    "start_time": "2022-09-13T07:15:26.659Z"
   },
   {
    "duration": 23,
    "start_time": "2022-09-13T07:15:27.390Z"
   },
   {
    "duration": 21,
    "start_time": "2022-09-13T07:15:27.415Z"
   },
   {
    "duration": 14,
    "start_time": "2022-09-13T07:15:27.437Z"
   },
   {
    "duration": 39,
    "start_time": "2022-09-13T07:15:27.452Z"
   },
   {
    "duration": 3,
    "start_time": "2022-09-13T07:15:27.493Z"
   },
   {
    "duration": 26,
    "start_time": "2022-09-13T07:15:27.497Z"
   },
   {
    "duration": 7,
    "start_time": "2022-09-13T07:15:27.524Z"
   },
   {
    "duration": 11,
    "start_time": "2022-09-13T07:15:27.533Z"
   },
   {
    "duration": 12,
    "start_time": "2022-09-13T07:15:27.549Z"
   },
   {
    "duration": 45,
    "start_time": "2022-09-13T07:15:27.565Z"
   },
   {
    "duration": 10,
    "start_time": "2022-09-13T07:15:27.612Z"
   },
   {
    "duration": 12,
    "start_time": "2022-09-13T07:15:27.623Z"
   },
   {
    "duration": 32,
    "start_time": "2022-09-13T07:15:27.637Z"
   },
   {
    "duration": 24,
    "start_time": "2022-09-13T07:15:27.671Z"
   },
   {
    "duration": 21,
    "start_time": "2022-09-13T07:15:27.697Z"
   },
   {
    "duration": 3,
    "start_time": "2022-09-13T07:15:27.719Z"
   },
   {
    "duration": 19,
    "start_time": "2022-09-13T07:15:27.724Z"
   },
   {
    "duration": 19,
    "start_time": "2022-09-13T07:15:27.745Z"
   },
   {
    "duration": 5,
    "start_time": "2022-09-13T07:15:27.767Z"
   },
   {
    "duration": 28,
    "start_time": "2022-09-13T07:15:27.774Z"
   },
   {
    "duration": 13,
    "start_time": "2022-09-13T07:15:27.804Z"
   },
   {
    "duration": 18,
    "start_time": "2022-09-13T07:15:27.819Z"
   },
   {
    "duration": 23,
    "start_time": "2022-09-13T07:15:27.839Z"
   },
   {
    "duration": 33,
    "start_time": "2022-09-13T07:15:27.865Z"
   },
   {
    "duration": 81,
    "start_time": "2022-09-13T07:15:27.900Z"
   },
   {
    "duration": 0,
    "start_time": "2022-09-13T07:15:27.983Z"
   },
   {
    "duration": 0,
    "start_time": "2022-09-13T07:15:27.984Z"
   },
   {
    "duration": 32,
    "start_time": "2022-09-13T07:17:06.559Z"
   },
   {
    "duration": 9,
    "start_time": "2022-09-13T08:24:22.942Z"
   },
   {
    "duration": 14,
    "start_time": "2022-09-13T08:25:52.746Z"
   },
   {
    "duration": 14,
    "start_time": "2022-09-13T08:26:14.505Z"
   },
   {
    "duration": 12,
    "start_time": "2022-09-13T08:26:52.154Z"
   },
   {
    "duration": 54,
    "start_time": "2022-09-13T08:27:42.501Z"
   },
   {
    "duration": 7,
    "start_time": "2022-09-13T08:39:53.140Z"
   },
   {
    "duration": 7,
    "start_time": "2022-09-13T08:40:21.312Z"
   },
   {
    "duration": 35,
    "start_time": "2022-09-13T08:40:46.687Z"
   },
   {
    "duration": 11,
    "start_time": "2022-09-13T08:41:15.324Z"
   },
   {
    "duration": 9,
    "start_time": "2022-09-13T08:41:20.151Z"
   },
   {
    "duration": 32,
    "start_time": "2022-09-13T08:41:32.039Z"
   },
   {
    "duration": 24,
    "start_time": "2022-09-13T08:51:40.586Z"
   },
   {
    "duration": 35,
    "start_time": "2022-09-13T08:53:31.490Z"
   },
   {
    "duration": 33,
    "start_time": "2022-09-13T09:01:23.821Z"
   },
   {
    "duration": 5,
    "start_time": "2022-09-13T09:01:28.388Z"
   },
   {
    "duration": 49,
    "start_time": "2022-09-13T11:42:13.462Z"
   },
   {
    "duration": 1016,
    "start_time": "2022-09-13T11:42:23.592Z"
   },
   {
    "duration": 30,
    "start_time": "2022-09-13T11:42:24.610Z"
   },
   {
    "duration": 15,
    "start_time": "2022-09-13T11:42:24.642Z"
   },
   {
    "duration": 69,
    "start_time": "2022-09-13T11:42:24.659Z"
   },
   {
    "duration": 29,
    "start_time": "2022-09-13T11:42:24.730Z"
   },
   {
    "duration": 3,
    "start_time": "2022-09-13T11:42:24.761Z"
   },
   {
    "duration": 13,
    "start_time": "2022-09-13T11:42:24.766Z"
   },
   {
    "duration": 5,
    "start_time": "2022-09-13T11:42:24.780Z"
   },
   {
    "duration": 10,
    "start_time": "2022-09-13T11:42:24.786Z"
   },
   {
    "duration": 13,
    "start_time": "2022-09-13T11:42:24.798Z"
   },
   {
    "duration": 32,
    "start_time": "2022-09-13T11:42:24.813Z"
   },
   {
    "duration": 9,
    "start_time": "2022-09-13T11:42:24.847Z"
   },
   {
    "duration": 13,
    "start_time": "2022-09-13T11:42:24.857Z"
   },
   {
    "duration": 14,
    "start_time": "2022-09-13T11:42:24.871Z"
   },
   {
    "duration": 37,
    "start_time": "2022-09-13T11:42:24.886Z"
   },
   {
    "duration": 28,
    "start_time": "2022-09-13T11:42:24.925Z"
   },
   {
    "duration": 3,
    "start_time": "2022-09-13T11:42:24.955Z"
   },
   {
    "duration": 18,
    "start_time": "2022-09-13T11:42:24.960Z"
   },
   {
    "duration": 7,
    "start_time": "2022-09-13T11:42:24.979Z"
   },
   {
    "duration": 21,
    "start_time": "2022-09-13T11:42:24.988Z"
   },
   {
    "duration": 15,
    "start_time": "2022-09-13T11:42:25.011Z"
   },
   {
    "duration": 17,
    "start_time": "2022-09-13T11:42:25.027Z"
   },
   {
    "duration": 18,
    "start_time": "2022-09-13T11:42:25.046Z"
   },
   {
    "duration": 85,
    "start_time": "2022-09-13T11:42:25.065Z"
   },
   {
    "duration": 0,
    "start_time": "2022-09-13T11:42:25.152Z"
   },
   {
    "duration": 0,
    "start_time": "2022-09-13T11:42:25.153Z"
   },
   {
    "duration": 0,
    "start_time": "2022-09-13T11:42:25.154Z"
   },
   {
    "duration": 19,
    "start_time": "2022-09-13T11:42:45.573Z"
   },
   {
    "duration": 19,
    "start_time": "2022-09-13T11:43:31.491Z"
   },
   {
    "duration": 31,
    "start_time": "2022-09-13T11:44:08.277Z"
   },
   {
    "duration": 22,
    "start_time": "2022-09-13T11:47:09.428Z"
   },
   {
    "duration": 31,
    "start_time": "2022-09-13T11:49:52.168Z"
   },
   {
    "duration": 12,
    "start_time": "2022-09-13T12:08:34.545Z"
   },
   {
    "duration": 33,
    "start_time": "2022-09-13T12:11:17.556Z"
   },
   {
    "duration": 14,
    "start_time": "2022-09-13T12:21:37.885Z"
   },
   {
    "duration": 29,
    "start_time": "2022-09-13T12:23:16.301Z"
   },
   {
    "duration": 23,
    "start_time": "2022-09-13T12:24:49.681Z"
   },
   {
    "duration": 31,
    "start_time": "2022-09-13T12:24:53.449Z"
   },
   {
    "duration": 31,
    "start_time": "2022-09-13T12:24:58.149Z"
   },
   {
    "duration": 463,
    "start_time": "2022-09-13T15:08:38.696Z"
   },
   {
    "duration": 19,
    "start_time": "2022-09-13T15:08:39.161Z"
   },
   {
    "duration": 25,
    "start_time": "2022-09-13T15:08:39.182Z"
   },
   {
    "duration": 17,
    "start_time": "2022-09-13T15:08:39.209Z"
   },
   {
    "duration": 46,
    "start_time": "2022-09-13T15:08:39.228Z"
   },
   {
    "duration": 3,
    "start_time": "2022-09-13T15:08:39.275Z"
   },
   {
    "duration": 35,
    "start_time": "2022-09-13T15:08:39.279Z"
   },
   {
    "duration": 23,
    "start_time": "2022-09-13T15:08:39.315Z"
   },
   {
    "duration": 36,
    "start_time": "2022-09-13T15:08:39.340Z"
   },
   {
    "duration": 28,
    "start_time": "2022-09-13T15:08:39.378Z"
   },
   {
    "duration": 53,
    "start_time": "2022-09-13T15:08:39.407Z"
   },
   {
    "duration": 8,
    "start_time": "2022-09-13T15:08:39.462Z"
   },
   {
    "duration": 24,
    "start_time": "2022-09-13T15:08:39.472Z"
   },
   {
    "duration": 34,
    "start_time": "2022-09-13T15:08:39.499Z"
   },
   {
    "duration": 41,
    "start_time": "2022-09-13T15:08:39.535Z"
   },
   {
    "duration": 23,
    "start_time": "2022-09-13T15:08:39.578Z"
   },
   {
    "duration": 4,
    "start_time": "2022-09-13T15:08:39.603Z"
   },
   {
    "duration": 29,
    "start_time": "2022-09-13T15:08:39.608Z"
   },
   {
    "duration": 55,
    "start_time": "2022-09-13T15:08:39.639Z"
   },
   {
    "duration": 15,
    "start_time": "2022-09-13T15:08:39.696Z"
   },
   {
    "duration": 34,
    "start_time": "2022-09-13T15:08:39.713Z"
   },
   {
    "duration": 16,
    "start_time": "2022-09-13T15:08:39.749Z"
   },
   {
    "duration": 21,
    "start_time": "2022-09-13T15:08:39.766Z"
   },
   {
    "duration": 51,
    "start_time": "2022-09-13T15:08:39.788Z"
   },
   {
    "duration": 12,
    "start_time": "2022-09-13T15:08:39.840Z"
   },
   {
    "duration": 37,
    "start_time": "2022-09-13T15:08:39.853Z"
   },
   {
    "duration": 11,
    "start_time": "2022-09-13T15:08:39.891Z"
   },
   {
    "duration": 47,
    "start_time": "2022-09-13T15:08:39.903Z"
   },
   {
    "duration": 16,
    "start_time": "2022-09-13T15:08:39.952Z"
   },
   {
    "duration": 41,
    "start_time": "2022-09-13T15:08:39.970Z"
   },
   {
    "duration": 435,
    "start_time": "2022-09-14T06:04:36.011Z"
   },
   {
    "duration": 21,
    "start_time": "2022-09-14T06:04:36.448Z"
   },
   {
    "duration": 13,
    "start_time": "2022-09-14T06:04:36.471Z"
   },
   {
    "duration": 8,
    "start_time": "2022-09-14T06:04:36.486Z"
   },
   {
    "duration": 32,
    "start_time": "2022-09-14T06:04:36.495Z"
   },
   {
    "duration": 3,
    "start_time": "2022-09-14T06:04:36.529Z"
   },
   {
    "duration": 10,
    "start_time": "2022-09-14T06:04:36.533Z"
   },
   {
    "duration": 4,
    "start_time": "2022-09-14T06:04:36.545Z"
   },
   {
    "duration": 30,
    "start_time": "2022-09-14T06:04:36.551Z"
   },
   {
    "duration": 4,
    "start_time": "2022-09-14T06:04:36.586Z"
   },
   {
    "duration": 35,
    "start_time": "2022-09-14T06:04:36.592Z"
   },
   {
    "duration": 9,
    "start_time": "2022-09-14T06:04:36.629Z"
   },
   {
    "duration": 4,
    "start_time": "2022-09-14T06:04:36.640Z"
   },
   {
    "duration": 38,
    "start_time": "2022-09-14T06:04:36.646Z"
   },
   {
    "duration": 19,
    "start_time": "2022-09-14T06:04:36.685Z"
   },
   {
    "duration": 18,
    "start_time": "2022-09-14T06:04:36.705Z"
   },
   {
    "duration": 4,
    "start_time": "2022-09-14T06:04:36.724Z"
   },
   {
    "duration": 15,
    "start_time": "2022-09-14T06:04:36.729Z"
   },
   {
    "duration": 31,
    "start_time": "2022-09-14T06:04:36.746Z"
   },
   {
    "duration": 4,
    "start_time": "2022-09-14T06:04:36.779Z"
   },
   {
    "duration": 11,
    "start_time": "2022-09-14T06:04:36.784Z"
   },
   {
    "duration": 5,
    "start_time": "2022-09-14T06:04:36.796Z"
   },
   {
    "duration": 11,
    "start_time": "2022-09-14T06:04:36.802Z"
   },
   {
    "duration": 29,
    "start_time": "2022-09-14T06:04:36.815Z"
   },
   {
    "duration": 39,
    "start_time": "2022-09-14T06:04:36.845Z"
   },
   {
    "duration": 36,
    "start_time": "2022-09-14T06:04:36.885Z"
   },
   {
    "duration": 12,
    "start_time": "2022-09-14T06:04:36.922Z"
   },
   {
    "duration": 62,
    "start_time": "2022-09-14T06:04:36.938Z"
   },
   {
    "duration": 14,
    "start_time": "2022-09-14T06:04:37.003Z"
   },
   {
    "duration": 32,
    "start_time": "2022-09-14T06:04:37.019Z"
   },
   {
    "duration": 52,
    "start_time": "2022-09-14T17:47:56.534Z"
   },
   {
    "duration": 717,
    "start_time": "2022-09-14T17:48:12.055Z"
   },
   {
    "duration": 20,
    "start_time": "2022-09-14T17:48:12.775Z"
   },
   {
    "duration": 14,
    "start_time": "2022-09-14T17:48:12.796Z"
   },
   {
    "duration": 9,
    "start_time": "2022-09-14T17:48:12.812Z"
   },
   {
    "duration": 43,
    "start_time": "2022-09-14T17:48:12.823Z"
   },
   {
    "duration": 3,
    "start_time": "2022-09-14T17:48:12.867Z"
   },
   {
    "duration": 10,
    "start_time": "2022-09-14T17:48:12.871Z"
   },
   {
    "duration": 5,
    "start_time": "2022-09-14T17:48:12.883Z"
   },
   {
    "duration": 8,
    "start_time": "2022-09-14T17:48:12.889Z"
   },
   {
    "duration": 5,
    "start_time": "2022-09-14T17:48:12.900Z"
   },
   {
    "duration": 54,
    "start_time": "2022-09-14T17:48:12.906Z"
   },
   {
    "duration": 9,
    "start_time": "2022-09-14T17:48:12.961Z"
   },
   {
    "duration": 11,
    "start_time": "2022-09-14T17:48:12.971Z"
   },
   {
    "duration": 23,
    "start_time": "2022-09-14T17:48:12.983Z"
   },
   {
    "duration": 20,
    "start_time": "2022-09-14T17:48:13.007Z"
   },
   {
    "duration": 27,
    "start_time": "2022-09-14T17:48:13.028Z"
   },
   {
    "duration": 4,
    "start_time": "2022-09-14T17:48:13.056Z"
   },
   {
    "duration": 17,
    "start_time": "2022-09-14T17:48:13.061Z"
   },
   {
    "duration": 11,
    "start_time": "2022-09-14T17:48:13.080Z"
   },
   {
    "duration": 5,
    "start_time": "2022-09-14T17:48:13.093Z"
   },
   {
    "duration": 22,
    "start_time": "2022-09-14T17:48:13.099Z"
   },
   {
    "duration": 19,
    "start_time": "2022-09-14T17:48:13.123Z"
   },
   {
    "duration": 6,
    "start_time": "2022-09-14T17:48:13.144Z"
   },
   {
    "duration": 27,
    "start_time": "2022-09-14T17:48:13.151Z"
   },
   {
    "duration": 71,
    "start_time": "2022-09-14T17:48:13.179Z"
   },
   {
    "duration": 0,
    "start_time": "2022-09-14T17:48:13.252Z"
   },
   {
    "duration": 0,
    "start_time": "2022-09-14T17:48:13.253Z"
   },
   {
    "duration": 0,
    "start_time": "2022-09-14T17:48:13.255Z"
   },
   {
    "duration": 0,
    "start_time": "2022-09-14T17:48:13.255Z"
   },
   {
    "duration": 0,
    "start_time": "2022-09-14T17:48:13.256Z"
   },
   {
    "duration": 0,
    "start_time": "2022-09-14T17:48:13.257Z"
   },
   {
    "duration": 7,
    "start_time": "2022-09-14T17:48:31.905Z"
   },
   {
    "duration": 7,
    "start_time": "2022-09-14T17:50:32.851Z"
   },
   {
    "duration": 17,
    "start_time": "2022-09-14T17:50:47.635Z"
   },
   {
    "duration": 14,
    "start_time": "2022-09-14T17:56:30.821Z"
   },
   {
    "duration": 17,
    "start_time": "2022-09-14T17:56:55.143Z"
   },
   {
    "duration": 26,
    "start_time": "2022-09-14T17:57:46.807Z"
   },
   {
    "duration": 20,
    "start_time": "2022-09-14T18:12:46.415Z"
   },
   {
    "duration": 20,
    "start_time": "2022-09-14T18:12:59.637Z"
   },
   {
    "duration": 30,
    "start_time": "2022-09-14T18:20:29.558Z"
   },
   {
    "duration": 23,
    "start_time": "2022-09-14T18:20:53.049Z"
   },
   {
    "duration": 83,
    "start_time": "2022-09-14T18:46:47.235Z"
   },
   {
    "duration": 16,
    "start_time": "2022-09-14T18:46:58.344Z"
   },
   {
    "duration": 22,
    "start_time": "2022-09-14T18:47:34.738Z"
   },
   {
    "duration": 29,
    "start_time": "2022-09-14T18:49:11.206Z"
   },
   {
    "duration": 14,
    "start_time": "2022-09-14T18:54:21.999Z"
   },
   {
    "duration": 7,
    "start_time": "2022-09-14T18:54:50.758Z"
   },
   {
    "duration": 21,
    "start_time": "2022-09-14T18:56:21.649Z"
   },
   {
    "duration": 3,
    "start_time": "2022-09-14T18:57:11.906Z"
   },
   {
    "duration": 21,
    "start_time": "2022-09-14T18:57:35.401Z"
   },
   {
    "duration": 28,
    "start_time": "2022-09-14T19:00:24.612Z"
   },
   {
    "duration": 24,
    "start_time": "2022-09-14T19:01:10.555Z"
   },
   {
    "duration": 23,
    "start_time": "2022-09-14T19:03:05.343Z"
   },
   {
    "duration": 26,
    "start_time": "2022-09-14T19:05:22.034Z"
   },
   {
    "duration": 47,
    "start_time": "2022-09-15T06:34:51.499Z"
   },
   {
    "duration": 723,
    "start_time": "2022-09-15T06:34:59.401Z"
   },
   {
    "duration": 25,
    "start_time": "2022-09-15T06:35:00.126Z"
   },
   {
    "duration": 18,
    "start_time": "2022-09-15T06:35:00.153Z"
   },
   {
    "duration": 20,
    "start_time": "2022-09-15T06:35:00.174Z"
   },
   {
    "duration": 56,
    "start_time": "2022-09-15T06:35:00.196Z"
   },
   {
    "duration": 4,
    "start_time": "2022-09-15T06:35:00.254Z"
   },
   {
    "duration": 28,
    "start_time": "2022-09-15T06:35:00.259Z"
   },
   {
    "duration": 29,
    "start_time": "2022-09-15T06:35:00.289Z"
   },
   {
    "duration": 13,
    "start_time": "2022-09-15T06:35:00.320Z"
   },
   {
    "duration": 33,
    "start_time": "2022-09-15T06:35:00.335Z"
   },
   {
    "duration": 77,
    "start_time": "2022-09-15T06:35:00.370Z"
   },
   {
    "duration": 21,
    "start_time": "2022-09-15T06:35:00.448Z"
   },
   {
    "duration": 21,
    "start_time": "2022-09-15T06:35:00.471Z"
   },
   {
    "duration": 39,
    "start_time": "2022-09-15T06:35:00.494Z"
   },
   {
    "duration": 81,
    "start_time": "2022-09-15T06:35:00.535Z"
   },
   {
    "duration": 52,
    "start_time": "2022-09-15T06:35:00.618Z"
   },
   {
    "duration": 7,
    "start_time": "2022-09-15T06:35:00.672Z"
   },
   {
    "duration": 26,
    "start_time": "2022-09-15T06:35:00.680Z"
   },
   {
    "duration": 6,
    "start_time": "2022-09-15T06:35:00.708Z"
   },
   {
    "duration": 26,
    "start_time": "2022-09-15T06:35:00.716Z"
   },
   {
    "duration": 27,
    "start_time": "2022-09-15T06:35:00.744Z"
   },
   {
    "duration": 33,
    "start_time": "2022-09-15T06:35:00.773Z"
   },
   {
    "duration": 39,
    "start_time": "2022-09-15T06:35:00.808Z"
   },
   {
    "duration": 38,
    "start_time": "2022-09-15T06:35:00.849Z"
   },
   {
    "duration": 48,
    "start_time": "2022-09-15T06:35:00.889Z"
   },
   {
    "duration": 28,
    "start_time": "2022-09-15T06:35:00.939Z"
   },
   {
    "duration": 12,
    "start_time": "2022-09-15T06:35:00.969Z"
   },
   {
    "duration": 62,
    "start_time": "2022-09-15T06:35:00.985Z"
   },
   {
    "duration": 27,
    "start_time": "2022-09-15T06:35:01.049Z"
   },
   {
    "duration": 14,
    "start_time": "2022-09-15T06:35:01.078Z"
   },
   {
    "duration": 58,
    "start_time": "2022-09-15T06:35:01.094Z"
   },
   {
    "duration": 30,
    "start_time": "2022-09-15T06:35:01.154Z"
   },
   {
    "duration": 445,
    "start_time": "2022-09-15T06:37:09.755Z"
   },
   {
    "duration": 22,
    "start_time": "2022-09-15T06:37:10.202Z"
   },
   {
    "duration": 14,
    "start_time": "2022-09-15T06:37:10.226Z"
   },
   {
    "duration": 9,
    "start_time": "2022-09-15T06:37:10.243Z"
   },
   {
    "duration": 33,
    "start_time": "2022-09-15T06:37:10.254Z"
   },
   {
    "duration": 3,
    "start_time": "2022-09-15T06:37:10.289Z"
   },
   {
    "duration": 33,
    "start_time": "2022-09-15T06:37:10.294Z"
   },
   {
    "duration": 10,
    "start_time": "2022-09-15T06:37:10.329Z"
   },
   {
    "duration": 11,
    "start_time": "2022-09-15T06:37:10.341Z"
   },
   {
    "duration": 13,
    "start_time": "2022-09-15T06:37:10.355Z"
   },
   {
    "duration": 52,
    "start_time": "2022-09-15T06:37:10.370Z"
   },
   {
    "duration": 10,
    "start_time": "2022-09-15T06:37:10.424Z"
   },
   {
    "duration": 20,
    "start_time": "2022-09-15T06:37:10.436Z"
   },
   {
    "duration": 21,
    "start_time": "2022-09-15T06:37:10.458Z"
   },
   {
    "duration": 31,
    "start_time": "2022-09-15T06:37:10.481Z"
   },
   {
    "duration": 18,
    "start_time": "2022-09-15T06:37:10.513Z"
   },
   {
    "duration": 19,
    "start_time": "2022-09-15T06:37:10.532Z"
   },
   {
    "duration": 32,
    "start_time": "2022-09-15T06:37:10.553Z"
   },
   {
    "duration": 20,
    "start_time": "2022-09-15T06:37:10.587Z"
   },
   {
    "duration": 28,
    "start_time": "2022-09-15T06:37:10.608Z"
   },
   {
    "duration": 27,
    "start_time": "2022-09-15T06:37:10.637Z"
   },
   {
    "duration": 10,
    "start_time": "2022-09-15T06:37:10.666Z"
   },
   {
    "duration": 50,
    "start_time": "2022-09-15T06:37:10.678Z"
   },
   {
    "duration": 25,
    "start_time": "2022-09-15T06:37:10.730Z"
   },
   {
    "duration": 14,
    "start_time": "2022-09-15T06:37:10.756Z"
   },
   {
    "duration": 57,
    "start_time": "2022-09-15T06:37:10.771Z"
   },
   {
    "duration": 18,
    "start_time": "2022-09-15T06:37:10.830Z"
   },
   {
    "duration": 39,
    "start_time": "2022-09-15T06:37:10.851Z"
   },
   {
    "duration": 26,
    "start_time": "2022-09-15T06:37:22.375Z"
   },
   {
    "duration": 27,
    "start_time": "2022-09-15T06:40:20.637Z"
   },
   {
    "duration": 30,
    "start_time": "2022-09-15T06:40:35.857Z"
   },
   {
    "duration": 31,
    "start_time": "2022-09-15T06:41:00.473Z"
   }
  ],
  "colab": {
   "name": "dpp_template_part2.ipynb",
   "provenance": []
  },
  "kernelspec": {
   "display_name": "Python 3 (ipykernel)",
   "language": "python",
   "name": "python3"
  },
  "language_info": {
   "codemirror_mode": {
    "name": "ipython",
    "version": 3
   },
   "file_extension": ".py",
   "mimetype": "text/x-python",
   "name": "python",
   "nbconvert_exporter": "python",
   "pygments_lexer": "ipython3",
   "version": "3.9.7"
  },
  "toc": {
   "base_numbering": 1,
   "nav_menu": {},
   "number_sections": true,
   "sideBar": true,
   "skip_h1_title": true,
   "title_cell": "Table of Contents",
   "title_sidebar": "Contents",
   "toc_cell": false,
   "toc_position": {},
   "toc_section_display": true,
   "toc_window_display": true
  }
 },
 "nbformat": 4,
 "nbformat_minor": 5
}
