{
 "cells": [
  {
   "cell_type": "markdown",
   "metadata": {
    "toc": true
   },
   "source": [
    "<h1>Содержание проекта:<span class=\"tocSkip\"></span></h1>\n",
    "<div class=\"toc\"><ul class=\"toc-item\"><li><span><a href=\"#Предобработка-данных\" data-toc-modified-id=\"Предобработка-данных-1\"><span class=\"toc-item-num\">1&nbsp;&nbsp;</span>Предобработка данных</a></span></li><li><span><a href=\"#Исследовательский-анализ-данных\" data-toc-modified-id=\"Исследовательский-анализ-данных-2\"><span class=\"toc-item-num\">2&nbsp;&nbsp;</span>Исследовательский анализ данных</a></span></li><li><span><a href=\"#Портрет-пользователя-каждого-региона\" data-toc-modified-id=\"Портрет-пользователя-каждого-региона-3\"><span class=\"toc-item-num\">3&nbsp;&nbsp;</span>Портрет пользователя каждого региона</a></span></li><li><span><a href=\"#Проверка-гипотез\" data-toc-modified-id=\"Проверка-гипотез-4\"><span class=\"toc-item-num\">4&nbsp;&nbsp;</span>Проверка гипотез</a></span></li><li><span><a href=\"#Общий-вывод\" data-toc-modified-id=\"Общий-вывод-5\"><span class=\"toc-item-num\">5&nbsp;&nbsp;</span>Общий вывод</a></span></li></ul></div>"
   ]
  },
  {
   "cell_type": "markdown",
   "metadata": {},
   "source": [
    "# Анализ рынка компьютерных игр"
   ]
  },
  {
   "cell_type": "markdown",
   "metadata": {},
   "source": [
    "Интернет-магазин «Стримчик» продаёт по всему миру компьютерные игры. Из открытых источников доступны исторические данные о продажах игр, оценки пользователей и экспертов, жанры и платформы (например, Xbox или PlayStation).\n",
    "\n",
    "**Задача:** выявить закономерности, определяющие успешность игры. Это позволит сделать ставку на потенциально популярный продукт и спланировать рекламные кампании.\n",
    "\n",
    "Проверить гипотезы:\n",
    "\n",
    "- Средние пользовательские рейтинги платформ Xbox One и PC одинаковые;\n",
    "- Средние пользовательские рейтинги жанров Action (англ. «действие», экшен-игры) и Sports (англ. «спортивные соревнования») разные.\n",
    "\n",
    "**Данные:** из открытых источников до 2016 года. \n",
    "(Представим, что сейчас декабрь 2016 г. и планируется рекламная кампания на 2017-й.)"
   ]
  },
  {
   "cell_type": "markdown",
   "metadata": {},
   "source": [
    "\n",
    "\n",
    "**Описание данных (games.csv)**\n",
    "\n",
    "- Name — название игры\n",
    "- Platform — платформа\n",
    "- Year_of_Release — год выпуска\n",
    "- Genre — жанр игры\n",
    "- NA_sales — продажи в Северной Америке (миллионы проданных копий)\n",
    "- EU_sales — продажи в Европе (миллионы проданных копий)\n",
    "- JP_sales — продажи в Японии (миллионы проданных копий)\n",
    "- Other_sales — продажи в других странах (миллионы проданных копий)\n",
    "- Critic_Score — оценка критиков (максимум 100)\n",
    "- User_Score — оценка пользователей (максимум 10)\n",
    "- Rating — рейтинг от организации ESRB (англ. Entertainment Software Rating Board). Эта ассоциация определяет рейтинг компьютерных игр и присваивает им подходящую возрастную категорию.\n",
    "\n",
    "Данные за 2016 год могут быть неполными."
   ]
  },
  {
   "cell_type": "markdown",
   "metadata": {},
   "source": [
    "## Предобработка данных"
   ]
  },
  {
   "cell_type": "code",
   "execution_count": 1,
   "metadata": {
    "scrolled": true
   },
   "outputs": [],
   "source": [
    "# импорт библиотек\n",
    "import pandas as pd\n",
    "import numpy as np\n",
    "import matplotlib.pyplot as plt\n",
    "import seaborn as sns\n",
    "from scipy import stats as st"
   ]
  },
  {
   "cell_type": "code",
   "execution_count": 2,
   "metadata": {
    "scrolled": true
   },
   "outputs": [],
   "source": [
    "# сохраняем прочитанные из файла данные в df\n",
    "df = pd.read_csv('/datasets/games.csv')"
   ]
  },
  {
   "cell_type": "code",
   "execution_count": 3,
   "metadata": {
    "scrolled": true
   },
   "outputs": [
    {
     "data": {
      "text/html": [
       "<div>\n",
       "<style scoped>\n",
       "    .dataframe tbody tr th:only-of-type {\n",
       "        vertical-align: middle;\n",
       "    }\n",
       "\n",
       "    .dataframe tbody tr th {\n",
       "        vertical-align: top;\n",
       "    }\n",
       "\n",
       "    .dataframe thead th {\n",
       "        text-align: right;\n",
       "    }\n",
       "</style>\n",
       "<table border=\"1\" class=\"dataframe\">\n",
       "  <thead>\n",
       "    <tr style=\"text-align: right;\">\n",
       "      <th></th>\n",
       "      <th>Name</th>\n",
       "      <th>Platform</th>\n",
       "      <th>Year_of_Release</th>\n",
       "      <th>Genre</th>\n",
       "      <th>NA_sales</th>\n",
       "      <th>EU_sales</th>\n",
       "      <th>JP_sales</th>\n",
       "      <th>Other_sales</th>\n",
       "      <th>Critic_Score</th>\n",
       "      <th>User_Score</th>\n",
       "      <th>Rating</th>\n",
       "    </tr>\n",
       "  </thead>\n",
       "  <tbody>\n",
       "    <tr>\n",
       "      <th>0</th>\n",
       "      <td>Wii Sports</td>\n",
       "      <td>Wii</td>\n",
       "      <td>2006.0</td>\n",
       "      <td>Sports</td>\n",
       "      <td>41.36</td>\n",
       "      <td>28.96</td>\n",
       "      <td>3.77</td>\n",
       "      <td>8.45</td>\n",
       "      <td>76.0</td>\n",
       "      <td>8</td>\n",
       "      <td>E</td>\n",
       "    </tr>\n",
       "    <tr>\n",
       "      <th>1</th>\n",
       "      <td>Super Mario Bros.</td>\n",
       "      <td>NES</td>\n",
       "      <td>1985.0</td>\n",
       "      <td>Platform</td>\n",
       "      <td>29.08</td>\n",
       "      <td>3.58</td>\n",
       "      <td>6.81</td>\n",
       "      <td>0.77</td>\n",
       "      <td>NaN</td>\n",
       "      <td>NaN</td>\n",
       "      <td>NaN</td>\n",
       "    </tr>\n",
       "    <tr>\n",
       "      <th>2</th>\n",
       "      <td>Mario Kart Wii</td>\n",
       "      <td>Wii</td>\n",
       "      <td>2008.0</td>\n",
       "      <td>Racing</td>\n",
       "      <td>15.68</td>\n",
       "      <td>12.76</td>\n",
       "      <td>3.79</td>\n",
       "      <td>3.29</td>\n",
       "      <td>82.0</td>\n",
       "      <td>8.3</td>\n",
       "      <td>E</td>\n",
       "    </tr>\n",
       "    <tr>\n",
       "      <th>3</th>\n",
       "      <td>Wii Sports Resort</td>\n",
       "      <td>Wii</td>\n",
       "      <td>2009.0</td>\n",
       "      <td>Sports</td>\n",
       "      <td>15.61</td>\n",
       "      <td>10.93</td>\n",
       "      <td>3.28</td>\n",
       "      <td>2.95</td>\n",
       "      <td>80.0</td>\n",
       "      <td>8</td>\n",
       "      <td>E</td>\n",
       "    </tr>\n",
       "    <tr>\n",
       "      <th>4</th>\n",
       "      <td>Pokemon Red/Pokemon Blue</td>\n",
       "      <td>GB</td>\n",
       "      <td>1996.0</td>\n",
       "      <td>Role-Playing</td>\n",
       "      <td>11.27</td>\n",
       "      <td>8.89</td>\n",
       "      <td>10.22</td>\n",
       "      <td>1.00</td>\n",
       "      <td>NaN</td>\n",
       "      <td>NaN</td>\n",
       "      <td>NaN</td>\n",
       "    </tr>\n",
       "    <tr>\n",
       "      <th>5</th>\n",
       "      <td>Tetris</td>\n",
       "      <td>GB</td>\n",
       "      <td>1989.0</td>\n",
       "      <td>Puzzle</td>\n",
       "      <td>23.20</td>\n",
       "      <td>2.26</td>\n",
       "      <td>4.22</td>\n",
       "      <td>0.58</td>\n",
       "      <td>NaN</td>\n",
       "      <td>NaN</td>\n",
       "      <td>NaN</td>\n",
       "    </tr>\n",
       "    <tr>\n",
       "      <th>6</th>\n",
       "      <td>New Super Mario Bros.</td>\n",
       "      <td>DS</td>\n",
       "      <td>2006.0</td>\n",
       "      <td>Platform</td>\n",
       "      <td>11.28</td>\n",
       "      <td>9.14</td>\n",
       "      <td>6.50</td>\n",
       "      <td>2.88</td>\n",
       "      <td>89.0</td>\n",
       "      <td>8.5</td>\n",
       "      <td>E</td>\n",
       "    </tr>\n",
       "    <tr>\n",
       "      <th>7</th>\n",
       "      <td>Wii Play</td>\n",
       "      <td>Wii</td>\n",
       "      <td>2006.0</td>\n",
       "      <td>Misc</td>\n",
       "      <td>13.96</td>\n",
       "      <td>9.18</td>\n",
       "      <td>2.93</td>\n",
       "      <td>2.84</td>\n",
       "      <td>58.0</td>\n",
       "      <td>6.6</td>\n",
       "      <td>E</td>\n",
       "    </tr>\n",
       "    <tr>\n",
       "      <th>8</th>\n",
       "      <td>New Super Mario Bros. Wii</td>\n",
       "      <td>Wii</td>\n",
       "      <td>2009.0</td>\n",
       "      <td>Platform</td>\n",
       "      <td>14.44</td>\n",
       "      <td>6.94</td>\n",
       "      <td>4.70</td>\n",
       "      <td>2.24</td>\n",
       "      <td>87.0</td>\n",
       "      <td>8.4</td>\n",
       "      <td>E</td>\n",
       "    </tr>\n",
       "    <tr>\n",
       "      <th>9</th>\n",
       "      <td>Duck Hunt</td>\n",
       "      <td>NES</td>\n",
       "      <td>1984.0</td>\n",
       "      <td>Shooter</td>\n",
       "      <td>26.93</td>\n",
       "      <td>0.63</td>\n",
       "      <td>0.28</td>\n",
       "      <td>0.47</td>\n",
       "      <td>NaN</td>\n",
       "      <td>NaN</td>\n",
       "      <td>NaN</td>\n",
       "    </tr>\n",
       "  </tbody>\n",
       "</table>\n",
       "</div>"
      ],
      "text/plain": [
       "                        Name Platform  Year_of_Release         Genre  \\\n",
       "0                 Wii Sports      Wii           2006.0        Sports   \n",
       "1          Super Mario Bros.      NES           1985.0      Platform   \n",
       "2             Mario Kart Wii      Wii           2008.0        Racing   \n",
       "3          Wii Sports Resort      Wii           2009.0        Sports   \n",
       "4   Pokemon Red/Pokemon Blue       GB           1996.0  Role-Playing   \n",
       "5                     Tetris       GB           1989.0        Puzzle   \n",
       "6      New Super Mario Bros.       DS           2006.0      Platform   \n",
       "7                   Wii Play      Wii           2006.0          Misc   \n",
       "8  New Super Mario Bros. Wii      Wii           2009.0      Platform   \n",
       "9                  Duck Hunt      NES           1984.0       Shooter   \n",
       "\n",
       "   NA_sales  EU_sales  JP_sales  Other_sales  Critic_Score User_Score Rating  \n",
       "0     41.36     28.96      3.77         8.45          76.0          8      E  \n",
       "1     29.08      3.58      6.81         0.77           NaN        NaN    NaN  \n",
       "2     15.68     12.76      3.79         3.29          82.0        8.3      E  \n",
       "3     15.61     10.93      3.28         2.95          80.0          8      E  \n",
       "4     11.27      8.89     10.22         1.00           NaN        NaN    NaN  \n",
       "5     23.20      2.26      4.22         0.58           NaN        NaN    NaN  \n",
       "6     11.28      9.14      6.50         2.88          89.0        8.5      E  \n",
       "7     13.96      9.18      2.93         2.84          58.0        6.6      E  \n",
       "8     14.44      6.94      4.70         2.24          87.0        8.4      E  \n",
       "9     26.93      0.63      0.28         0.47           NaN        NaN    NaN  "
      ]
     },
     "execution_count": 3,
     "metadata": {},
     "output_type": "execute_result"
    }
   ],
   "source": [
    "# ознакомление с данными из датафрейма\n",
    "df.head(10)"
   ]
  },
  {
   "cell_type": "markdown",
   "metadata": {},
   "source": [
    "Приведем названия столбцов к нижнему регистру"
   ]
  },
  {
   "cell_type": "code",
   "execution_count": 4,
   "metadata": {
    "scrolled": true
   },
   "outputs": [],
   "source": [
    "df = df.rename(str.lower, axis = 'columns')"
   ]
  },
  {
   "cell_type": "code",
   "execution_count": 5,
   "metadata": {
    "scrolled": true
   },
   "outputs": [
    {
     "data": {
      "text/plain": [
       "Index(['name', 'platform', 'year_of_release', 'genre', 'na_sales', 'eu_sales',\n",
       "       'jp_sales', 'other_sales', 'critic_score', 'user_score', 'rating'],\n",
       "      dtype='object')"
      ]
     },
     "execution_count": 5,
     "metadata": {},
     "output_type": "execute_result"
    }
   ],
   "source": [
    "# проверим, как прошло переименование столбцов\n",
    "df.columns"
   ]
  },
  {
   "cell_type": "code",
   "execution_count": 6,
   "metadata": {
    "scrolled": false
   },
   "outputs": [
    {
     "name": "stdout",
     "output_type": "stream",
     "text": [
      "<class 'pandas.core.frame.DataFrame'>\n",
      "RangeIndex: 16715 entries, 0 to 16714\n",
      "Data columns (total 11 columns):\n",
      " #   Column           Non-Null Count  Dtype  \n",
      "---  ------           --------------  -----  \n",
      " 0   name             16713 non-null  object \n",
      " 1   platform         16715 non-null  object \n",
      " 2   year_of_release  16446 non-null  float64\n",
      " 3   genre            16713 non-null  object \n",
      " 4   na_sales         16715 non-null  float64\n",
      " 5   eu_sales         16715 non-null  float64\n",
      " 6   jp_sales         16715 non-null  float64\n",
      " 7   other_sales      16715 non-null  float64\n",
      " 8   critic_score     8137 non-null   float64\n",
      " 9   user_score       10014 non-null  object \n",
      " 10  rating           9949 non-null   object \n",
      "dtypes: float64(6), object(5)\n",
      "memory usage: 1.4+ MB\n"
     ]
    }
   ],
   "source": [
    "df.info()"
   ]
  },
  {
   "cell_type": "code",
   "execution_count": 7,
   "metadata": {
    "scrolled": true
   },
   "outputs": [
    {
     "data": {
      "text/plain": [
       "16715"
      ]
     },
     "execution_count": 7,
     "metadata": {},
     "output_type": "execute_result"
    }
   ],
   "source": [
    "# смотрим, сколько всего записей содержится в датафрейме\n",
    "df.shape[0]"
   ]
  },
  {
   "cell_type": "code",
   "execution_count": 8,
   "metadata": {
    "scrolled": true
   },
   "outputs": [
    {
     "data": {
      "text/plain": [
       "0"
      ]
     },
     "execution_count": 8,
     "metadata": {},
     "output_type": "execute_result"
    }
   ],
   "source": [
    "# суммарное количество дубликатов в таблице df\n",
    "df.duplicated().sum()"
   ]
  },
  {
   "cell_type": "markdown",
   "metadata": {},
   "source": [
    "Таблица состоит из 10 столбцов. Общее количество записей - 16715. Есть столбцы, в которых количество записей меньше, что говорит пропуске данных. Полные дубликаты отсутствуют."
   ]
  },
  {
   "cell_type": "code",
   "execution_count": 9,
   "metadata": {
    "scrolled": false
   },
   "outputs": [
    {
     "data": {
      "text/plain": [
       "name                  2\n",
       "platform              0\n",
       "year_of_release     269\n",
       "genre                 2\n",
       "na_sales              0\n",
       "eu_sales              0\n",
       "jp_sales              0\n",
       "other_sales           0\n",
       "critic_score       8578\n",
       "user_score         6701\n",
       "rating             6766\n",
       "dtype: int64"
      ]
     },
     "execution_count": 9,
     "metadata": {},
     "output_type": "execute_result"
    }
   ],
   "source": [
    "# проверим, сколько пропусков в каждом столбце\n",
    "df.isna().sum()"
   ]
  },
  {
   "cell_type": "markdown",
   "metadata": {},
   "source": [
    "**Столбцы genre и name**"
   ]
  },
  {
   "cell_type": "markdown",
   "metadata": {},
   "source": [
    "Пропусков в столбцах name и genre всего по два. Удаление такого количества записей не повлияет на дальнейший анализ данных."
   ]
  },
  {
   "cell_type": "code",
   "execution_count": 10,
   "metadata": {
    "scrolled": true
   },
   "outputs": [],
   "source": [
    "# удаляем записи с пропусками в столбцах 'name' и 'genre'\n",
    "df = df.dropna(subset=['name', 'genre'])"
   ]
  },
  {
   "cell_type": "code",
   "execution_count": 11,
   "metadata": {
    "scrolled": true
   },
   "outputs": [
    {
     "data": {
      "text/plain": [
       "16713"
      ]
     },
     "execution_count": 11,
     "metadata": {},
     "output_type": "execute_result"
    }
   ],
   "source": [
    "df.shape[0]"
   ]
  },
  {
   "cell_type": "markdown",
   "metadata": {},
   "source": [
    "После того, как мы удалили строки с незаполненными значениями в столбцах с названием игр и названием жанров, датасет сократился всего на две строки, значит, пустые значения были в одних и тех же строках."
   ]
  },
  {
   "cell_type": "markdown",
   "metadata": {},
   "source": [
    "**Столбец year_of_release**"
   ]
  },
  {
   "cell_type": "code",
   "execution_count": 12,
   "metadata": {
    "scrolled": false
   },
   "outputs": [
    {
     "name": "stdout",
     "output_type": "stream",
     "text": [
      "['Madden NFL 2004' 'FIFA Soccer 2004' 'LEGO Batman: The Videogame'\n",
      " 'wwe Smackdown vs. Raw 2006' 'Space Invaders' 'Rock Band'\n",
      " \"Frogger's Adventures: Temple of the Frog\"\n",
      " 'LEGO Indiana Jones: The Original Adventures' 'Call of Duty 3'\n",
      " 'Call of Duty: Black Ops' 'Triple Play 99' 'Adventure' 'Combat'\n",
      " 'LEGO Harry Potter: Years 5-7' 'NASCAR Thunder 2003'\n",
      " 'Hitman 2: Silent Assassin' 'Legacy of Kain: Soul Reaver'\n",
      " 'Donkey Kong Land III' 'Air-Sea Battle' 'Suikoden III' 'Wheel of Fortune'\n",
      " 'Yakuza 4' 'Namco Museum' 'Rhythm Heaven'\n",
      " 'The Lord of the Rings: War in the North' 'Madden NFL 07'\n",
      " 'MLB SlugFest 20-03' 'Shaun White Snowboarding'\n",
      " 'PES 2009: Pro Evolution Soccer' 'WarioWare: Twisted!' 'Madden NFL 11'\n",
      " 'Test Drive Unlimited 2'\n",
      " 'The Chronicles of Narnia: The Lion, The Witch and The Wardrobe'\n",
      " 'Monster Hunter 2' 'Metal Gear Solid 2: Substance'\n",
      " 'Advance Wars: Days of Ruin' 'The Golden Compass' 'Madden NFL 06'\n",
      " 'NASCAR: Dirt to Daytona' 'Madden NFL 2002' 'Def Jam: Fight for NY'\n",
      " 'NBA Street Vol. 2' 'Fishing Derby' 'Wet' 'Sonic the Hedgehog' 'Karate'\n",
      " 'Tiger Woods PGA Tour 07' 'Circus Atari'\n",
      " 'The Chronicles of Riddick: Escape from Butcher Bay'\n",
      " \"Maze Craze: A Game of Cops 'n Robbers\" 'Silent Hill: Homecoming'\n",
      " 'Super Breakout' \"Robert Ludlum's The Bourne Conspiracy\" 'NHL Slapshot'\n",
      " 'TERA' 'NFL GameDay 2003' 'Harvest Moon: Save the Homeland' 'Hangman'\n",
      " 'NBA Live 2003' \"Cubix Robots for Everyone: Clash 'n' Bash\"\n",
      " 'Dragon Ball Z: Budokai Tenkaichi 2 (JP sales)' 'Tropico 4'\n",
      " 'Tomb Raider (2013)' 'Bejeweled 3' 'Custom Robo' 'Final Fantasy XI'\n",
      " 'Singularity' 'Dragster' 'All-Star Baseball 2005'\n",
      " 'Star Wars Jedi Knight II: Jedi Outcast' 'Slot Machine'\n",
      " 'The Dukes of Hazzard II: Daisy Dukes It Out'\n",
      " 'Harvest Moon: The Tale of Two Towns' 'Shrek the Third'\n",
      " 'Nicktoons: Battle for Volcano Island' 'Haven: Call of the King'\n",
      " 'Unreal Championship 2: The Liandri Conflict' 'Pac-Man Fever'\n",
      " 'The Legend of Zelda: The Minish Cap(weekly JP sales)' 'Indy 500'\n",
      " 'Disgaea 3: Absence of Detention' 'Flag Capture' 'Gun' 'Rock Revolution'\n",
      " 'College Hoops 2K6' 'Jonah Lomu Rugby Challenge' 'Mega Man X Collection'\n",
      " 'BioShock 2' 'Danganronpa: Trigger Happy Havoc' 'Jet X20'\n",
      " \"Tony Hawk's Downhill Jam\" 'Tribes: Aerial Assault' 'Big Beach Sports 2'\n",
      " 'Yu Yu Hakusho: Dark Tournament' 'Ghostbusters II' 'Breakaway IV'\n",
      " 'Robotech: Battlecry' 'Move Fitness'\n",
      " 'Valkyria Chronicles III: Unrecorded Chronicles'\n",
      " 'DanceDanceRevolution II' 'WRC: FIA World Rally Championship'\n",
      " 'Famista 64' 'Dead Space 3' 'Pet Zombies' 'Star Trek: Legacy'\n",
      " 'Backbreaker' 'Twisted Metal: Small Brawl' 'Otomedius Excellent'\n",
      " 'NBA Starting Five' 'Teen Titans' 'Trauma Team'\n",
      " \"James Cameron's Dark Angel\" 'Sword of the Samurai' 'Splatterhouse'\n",
      " 'Alone in the Dark: The New Nightmare' 'Vegas Party'\n",
      " 'Jurassic Park: The Game' 'Home Run' 'eJay Clubworld' 'Our House Party!'\n",
      " 'WCW Backstage Assault' \"Disney's Cinderella: Magical Dreams\"\n",
      " 'Transworld Surf' 'Street Fighter IV' 'Nintendo Puzzle Collection'\n",
      " 'Charm Girls Club: My Fashion Mall' 'Record of Agarest War Zero'\n",
      " 'Rocksmith'\n",
      " 'Super Robot Wars OG Saga: Masou Kishin II - Revelation of Evil God'\n",
      " 'Saru! Get You! Million Monkeys' 'Street Hoops'\n",
      " 'Godzilla: Destroy All Monsters Melee' 'The Daring Game for Girls'\n",
      " 'Major League Baseball 2K6' 'Star Trek: Conquest' 'GiFTPiA'\n",
      " 'Happy Feet Two' \"Disney's Chicken Little: Ace In Action\"\n",
      " 'Atsumare! Power Pro Kun no DS Koushien' 'My Healthy Cooking Coach'\n",
      " 'Luminous Arc 2 (JP sales)' 'Egg Monster Hero' 'Demon Chaos'\n",
      " 'Samurai Shodown Anthology' 'Action Man-Operation Extreme'\n",
      " 'Super Puzzle Fighter II' 'Charm Girls Club: My Fashion Show'\n",
      " 'Face Racers: Photo Finish' 'Zero: Tsukihami no Kamen' 'The Hidden'\n",
      " 'Get Fit with Mel B' 'Mega Man Battle Network: Operation Shooting Star'\n",
      " 'Smashing Drive' 'Port Royale 3' 'Dream Trigger 3D'\n",
      " 'Dead Island: Riptide' 'Yoostar on MTV' 'Tornado'\n",
      " \"McFarlane's Evil Prophecy\" 'Drake of the 99 Dragons'\n",
      " 'Build-A-Bear Workshop: Friendship Valley' 'Rayman Arena'\n",
      " 'National Geographic Challenge!' 'Alex Rider: Stormbreaker'\n",
      " 'Chou Soujuu Mecha MG' 'Prinny: Can I Really Be The Hero? (US sales)'\n",
      " 'Combat Elite: WWII Paratroopers' \"Flip's Twisted World\"\n",
      " 'Mobile Ops: The One Year War' \"Tom Clancy's Rainbow Six: Critical Hour\"\n",
      " 'Jewel Link Chronicles: Mountains of Madness'\n",
      " 'Captain America: Super Soldier' 'Mountain Bike Adrenaline' 'Drill Dozer'\n",
      " 'GRID' 'Tour de France 2011' 'Reader Rabbit 2nd Grade'\n",
      " 'Monster Hunter Frontier Online' 'RollerCoaster Tycoon'\n",
      " 'Battle vs. Chess' 'The History Channel: Great Battles - Medieval'\n",
      " 'Clockwork Empires' 'B.L.U.E.: Legend of Water' 'NHL Hitz Pro'\n",
      " \"Luxor: Pharaoh's Challenge\" 'Sega Rally 2006' 'Half-Minute Hero 2'\n",
      " 'Housekeeping' 'Major League Baseball 2K8' 'Sabre Wulf' 'Swords'\n",
      " 'Beyond the Labyrinth' 'Bikkuriman Daijiten'\n",
      " 'Majesty 2: The Fantasy Kingdom Sim' 'Fullmetal Alchemist: Brotherhood'\n",
      " 'Samurai Spirits: Tenkaichi Kenkakuden' 'World of Tanks'\n",
      " 'Tom and Jerry in War of the Whiskers' 'Super Duper Sumos'\n",
      " 'The King of Fighters: Maximum Impact - Maniax'\n",
      " 'Combat Wings: The Great Battles of WWII' 'Tube Slider'\n",
      " 'Umineko no Naku Koro ni San: Shinjitsu to Gensou no Yasoukyoku'\n",
      " 'Payout Poker & Casino' 'Wii de Asobu: Metroid Prime'\n",
      " 'Legacy of Ys: Books I & II' 'Saint' 'Steal Princess' 'Mario Tennis'\n",
      " 'Runaway: A Twist of Fate' \"Yu-Gi-Oh! 5D's Wheelie Breakers (JP sales)\"\n",
      " \"Cabela's Alaskan Adventure\" 'Writing and Speaking Beautiful Japanese DS'\n",
      " 'Virtua Quest' \"Shonen Jump's Yu-Gi-Oh! GX Card Almanac\"\n",
      " 'Without Warning' 'PDC World Championship Darts 2008'\n",
      " 'Dinotopia: The Sunstone Odyssey' 'Jet Impulse' 'Dream Dancer'\n",
      " \"Dance! It's Your Stage\" 'Football Manager 2007'\n",
      " 'Ferrari: The Race Experience' 'Aquaman: Battle for Atlantis'\n",
      " 'Homeworld Remastered Collection' 'Shorts'\n",
      " 'AKB1/48: Idol to Guam de Koishitara...' 'Brothers in Arms: Furious 4'\n",
      " 'Agarest Senki: Re-appearance' 'Freaky Flyers' 'Inversion'\n",
      " 'Hakuouki: Shinsengumi Kitan']\n"
     ]
    }
   ],
   "source": [
    "# посмотрим на названия игр\n",
    "print(df.loc[df['year_of_release'].isna(), 'name'].unique())"
   ]
  },
  {
   "cell_type": "markdown",
   "metadata": {},
   "source": [
    "Есть поля, в которых пропущен год релиза. Если посмотреть на названия игр, в которых встречаются эти пропуски, можно увидеть, что в ряде случаев год указан в самом названии. Но, чтобы убедиться совпадает ли год в названии с годом выхода игры, обратимся к открытым данным в интернете.  \n",
    "\n",
    "Из открытых данных на примере нескольких игр ('Madden NFL 2004', 'FIFA Soccer 2004, 'NASCAR Thunder 2003') видим, что в названии игр указывается год, следующий за годом выпуска игры. На основе этих данных заполним пропуски в поле year_of_release там, где это возможно. Остальные строки с пропущенным годом удалим. Таких строк всего 245, что составляет менее 1,5% от всех данных. Удаление не должно привести к искажению результатов исследования."
   ]
  },
  {
   "cell_type": "code",
   "execution_count": 13,
   "metadata": {
    "scrolled": true
   },
   "outputs": [],
   "source": [
    "# заполняем пропуски на основе года, прописанного в названии игр\n",
    "df.loc[df['name'] == 'Madden NFL 2004', 'year_of_release'] = 2003\n",
    "df.loc[df['name'] == 'FIFA Soccer 2004', 'year_of_release'] = 2003\n",
    "df.loc[df['name'] == 'wwe Smackdown vs. Raw 2006', 'year_of_release'] = 2005\n",
    "df.loc[df['name'] == 'Triple Play 99', 'year_of_release'] = 1998\n",
    "df.loc[df['name'] == 'NASCAR Thunder 2003', 'year_of_release'] = 2002\n",
    "df.loc[df['name'] == 'Madden NFL 07', 'year_of_release'] = 2006\n",
    "df.loc[df['name'] == 'MLB SlugFest 20-03', 'year_of_release'] = 2002\n",
    "df.loc[df['name'] == 'PES 2009: Pro Evolution Soccer', 'year_of_release'] = 2008\n",
    "df.loc[df['name'] == 'Madden NFL 11', 'year_of_release'] = 2010\n",
    "df.loc[df['name'] == 'Madden NFL 06', 'year_of_release'] = 2005\n",
    "df.loc[df['name'] == 'Madden NFL 2002', 'year_of_release'] = 2001 \n",
    "df.loc[df['name'] == 'Tiger Woods PGA Tour 07', 'year_of_release'] = 2006 \n",
    "df.loc[df['name'] == 'NFL GameDay 2003', 'year_of_release'] = 2002\n",
    "df.loc[df['name'] == 'NBA Live 2003', 'year_of_release'] = 2002\n",
    "df.loc[df['name'] == 'Tomb Raider (2013)', 'year_of_release'] = 2012\n",
    "df.loc[df['name'] == 'All-Star Baseball 2005', 'year_of_release'] = 2004\n",
    "df.loc[df['name'] == 'Drake of the 99 Dragons', 'year_of_release'] = 1998\n",
    "df.loc[df['name'] == 'Tour de France 2011', 'year_of_release'] = 2010\n",
    "df.loc[df['name'] == 'Sega Rally 2006', 'year_of_release'] = 2005\n",
    "df.loc[df['name'] == 'PDC World Championship Darts 2008', 'year_of_release'] = 2007\n",
    "df.loc[df['name'] == 'Football Manager 2007', 'year_of_release'] = 2006"
   ]
  },
  {
   "cell_type": "code",
   "execution_count": 14,
   "metadata": {
    "scrolled": true
   },
   "outputs": [],
   "source": [
    "# удаляем записи с пропусками в столбце 'year_of_release'\n",
    "df = df.dropna(subset=['year_of_release'])"
   ]
  },
  {
   "cell_type": "code",
   "execution_count": 15,
   "metadata": {
    "scrolled": true
   },
   "outputs": [
    {
     "data": {
      "text/plain": [
       "name                  0\n",
       "platform              0\n",
       "year_of_release       0\n",
       "genre                 0\n",
       "na_sales              0\n",
       "eu_sales              0\n",
       "jp_sales              0\n",
       "other_sales           0\n",
       "critic_score       8467\n",
       "user_score         6611\n",
       "rating             6683\n",
       "dtype: int64"
      ]
     },
     "execution_count": 15,
     "metadata": {},
     "output_type": "execute_result"
    }
   ],
   "source": [
    "df.isna().sum()"
   ]
  },
  {
   "cell_type": "markdown",
   "metadata": {},
   "source": [
    "Больше нет пропусков по годам, но данные в колонке 'year_of_release' имеют вещественный тип. Год не принято записывать в виде дробного числа, поэтому выполним преобразование в тип integer"
   ]
  },
  {
   "cell_type": "code",
   "execution_count": 16,
   "metadata": {
    "scrolled": true
   },
   "outputs": [],
   "source": [
    "df['year_of_release'] = df['year_of_release'].astype('int')"
   ]
  },
  {
   "cell_type": "markdown",
   "metadata": {},
   "source": [
    "**Столбец user_score**"
   ]
  },
  {
   "cell_type": "code",
   "execution_count": 17,
   "metadata": {
    "scrolled": true
   },
   "outputs": [
    {
     "data": {
      "text/plain": [
       "tbd    2378\n",
       "7.8     322\n",
       "8       285\n",
       "8.2     278\n",
       "8.3     252\n",
       "       ... \n",
       "1         2\n",
       "0.7       2\n",
       "1.1       2\n",
       "9.7       1\n",
       "0         1\n",
       "Name: user_score, Length: 96, dtype: int64"
      ]
     },
     "execution_count": 17,
     "metadata": {},
     "output_type": "execute_result"
    }
   ],
   "source": [
    "df['user_score'].value_counts()"
   ]
  },
  {
   "cell_type": "markdown",
   "metadata": {},
   "source": [
    "Помимо числовых значений, в столбце 'user_score' встречается более 2 тыс. значений 'tbd'.\n",
    "\n",
    "TBD - аббревиатура от английского To Be Determined (будет определено) или To Be Decided (будет решено). Используется, если какая-то информация еще не определена или решение по вопросу не принято. Т.е. в 2378 строках с пометкой 'tbd' в оценке пользователей данные пропущены, но в дальнейшем планируется их заполнение. Следовательно, мы можем заменить их на Nan."
   ]
  },
  {
   "cell_type": "code",
   "execution_count": 18,
   "metadata": {
    "scrolled": true
   },
   "outputs": [],
   "source": [
    "df = df.replace('tbd', np.nan)"
   ]
  },
  {
   "cell_type": "code",
   "execution_count": 19,
   "metadata": {
    "scrolled": true
   },
   "outputs": [
    {
     "data": {
      "text/plain": [
       "0"
      ]
     },
     "execution_count": 19,
     "metadata": {},
     "output_type": "execute_result"
    }
   ],
   "source": [
    "# проверим, как выполнилась операция по замене значений 'tbd' в столбце 'user_score'\n",
    "df.loc[df['user_score'] == 'tbd']['name'].count()"
   ]
  },
  {
   "cell_type": "code",
   "execution_count": 20,
   "metadata": {
    "scrolled": true
   },
   "outputs": [],
   "source": [
    "# в 'user_score' больше не содержится строковых значений, выполним приведение к вещественному типу данных float\n",
    "df['user_score'] = df['user_score'].astype('float')"
   ]
  },
  {
   "cell_type": "code",
   "execution_count": 21,
   "metadata": {
    "scrolled": true
   },
   "outputs": [
    {
     "data": {
      "text/plain": [
       "name                object\n",
       "platform            object\n",
       "year_of_release      int64\n",
       "genre               object\n",
       "na_sales           float64\n",
       "eu_sales           float64\n",
       "jp_sales           float64\n",
       "other_sales        float64\n",
       "critic_score       float64\n",
       "user_score         float64\n",
       "rating              object\n",
       "dtype: object"
      ]
     },
     "execution_count": 21,
     "metadata": {},
     "output_type": "execute_result"
    }
   ],
   "source": [
    "# прооверка типов данных по столбцам\n",
    "df.dtypes"
   ]
  },
  {
   "cell_type": "markdown",
   "metadata": {},
   "source": [
    "**Столбец rating**"
   ]
  },
  {
   "cell_type": "markdown",
   "metadata": {},
   "source": [
    "Колонка rating - рейтинг от организации ESRB с определением возрастной категории («EC» — «Для детей младшего возраста», «E»  — «Для всех», «E10+» — «Для всех от 10 лет и старше», «T» — «Подросткам», «M» — «Для взрослых», «AO» — «Только для взрослых», «RP» — «Рейтинг ожидается»).\n",
    "\n",
    "В поле 'rating' также достаточно большое количество пропусков. У нас нет данных, на основе которых мы могли бы заполнить эти пропуски. Заполним их значением 'unknown'"
   ]
  },
  {
   "cell_type": "code",
   "execution_count": 22,
   "metadata": {
    "scrolled": true
   },
   "outputs": [],
   "source": [
    "# заполнение пропусков в столбце rating\n",
    "df['rating'] = df['rating'].fillna('unknown')"
   ]
  },
  {
   "cell_type": "code",
   "execution_count": 23,
   "metadata": {
    "scrolled": true
   },
   "outputs": [
    {
     "data": {
      "text/plain": [
       "name                  0\n",
       "platform              0\n",
       "year_of_release       0\n",
       "genre                 0\n",
       "na_sales              0\n",
       "eu_sales              0\n",
       "jp_sales              0\n",
       "other_sales           0\n",
       "critic_score       8467\n",
       "user_score         8989\n",
       "rating                0\n",
       "dtype: int64"
      ]
     },
     "execution_count": 23,
     "metadata": {},
     "output_type": "execute_result"
    }
   ],
   "source": [
    "df.isna().sum()"
   ]
  },
  {
   "cell_type": "markdown",
   "metadata": {},
   "source": [
    "**Столбец critic_score**"
   ]
  },
  {
   "cell_type": "markdown",
   "metadata": {},
   "source": [
    "В столбцах critic_score и user_score содержится примерно одинаковое количество пропусков. Возможной причиной может быть то, что оценки критиков и игроков по некоторым играм пока не успели загрузить. Заполним пропуски в этих столбцах каким-либо значением, которое в дальнейшем сможем легко отфильтровать. Например, отрицательным значением \"-1\"."
   ]
  },
  {
   "cell_type": "code",
   "execution_count": 24,
   "metadata": {
    "scrolled": true
   },
   "outputs": [],
   "source": [
    "df['critic_score'] = df['critic_score'].fillna(-1)\n",
    "df['user_score'] = df['user_score'].fillna(-1)"
   ]
  },
  {
   "cell_type": "code",
   "execution_count": 25,
   "metadata": {
    "scrolled": false
   },
   "outputs": [
    {
     "data": {
      "text/plain": [
       "name               0\n",
       "platform           0\n",
       "year_of_release    0\n",
       "genre              0\n",
       "na_sales           0\n",
       "eu_sales           0\n",
       "jp_sales           0\n",
       "other_sales        0\n",
       "critic_score       0\n",
       "user_score         0\n",
       "rating             0\n",
       "dtype: int64"
      ]
     },
     "execution_count": 25,
     "metadata": {},
     "output_type": "execute_result"
    }
   ],
   "source": [
    "df.isna().sum()"
   ]
  },
  {
   "cell_type": "markdown",
   "metadata": {},
   "source": [
    "Посчитаем суммарные продажи по всем регионам и запишем их в отдельный столбец 'total_sales'"
   ]
  },
  {
   "cell_type": "code",
   "execution_count": 26,
   "metadata": {},
   "outputs": [],
   "source": [
    "df['total_sales'] = df[['na_sales','eu_sales','jp_sales', 'other_sales']].sum(axis = 1)"
   ]
  },
  {
   "cell_type": "code",
   "execution_count": 27,
   "metadata": {
    "scrolled": true
   },
   "outputs": [
    {
     "data": {
      "text/html": [
       "<div>\n",
       "<style scoped>\n",
       "    .dataframe tbody tr th:only-of-type {\n",
       "        vertical-align: middle;\n",
       "    }\n",
       "\n",
       "    .dataframe tbody tr th {\n",
       "        vertical-align: top;\n",
       "    }\n",
       "\n",
       "    .dataframe thead th {\n",
       "        text-align: right;\n",
       "    }\n",
       "</style>\n",
       "<table border=\"1\" class=\"dataframe\">\n",
       "  <thead>\n",
       "    <tr style=\"text-align: right;\">\n",
       "      <th></th>\n",
       "      <th>name</th>\n",
       "      <th>platform</th>\n",
       "      <th>year_of_release</th>\n",
       "      <th>genre</th>\n",
       "      <th>na_sales</th>\n",
       "      <th>eu_sales</th>\n",
       "      <th>jp_sales</th>\n",
       "      <th>other_sales</th>\n",
       "      <th>critic_score</th>\n",
       "      <th>user_score</th>\n",
       "      <th>rating</th>\n",
       "      <th>total_sales</th>\n",
       "    </tr>\n",
       "  </thead>\n",
       "  <tbody>\n",
       "    <tr>\n",
       "      <th>0</th>\n",
       "      <td>Wii Sports</td>\n",
       "      <td>Wii</td>\n",
       "      <td>2006</td>\n",
       "      <td>Sports</td>\n",
       "      <td>41.36</td>\n",
       "      <td>28.96</td>\n",
       "      <td>3.77</td>\n",
       "      <td>8.45</td>\n",
       "      <td>76.0</td>\n",
       "      <td>8.0</td>\n",
       "      <td>E</td>\n",
       "      <td>82.54</td>\n",
       "    </tr>\n",
       "    <tr>\n",
       "      <th>1</th>\n",
       "      <td>Super Mario Bros.</td>\n",
       "      <td>NES</td>\n",
       "      <td>1985</td>\n",
       "      <td>Platform</td>\n",
       "      <td>29.08</td>\n",
       "      <td>3.58</td>\n",
       "      <td>6.81</td>\n",
       "      <td>0.77</td>\n",
       "      <td>-1.0</td>\n",
       "      <td>-1.0</td>\n",
       "      <td>unknown</td>\n",
       "      <td>40.24</td>\n",
       "    </tr>\n",
       "    <tr>\n",
       "      <th>2</th>\n",
       "      <td>Mario Kart Wii</td>\n",
       "      <td>Wii</td>\n",
       "      <td>2008</td>\n",
       "      <td>Racing</td>\n",
       "      <td>15.68</td>\n",
       "      <td>12.76</td>\n",
       "      <td>3.79</td>\n",
       "      <td>3.29</td>\n",
       "      <td>82.0</td>\n",
       "      <td>8.3</td>\n",
       "      <td>E</td>\n",
       "      <td>35.52</td>\n",
       "    </tr>\n",
       "  </tbody>\n",
       "</table>\n",
       "</div>"
      ],
      "text/plain": [
       "                name platform  year_of_release     genre  na_sales  eu_sales  \\\n",
       "0         Wii Sports      Wii             2006    Sports     41.36     28.96   \n",
       "1  Super Mario Bros.      NES             1985  Platform     29.08      3.58   \n",
       "2     Mario Kart Wii      Wii             2008    Racing     15.68     12.76   \n",
       "\n",
       "   jp_sales  other_sales  critic_score  user_score   rating  total_sales  \n",
       "0      3.77         8.45          76.0         8.0        E        82.54  \n",
       "1      6.81         0.77          -1.0        -1.0  unknown        40.24  \n",
       "2      3.79         3.29          82.0         8.3        E        35.52  "
      ]
     },
     "execution_count": 27,
     "metadata": {},
     "output_type": "execute_result"
    }
   ],
   "source": [
    "df.head(3)"
   ]
  },
  {
   "cell_type": "markdown",
   "metadata": {},
   "source": [
    "На этапе предобработки данных мы выявили наличие пропусков в 6 столбцах. Небольшое количество записей с пропусками было удалено. Частично были заполнены пропуски по пропущенным годам данными полученными из названий игр. Достаточно большое количество пропусков было выявлено в столбцах с оценками критиков и пользователей (почти 50%) и в столбце с рейтингом. Пропущенные оценки были заменены на значение \"-1\" для более легкой фильтрации при дальнейшем анализе. Заполнение пропусков рейтинга (возрастного ограничения) было выполнено значением 'unknown'.\n",
    "\n",
    "Также были скорректированы названия столбцов путем изменения регистра и добавлен новый столбец с суммой продаж игр по регионам. По нескольким столбцам было выполнено приведение к более удобным для дальнейших рассчетов типам данных.\n",
    "\n"
   ]
  },
  {
   "cell_type": "markdown",
   "metadata": {},
   "source": [
    "## Исследовательский анализ данных"
   ]
  },
  {
   "cell_type": "markdown",
   "metadata": {},
   "source": [
    "**Выпуск игр по годам**"
   ]
  },
  {
   "cell_type": "code",
   "execution_count": 28,
   "metadata": {
    "scrolled": true
   },
   "outputs": [],
   "source": [
    "games_by_year = df.groupby('year_of_release', as_index=False)['name'].count().rename(columns={'name': 'games_count'})"
   ]
  },
  {
   "cell_type": "code",
   "execution_count": 29,
   "metadata": {
    "scrolled": true
   },
   "outputs": [
    {
     "data": {
      "text/html": [
       "<div>\n",
       "<style scoped>\n",
       "    .dataframe tbody tr th:only-of-type {\n",
       "        vertical-align: middle;\n",
       "    }\n",
       "\n",
       "    .dataframe tbody tr th {\n",
       "        vertical-align: top;\n",
       "    }\n",
       "\n",
       "    .dataframe thead th {\n",
       "        text-align: right;\n",
       "    }\n",
       "</style>\n",
       "<table border=\"1\" class=\"dataframe\">\n",
       "  <thead>\n",
       "    <tr style=\"text-align: right;\">\n",
       "      <th></th>\n",
       "      <th>year_of_release</th>\n",
       "      <th>games_count</th>\n",
       "    </tr>\n",
       "  </thead>\n",
       "  <tbody>\n",
       "    <tr>\n",
       "      <th>0</th>\n",
       "      <td>1980</td>\n",
       "      <td>9</td>\n",
       "    </tr>\n",
       "    <tr>\n",
       "      <th>1</th>\n",
       "      <td>1981</td>\n",
       "      <td>46</td>\n",
       "    </tr>\n",
       "    <tr>\n",
       "      <th>2</th>\n",
       "      <td>1982</td>\n",
       "      <td>36</td>\n",
       "    </tr>\n",
       "    <tr>\n",
       "      <th>3</th>\n",
       "      <td>1983</td>\n",
       "      <td>17</td>\n",
       "    </tr>\n",
       "    <tr>\n",
       "      <th>4</th>\n",
       "      <td>1984</td>\n",
       "      <td>14</td>\n",
       "    </tr>\n",
       "    <tr>\n",
       "      <th>5</th>\n",
       "      <td>1985</td>\n",
       "      <td>14</td>\n",
       "    </tr>\n",
       "    <tr>\n",
       "      <th>6</th>\n",
       "      <td>1986</td>\n",
       "      <td>21</td>\n",
       "    </tr>\n",
       "    <tr>\n",
       "      <th>7</th>\n",
       "      <td>1987</td>\n",
       "      <td>16</td>\n",
       "    </tr>\n",
       "    <tr>\n",
       "      <th>8</th>\n",
       "      <td>1988</td>\n",
       "      <td>15</td>\n",
       "    </tr>\n",
       "    <tr>\n",
       "      <th>9</th>\n",
       "      <td>1989</td>\n",
       "      <td>17</td>\n",
       "    </tr>\n",
       "    <tr>\n",
       "      <th>10</th>\n",
       "      <td>1990</td>\n",
       "      <td>16</td>\n",
       "    </tr>\n",
       "    <tr>\n",
       "      <th>11</th>\n",
       "      <td>1991</td>\n",
       "      <td>41</td>\n",
       "    </tr>\n",
       "    <tr>\n",
       "      <th>12</th>\n",
       "      <td>1992</td>\n",
       "      <td>43</td>\n",
       "    </tr>\n",
       "    <tr>\n",
       "      <th>13</th>\n",
       "      <td>1993</td>\n",
       "      <td>60</td>\n",
       "    </tr>\n",
       "    <tr>\n",
       "      <th>14</th>\n",
       "      <td>1994</td>\n",
       "      <td>121</td>\n",
       "    </tr>\n",
       "    <tr>\n",
       "      <th>15</th>\n",
       "      <td>1995</td>\n",
       "      <td>219</td>\n",
       "    </tr>\n",
       "    <tr>\n",
       "      <th>16</th>\n",
       "      <td>1996</td>\n",
       "      <td>263</td>\n",
       "    </tr>\n",
       "    <tr>\n",
       "      <th>17</th>\n",
       "      <td>1997</td>\n",
       "      <td>289</td>\n",
       "    </tr>\n",
       "    <tr>\n",
       "      <th>18</th>\n",
       "      <td>1998</td>\n",
       "      <td>381</td>\n",
       "    </tr>\n",
       "    <tr>\n",
       "      <th>19</th>\n",
       "      <td>1999</td>\n",
       "      <td>338</td>\n",
       "    </tr>\n",
       "    <tr>\n",
       "      <th>20</th>\n",
       "      <td>2000</td>\n",
       "      <td>350</td>\n",
       "    </tr>\n",
       "    <tr>\n",
       "      <th>21</th>\n",
       "      <td>2001</td>\n",
       "      <td>483</td>\n",
       "    </tr>\n",
       "    <tr>\n",
       "      <th>22</th>\n",
       "      <td>2002</td>\n",
       "      <td>834</td>\n",
       "    </tr>\n",
       "    <tr>\n",
       "      <th>23</th>\n",
       "      <td>2003</td>\n",
       "      <td>777</td>\n",
       "    </tr>\n",
       "    <tr>\n",
       "      <th>24</th>\n",
       "      <td>2004</td>\n",
       "      <td>764</td>\n",
       "    </tr>\n",
       "    <tr>\n",
       "      <th>25</th>\n",
       "      <td>2005</td>\n",
       "      <td>942</td>\n",
       "    </tr>\n",
       "    <tr>\n",
       "      <th>26</th>\n",
       "      <td>2006</td>\n",
       "      <td>1009</td>\n",
       "    </tr>\n",
       "    <tr>\n",
       "      <th>27</th>\n",
       "      <td>2007</td>\n",
       "      <td>1200</td>\n",
       "    </tr>\n",
       "    <tr>\n",
       "      <th>28</th>\n",
       "      <td>2008</td>\n",
       "      <td>1428</td>\n",
       "    </tr>\n",
       "    <tr>\n",
       "      <th>29</th>\n",
       "      <td>2009</td>\n",
       "      <td>1425</td>\n",
       "    </tr>\n",
       "    <tr>\n",
       "      <th>30</th>\n",
       "      <td>2010</td>\n",
       "      <td>1257</td>\n",
       "    </tr>\n",
       "    <tr>\n",
       "      <th>31</th>\n",
       "      <td>2011</td>\n",
       "      <td>1136</td>\n",
       "    </tr>\n",
       "    <tr>\n",
       "      <th>32</th>\n",
       "      <td>2012</td>\n",
       "      <td>658</td>\n",
       "    </tr>\n",
       "    <tr>\n",
       "      <th>33</th>\n",
       "      <td>2013</td>\n",
       "      <td>542</td>\n",
       "    </tr>\n",
       "    <tr>\n",
       "      <th>34</th>\n",
       "      <td>2014</td>\n",
       "      <td>579</td>\n",
       "    </tr>\n",
       "    <tr>\n",
       "      <th>35</th>\n",
       "      <td>2015</td>\n",
       "      <td>606</td>\n",
       "    </tr>\n",
       "    <tr>\n",
       "      <th>36</th>\n",
       "      <td>2016</td>\n",
       "      <td>502</td>\n",
       "    </tr>\n",
       "  </tbody>\n",
       "</table>\n",
       "</div>"
      ],
      "text/plain": [
       "    year_of_release  games_count\n",
       "0              1980            9\n",
       "1              1981           46\n",
       "2              1982           36\n",
       "3              1983           17\n",
       "4              1984           14\n",
       "5              1985           14\n",
       "6              1986           21\n",
       "7              1987           16\n",
       "8              1988           15\n",
       "9              1989           17\n",
       "10             1990           16\n",
       "11             1991           41\n",
       "12             1992           43\n",
       "13             1993           60\n",
       "14             1994          121\n",
       "15             1995          219\n",
       "16             1996          263\n",
       "17             1997          289\n",
       "18             1998          381\n",
       "19             1999          338\n",
       "20             2000          350\n",
       "21             2001          483\n",
       "22             2002          834\n",
       "23             2003          777\n",
       "24             2004          764\n",
       "25             2005          942\n",
       "26             2006         1009\n",
       "27             2007         1200\n",
       "28             2008         1428\n",
       "29             2009         1425\n",
       "30             2010         1257\n",
       "31             2011         1136\n",
       "32             2012          658\n",
       "33             2013          542\n",
       "34             2014          579\n",
       "35             2015          606\n",
       "36             2016          502"
      ]
     },
     "execution_count": 29,
     "metadata": {},
     "output_type": "execute_result"
    }
   ],
   "source": [
    "games_by_year"
   ]
  },
  {
   "cell_type": "markdown",
   "metadata": {},
   "source": [
    "Построим диаграмму распределения количества выпущенных игр по годам."
   ]
  },
  {
   "cell_type": "code",
   "execution_count": 30,
   "metadata": {
    "scrolled": false
   },
   "outputs": [
    {
     "data": {
      "image/png": "[encoded data removed]",
      "text/plain": [
       "<Figure size 1296x504 with 1 Axes>"
      ]
     },
     "metadata": {
      "needs_background": "light"
     },
     "output_type": "display_data"
    }
   ],
   "source": [
    "# построение графика\n",
    "\n",
    "plt.figure(figsize=(18,7))\n",
    "ax = sns.barplot(x='year_of_release', y='games_count', data=games_by_year, color='#3acfac')\n",
    "ax.set_xlabel('Год релиза')\n",
    "ax.set_ylabel('Количество игр')\n",
    "plt.title('Распределение количества выпущенных игр по годам')\n",
    "plt.show()"
   ]
  },
  {
   "cell_type": "markdown",
   "metadata": {},
   "source": [
    "По графику мы видим, что наибольшее количество игр было выпущено в 2008-2009 годах. Потом количество выпущенных игр пошло на спад. Возможно, это связано с широким распространением смартфонов и планшетов, многие стали играть в игры, разработанные под мобильные устройства."
   ]
  },
  {
   "cell_type": "markdown",
   "metadata": {},
   "source": [
    "**Изменение продаж по платформам**"
   ]
  },
  {
   "cell_type": "markdown",
   "metadata": {},
   "source": [
    "Посмотрим, как менялись продажи по платформам. Выберем платформы с наибольшими суммарными продажами и построим распределение по годам."
   ]
  },
  {
   "cell_type": "code",
   "execution_count": 31,
   "metadata": {},
   "outputs": [
    {
     "data": {
      "text/html": [
       "<div>\n",
       "<style scoped>\n",
       "    .dataframe tbody tr th:only-of-type {\n",
       "        vertical-align: middle;\n",
       "    }\n",
       "\n",
       "    .dataframe tbody tr th {\n",
       "        vertical-align: top;\n",
       "    }\n",
       "\n",
       "    .dataframe thead th {\n",
       "        text-align: right;\n",
       "    }\n",
       "</style>\n",
       "<table border=\"1\" class=\"dataframe\">\n",
       "  <thead>\n",
       "    <tr style=\"text-align: right;\">\n",
       "      <th></th>\n",
       "      <th>platform</th>\n",
       "      <th>total_sales</th>\n",
       "    </tr>\n",
       "  </thead>\n",
       "  <tbody>\n",
       "    <tr>\n",
       "      <th>16</th>\n",
       "      <td>PS2</td>\n",
       "      <td>1248.12</td>\n",
       "    </tr>\n",
       "    <tr>\n",
       "      <th>28</th>\n",
       "      <td>X360</td>\n",
       "      <td>961.88</td>\n",
       "    </tr>\n",
       "    <tr>\n",
       "      <th>17</th>\n",
       "      <td>PS3</td>\n",
       "      <td>931.34</td>\n",
       "    </tr>\n",
       "    <tr>\n",
       "      <th>26</th>\n",
       "      <td>Wii</td>\n",
       "      <td>892.37</td>\n",
       "    </tr>\n",
       "    <tr>\n",
       "      <th>4</th>\n",
       "      <td>DS</td>\n",
       "      <td>802.79</td>\n",
       "    </tr>\n",
       "    <tr>\n",
       "      <th>15</th>\n",
       "      <td>PS</td>\n",
       "      <td>729.04</td>\n",
       "    </tr>\n",
       "    <tr>\n",
       "      <th>18</th>\n",
       "      <td>PS4</td>\n",
       "      <td>314.14</td>\n",
       "    </tr>\n",
       "    <tr>\n",
       "      <th>6</th>\n",
       "      <td>GBA</td>\n",
       "      <td>312.88</td>\n",
       "    </tr>\n",
       "    <tr>\n",
       "      <th>19</th>\n",
       "      <td>PSP</td>\n",
       "      <td>291.18</td>\n",
       "    </tr>\n",
       "    <tr>\n",
       "      <th>2</th>\n",
       "      <td>3DS</td>\n",
       "      <td>257.81</td>\n",
       "    </tr>\n",
       "    <tr>\n",
       "      <th>13</th>\n",
       "      <td>PC</td>\n",
       "      <td>256.11</td>\n",
       "    </tr>\n",
       "    <tr>\n",
       "      <th>5</th>\n",
       "      <td>GB</td>\n",
       "      <td>254.43</td>\n",
       "    </tr>\n",
       "    <tr>\n",
       "      <th>29</th>\n",
       "      <td>XB</td>\n",
       "      <td>252.72</td>\n",
       "    </tr>\n",
       "    <tr>\n",
       "      <th>11</th>\n",
       "      <td>NES</td>\n",
       "      <td>251.05</td>\n",
       "    </tr>\n",
       "    <tr>\n",
       "      <th>10</th>\n",
       "      <td>N64</td>\n",
       "      <td>218.01</td>\n",
       "    </tr>\n",
       "    <tr>\n",
       "      <th>23</th>\n",
       "      <td>SNES</td>\n",
       "      <td>200.04</td>\n",
       "    </tr>\n",
       "    <tr>\n",
       "      <th>7</th>\n",
       "      <td>GC</td>\n",
       "      <td>197.03</td>\n",
       "    </tr>\n",
       "    <tr>\n",
       "      <th>30</th>\n",
       "      <td>XOne</td>\n",
       "      <td>159.32</td>\n",
       "    </tr>\n",
       "    <tr>\n",
       "      <th>0</th>\n",
       "      <td>2600</td>\n",
       "      <td>86.48</td>\n",
       "    </tr>\n",
       "    <tr>\n",
       "      <th>27</th>\n",
       "      <td>WiiU</td>\n",
       "      <td>82.19</td>\n",
       "    </tr>\n",
       "    <tr>\n",
       "      <th>20</th>\n",
       "      <td>PSV</td>\n",
       "      <td>53.81</td>\n",
       "    </tr>\n",
       "    <tr>\n",
       "      <th>21</th>\n",
       "      <td>SAT</td>\n",
       "      <td>33.59</td>\n",
       "    </tr>\n",
       "    <tr>\n",
       "      <th>8</th>\n",
       "      <td>GEN</td>\n",
       "      <td>28.35</td>\n",
       "    </tr>\n",
       "    <tr>\n",
       "      <th>3</th>\n",
       "      <td>DC</td>\n",
       "      <td>15.95</td>\n",
       "    </tr>\n",
       "    <tr>\n",
       "      <th>22</th>\n",
       "      <td>SCD</td>\n",
       "      <td>1.86</td>\n",
       "    </tr>\n",
       "    <tr>\n",
       "      <th>12</th>\n",
       "      <td>NG</td>\n",
       "      <td>1.44</td>\n",
       "    </tr>\n",
       "    <tr>\n",
       "      <th>25</th>\n",
       "      <td>WS</td>\n",
       "      <td>1.42</td>\n",
       "    </tr>\n",
       "    <tr>\n",
       "      <th>24</th>\n",
       "      <td>TG16</td>\n",
       "      <td>0.16</td>\n",
       "    </tr>\n",
       "    <tr>\n",
       "      <th>1</th>\n",
       "      <td>3DO</td>\n",
       "      <td>0.10</td>\n",
       "    </tr>\n",
       "    <tr>\n",
       "      <th>9</th>\n",
       "      <td>GG</td>\n",
       "      <td>0.04</td>\n",
       "    </tr>\n",
       "    <tr>\n",
       "      <th>14</th>\n",
       "      <td>PCFX</td>\n",
       "      <td>0.03</td>\n",
       "    </tr>\n",
       "  </tbody>\n",
       "</table>\n",
       "</div>"
      ],
      "text/plain": [
       "   platform  total_sales\n",
       "16      PS2      1248.12\n",
       "28     X360       961.88\n",
       "17      PS3       931.34\n",
       "26      Wii       892.37\n",
       "4        DS       802.79\n",
       "15       PS       729.04\n",
       "18      PS4       314.14\n",
       "6       GBA       312.88\n",
       "19      PSP       291.18\n",
       "2       3DS       257.81\n",
       "13       PC       256.11\n",
       "5        GB       254.43\n",
       "29       XB       252.72\n",
       "11      NES       251.05\n",
       "10      N64       218.01\n",
       "23     SNES       200.04\n",
       "7        GC       197.03\n",
       "30     XOne       159.32\n",
       "0      2600        86.48\n",
       "27     WiiU        82.19\n",
       "20      PSV        53.81\n",
       "21      SAT        33.59\n",
       "8       GEN        28.35\n",
       "3        DC        15.95\n",
       "22      SCD         1.86\n",
       "12       NG         1.44\n",
       "25       WS         1.42\n",
       "24     TG16         0.16\n",
       "1       3DO         0.10\n",
       "9        GG         0.04\n",
       "14     PCFX         0.03"
      ]
     },
     "execution_count": 31,
     "metadata": {},
     "output_type": "execute_result"
    }
   ],
   "source": [
    "# группируем данные по платформам и считаем суммарные продажи\n",
    "rating_top = df.groupby('platform', as_index=False)['total_sales'].\\\n",
    "sum().sort_values(by='total_sales', ascending=False)\n",
    "\n",
    "rating_top"
   ]
  },
  {
   "cell_type": "markdown",
   "metadata": {},
   "source": [
    "Из полученных данных видим, что среди всех платформ по суммарным продажам с большим отрывом от остальных выделяются шесть платформ: PS2, X360, PS3, Wii, DS, PS. Посмотрим на распределение продаж по этим платформам."
   ]
  },
  {
   "cell_type": "code",
   "execution_count": 32,
   "metadata": {},
   "outputs": [
    {
     "data": {
      "text/plain": [
       "16     PS2\n",
       "28    X360\n",
       "17     PS3\n",
       "26     Wii\n",
       "4       DS\n",
       "15      PS\n",
       "Name: platform, dtype: object"
      ]
     },
     "execution_count": 32,
     "metadata": {},
     "output_type": "execute_result"
    }
   ],
   "source": [
    "# формируем список платформ с самыми большими продажами\n",
    "platform_rating_top = rating_top[0:6]['platform']\n",
    "platform_rating_top"
   ]
  },
  {
   "cell_type": "code",
   "execution_count": 33,
   "metadata": {},
   "outputs": [],
   "source": [
    "# получаем глобальные продажи по годам для платформ из списка platform_rating_top\n",
    "platform_rating = df.query('platform in @platform_rating_top').\\\n",
    "groupby(['platform', 'year_of_release'], as_index=False)['total_sales'].\\\n",
    "sum().sort_values(by='total_sales', ascending=False)"
   ]
  },
  {
   "cell_type": "code",
   "execution_count": 34,
   "metadata": {},
   "outputs": [
    {
     "data": {
      "text/html": [
       "<div>\n",
       "<style scoped>\n",
       "    .dataframe tbody tr th:only-of-type {\n",
       "        vertical-align: middle;\n",
       "    }\n",
       "\n",
       "    .dataframe tbody tr th {\n",
       "        vertical-align: top;\n",
       "    }\n",
       "\n",
       "    .dataframe thead th {\n",
       "        text-align: right;\n",
       "    }\n",
       "</style>\n",
       "<table border=\"1\" class=\"dataframe\">\n",
       "  <thead>\n",
       "    <tr style=\"text-align: right;\">\n",
       "      <th></th>\n",
       "      <th>platform</th>\n",
       "      <th>year_of_release</th>\n",
       "      <th>total_sales</th>\n",
       "    </tr>\n",
       "  </thead>\n",
       "  <tbody>\n",
       "    <tr>\n",
       "      <th>25</th>\n",
       "      <td>PS2</td>\n",
       "      <td>2004</td>\n",
       "      <td>212.13</td>\n",
       "    </tr>\n",
       "    <tr>\n",
       "      <th>23</th>\n",
       "      <td>PS2</td>\n",
       "      <td>2002</td>\n",
       "      <td>207.84</td>\n",
       "    </tr>\n",
       "    <tr>\n",
       "      <th>47</th>\n",
       "      <td>Wii</td>\n",
       "      <td>2009</td>\n",
       "      <td>206.52</td>\n",
       "    </tr>\n",
       "    <tr>\n",
       "      <th>24</th>\n",
       "      <td>PS2</td>\n",
       "      <td>2003</td>\n",
       "      <td>193.05</td>\n",
       "    </tr>\n",
       "    <tr>\n",
       "      <th>46</th>\n",
       "      <td>Wii</td>\n",
       "      <td>2008</td>\n",
       "      <td>171.53</td>\n",
       "    </tr>\n",
       "    <tr>\n",
       "      <th>...</th>\n",
       "      <td>...</td>\n",
       "      <td>...</td>\n",
       "      <td>...</td>\n",
       "    </tr>\n",
       "    <tr>\n",
       "      <th>66</th>\n",
       "      <td>X360</td>\n",
       "      <td>2016</td>\n",
       "      <td>1.52</td>\n",
       "    </tr>\n",
       "    <tr>\n",
       "      <th>53</th>\n",
       "      <td>Wii</td>\n",
       "      <td>2015</td>\n",
       "      <td>1.14</td>\n",
       "    </tr>\n",
       "    <tr>\n",
       "      <th>32</th>\n",
       "      <td>PS2</td>\n",
       "      <td>2011</td>\n",
       "      <td>0.45</td>\n",
       "    </tr>\n",
       "    <tr>\n",
       "      <th>54</th>\n",
       "      <td>Wii</td>\n",
       "      <td>2016</td>\n",
       "      <td>0.18</td>\n",
       "    </tr>\n",
       "    <tr>\n",
       "      <th>0</th>\n",
       "      <td>DS</td>\n",
       "      <td>1985</td>\n",
       "      <td>0.02</td>\n",
       "    </tr>\n",
       "  </tbody>\n",
       "</table>\n",
       "<p>67 rows × 3 columns</p>\n",
       "</div>"
      ],
      "text/plain": [
       "   platform  year_of_release  total_sales\n",
       "25      PS2             2004       212.13\n",
       "23      PS2             2002       207.84\n",
       "47      Wii             2009       206.52\n",
       "24      PS2             2003       193.05\n",
       "46      Wii             2008       171.53\n",
       "..      ...              ...          ...\n",
       "66     X360             2016         1.52\n",
       "53      Wii             2015         1.14\n",
       "32      PS2             2011         0.45\n",
       "54      Wii             2016         0.18\n",
       "0        DS             1985         0.02\n",
       "\n",
       "[67 rows x 3 columns]"
      ]
     },
     "execution_count": 34,
     "metadata": {},
     "output_type": "execute_result"
    }
   ],
   "source": [
    "platform_rating"
   ]
  },
  {
   "cell_type": "markdown",
   "metadata": {},
   "source": [
    "Строим график распределения по годам для шести платформ с наибольшими суммарными продажами"
   ]
  },
  {
   "cell_type": "code",
   "execution_count": 35,
   "metadata": {},
   "outputs": [
    {
     "data": {
      "image/png": "[encoded data removed]",
      "text/plain": [
       "<Figure size 1296x576 with 1 Axes>"
      ]
     },
     "metadata": {
      "needs_background": "light"
     },
     "output_type": "display_data"
    }
   ],
   "source": [
    "# размер фигуры\n",
    "plt.figure(figsize=(18, 8))\n",
    "\n",
    "# параметры графика\n",
    "sns.lineplot(x=platform_rating.year_of_release,\n",
    "             y=platform_rating.total_sales,\n",
    "             hue=platform_rating.platform)\n",
    "\n",
    "# подписываем оси x и у на графике\n",
    "plt.xlabel('Год релиза')\n",
    "plt.ylabel('Продажи, млн. $')\n",
    "plt.title('Оценка динамики продаж игр по годам')\n",
    "plt.show()"
   ]
  },
  {
   "cell_type": "code",
   "execution_count": 36,
   "metadata": {},
   "outputs": [],
   "source": [
    "# время жизни платформ\n",
    "platform_lifetime =  df.groupby('platform')['year_of_release'].max() - df.groupby('platform')['year_of_release'].min()"
   ]
  },
  {
   "cell_type": "code",
   "execution_count": 37,
   "metadata": {
    "scrolled": true
   },
   "outputs": [
    {
     "data": {
      "image/png": "[encoded data removed]",
      "text/plain": [
       "<Figure size 216x576 with 1 Axes>"
      ]
     },
     "metadata": {
      "needs_background": "light"
     },
     "output_type": "display_data"
    }
   ],
   "source": [
    "plt.figure(figsize=(3, 8))\n",
    "\n",
    "# построение и оформление графика \n",
    "ax = sns.boxplot(y=platform_lifetime, color='grey')\n",
    "\n",
    "# подписи осей и  название графика\n",
    "ax.set_title('Срок жизни платформ')\n",
    "ax.set_xlabel('lifetime')\n",
    "ax.set_ylabel('Жизнь платформы (количество лет)')\n",
    "\n",
    "plt.show()"
   ]
  },
  {
   "cell_type": "code",
   "execution_count": 38,
   "metadata": {},
   "outputs": [
    {
     "data": {
      "text/plain": [
       "count    31.000000\n",
       "mean      7.741935\n",
       "std       6.971216\n",
       "min       0.000000\n",
       "25%       4.000000\n",
       "50%       6.000000\n",
       "75%      10.000000\n",
       "max      31.000000\n",
       "Name: year_of_release, dtype: float64"
      ]
     },
     "execution_count": 38,
     "metadata": {},
     "output_type": "execute_result"
    }
   ],
   "source": [
    "# смотрим основные статистики продолжительности жизненного цикла платформ\n",
    "platform_lifetime.describe()"
   ]
  },
  {
   "cell_type": "markdown",
   "metadata": {},
   "source": [
    "По графику видно, что присутствуют два выброса, в остальном, большая часть данных помещается внутрь межквартильного размаха. Из-за наличия выбросов будем использовать медианное значение срока жизни платформ (6 лет)"
   ]
  },
  {
   "cell_type": "markdown",
   "metadata": {},
   "source": [
    "**Выбираем актуальный период для анализа данных**"
   ]
  },
  {
   "cell_type": "markdown",
   "metadata": {},
   "source": [
    "Анализировать данные за всю историю существования игровых платформ по имеющемуся датасету не имеет смысла, т.к. многие из них уже давно перестали существовать. Для того, чтобы строить дальнейшие прогнозы и планировать рекламные кампании, нужно рассматривать актуальные платформы и брать в рассчет данные за временной период, который позволит нам выявить актуальные тенденции в продажах. \n",
    "\n",
    "Медианное значение срока жизни платформы, как было определено ранее, составляет 6 лет. Возьмем период на один год меньше этого значения, чтобы было больше шансов рассматривать платформы которые еще не завершили цикл своего сущестования. Таким образом, в нашу выборку попадут как платформы на пике популярности, так и новые зарождающиеся платформы, которые будут популярны в будущем."
   ]
  },
  {
   "cell_type": "code",
   "execution_count": 39,
   "metadata": {},
   "outputs": [],
   "source": [
    "# группировка данных платформ за последние 5 лет по годам и платформам и подсчет суммарных мировых продаж\n",
    "platform_rating_6years = df.query('year_of_release >= 2012').\\\n",
    "groupby(['platform', 'year_of_release'], as_index=False)['total_sales'].\\\n",
    "sum().sort_values(by='total_sales', ascending=False)"
   ]
  },
  {
   "cell_type": "code",
   "execution_count": 40,
   "metadata": {
    "scrolled": false
   },
   "outputs": [
    {
     "data": {
      "image/png": "[encoded data removed]",
      "text/plain": [
       "<Figure size 1152x576 with 1 Axes>"
      ]
     },
     "metadata": {
      "needs_background": "light"
     },
     "output_type": "display_data"
    }
   ],
   "source": [
    "# размер фигуры\n",
    "plt.figure(figsize=(16, 8))\n",
    "\n",
    "# параметры графика\n",
    "sns.lineplot(x=platform_rating_6years.year_of_release,\n",
    "             y=platform_rating_6years.total_sales,\n",
    "             hue=platform_rating_6years.platform)\n",
    "\n",
    "# подписываем оси x и у на графике\n",
    "plt.xlabel('Год релиза')\n",
    "plt.ylabel('Продажи, млн. $')\n",
    "plt.title('Оценка динамики продаж игр за период 2012-2016 гг.')\n",
    "plt.show()"
   ]
  },
  {
   "cell_type": "markdown",
   "metadata": {},
   "source": [
    "С помощью полученного графика мы можем сделать вывод, что на данный момент по-прежнему перспективными являются только две платформы: PS4 и XOne. Остатки популярности имеются у 3DS. Продажи игр на остальных платфорах незначительны или стремятся к нулю. Поэтому на данном этапе исследования продолжим работать именно с этими тремя платформами: PS4, XOne, 3DS."
   ]
  },
  {
   "cell_type": "markdown",
   "metadata": {},
   "source": [
    "**Дальнейшее исследование платформ PS4, XOne, 3DS**"
   ]
  },
  {
   "cell_type": "markdown",
   "metadata": {},
   "source": [
    "Сделаем срез датафрейма с данными за последние 5 лет для трех выбранных платформ."
   ]
  },
  {
   "cell_type": "code",
   "execution_count": 41,
   "metadata": {
    "scrolled": true
   },
   "outputs": [],
   "source": [
    "# список трех наиболее прибыльных и актуальных платформ\n",
    "popular_platforms = ['PS4', 'XOne', '3DS']\n",
    "\n",
    "# делаем выборку по названию платформ и году\n",
    "df_popular_pl = df.query('platform in @popular_platforms & year_of_release >= 2012').reset_index(drop=True)"
   ]
  },
  {
   "cell_type": "code",
   "execution_count": 42,
   "metadata": {},
   "outputs": [
    {
     "data": {
      "image/png": "[encoded data removed]",
      "text/plain": [
       "<Figure size 720x720 with 3 Axes>"
      ]
     },
     "metadata": {
      "needs_background": "light"
     },
     "output_type": "display_data"
    }
   ],
   "source": [
    "# построение графика боксплот (глобальные продажи с разбивкой по платформам)\n",
    "\n",
    "df_popular_pl.groupby(['platform']).boxplot(column='total_sales', figsize=(10, 10), layout=(1, 3))\n",
    "\n",
    "plt.show()"
   ]
  },
  {
   "cell_type": "code",
   "execution_count": 43,
   "metadata": {},
   "outputs": [
    {
     "data": {
      "text/html": [
       "<div>\n",
       "<style scoped>\n",
       "    .dataframe tbody tr th:only-of-type {\n",
       "        vertical-align: middle;\n",
       "    }\n",
       "\n",
       "    .dataframe tbody tr th {\n",
       "        vertical-align: top;\n",
       "    }\n",
       "\n",
       "    .dataframe thead th {\n",
       "        text-align: right;\n",
       "    }\n",
       "</style>\n",
       "<table border=\"1\" class=\"dataframe\">\n",
       "  <thead>\n",
       "    <tr style=\"text-align: right;\">\n",
       "      <th></th>\n",
       "      <th>count</th>\n",
       "      <th>mean</th>\n",
       "      <th>std</th>\n",
       "      <th>min</th>\n",
       "      <th>25%</th>\n",
       "      <th>50%</th>\n",
       "      <th>75%</th>\n",
       "      <th>max</th>\n",
       "    </tr>\n",
       "    <tr>\n",
       "      <th>platform</th>\n",
       "      <th></th>\n",
       "      <th></th>\n",
       "      <th></th>\n",
       "      <th></th>\n",
       "      <th></th>\n",
       "      <th></th>\n",
       "      <th></th>\n",
       "      <th></th>\n",
       "    </tr>\n",
       "  </thead>\n",
       "  <tbody>\n",
       "    <tr>\n",
       "      <th>3DS</th>\n",
       "      <td>396.0</td>\n",
       "      <td>0.491439</td>\n",
       "      <td>1.387161</td>\n",
       "      <td>0.01</td>\n",
       "      <td>0.04</td>\n",
       "      <td>0.11</td>\n",
       "      <td>0.3125</td>\n",
       "      <td>14.60</td>\n",
       "    </tr>\n",
       "    <tr>\n",
       "      <th>PS4</th>\n",
       "      <td>392.0</td>\n",
       "      <td>0.801378</td>\n",
       "      <td>1.609456</td>\n",
       "      <td>0.01</td>\n",
       "      <td>0.06</td>\n",
       "      <td>0.20</td>\n",
       "      <td>0.7300</td>\n",
       "      <td>14.63</td>\n",
       "    </tr>\n",
       "    <tr>\n",
       "      <th>XOne</th>\n",
       "      <td>247.0</td>\n",
       "      <td>0.645020</td>\n",
       "      <td>1.036139</td>\n",
       "      <td>0.01</td>\n",
       "      <td>0.06</td>\n",
       "      <td>0.22</td>\n",
       "      <td>0.6850</td>\n",
       "      <td>7.39</td>\n",
       "    </tr>\n",
       "  </tbody>\n",
       "</table>\n",
       "</div>"
      ],
      "text/plain": [
       "          count      mean       std   min   25%   50%     75%    max\n",
       "platform                                                            \n",
       "3DS       396.0  0.491439  1.387161  0.01  0.04  0.11  0.3125  14.60\n",
       "PS4       392.0  0.801378  1.609456  0.01  0.06  0.20  0.7300  14.63\n",
       "XOne      247.0  0.645020  1.036139  0.01  0.06  0.22  0.6850   7.39"
      ]
     },
     "execution_count": 43,
     "metadata": {},
     "output_type": "execute_result"
    }
   ],
   "source": [
    "df_popular_pl.groupby('platform')['total_sales'].describe()"
   ]
  },
  {
   "cell_type": "markdown",
   "metadata": {},
   "source": [
    "По графику мы видим, что средние значения для всех платформ примерно одинаковые. Следует также отметить, что на графиках всех платформ присутствует большое количество выбросов. Основную же выручку приносят небольшое количество популярных игр. "
   ]
  },
  {
   "cell_type": "markdown",
   "metadata": {},
   "source": [
    "**Рассмотрим влияние отзывов пользователей и критиков на продажи внутри одной платформы**"
   ]
  },
  {
   "cell_type": "code",
   "execution_count": 44,
   "metadata": {},
   "outputs": [
    {
     "data": {
      "image/png": "[encoded data removed]",
      "text/plain": [
       "<Figure size 864x360 with 2 Axes>"
      ]
     },
     "metadata": {
      "needs_background": "light"
     },
     "output_type": "display_data"
    }
   ],
   "source": [
    "# ПЛАТФОРМА PS4\n",
    "\n",
    "# делаем срез данных по названию платформы, отфильтровываем значения по critic_score и user_score \n",
    "df_ps4 = df_popular_pl.query('platform == \"PS4\" and critic_score >= 0 and user_score >= 0')\n",
    "\n",
    "# размечаем пространство для вывода графиков\n",
    "fig, (ax1, ax2) = plt.subplots(nrows=1, ncols=2, figsize=(12, 5))\n",
    "\n",
    "# построение и оформление графика рассеивания для отзывов критиков\n",
    "ax1.scatter(x=df_ps4['critic_score'],\n",
    "            y=df_ps4['total_sales'],\n",
    "            alpha=0.5,\n",
    "            color='blue');\n",
    "ax1.set_title('PS4: влияние оценки критиков на продажи')\n",
    "ax1.set_xlabel('Оценки критиков')\n",
    "ax1.set_ylabel('Продажи, млн. $')\n",
    "\n",
    "# построение и оформление графика рассеивания для отзывов пользователей\n",
    "ax2.scatter(x=df_ps4['user_score'],\n",
    "            y=df_ps4['total_sales'],\n",
    "            alpha=0.5,\n",
    "            color='blue');\n",
    "ax2.set_title('PS4: влияние оценки пользователей на продажи')\n",
    "ax2.set_xlabel('Оценки пользователей')\n",
    "ax2.set_ylabel('Продажи, млн. $')\n",
    "\n",
    "plt.show()"
   ]
  },
  {
   "cell_type": "code",
   "execution_count": 45,
   "metadata": {
    "scrolled": true
   },
   "outputs": [
    {
     "name": "stdout",
     "output_type": "stream",
     "text": [
      "Корреляция между отзывами критиков и продажами (PS4): 0.40589480145836687\n",
      "Корреляция между отзывами пользователей и продажами (PS4): -0.03362497596528878\n"
     ]
    }
   ],
   "source": [
    "# рассчет коэффициента корреляции между отзывами и продажами (платформа PS4)\n",
    "print('Корреляция между отзывами критиков и продажами (PS4):', df_ps4['critic_score'].corr(df_ps4['total_sales']))\n",
    "print('Корреляция между отзывами пользователей и продажами (PS4):', df_ps4['user_score'].corr(df_ps4['total_sales']))"
   ]
  },
  {
   "cell_type": "code",
   "execution_count": 46,
   "metadata": {},
   "outputs": [
    {
     "data": {
      "image/png": "[encoded data removed]",
      "text/plain": [
       "<Figure size 864x360 with 2 Axes>"
      ]
     },
     "metadata": {
      "needs_background": "light"
     },
     "output_type": "display_data"
    }
   ],
   "source": [
    "# ПЛАТФОРМА XOne\n",
    "\n",
    "# делаем срез данных по названию платформы, отфильтровываем значения по critic_score и user_score \n",
    "df_xone = df_popular_pl.query('platform == \"XOne\" and critic_score >= 0 and user_score >= 0')\n",
    "\n",
    "# размечаем пространство для вывода графиков\n",
    "fig, (ax1, ax2) = plt.subplots(nrows=1, ncols=2, figsize=(12, 5))\n",
    "\n",
    "# построение и оформление графика рассеивания для отзывов критиков\n",
    "ax1.scatter(x=df_xone['critic_score'],\n",
    "            y=df_xone['total_sales'],\n",
    "            alpha=0.5,\n",
    "            color='purple');\n",
    "ax1.set_title('XOne: влияние оценки критиков на продажи')\n",
    "ax1.set_xlabel('Оценки критиков')\n",
    "ax1.set_ylabel('Продажи, млн. $')\n",
    "\n",
    "# построение и оформление графика рассеивания для отзывов пользователей\n",
    "ax2.scatter(x=df_xone['user_score'],\n",
    "            y=df_xone['total_sales'],\n",
    "            alpha=0.5,\n",
    "            color='purple');\n",
    "ax2.set_title('XOne: влияние оценки пользователей на продажи')\n",
    "ax2.set_xlabel('Оценки пользователей')\n",
    "ax2.set_ylabel('Продажи, млн. $')\n",
    "\n",
    "plt.show()"
   ]
  },
  {
   "cell_type": "code",
   "execution_count": 47,
   "metadata": {},
   "outputs": [
    {
     "name": "stdout",
     "output_type": "stream",
     "text": [
      "Корреляция между отзывами критиков и продажами (XOne): 0.41042203561296375\n",
      "Корреляция между отзывами пользователей и продажами (XOne): -0.09400318326920852\n"
     ]
    }
   ],
   "source": [
    "# рассчет коэффициента корреляции между отзывами и продажами (платформа XOne)\n",
    "print('Корреляция между отзывами критиков и продажами (XOne):', df_xone['critic_score'].corr(df_xone['total_sales']))\n",
    "print('Корреляция между отзывами пользователей и продажами (XOne):', df_xone['user_score'].corr(df_xone['total_sales']))"
   ]
  },
  {
   "cell_type": "code",
   "execution_count": 48,
   "metadata": {},
   "outputs": [
    {
     "data": {
      "image/png": "[encoded data removed]",
      "text/plain": [
       "<Figure size 864x360 with 2 Axes>"
      ]
     },
     "metadata": {
      "needs_background": "light"
     },
     "output_type": "display_data"
    }
   ],
   "source": [
    "# ПЛАТФОРМА 3DS\n",
    "\n",
    "# делаем срез данных по названию платформы, отфильтровываем значения по critic_score и user_score \n",
    "df_3ds = df_popular_pl.query('platform == \"3DS\" and critic_score >= 0 and user_score >= 0')\n",
    "\n",
    "# размечаем пространство для вывода графиков\n",
    "fig, (ax1, ax2) = plt.subplots(nrows=1, ncols=2, figsize=(12, 5))\n",
    "\n",
    "# построение и оформление графика рассеивания для отзывов критиков\n",
    "ax1.scatter(x=df_3ds['critic_score'],\n",
    "            y=df_3ds['total_sales'],\n",
    "            alpha=0.5,\n",
    "            color='teal');\n",
    "ax1.set_title('3DS: влияние оценки критиков на продажи')\n",
    "ax1.set_xlabel('Оценки критиков')\n",
    "ax1.set_ylabel('Продажи, млн. $')\n",
    "\n",
    "# построение и оформление графика рассеивания для отзывов пользователей\n",
    "ax2.scatter(x=df_3ds['user_score'],\n",
    "            y=df_3ds['total_sales'],\n",
    "            alpha=0.5,\n",
    "            color='teal');\n",
    "ax2.set_title('3DS: влияние оценки пользователей на продажи')\n",
    "ax2.set_xlabel('Оценки пользователей')\n",
    "ax2.set_ylabel('Продажи, млн. $')\n",
    "\n",
    "plt.show()"
   ]
  },
  {
   "cell_type": "code",
   "execution_count": 49,
   "metadata": {},
   "outputs": [
    {
     "name": "stdout",
     "output_type": "stream",
     "text": [
      "Корреляция между отзывами критиков и продажами (3DS): 0.31055301915326294\n",
      "Корреляция между отзывами пользователей и продажами (3DS): 0.20181255007655283\n"
     ]
    }
   ],
   "source": [
    "# рассчет коэффициента корреляции между отзывами и продажами (платформа 3DS)\n",
    "print('Корреляция между отзывами критиков и продажами (3DS):', df_3ds['critic_score'].corr(df_3ds['total_sales']))\n",
    "print('Корреляция между отзывами пользователей и продажами (3DS):', df_3ds['user_score'].corr(df_3ds['total_sales']))"
   ]
  },
  {
   "cell_type": "markdown",
   "metadata": {},
   "source": [
    "По всем трем игровым платформам видим, что корреляция между отзывами критиков и продажами достаточно слабая (по 0,41 у PS4 и XOne; 0,31 - 3DS). Корреляция между отзывами пользователей и продажами еще ниже. У PS4 и XOne корреляция почти равна нулю, у 3DS - 0,2. "
   ]
  },
  {
   "cell_type": "markdown",
   "metadata": {},
   "source": [
    "**Распределение игр по жанрам. Выделение жанров с самыми высокими и с самыми низкими продажами.**"
   ]
  },
  {
   "cell_type": "code",
   "execution_count": 50,
   "metadata": {},
   "outputs": [],
   "source": [
    "df_genre_range = df_popular_pl.groupby('genre', as_index=False)['total_sales'].\\\n",
    "sum().sort_values(by='total_sales', ascending=False)"
   ]
  },
  {
   "cell_type": "code",
   "execution_count": 51,
   "metadata": {},
   "outputs": [
    {
     "data": {
      "image/png": "[encoded data removed]",
      "text/plain": [
       "<Figure size 1080x576 with 1 Axes>"
      ]
     },
     "metadata": {
      "needs_background": "light"
     },
     "output_type": "display_data"
    }
   ],
   "source": [
    "# построение графика распределения продаж игр по жанрам\n",
    "plt.figure(figsize=(15, 8))\n",
    "\n",
    "ax = sns.barplot(x='genre', y='total_sales', data=df_genre_range, color='#3acfac')\n",
    "\n",
    "ax.set_xlabel('Жанр')\n",
    "ax.set_ylabel('Продажи, млн. $')\n",
    "plt.title('Распределение продаж игр по жанрам')\n",
    "\n",
    "plt.show()"
   ]
  },
  {
   "cell_type": "code",
   "execution_count": 52,
   "metadata": {},
   "outputs": [
    {
     "data": {
      "text/plain": [
       "2.3099999999999996"
      ]
     },
     "execution_count": 52,
     "metadata": {},
     "output_type": "execute_result"
    }
   ],
   "source": [
    "df_popular_pl.query('genre == \"Strategy\"')['total_sales'].sum()"
   ]
  },
  {
   "cell_type": "markdown",
   "metadata": {},
   "source": [
    "По общей сумме продаж самые прибыльные жанры: Action, Shooter и Role-Playing. К жанрам, которые принесли наименьшую прибыль можно отнести Puzzle и Strategy. Если в жанре Action c 2012 по 2016 годы общая сумма продаж составила более 175 млн. долларов, то игры в жанре Strategy принесли всего лишь 2,3 млн. долларов.\n",
    "\n",
    "Но на общие продажи могли повлиять многочисленные выбросы (их мы видели выше при построении графика boxplot). Чтобы понять сохранится ли такое же рапределение популярности жанров для большинства игр, сделаем расчет среднего и медианного значений.\n"
   ]
  },
  {
   "cell_type": "code",
   "execution_count": 53,
   "metadata": {},
   "outputs": [
    {
     "data": {
      "text/plain": [
       "genre\n",
       "Shooter         0.970\n",
       "Sports          0.345\n",
       "Racing          0.235\n",
       "Platform        0.225\n",
       "Role-Playing    0.215\n",
       "Fighting        0.155\n",
       "Misc            0.150\n",
       "Simulation      0.140\n",
       "Action          0.130\n",
       "Puzzle          0.085\n",
       "Strategy        0.075\n",
       "Adventure       0.070\n",
       "Name: total_sales, dtype: float64"
      ]
     },
     "execution_count": 53,
     "metadata": {},
     "output_type": "execute_result"
    }
   ],
   "source": [
    "# расчет медианного значения продаж игр популярных платформ с группировкой по жанрам\n",
    "df_median = df_popular_pl.groupby('genre')['total_sales'].median()\n",
    "df_median.sort_values(ascending=False)"
   ]
  },
  {
   "cell_type": "code",
   "execution_count": 54,
   "metadata": {},
   "outputs": [
    {
     "data": {
      "text/plain": [
       "genre\n",
       "Shooter         1.839753\n",
       "Sports          0.901875\n",
       "Role-Playing    0.825278\n",
       "Platform        0.770278\n",
       "Simulation      0.728333\n",
       "Fighting        0.575294\n",
       "Racing          0.555250\n",
       "Action          0.464675\n",
       "Misc            0.313375\n",
       "Puzzle          0.191429\n",
       "Adventure       0.177600\n",
       "Strategy        0.115500\n",
       "Name: total_sales, dtype: float64"
      ]
     },
     "execution_count": 54,
     "metadata": {},
     "output_type": "execute_result"
    }
   ],
   "source": [
    "# расчет среднего значения продаж игр популярных платформ с группировкой по жанрам\n",
    "df_mean =  df_popular_pl.groupby('genre')['total_sales'].mean()\n",
    "df_mean.sort_values(ascending=False)"
   ]
  },
  {
   "cell_type": "markdown",
   "metadata": {},
   "source": [
    "Проведенные расчеты показали совсем другую картину. Жанр Action, который лидирует по общей сумме продаж, сдвинулся ближе к концу списка. По среднему и медианному значениям продаж однозначно лидируют игры в жанрах Shooter и Sports. А вот аутсайдеры остались те же (Puzzle, Adventure и Strategy). Из полученных данных можно сделать вывод, что в жанре Action вышло несколько игр-хитов, которые принесли высокие сборы, но в целом, этот жанр считать самым популярным нельзя, т.к. стабильные продажи идут гораздо лучше у игр в жанрах Shooter и Sports."
   ]
  },
  {
   "cell_type": "markdown",
   "metadata": {},
   "source": [
    "При проведении исследовательского анализа данных было определено общее количество игр, выпускаемых в разные годы. Половина из представленных игр была выпущена с 2007 по 2016 годы.\n",
    "\n",
    "Был определен жизненный цикл популярности игровых платформ. В большинстве случаев он составляет примерно 6 лет.\n",
    "\n",
    "Определены три наиболее актуальные платформы на данный момент: PS3, XOne, 3DS. \n",
    "\n",
    "Посчитана корреляция между оценками критиков и оценками пользователей. Оценки критиков слабо коррелируют с продажами, а корреляция оценок пользователй с продажами практически нулевая.\n",
    "\n",
    "Также было отмечено, что большую часть общей выручки генерирует незначительное количество игр-хитов.\n",
    "\n",
    "Найдены наиболее популярные жанры игр за последние 5 лет (Action, Shooter и Role-Playing)."
   ]
  },
  {
   "cell_type": "markdown",
   "metadata": {},
   "source": [
    "## Портрет пользователя каждого региона"
   ]
  },
  {
   "cell_type": "markdown",
   "metadata": {},
   "source": [
    "**Определим самые популярные игровые платформы в регионах: Северная Америка (NA), Европа (EU) и Япония (JP)**"
   ]
  },
  {
   "cell_type": "code",
   "execution_count": 55,
   "metadata": {},
   "outputs": [],
   "source": [
    "df_sort_years = df.query('year_of_release >= 2012').reset_index(drop=True)"
   ]
  },
  {
   "cell_type": "code",
   "execution_count": 56,
   "metadata": {
    "scrolled": true
   },
   "outputs": [],
   "source": [
    "platform_region = df_sort_years[['platform', 'na_sales', 'eu_sales', 'jp_sales']] \\\n",
    "    .groupby('platform', as_index=False) \\\n",
    "    .agg({'na_sales': 'sum', 'eu_sales': 'sum', 'jp_sales': 'sum'}) \\\n",
    "    .melt(id_vars=['platform']) \\\n",
    "    .sort_values('value', ascending=False)"
   ]
  },
  {
   "cell_type": "code",
   "execution_count": 57,
   "metadata": {},
   "outputs": [
    {
     "data": {
      "text/html": [
       "<div>\n",
       "<style scoped>\n",
       "    .dataframe tbody tr th:only-of-type {\n",
       "        vertical-align: middle;\n",
       "    }\n",
       "\n",
       "    .dataframe tbody tr th {\n",
       "        vertical-align: top;\n",
       "    }\n",
       "\n",
       "    .dataframe thead th {\n",
       "        text-align: right;\n",
       "    }\n",
       "</style>\n",
       "<table border=\"1\" class=\"dataframe\">\n",
       "  <thead>\n",
       "    <tr style=\"text-align: right;\">\n",
       "      <th></th>\n",
       "      <th>platform</th>\n",
       "      <th>variable</th>\n",
       "      <th>value</th>\n",
       "    </tr>\n",
       "  </thead>\n",
       "  <tbody>\n",
       "    <tr>\n",
       "      <th>15</th>\n",
       "      <td>PS4</td>\n",
       "      <td>eu_sales</td>\n",
       "      <td>141.09</td>\n",
       "    </tr>\n",
       "    <tr>\n",
       "      <th>9</th>\n",
       "      <td>X360</td>\n",
       "      <td>na_sales</td>\n",
       "      <td>140.05</td>\n",
       "    </tr>\n",
       "    <tr>\n",
       "      <th>4</th>\n",
       "      <td>PS4</td>\n",
       "      <td>na_sales</td>\n",
       "      <td>108.74</td>\n",
       "    </tr>\n",
       "    <tr>\n",
       "      <th>14</th>\n",
       "      <td>PS3</td>\n",
       "      <td>eu_sales</td>\n",
       "      <td>106.86</td>\n",
       "    </tr>\n",
       "    <tr>\n",
       "      <th>3</th>\n",
       "      <td>PS3</td>\n",
       "      <td>na_sales</td>\n",
       "      <td>103.38</td>\n",
       "    </tr>\n",
       "    <tr>\n",
       "      <th>10</th>\n",
       "      <td>XOne</td>\n",
       "      <td>na_sales</td>\n",
       "      <td>93.12</td>\n",
       "    </tr>\n",
       "    <tr>\n",
       "      <th>22</th>\n",
       "      <td>3DS</td>\n",
       "      <td>jp_sales</td>\n",
       "      <td>87.79</td>\n",
       "    </tr>\n",
       "    <tr>\n",
       "      <th>20</th>\n",
       "      <td>X360</td>\n",
       "      <td>eu_sales</td>\n",
       "      <td>74.52</td>\n",
       "    </tr>\n",
       "    <tr>\n",
       "      <th>0</th>\n",
       "      <td>3DS</td>\n",
       "      <td>na_sales</td>\n",
       "      <td>55.31</td>\n",
       "    </tr>\n",
       "    <tr>\n",
       "      <th>21</th>\n",
       "      <td>XOne</td>\n",
       "      <td>eu_sales</td>\n",
       "      <td>51.59</td>\n",
       "    </tr>\n",
       "  </tbody>\n",
       "</table>\n",
       "</div>"
      ],
      "text/plain": [
       "   platform  variable   value\n",
       "15      PS4  eu_sales  141.09\n",
       "9      X360  na_sales  140.05\n",
       "4       PS4  na_sales  108.74\n",
       "14      PS3  eu_sales  106.86\n",
       "3       PS3  na_sales  103.38\n",
       "10     XOne  na_sales   93.12\n",
       "22      3DS  jp_sales   87.79\n",
       "20     X360  eu_sales   74.52\n",
       "0       3DS  na_sales   55.31\n",
       "21     XOne  eu_sales   51.59"
      ]
     },
     "execution_count": 57,
     "metadata": {},
     "output_type": "execute_result"
    }
   ],
   "source": [
    "platform_region.head(10)"
   ]
  },
  {
   "cell_type": "code",
   "execution_count": 58,
   "metadata": {},
   "outputs": [
    {
     "data": {
      "image/png": "[encoded data removed]",
      "text/plain": [
       "<Figure size 864x576 with 1 Axes>"
      ]
     },
     "metadata": {
      "needs_background": "light"
     },
     "output_type": "display_data"
    }
   ],
   "source": [
    "# строим график рапределения продаж игр по регионам в зависимости от игровой платформы\n",
    "plt.figure(figsize=(12, 8))\n",
    "\n",
    "ax = sns.barplot(x=platform_region['platform'],\n",
    "                 y=platform_region['value'],\n",
    "                 hue=platform_region['variable'])\n",
    "\n",
    "plt.xlabel('Продажи, млн. $')\n",
    "plt.title('Распределение продаж игр по регионам в зависимости от игровой платформы, начиная с 2012 года')\n",
    "\n",
    "plt.show()"
   ]
  },
  {
   "cell_type": "markdown",
   "metadata": {},
   "source": [
    "Из полученного графика выделим топ-5 платформ:\n",
    "\n",
    "1. PS4\n",
    "2. X360\n",
    "3. PS3\n",
    "4. XOne\n",
    "5. 3DS"
   ]
  },
  {
   "cell_type": "markdown",
   "metadata": {},
   "source": [
    "Платформы, занимающие первые четыре места популярны в Северной Америке и Европе, а вот в Японии игры на этих платформах покупают очень мало. Зато 3DS, напротив, лидер продаж в Японии, а вот в Европе и Америке продажи игр на этой платформе существенно ниже. "
   ]
  },
  {
   "cell_type": "markdown",
   "metadata": {},
   "source": [
    "**Определим самые популярные жанры в регионах: Северная Америка (NA), Европа (EU) и Япония (JP)**"
   ]
  },
  {
   "cell_type": "code",
   "execution_count": 59,
   "metadata": {},
   "outputs": [],
   "source": [
    "genre_region = df_sort_years[['genre', 'na_sales', 'eu_sales', 'jp_sales']] \\\n",
    "    .groupby('genre', as_index=False) \\\n",
    "    .agg({'na_sales': 'sum', 'eu_sales': 'sum', 'jp_sales': 'sum'}) \\\n",
    "    .melt(id_vars=['genre']) \\\n",
    "    .sort_values('value', ascending=False)"
   ]
  },
  {
   "cell_type": "code",
   "execution_count": 60,
   "metadata": {},
   "outputs": [
    {
     "data": {
      "image/png": "[encoded data removed]",
      "text/plain": [
       "<Figure size 864x576 with 1 Axes>"
      ]
     },
     "metadata": {
      "needs_background": "light"
     },
     "output_type": "display_data"
    }
   ],
   "source": [
    "# строим график рапределения продаж игр по регионам в зависимости от жанра\n",
    "plt.figure(figsize=(12, 8))\n",
    "\n",
    "ax = sns.barplot(x=genre_region['genre'],\n",
    "                 y=genre_region['value'],\n",
    "                 hue=genre_region['variable'])\n",
    "\n",
    "plt.xlabel('Продажи, млн. $')\n",
    "plt.title('Распределение продаж игр по регионам в зависимости от жанра, начиная с 2012 года')\n",
    "\n",
    "plt.show()"
   ]
  },
  {
   "cell_type": "markdown",
   "metadata": {},
   "source": [
    "Топ-5 самых популярных жанров игр:\n",
    "\n",
    "1. Action\n",
    "2. Shooter\n",
    "3. Sports\n",
    "4. Role-Playing\n",
    "5. Misc"
   ]
  },
  {
   "cell_type": "markdown",
   "metadata": {},
   "source": [
    "Видно, что пользователи из Северной Америки и Европы не только платформы предпочитают одни и те же, но и имеют схожие вкусовые предпочтения в игровых жанрах. Action и Shooter - явные лидеры. В Японии также много продаж игр в жанре Action, но лидерует в этой стране жанр Role-Playing."
   ]
  },
  {
   "cell_type": "markdown",
   "metadata": {},
   "source": [
    "**Влияние рейтинга ESRB на продажи в отдельном регионе**"
   ]
  },
  {
   "cell_type": "code",
   "execution_count": 61,
   "metadata": {},
   "outputs": [],
   "source": [
    "rating_region = df_sort_years[['rating', 'na_sales', 'eu_sales', 'jp_sales']] \\\n",
    "    .groupby('rating', as_index=False) \\\n",
    "    .agg({'na_sales': 'sum', 'eu_sales': 'sum', 'jp_sales': 'sum'}) \\\n",
    "    .melt(id_vars=['rating']) \\\n",
    "    .sort_values('value', ascending=False)"
   ]
  },
  {
   "cell_type": "code",
   "execution_count": 62,
   "metadata": {},
   "outputs": [
    {
     "data": {
      "image/png": "[encoded data removed]",
      "text/plain": [
       "<Figure size 864x576 with 1 Axes>"
      ]
     },
     "metadata": {
      "needs_background": "light"
     },
     "output_type": "display_data"
    }
   ],
   "source": [
    "# строим график рапределения продаж игр по регионам в зависимости от рейтинга\n",
    "plt.figure(figsize=(12, 8))\n",
    "\n",
    "ax = sns.barplot(x=rating_region['rating'],\n",
    "                 y=rating_region['value'],\n",
    "                 hue=rating_region['variable'])\n",
    "\n",
    "plt.xlabel('Продажи, млн. $')\n",
    "plt.title('Распределение продаж игр по регионам в зависимости от рейтинга, начиная с 2012 года')\n",
    "\n",
    "plt.show()"
   ]
  },
  {
   "cell_type": "markdown",
   "metadata": {},
   "source": [
    "В Европе и Северной Америке было продано наибольшее количество игр из категории \"М\" (для взрослых). В Японии самый большой процент продаж с 'unknown'. \n",
    "В мире есть 15 официальных организаций, которые определяют, каким возрастным категориям подходит игра. ЕSRB была образована американской ассоциацией производителей компьютерных игр и ПО в 1994 году и, по мнению Федеральной Торговой Комиссии, является самой сильной саморегулируемой организацией в сфере развлечений. Тем не менее ЕSRB - далеко не единственная, и работает в основном в США, Канаде и Мексике. В Японии есть своя организация, которая проводит классификацию игр - это Computer Entertainment Rating Organization (CERO). Мы анализируем данные, в которых присутствует только классификация от ЕSRB, поэтому пропуски в столбце rating вполне объяснимы, особенно по записям, относящимся к Японии.\n"
   ]
  },
  {
   "cell_type": "markdown",
   "metadata": {},
   "source": [
    "В результате проведенного анализа можно сделать вывод о том, что портреты пользователей из Европы и Северной Америки схожи, а вот азиатские пользователи отличаются своими вкусовыми предпочтениями. При планировании рекламных кампаний в этих регионах стоит учитывать выявленные различия."
   ]
  },
  {
   "cell_type": "markdown",
   "metadata": {},
   "source": [
    "## Проверка гипотез"
   ]
  },
  {
   "cell_type": "markdown",
   "metadata": {},
   "source": [
    "**Гипотеза №1: средние пользовательские рейтинги платформ Xbox One и PC одинаковые**"
   ]
  },
  {
   "cell_type": "markdown",
   "metadata": {},
   "source": [
    "Нулевая гипотеза: средние пользовательские рейтинги платформ Xbox One и PC одинаковые.\n",
    "\n",
    "Альтернативная гипотеза: средние пользовательские рейтинги платформ Xbox One и PC различаются."
   ]
  },
  {
   "cell_type": "code",
   "execution_count": 63,
   "metadata": {},
   "outputs": [
    {
     "name": "stdout",
     "output_type": "stream",
     "text": [
      "p-значение: 0.5970211251516373\n",
      "Не получилось отвергнуть нулевую гипотезу\n"
     ]
    }
   ],
   "source": [
    "df_xone = df.query('platform == \"XOne\" & year_of_release >= 2012 & user_score >= 0')['user_score']\n",
    "df_pc = df.query('platform == \"PC\" & year_of_release >= 2012 & user_score >= 0')['user_score']\n",
    "\n",
    "# критический уровень статистической значимости\n",
    "# если p-value окажется меньше него - отвергнем гипотезу\n",
    "\n",
    "alpha = .05 \n",
    "\n",
    "results = st.ttest_ind(\n",
    "    df_xone, \n",
    "    df_pc)\n",
    "\n",
    "print('p-значение:', results.pvalue)\n",
    "\n",
    "# сравниваем получившееся p-значение с заданным уровнем статистической значимости\n",
    "if results.pvalue < alpha:\n",
    "    print(\"Отвергаем нулевую гипотезу\")\n",
    "else:\n",
    "    print(\"Не получилось отвергнуть нулевую гипотезу\")"
   ]
  },
  {
   "cell_type": "markdown",
   "metadata": {},
   "source": [
    "Нулевую гипотезу отвергнуть не удалось. Следовательно, у нас есть основание предполагать, что средние пользовательские рейтинги платформ Xbox One и PC одинаковые."
   ]
  },
  {
   "cell_type": "markdown",
   "metadata": {},
   "source": [
    "**Гипотеза 2: средние пользовательские рейтинги жанров Action и Sports разные**"
   ]
  },
  {
   "cell_type": "code",
   "execution_count": 64,
   "metadata": {},
   "outputs": [
    {
     "name": "stdout",
     "output_type": "stream",
     "text": [
      "p-значение: 2.8733525657180856e-26\n",
      "Отвергаем нулевую гипотезу\n"
     ]
    }
   ],
   "source": [
    "df_action = df.query('genre == \"Action\" & year_of_release >= 2012 & user_score >= 0')['user_score']\n",
    "df_sports = df.query('genre == \"Sports\" & year_of_release >= 2012 & user_score >= 0')['user_score']\n",
    "\n",
    "# критический уровень статистической значимости\n",
    "# если p-value окажется меньше него - отвергнем гипотезу\n",
    "\n",
    "alpha = .05 \n",
    "\n",
    "results = st.ttest_ind(\n",
    "    df_action, \n",
    "    df_sports)\n",
    "\n",
    "print('p-значение:', results.pvalue)\n",
    "\n",
    "# сравниваем получившееся p-значение с заданным уровнем статистической значимости\n",
    "if results.pvalue < alpha:\n",
    "    print(\"Отвергаем нулевую гипотезу\")\n",
    "else:\n",
    "    print(\"Не получилось отвергнуть нулевую гипотезу\")"
   ]
  },
  {
   "cell_type": "markdown",
   "metadata": {},
   "source": [
    "В данном случае мы отвергаем нулевую гипотезу. Следовательно, у нас есть основания полагать, что средние пользовательские рейтинги жанров Action и Sport различаются."
   ]
  },
  {
   "cell_type": "markdown",
   "metadata": {},
   "source": [
    "## Общий вывод"
   ]
  },
  {
   "cell_type": "markdown",
   "metadata": {
    "scrolled": true
   },
   "source": [
    "В данном проекте был проведен анализ рынка компьютерных игр на основе данных о продажах игр, оценках пользователей и экспертов, жанрах и платформах. Данные взяты из открытых источников.\n",
    "\n",
    "Цели проведения анализа данных:\n",
    "\n",
    "- Выявление закономерностей, определяющих успешность игры. Это позволит сделать ставку на потенциально популярный продукт и спланировать рекламные кампании.\n",
    "\n",
    "\n",
    "- Проверка гипотез:\n",
    "\n",
    "  Гипотеза 1. Средние пользовательские рейтинги платформ Xbox One и PC одинаковые;\n",
    "  \n",
    "  Гипотеза 2: Средние пользовательские рейтинги жанров Action (англ. «действие», экшен-игры) и Sports (англ. «спортивные соревнования») разные.\n",
    "  \n",
    "\n",
    "В результате исследования данных, были выявлены следующие особенности и закономерности:\n",
    "\n",
    "- Половина из представленных игр была выпущена с 2007 по 2016 годы;\n",
    "\n",
    "- Пик всех продаж пришелся на 2008-2009 гг., в настоящее время наблюдается спад;\n",
    "\n",
    "- Наиболее перспективными из актуальных на сегодняшний день платформ являются PS4, XOne и DS3;\n",
    "\n",
    "- Самыми популярными жанрами игр за последние пять лет являются Sports и Shooter, но по общей сумме продаж в этот временной период лидирует Action;\n",
    "\n",
    "- Большую часть общей выручки генерирует несколько игр-хитов;\n",
    "\n",
    "- Портреты пользователей из Европы и Северной Америки схожи, а вот азиатские пользователи отличаются своими вкусовыми предпочтениями и по жанрам, и по платформам; \n",
    "\n",
    "- Влияние оценок критиков и пользователей на динамику продаж несущественное (в обоих случаях наблюдается слабая корреляция)\n",
    "\n",
    "В результате проверки гипотез мы установили:\n",
    "\n",
    "**Гипотеза 1 подтверждена:**\n",
    "\n",
    "На основе проведенного анализа у нас есть основание предполагать, что средние пользовательские рейтинги платформ Xbox One и PC одинаковые.\n",
    "\n",
    "**Гипотеза 2 не подтверждена:**\n",
    "  \n",
    "Полученные результаты дают основание полагать, что средние пользовательские рейтинги жанров Action и Sport различаются.\n",
    "\n",
    "**Рекомендации:**\n",
    "\n",
    "Планируя рекламную кампанию, необходимо учитывать, в каком регионе находится магазин. Пользователи из Северной Америки и Европы выберут игры на платформах PS4, X360 и XOne, азиатам же лучше предлагать игры на базе местной платформы 3DS;\n",
    "\n",
    "Делать ставку прежде всего на игры в жанре Sports и Shooter."
   ]
  }
 ],
 "metadata": {
  "ExecuteTimeLog": [
   {
    "duration": 384,
    "start_time": "2022-10-17T18:09:06.528Z"
   },
   {
    "duration": 204,
    "start_time": "2022-10-17T18:09:40.224Z"
   },
   {
    "duration": 30,
    "start_time": "2022-10-17T18:09:50.355Z"
   },
   {
    "duration": 20,
    "start_time": "2022-10-17T18:10:10.220Z"
   },
   {
    "duration": 4,
    "start_time": "2022-10-17T18:10:33.396Z"
   },
   {
    "duration": 10,
    "start_time": "2022-10-17T18:18:09.405Z"
   },
   {
    "duration": 12,
    "start_time": "2022-10-17T18:18:19.877Z"
   },
   {
    "duration": 28,
    "start_time": "2022-10-17T18:18:39.130Z"
   },
   {
    "duration": 13,
    "start_time": "2022-10-17T18:18:50.714Z"
   },
   {
    "duration": 24,
    "start_time": "2022-10-17T18:19:22.132Z"
   },
   {
    "duration": 13,
    "start_time": "2022-10-17T18:19:41.311Z"
   },
   {
    "duration": 5,
    "start_time": "2022-10-17T18:19:52.466Z"
   },
   {
    "duration": 15,
    "start_time": "2022-10-17T18:19:54.875Z"
   },
   {
    "duration": 71,
    "start_time": "2022-10-17T18:25:25.091Z"
   },
   {
    "duration": 5,
    "start_time": "2022-10-17T19:04:38.780Z"
   },
   {
    "duration": 4,
    "start_time": "2022-10-17T19:05:00.278Z"
   },
   {
    "duration": 6,
    "start_time": "2022-10-17T19:05:49.399Z"
   },
   {
    "duration": 3,
    "start_time": "2022-10-17T19:06:12.755Z"
   },
   {
    "duration": 653,
    "start_time": "2022-10-17T19:23:31.514Z"
   },
   {
    "duration": 10,
    "start_time": "2022-10-17T19:25:23.021Z"
   },
   {
    "duration": 5,
    "start_time": "2022-10-17T19:26:47.238Z"
   },
   {
    "duration": 5,
    "start_time": "2022-10-17T19:28:34.064Z"
   },
   {
    "duration": 8,
    "start_time": "2022-10-17T19:32:40.147Z"
   },
   {
    "duration": 6,
    "start_time": "2022-10-17T20:09:04.000Z"
   },
   {
    "duration": 9,
    "start_time": "2022-10-17T20:09:46.594Z"
   },
   {
    "duration": 5,
    "start_time": "2022-10-17T20:10:11.890Z"
   },
   {
    "duration": 18,
    "start_time": "2022-10-17T20:11:13.879Z"
   },
   {
    "duration": 7,
    "start_time": "2022-10-17T20:15:32.566Z"
   },
   {
    "duration": 12,
    "start_time": "2022-10-17T20:15:40.837Z"
   },
   {
    "duration": 9,
    "start_time": "2022-10-17T20:19:03.386Z"
   },
   {
    "duration": 5,
    "start_time": "2022-10-17T20:25:51.091Z"
   },
   {
    "duration": 11,
    "start_time": "2022-10-17T20:26:09.065Z"
   },
   {
    "duration": 7,
    "start_time": "2022-10-17T20:27:41.899Z"
   },
   {
    "duration": 10,
    "start_time": "2022-10-17T20:27:56.674Z"
   },
   {
    "duration": 9,
    "start_time": "2022-10-17T20:28:16.090Z"
   },
   {
    "duration": 4,
    "start_time": "2022-10-17T20:28:28.347Z"
   },
   {
    "duration": 11,
    "start_time": "2022-10-17T20:56:02.236Z"
   },
   {
    "duration": 83,
    "start_time": "2022-10-17T21:00:52.557Z"
   },
   {
    "duration": 98,
    "start_time": "2022-10-17T21:13:20.423Z"
   },
   {
    "duration": 35,
    "start_time": "2022-10-17T21:14:14.262Z"
   },
   {
    "duration": 8,
    "start_time": "2022-10-17T21:14:36.620Z"
   },
   {
    "duration": 43,
    "start_time": "2022-10-18T06:57:54.544Z"
   },
   {
    "duration": 380,
    "start_time": "2022-10-18T06:58:08.314Z"
   },
   {
    "duration": 68,
    "start_time": "2022-10-18T06:58:08.700Z"
   },
   {
    "duration": 25,
    "start_time": "2022-10-18T06:58:08.770Z"
   },
   {
    "duration": 13,
    "start_time": "2022-10-18T06:58:08.797Z"
   },
   {
    "duration": 5,
    "start_time": "2022-10-18T06:58:08.811Z"
   },
   {
    "duration": 6,
    "start_time": "2022-10-18T06:58:08.817Z"
   },
   {
    "duration": 11,
    "start_time": "2022-10-18T06:58:08.824Z"
   },
   {
    "duration": 7,
    "start_time": "2022-10-18T06:58:08.836Z"
   },
   {
    "duration": 21,
    "start_time": "2022-10-18T06:58:08.844Z"
   },
   {
    "duration": 9,
    "start_time": "2022-10-18T06:58:08.868Z"
   },
   {
    "duration": 33,
    "start_time": "2022-10-18T06:58:08.879Z"
   },
   {
    "duration": 15,
    "start_time": "2022-10-18T06:58:08.913Z"
   },
   {
    "duration": 12,
    "start_time": "2022-10-18T06:58:08.930Z"
   },
   {
    "duration": 9,
    "start_time": "2022-10-18T06:58:08.943Z"
   },
   {
    "duration": 39,
    "start_time": "2022-10-18T06:58:08.954Z"
   },
   {
    "duration": 9,
    "start_time": "2022-10-18T06:58:09.001Z"
   },
   {
    "duration": 26,
    "start_time": "2022-10-18T06:58:09.012Z"
   },
   {
    "duration": 50,
    "start_time": "2022-10-18T07:03:26.175Z"
   },
   {
    "duration": 61,
    "start_time": "2022-10-18T07:03:38.791Z"
   },
   {
    "duration": 3,
    "start_time": "2022-10-18T11:33:43.392Z"
   },
   {
    "duration": 10,
    "start_time": "2022-10-18T11:33:46.321Z"
   },
   {
    "duration": 4,
    "start_time": "2022-10-18T11:42:03.028Z"
   },
   {
    "duration": 8,
    "start_time": "2022-10-18T11:42:19.868Z"
   },
   {
    "duration": 12,
    "start_time": "2022-10-18T11:43:59.835Z"
   },
   {
    "duration": 124,
    "start_time": "2022-10-18T11:58:24.578Z"
   },
   {
    "duration": 87,
    "start_time": "2022-10-18T11:59:38.448Z"
   },
   {
    "duration": 400,
    "start_time": "2022-10-18T12:03:06.092Z"
   },
   {
    "duration": 37,
    "start_time": "2022-10-18T12:03:06.494Z"
   },
   {
    "duration": 21,
    "start_time": "2022-10-18T12:03:06.532Z"
   },
   {
    "duration": 12,
    "start_time": "2022-10-18T12:03:06.554Z"
   },
   {
    "duration": 3,
    "start_time": "2022-10-18T12:03:06.568Z"
   },
   {
    "duration": 16,
    "start_time": "2022-10-18T12:03:06.572Z"
   },
   {
    "duration": 9,
    "start_time": "2022-10-18T12:03:06.589Z"
   },
   {
    "duration": 9,
    "start_time": "2022-10-18T12:03:06.599Z"
   },
   {
    "duration": 23,
    "start_time": "2022-10-18T12:03:06.609Z"
   },
   {
    "duration": 8,
    "start_time": "2022-10-18T12:03:06.634Z"
   },
   {
    "duration": 27,
    "start_time": "2022-10-18T12:03:06.643Z"
   },
   {
    "duration": 12,
    "start_time": "2022-10-18T12:03:06.672Z"
   },
   {
    "duration": 8,
    "start_time": "2022-10-18T12:03:06.686Z"
   },
   {
    "duration": 3,
    "start_time": "2022-10-18T12:03:06.696Z"
   },
   {
    "duration": 32,
    "start_time": "2022-10-18T12:03:06.701Z"
   },
   {
    "duration": 3,
    "start_time": "2022-10-18T12:03:06.734Z"
   },
   {
    "duration": 10,
    "start_time": "2022-10-18T12:03:06.738Z"
   },
   {
    "duration": 9,
    "start_time": "2022-10-18T12:03:06.749Z"
   },
   {
    "duration": 43,
    "start_time": "2022-10-18T12:03:06.759Z"
   },
   {
    "duration": 0,
    "start_time": "2022-10-18T12:03:06.803Z"
   },
   {
    "duration": 0,
    "start_time": "2022-10-18T12:03:06.805Z"
   },
   {
    "duration": 1,
    "start_time": "2022-10-18T12:03:06.805Z"
   },
   {
    "duration": 91,
    "start_time": "2022-10-18T12:03:39.597Z"
   },
   {
    "duration": 79,
    "start_time": "2022-10-18T12:07:30.066Z"
   },
   {
    "duration": 9,
    "start_time": "2022-10-18T12:08:02.187Z"
   },
   {
    "duration": 86,
    "start_time": "2022-10-18T12:09:52.368Z"
   },
   {
    "duration": 6,
    "start_time": "2022-10-18T12:53:08.957Z"
   },
   {
    "duration": 11,
    "start_time": "2022-10-18T12:53:26.224Z"
   },
   {
    "duration": 7,
    "start_time": "2022-10-18T12:54:53.223Z"
   },
   {
    "duration": 5,
    "start_time": "2022-10-18T12:57:29.526Z"
   },
   {
    "duration": 9,
    "start_time": "2022-10-18T12:58:23.541Z"
   },
   {
    "duration": 7,
    "start_time": "2022-10-18T12:59:09.533Z"
   },
   {
    "duration": 12,
    "start_time": "2022-10-18T12:59:57.619Z"
   },
   {
    "duration": 10,
    "start_time": "2022-10-18T13:00:11.484Z"
   },
   {
    "duration": 12,
    "start_time": "2022-10-18T13:00:48.963Z"
   },
   {
    "duration": 16,
    "start_time": "2022-10-18T13:01:46.954Z"
   },
   {
    "duration": 347,
    "start_time": "2022-10-18T13:44:21.382Z"
   },
   {
    "duration": 5,
    "start_time": "2022-10-18T14:02:14.202Z"
   },
   {
    "duration": 568,
    "start_time": "2022-10-18T14:02:43.164Z"
   },
   {
    "duration": 38,
    "start_time": "2022-10-18T14:02:43.734Z"
   },
   {
    "duration": 20,
    "start_time": "2022-10-18T14:02:43.773Z"
   },
   {
    "duration": 13,
    "start_time": "2022-10-18T14:02:43.794Z"
   },
   {
    "duration": 5,
    "start_time": "2022-10-18T14:02:43.809Z"
   },
   {
    "duration": 8,
    "start_time": "2022-10-18T14:02:43.816Z"
   },
   {
    "duration": 6,
    "start_time": "2022-10-18T14:02:43.825Z"
   },
   {
    "duration": 6,
    "start_time": "2022-10-18T14:02:43.832Z"
   },
   {
    "duration": 21,
    "start_time": "2022-10-18T14:02:43.840Z"
   },
   {
    "duration": 9,
    "start_time": "2022-10-18T14:02:43.862Z"
   },
   {
    "duration": 30,
    "start_time": "2022-10-18T14:02:43.872Z"
   },
   {
    "duration": 8,
    "start_time": "2022-10-18T14:02:43.904Z"
   },
   {
    "duration": 4,
    "start_time": "2022-10-18T14:02:43.913Z"
   },
   {
    "duration": 30,
    "start_time": "2022-10-18T14:02:43.919Z"
   },
   {
    "duration": 3,
    "start_time": "2022-10-18T14:02:43.951Z"
   },
   {
    "duration": 6,
    "start_time": "2022-10-18T14:02:43.955Z"
   },
   {
    "duration": 10,
    "start_time": "2022-10-18T14:02:43.963Z"
   },
   {
    "duration": 75,
    "start_time": "2022-10-18T14:02:44.001Z"
   },
   {
    "duration": 0,
    "start_time": "2022-10-18T14:02:44.078Z"
   },
   {
    "duration": 0,
    "start_time": "2022-10-18T14:02:44.079Z"
   },
   {
    "duration": 0,
    "start_time": "2022-10-18T14:02:44.080Z"
   },
   {
    "duration": 0,
    "start_time": "2022-10-18T14:02:44.083Z"
   },
   {
    "duration": 15,
    "start_time": "2022-10-18T14:08:54.643Z"
   },
   {
    "duration": 817,
    "start_time": "2022-10-19T13:44:17.527Z"
   },
   {
    "duration": 184,
    "start_time": "2022-10-19T13:46:08.533Z"
   },
   {
    "duration": 22,
    "start_time": "2022-10-19T14:00:43.039Z"
   },
   {
    "duration": 3,
    "start_time": "2022-10-19T14:01:45.180Z"
   },
   {
    "duration": 17,
    "start_time": "2022-10-19T14:02:16.235Z"
   },
   {
    "duration": 8,
    "start_time": "2022-10-19T14:08:25.595Z"
   },
   {
    "duration": 9,
    "start_time": "2022-10-19T14:09:05.615Z"
   },
   {
    "duration": 10,
    "start_time": "2022-10-19T14:09:38.431Z"
   },
   {
    "duration": 4,
    "start_time": "2022-10-19T14:11:55.935Z"
   },
   {
    "duration": 3,
    "start_time": "2022-10-19T14:12:34.870Z"
   },
   {
    "duration": 3,
    "start_time": "2022-10-19T14:12:46.358Z"
   },
   {
    "duration": 9,
    "start_time": "2022-10-19T14:23:53.112Z"
   },
   {
    "duration": 3,
    "start_time": "2022-10-19T14:23:54.535Z"
   },
   {
    "duration": 77,
    "start_time": "2022-10-19T14:29:44.533Z"
   },
   {
    "duration": 37,
    "start_time": "2022-10-19T14:29:49.070Z"
   },
   {
    "duration": 4,
    "start_time": "2022-10-19T14:29:50.347Z"
   },
   {
    "duration": 4,
    "start_time": "2022-10-19T14:29:52.492Z"
   },
   {
    "duration": 4,
    "start_time": "2022-10-19T14:33:13.850Z"
   },
   {
    "duration": 6,
    "start_time": "2022-10-19T14:33:26.530Z"
   },
   {
    "duration": 683,
    "start_time": "2022-10-19T14:33:37.782Z"
   },
   {
    "duration": 52,
    "start_time": "2022-10-19T14:33:38.467Z"
   },
   {
    "duration": 21,
    "start_time": "2022-10-19T14:33:38.521Z"
   },
   {
    "duration": 6,
    "start_time": "2022-10-19T14:33:38.544Z"
   },
   {
    "duration": 6,
    "start_time": "2022-10-19T14:33:38.552Z"
   },
   {
    "duration": 36,
    "start_time": "2022-10-19T14:33:38.560Z"
   },
   {
    "duration": 4,
    "start_time": "2022-10-19T14:33:38.598Z"
   },
   {
    "duration": 22,
    "start_time": "2022-10-19T14:33:38.604Z"
   },
   {
    "duration": 9,
    "start_time": "2022-10-19T14:33:38.628Z"
   },
   {
    "duration": 10,
    "start_time": "2022-10-19T14:33:38.638Z"
   },
   {
    "duration": 4,
    "start_time": "2022-10-19T14:33:38.650Z"
   },
   {
    "duration": 7,
    "start_time": "2022-10-19T14:33:38.655Z"
   },
   {
    "duration": 37,
    "start_time": "2022-10-19T14:33:38.694Z"
   },
   {
    "duration": 4,
    "start_time": "2022-10-19T14:33:38.734Z"
   },
   {
    "duration": 9,
    "start_time": "2022-10-19T14:33:38.740Z"
   },
   {
    "duration": 11,
    "start_time": "2022-10-19T14:33:38.750Z"
   },
   {
    "duration": 45,
    "start_time": "2022-10-19T14:33:38.763Z"
   },
   {
    "duration": 14,
    "start_time": "2022-10-19T14:33:38.810Z"
   },
   {
    "duration": 10,
    "start_time": "2022-10-19T14:33:38.825Z"
   },
   {
    "duration": 108,
    "start_time": "2022-10-19T14:33:38.836Z"
   },
   {
    "duration": 0,
    "start_time": "2022-10-19T14:33:38.945Z"
   },
   {
    "duration": 0,
    "start_time": "2022-10-19T14:33:38.947Z"
   },
   {
    "duration": 0,
    "start_time": "2022-10-19T14:33:38.948Z"
   },
   {
    "duration": 0,
    "start_time": "2022-10-19T14:33:38.949Z"
   },
   {
    "duration": 4,
    "start_time": "2022-10-19T19:11:21.862Z"
   },
   {
    "duration": 52,
    "start_time": "2022-10-19T19:11:30.311Z"
   },
   {
    "duration": 861,
    "start_time": "2022-10-19T19:11:43.269Z"
   },
   {
    "duration": 211,
    "start_time": "2022-10-19T19:11:44.132Z"
   },
   {
    "duration": 24,
    "start_time": "2022-10-19T19:11:44.344Z"
   },
   {
    "duration": 6,
    "start_time": "2022-10-19T19:11:44.370Z"
   },
   {
    "duration": 11,
    "start_time": "2022-10-19T19:11:44.378Z"
   },
   {
    "duration": 24,
    "start_time": "2022-10-19T19:11:44.396Z"
   },
   {
    "duration": 10,
    "start_time": "2022-10-19T19:11:44.422Z"
   },
   {
    "duration": 31,
    "start_time": "2022-10-19T19:11:44.434Z"
   },
   {
    "duration": 40,
    "start_time": "2022-10-19T19:11:44.467Z"
   },
   {
    "duration": 25,
    "start_time": "2022-10-19T19:11:44.509Z"
   },
   {
    "duration": 9,
    "start_time": "2022-10-19T19:11:44.537Z"
   },
   {
    "duration": 8,
    "start_time": "2022-10-19T19:11:44.548Z"
   },
   {
    "duration": 64,
    "start_time": "2022-10-19T19:11:44.558Z"
   },
   {
    "duration": 12,
    "start_time": "2022-10-19T19:11:44.625Z"
   },
   {
    "duration": 111,
    "start_time": "2022-10-19T19:11:44.640Z"
   },
   {
    "duration": 0,
    "start_time": "2022-10-19T19:11:44.753Z"
   },
   {
    "duration": 0,
    "start_time": "2022-10-19T19:11:44.755Z"
   },
   {
    "duration": 0,
    "start_time": "2022-10-19T19:11:44.757Z"
   },
   {
    "duration": 0,
    "start_time": "2022-10-19T19:11:44.758Z"
   },
   {
    "duration": 0,
    "start_time": "2022-10-19T19:11:44.760Z"
   },
   {
    "duration": 0,
    "start_time": "2022-10-19T19:11:44.761Z"
   },
   {
    "duration": 8,
    "start_time": "2022-10-19T19:46:36.284Z"
   },
   {
    "duration": 14,
    "start_time": "2022-10-19T19:46:57.754Z"
   },
   {
    "duration": 4,
    "start_time": "2022-10-19T19:51:20.797Z"
   },
   {
    "duration": 4,
    "start_time": "2022-10-19T19:51:28.618Z"
   },
   {
    "duration": 13,
    "start_time": "2022-10-19T19:53:29.120Z"
   },
   {
    "duration": 7,
    "start_time": "2022-10-19T19:53:39.943Z"
   },
   {
    "duration": 7,
    "start_time": "2022-10-19T19:59:37.628Z"
   },
   {
    "duration": 10,
    "start_time": "2022-10-19T19:59:42.046Z"
   },
   {
    "duration": 14,
    "start_time": "2022-10-19T20:00:01.142Z"
   },
   {
    "duration": 5,
    "start_time": "2022-10-19T20:13:09.317Z"
   },
   {
    "duration": 11,
    "start_time": "2022-10-19T20:14:06.005Z"
   },
   {
    "duration": 62,
    "start_time": "2022-10-20T07:15:21.567Z"
   },
   {
    "duration": 877,
    "start_time": "2022-10-20T07:15:29.636Z"
   },
   {
    "duration": 196,
    "start_time": "2022-10-20T07:15:30.515Z"
   },
   {
    "duration": 21,
    "start_time": "2022-10-20T07:15:30.712Z"
   },
   {
    "duration": 18,
    "start_time": "2022-10-20T07:15:30.735Z"
   },
   {
    "duration": 21,
    "start_time": "2022-10-20T07:15:30.755Z"
   },
   {
    "duration": 34,
    "start_time": "2022-10-20T07:15:30.778Z"
   },
   {
    "duration": 19,
    "start_time": "2022-10-20T07:15:30.814Z"
   },
   {
    "duration": 24,
    "start_time": "2022-10-20T07:15:30.835Z"
   },
   {
    "duration": 17,
    "start_time": "2022-10-20T07:15:30.861Z"
   },
   {
    "duration": 21,
    "start_time": "2022-10-20T07:15:30.880Z"
   },
   {
    "duration": 9,
    "start_time": "2022-10-20T07:15:30.902Z"
   },
   {
    "duration": 10,
    "start_time": "2022-10-20T07:15:30.913Z"
   },
   {
    "duration": 38,
    "start_time": "2022-10-20T07:15:30.925Z"
   },
   {
    "duration": 6,
    "start_time": "2022-10-20T07:15:30.966Z"
   },
   {
    "duration": 40,
    "start_time": "2022-10-20T07:15:30.974Z"
   },
   {
    "duration": 10,
    "start_time": "2022-10-20T07:15:31.017Z"
   },
   {
    "duration": 18,
    "start_time": "2022-10-20T07:15:31.029Z"
   },
   {
    "duration": 14,
    "start_time": "2022-10-20T07:15:31.049Z"
   },
   {
    "duration": 16,
    "start_time": "2022-10-20T07:15:31.065Z"
   },
   {
    "duration": 5,
    "start_time": "2022-10-20T07:15:31.083Z"
   },
   {
    "duration": 14,
    "start_time": "2022-10-20T07:15:31.090Z"
   },
   {
    "duration": 108,
    "start_time": "2022-10-20T07:15:31.107Z"
   },
   {
    "duration": 9,
    "start_time": "2022-10-20T07:15:31.217Z"
   },
   {
    "duration": 10,
    "start_time": "2022-10-20T07:15:31.228Z"
   },
   {
    "duration": 17,
    "start_time": "2022-10-20T07:15:31.240Z"
   },
   {
    "duration": 99,
    "start_time": "2022-10-20T07:15:31.259Z"
   },
   {
    "duration": 16,
    "start_time": "2022-10-20T07:16:19.383Z"
   },
   {
    "duration": 9,
    "start_time": "2022-10-20T07:17:52.846Z"
   },
   {
    "duration": 5,
    "start_time": "2022-10-20T07:18:48.365Z"
   },
   {
    "duration": 8,
    "start_time": "2022-10-20T07:21:46.780Z"
   },
   {
    "duration": 8,
    "start_time": "2022-10-20T07:22:03.147Z"
   },
   {
    "duration": 641,
    "start_time": "2022-10-20T07:22:25.467Z"
   },
   {
    "duration": 49,
    "start_time": "2022-10-20T07:22:26.110Z"
   },
   {
    "duration": 19,
    "start_time": "2022-10-20T07:22:26.161Z"
   },
   {
    "duration": 5,
    "start_time": "2022-10-20T07:22:26.182Z"
   },
   {
    "duration": 16,
    "start_time": "2022-10-20T07:22:26.188Z"
   },
   {
    "duration": 28,
    "start_time": "2022-10-20T07:22:26.206Z"
   },
   {
    "duration": 5,
    "start_time": "2022-10-20T07:22:26.236Z"
   },
   {
    "duration": 25,
    "start_time": "2022-10-20T07:22:26.242Z"
   },
   {
    "duration": 9,
    "start_time": "2022-10-20T07:22:26.269Z"
   },
   {
    "duration": 15,
    "start_time": "2022-10-20T07:22:26.281Z"
   },
   {
    "duration": 10,
    "start_time": "2022-10-20T07:22:26.298Z"
   },
   {
    "duration": 7,
    "start_time": "2022-10-20T07:22:26.309Z"
   },
   {
    "duration": 33,
    "start_time": "2022-10-20T07:22:26.318Z"
   },
   {
    "duration": 7,
    "start_time": "2022-10-20T07:22:26.352Z"
   },
   {
    "duration": 9,
    "start_time": "2022-10-20T07:22:26.360Z"
   },
   {
    "duration": 4,
    "start_time": "2022-10-20T07:22:26.391Z"
   },
   {
    "duration": 8,
    "start_time": "2022-10-20T07:22:26.396Z"
   },
   {
    "duration": 8,
    "start_time": "2022-10-20T07:22:26.405Z"
   },
   {
    "duration": 9,
    "start_time": "2022-10-20T07:22:26.414Z"
   },
   {
    "duration": 5,
    "start_time": "2022-10-20T07:22:26.424Z"
   },
   {
    "duration": 18,
    "start_time": "2022-10-20T07:22:26.430Z"
   },
   {
    "duration": 12,
    "start_time": "2022-10-20T07:22:26.450Z"
   },
   {
    "duration": 5,
    "start_time": "2022-10-20T07:25:21.369Z"
   },
   {
    "duration": 5,
    "start_time": "2022-10-20T07:28:15.708Z"
   },
   {
    "duration": 1331,
    "start_time": "2022-10-20T07:28:33.068Z"
   },
   {
    "duration": 330,
    "start_time": "2022-10-20T07:28:40.948Z"
   },
   {
    "duration": 12,
    "start_time": "2022-10-20T07:55:24.484Z"
   },
   {
    "duration": 10,
    "start_time": "2022-10-20T07:55:36.243Z"
   },
   {
    "duration": 24,
    "start_time": "2022-10-20T07:58:44.995Z"
   },
   {
    "duration": 21,
    "start_time": "2022-10-20T07:59:18.569Z"
   },
   {
    "duration": 6,
    "start_time": "2022-10-20T08:24:05.646Z"
   },
   {
    "duration": 5,
    "start_time": "2022-10-20T08:24:32.439Z"
   },
   {
    "duration": 11,
    "start_time": "2022-10-20T08:26:29.406Z"
   },
   {
    "duration": 10,
    "start_time": "2022-10-20T08:27:59.309Z"
   },
   {
    "duration": 8,
    "start_time": "2022-10-20T08:28:26.469Z"
   },
   {
    "duration": 8,
    "start_time": "2022-10-20T08:50:21.915Z"
   },
   {
    "duration": 584,
    "start_time": "2022-10-20T09:03:48.252Z"
   },
   {
    "duration": 578,
    "start_time": "2022-10-20T09:04:10.268Z"
   },
   {
    "duration": 346,
    "start_time": "2022-10-20T09:13:00.423Z"
   },
   {
    "duration": 438,
    "start_time": "2022-10-20T09:13:58.062Z"
   },
   {
    "duration": 93,
    "start_time": "2022-10-20T09:14:26.581Z"
   },
   {
    "duration": 96,
    "start_time": "2022-10-20T09:14:31.830Z"
   },
   {
    "duration": 388,
    "start_time": "2022-10-20T09:15:32.478Z"
   },
   {
    "duration": 493,
    "start_time": "2022-10-20T09:18:26.628Z"
   },
   {
    "duration": 464,
    "start_time": "2022-10-20T09:18:46.388Z"
   },
   {
    "duration": 395,
    "start_time": "2022-10-20T09:19:18.527Z"
   },
   {
    "duration": 89,
    "start_time": "2022-10-20T09:20:18.234Z"
   },
   {
    "duration": 448,
    "start_time": "2022-10-20T09:20:21.075Z"
   },
   {
    "duration": 492,
    "start_time": "2022-10-20T09:20:44.651Z"
   },
   {
    "duration": 421,
    "start_time": "2022-10-20T09:21:13.265Z"
   },
   {
    "duration": 524,
    "start_time": "2022-10-20T09:22:23.756Z"
   },
   {
    "duration": 430,
    "start_time": "2022-10-20T10:36:59.479Z"
   },
   {
    "duration": 395,
    "start_time": "2022-10-20T10:37:40.831Z"
   },
   {
    "duration": 399,
    "start_time": "2022-10-20T10:37:47.943Z"
   },
   {
    "duration": 395,
    "start_time": "2022-10-20T10:39:33.460Z"
   },
   {
    "duration": 510,
    "start_time": "2022-10-20T10:40:12.085Z"
   },
   {
    "duration": 402,
    "start_time": "2022-10-20T10:41:05.651Z"
   },
   {
    "duration": 415,
    "start_time": "2022-10-20T10:41:16.844Z"
   },
   {
    "duration": 395,
    "start_time": "2022-10-20T10:41:58.435Z"
   },
   {
    "duration": 421,
    "start_time": "2022-10-20T10:43:39.914Z"
   },
   {
    "duration": 6,
    "start_time": "2022-10-20T10:56:38.146Z"
   },
   {
    "duration": 15,
    "start_time": "2022-10-20T10:56:55.691Z"
   },
   {
    "duration": 488,
    "start_time": "2022-10-20T10:57:52.203Z"
   },
   {
    "duration": 613,
    "start_time": "2022-10-20T10:58:33.282Z"
   },
   {
    "duration": 414,
    "start_time": "2022-10-20T11:04:32.424Z"
   },
   {
    "duration": 9,
    "start_time": "2022-10-20T11:19:55.157Z"
   },
   {
    "duration": 18,
    "start_time": "2022-10-20T11:20:06.869Z"
   },
   {
    "duration": 15,
    "start_time": "2022-10-20T11:20:42.836Z"
   },
   {
    "duration": 14,
    "start_time": "2022-10-20T11:22:20.604Z"
   },
   {
    "duration": 9,
    "start_time": "2022-10-20T11:22:32.812Z"
   },
   {
    "duration": 19,
    "start_time": "2022-10-20T11:22:43.642Z"
   },
   {
    "duration": 10,
    "start_time": "2022-10-20T11:22:55.434Z"
   },
   {
    "duration": 19,
    "start_time": "2022-10-20T11:22:56.860Z"
   },
   {
    "duration": 7,
    "start_time": "2022-10-20T11:28:17.209Z"
   },
   {
    "duration": 10,
    "start_time": "2022-10-20T11:28:19.955Z"
   },
   {
    "duration": 7,
    "start_time": "2022-10-20T11:30:24.951Z"
   },
   {
    "duration": 7,
    "start_time": "2022-10-20T11:30:32.634Z"
   },
   {
    "duration": 360,
    "start_time": "2022-10-20T12:07:09.346Z"
   },
   {
    "duration": 140,
    "start_time": "2022-10-20T12:08:59.009Z"
   },
   {
    "duration": 12,
    "start_time": "2022-10-20T12:10:49.225Z"
   },
   {
    "duration": 1146,
    "start_time": "2022-10-20T12:11:45.793Z"
   },
   {
    "duration": 50,
    "start_time": "2022-10-20T12:11:46.941Z"
   },
   {
    "duration": 21,
    "start_time": "2022-10-20T12:11:46.995Z"
   },
   {
    "duration": 5,
    "start_time": "2022-10-20T12:11:47.018Z"
   },
   {
    "duration": 8,
    "start_time": "2022-10-20T12:11:47.024Z"
   },
   {
    "duration": 14,
    "start_time": "2022-10-20T12:11:47.034Z"
   },
   {
    "duration": 3,
    "start_time": "2022-10-20T12:11:47.050Z"
   },
   {
    "duration": 49,
    "start_time": "2022-10-20T12:11:47.054Z"
   },
   {
    "duration": 8,
    "start_time": "2022-10-20T12:11:47.106Z"
   },
   {
    "duration": 11,
    "start_time": "2022-10-20T12:11:47.115Z"
   },
   {
    "duration": 4,
    "start_time": "2022-10-20T12:11:47.128Z"
   },
   {
    "duration": 5,
    "start_time": "2022-10-20T12:11:47.133Z"
   },
   {
    "duration": 58,
    "start_time": "2022-10-20T12:11:47.140Z"
   },
   {
    "duration": 6,
    "start_time": "2022-10-20T12:11:47.200Z"
   },
   {
    "duration": 11,
    "start_time": "2022-10-20T12:11:47.208Z"
   },
   {
    "duration": 4,
    "start_time": "2022-10-20T12:11:47.222Z"
   },
   {
    "duration": 8,
    "start_time": "2022-10-20T12:11:47.227Z"
   },
   {
    "duration": 7,
    "start_time": "2022-10-20T12:11:47.236Z"
   },
   {
    "duration": 7,
    "start_time": "2022-10-20T12:11:47.244Z"
   },
   {
    "duration": 5,
    "start_time": "2022-10-20T12:11:47.252Z"
   },
   {
    "duration": 7,
    "start_time": "2022-10-20T12:11:47.292Z"
   },
   {
    "duration": 6,
    "start_time": "2022-10-20T12:11:47.300Z"
   },
   {
    "duration": 11,
    "start_time": "2022-10-20T12:11:47.307Z"
   },
   {
    "duration": 7,
    "start_time": "2022-10-20T12:11:47.320Z"
   },
   {
    "duration": 9,
    "start_time": "2022-10-20T12:11:47.329Z"
   },
   {
    "duration": 10,
    "start_time": "2022-10-20T12:11:47.339Z"
   },
   {
    "duration": 38,
    "start_time": "2022-10-20T12:11:47.353Z"
   },
   {
    "duration": 10,
    "start_time": "2022-10-20T12:11:47.393Z"
   },
   {
    "duration": 9,
    "start_time": "2022-10-20T12:11:47.405Z"
   },
   {
    "duration": 392,
    "start_time": "2022-10-20T12:11:47.415Z"
   },
   {
    "duration": 101,
    "start_time": "2022-10-20T12:11:47.808Z"
   },
   {
    "duration": 0,
    "start_time": "2022-10-20T12:11:47.910Z"
   },
   {
    "duration": 0,
    "start_time": "2022-10-20T12:11:47.912Z"
   },
   {
    "duration": 0,
    "start_time": "2022-10-20T12:11:47.913Z"
   },
   {
    "duration": 1149,
    "start_time": "2022-10-20T12:11:56.920Z"
   },
   {
    "duration": 86,
    "start_time": "2022-10-20T12:11:58.071Z"
   },
   {
    "duration": 19,
    "start_time": "2022-10-20T12:11:58.159Z"
   },
   {
    "duration": 4,
    "start_time": "2022-10-20T12:11:58.180Z"
   },
   {
    "duration": 5,
    "start_time": "2022-10-20T12:11:58.186Z"
   },
   {
    "duration": 15,
    "start_time": "2022-10-20T12:11:58.192Z"
   },
   {
    "duration": 4,
    "start_time": "2022-10-20T12:11:58.209Z"
   },
   {
    "duration": 16,
    "start_time": "2022-10-20T12:11:58.214Z"
   },
   {
    "duration": 8,
    "start_time": "2022-10-20T12:11:58.232Z"
   },
   {
    "duration": 17,
    "start_time": "2022-10-20T12:11:58.243Z"
   },
   {
    "duration": 32,
    "start_time": "2022-10-20T12:11:58.262Z"
   },
   {
    "duration": 5,
    "start_time": "2022-10-20T12:11:58.295Z"
   },
   {
    "duration": 33,
    "start_time": "2022-10-20T12:11:58.302Z"
   },
   {
    "duration": 5,
    "start_time": "2022-10-20T12:11:58.337Z"
   },
   {
    "duration": 8,
    "start_time": "2022-10-20T12:11:58.344Z"
   },
   {
    "duration": 3,
    "start_time": "2022-10-20T12:11:58.354Z"
   },
   {
    "duration": 37,
    "start_time": "2022-10-20T12:11:58.358Z"
   },
   {
    "duration": 22,
    "start_time": "2022-10-20T12:11:58.396Z"
   },
   {
    "duration": 7,
    "start_time": "2022-10-20T12:11:58.420Z"
   },
   {
    "duration": 5,
    "start_time": "2022-10-20T12:11:58.429Z"
   },
   {
    "duration": 7,
    "start_time": "2022-10-20T12:11:58.436Z"
   },
   {
    "duration": 4,
    "start_time": "2022-10-20T12:11:58.445Z"
   },
   {
    "duration": 10,
    "start_time": "2022-10-20T12:11:58.451Z"
   },
   {
    "duration": 34,
    "start_time": "2022-10-20T12:11:58.463Z"
   },
   {
    "duration": 10,
    "start_time": "2022-10-20T12:11:58.499Z"
   },
   {
    "duration": 5,
    "start_time": "2022-10-20T12:11:58.510Z"
   },
   {
    "duration": 14,
    "start_time": "2022-10-20T12:11:58.517Z"
   },
   {
    "duration": 9,
    "start_time": "2022-10-20T12:11:58.535Z"
   },
   {
    "duration": 8,
    "start_time": "2022-10-20T12:11:58.546Z"
   },
   {
    "duration": 386,
    "start_time": "2022-10-20T12:11:58.590Z"
   },
   {
    "duration": 109,
    "start_time": "2022-10-20T12:11:58.978Z"
   },
   {
    "duration": 1,
    "start_time": "2022-10-20T12:11:59.090Z"
   },
   {
    "duration": 0,
    "start_time": "2022-10-20T12:11:59.092Z"
   },
   {
    "duration": 0,
    "start_time": "2022-10-20T12:11:59.093Z"
   },
   {
    "duration": 9,
    "start_time": "2022-10-20T12:14:51.766Z"
   },
   {
    "duration": 11,
    "start_time": "2022-10-20T12:14:53.678Z"
   },
   {
    "duration": 71,
    "start_time": "2022-10-20T12:41:40.558Z"
   },
   {
    "duration": 87,
    "start_time": "2022-10-20T12:52:05.681Z"
   },
   {
    "duration": 7,
    "start_time": "2022-10-20T12:52:20.183Z"
   },
   {
    "duration": 8,
    "start_time": "2022-10-20T12:53:22.240Z"
   },
   {
    "duration": 11,
    "start_time": "2022-10-20T12:53:23.607Z"
   },
   {
    "duration": 165,
    "start_time": "2022-10-20T12:54:11.087Z"
   },
   {
    "duration": 26,
    "start_time": "2022-10-20T12:55:06.406Z"
   },
   {
    "duration": 152,
    "start_time": "2022-10-20T13:29:25.530Z"
   },
   {
    "duration": 469,
    "start_time": "2022-10-20T13:39:56.268Z"
   },
   {
    "duration": 1438,
    "start_time": "2022-10-20T13:41:36.755Z"
   },
   {
    "duration": 1172,
    "start_time": "2022-10-20T13:41:56.354Z"
   },
   {
    "duration": 1064,
    "start_time": "2022-10-20T13:43:15.099Z"
   },
   {
    "duration": 1066,
    "start_time": "2022-10-20T13:43:50.562Z"
   },
   {
    "duration": 1162,
    "start_time": "2022-10-20T13:45:16.433Z"
   },
   {
    "duration": 818,
    "start_time": "2022-10-20T13:51:25.230Z"
   },
   {
    "duration": 261,
    "start_time": "2022-10-20T13:52:35.038Z"
   },
   {
    "duration": 8,
    "start_time": "2022-10-20T13:53:19.804Z"
   },
   {
    "duration": 277,
    "start_time": "2022-10-20T13:54:56.588Z"
   },
   {
    "duration": 835,
    "start_time": "2022-10-20T13:55:13.379Z"
   },
   {
    "duration": 771,
    "start_time": "2022-10-20T13:55:31.581Z"
   },
   {
    "duration": 7,
    "start_time": "2022-10-20T14:08:52.492Z"
   },
   {
    "duration": 16,
    "start_time": "2022-10-20T14:09:07.587Z"
   },
   {
    "duration": 4,
    "start_time": "2022-10-20T14:10:41.001Z"
   },
   {
    "duration": 994,
    "start_time": "2022-10-20T14:10:50.900Z"
   },
   {
    "duration": 1024,
    "start_time": "2022-10-20T14:12:08.857Z"
   },
   {
    "duration": 16,
    "start_time": "2022-10-20T14:13:03.354Z"
   },
   {
    "duration": 8,
    "start_time": "2022-10-20T14:13:31.792Z"
   },
   {
    "duration": 3,
    "start_time": "2022-10-20T14:13:57.931Z"
   },
   {
    "duration": 6,
    "start_time": "2022-10-20T14:14:08.545Z"
   },
   {
    "duration": 5,
    "start_time": "2022-10-20T14:14:42.241Z"
   },
   {
    "duration": 25,
    "start_time": "2022-10-20T14:16:15.603Z"
   },
   {
    "duration": 13,
    "start_time": "2022-10-20T14:16:25.129Z"
   },
   {
    "duration": 12,
    "start_time": "2022-10-20T14:16:32.335Z"
   },
   {
    "duration": 290,
    "start_time": "2022-10-20T14:16:54.005Z"
   },
   {
    "duration": 287,
    "start_time": "2022-10-20T14:17:12.590Z"
   },
   {
    "duration": 6,
    "start_time": "2022-10-20T14:22:20.919Z"
   },
   {
    "duration": 13,
    "start_time": "2022-10-20T14:25:05.100Z"
   },
   {
    "duration": 12,
    "start_time": "2022-10-20T14:25:07.568Z"
   },
   {
    "duration": 317,
    "start_time": "2022-10-20T14:27:34.897Z"
   },
   {
    "duration": 9,
    "start_time": "2022-10-20T14:50:58.331Z"
   },
   {
    "duration": 5,
    "start_time": "2022-10-20T14:51:10.363Z"
   },
   {
    "duration": 13,
    "start_time": "2022-10-20T14:55:37.905Z"
   },
   {
    "duration": 121,
    "start_time": "2022-10-20T15:00:54.533Z"
   },
   {
    "duration": 118,
    "start_time": "2022-10-20T15:01:14.846Z"
   },
   {
    "duration": 122,
    "start_time": "2022-10-20T15:02:21.469Z"
   },
   {
    "duration": 119,
    "start_time": "2022-10-20T15:02:42.627Z"
   },
   {
    "duration": 215,
    "start_time": "2022-10-20T15:03:27.251Z"
   },
   {
    "duration": 110,
    "start_time": "2022-10-20T15:06:57.673Z"
   },
   {
    "duration": 45,
    "start_time": "2022-10-20T18:44:10.381Z"
   },
   {
    "duration": 6,
    "start_time": "2022-10-20T18:44:17.228Z"
   },
   {
    "duration": 6,
    "start_time": "2022-10-20T18:45:18.615Z"
   },
   {
    "duration": 1324,
    "start_time": "2022-10-20T18:45:28.770Z"
   },
   {
    "duration": 79,
    "start_time": "2022-10-20T18:45:30.096Z"
   },
   {
    "duration": 26,
    "start_time": "2022-10-20T18:45:30.177Z"
   },
   {
    "duration": 8,
    "start_time": "2022-10-20T18:45:30.205Z"
   },
   {
    "duration": 37,
    "start_time": "2022-10-20T18:45:30.215Z"
   },
   {
    "duration": 42,
    "start_time": "2022-10-20T18:45:30.253Z"
   },
   {
    "duration": 21,
    "start_time": "2022-10-20T18:45:30.297Z"
   },
   {
    "duration": 52,
    "start_time": "2022-10-20T18:45:30.320Z"
   },
   {
    "duration": 41,
    "start_time": "2022-10-20T18:45:30.374Z"
   },
   {
    "duration": 44,
    "start_time": "2022-10-20T18:45:30.417Z"
   },
   {
    "duration": 42,
    "start_time": "2022-10-20T18:45:30.463Z"
   },
   {
    "duration": 41,
    "start_time": "2022-10-20T18:45:30.508Z"
   },
   {
    "duration": 83,
    "start_time": "2022-10-20T18:45:30.552Z"
   },
   {
    "duration": 25,
    "start_time": "2022-10-20T18:45:30.639Z"
   },
   {
    "duration": 32,
    "start_time": "2022-10-20T18:45:30.665Z"
   },
   {
    "duration": 20,
    "start_time": "2022-10-20T18:45:30.699Z"
   },
   {
    "duration": 31,
    "start_time": "2022-10-20T18:45:30.720Z"
   },
   {
    "duration": 29,
    "start_time": "2022-10-20T18:45:30.753Z"
   },
   {
    "duration": 27,
    "start_time": "2022-10-20T18:45:30.784Z"
   },
   {
    "duration": 41,
    "start_time": "2022-10-20T18:45:30.812Z"
   },
   {
    "duration": 17,
    "start_time": "2022-10-20T18:45:30.855Z"
   },
   {
    "duration": 12,
    "start_time": "2022-10-20T18:45:30.874Z"
   },
   {
    "duration": 18,
    "start_time": "2022-10-20T18:45:30.888Z"
   },
   {
    "duration": 11,
    "start_time": "2022-10-20T18:45:30.908Z"
   },
   {
    "duration": 23,
    "start_time": "2022-10-20T18:45:30.921Z"
   },
   {
    "duration": 9,
    "start_time": "2022-10-20T18:45:30.946Z"
   },
   {
    "duration": 18,
    "start_time": "2022-10-20T18:45:30.957Z"
   },
   {
    "duration": 17,
    "start_time": "2022-10-20T18:45:30.977Z"
   },
   {
    "duration": 19,
    "start_time": "2022-10-20T18:45:30.996Z"
   },
   {
    "duration": 392,
    "start_time": "2022-10-20T18:45:31.016Z"
   },
   {
    "duration": 13,
    "start_time": "2022-10-20T18:45:31.410Z"
   },
   {
    "duration": 5,
    "start_time": "2022-10-20T18:45:31.434Z"
   },
   {
    "duration": 16,
    "start_time": "2022-10-20T18:45:31.440Z"
   },
   {
    "duration": 10,
    "start_time": "2022-10-20T18:45:31.457Z"
   },
   {
    "duration": 324,
    "start_time": "2022-10-20T18:45:31.469Z"
   },
   {
    "duration": 10,
    "start_time": "2022-10-20T18:45:31.795Z"
   },
   {
    "duration": 101,
    "start_time": "2022-10-20T18:45:31.807Z"
   },
   {
    "duration": 80,
    "start_time": "2022-10-20T18:45:31.910Z"
   },
   {
    "duration": 8,
    "start_time": "2022-10-20T18:46:29.116Z"
   },
   {
    "duration": 14,
    "start_time": "2022-10-20T18:47:35.192Z"
   },
   {
    "duration": 302,
    "start_time": "2022-10-20T18:57:58.613Z"
   },
   {
    "duration": 11,
    "start_time": "2022-10-20T19:10:47.762Z"
   },
   {
    "duration": 128,
    "start_time": "2022-10-20T19:15:03.643Z"
   },
   {
    "duration": 12,
    "start_time": "2022-10-20T19:15:20.939Z"
   },
   {
    "duration": 414,
    "start_time": "2022-10-20T19:15:23.190Z"
   },
   {
    "duration": 483,
    "start_time": "2022-10-20T19:16:08.067Z"
   },
   {
    "duration": 53,
    "start_time": "2022-10-21T06:47:43.169Z"
   },
   {
    "duration": 1345,
    "start_time": "2022-10-21T06:47:52.202Z"
   },
   {
    "duration": 191,
    "start_time": "2022-10-21T06:47:53.549Z"
   },
   {
    "duration": 22,
    "start_time": "2022-10-21T06:47:53.741Z"
   },
   {
    "duration": 4,
    "start_time": "2022-10-21T06:47:53.766Z"
   },
   {
    "duration": 6,
    "start_time": "2022-10-21T06:47:53.772Z"
   },
   {
    "duration": 17,
    "start_time": "2022-10-21T06:47:53.779Z"
   },
   {
    "duration": 3,
    "start_time": "2022-10-21T06:47:53.798Z"
   },
   {
    "duration": 18,
    "start_time": "2022-10-21T06:47:53.803Z"
   },
   {
    "duration": 9,
    "start_time": "2022-10-21T06:47:53.823Z"
   },
   {
    "duration": 10,
    "start_time": "2022-10-21T06:47:53.835Z"
   },
   {
    "duration": 3,
    "start_time": "2022-10-21T06:47:53.847Z"
   },
   {
    "duration": 39,
    "start_time": "2022-10-21T06:47:53.852Z"
   },
   {
    "duration": 35,
    "start_time": "2022-10-21T06:47:53.893Z"
   },
   {
    "duration": 6,
    "start_time": "2022-10-21T06:47:53.930Z"
   },
   {
    "duration": 10,
    "start_time": "2022-10-21T06:47:53.937Z"
   },
   {
    "duration": 4,
    "start_time": "2022-10-21T06:47:53.948Z"
   },
   {
    "duration": 38,
    "start_time": "2022-10-21T06:47:53.954Z"
   },
   {
    "duration": 6,
    "start_time": "2022-10-21T06:47:53.994Z"
   },
   {
    "duration": 8,
    "start_time": "2022-10-21T06:47:54.002Z"
   },
   {
    "duration": 5,
    "start_time": "2022-10-21T06:47:54.012Z"
   },
   {
    "duration": 9,
    "start_time": "2022-10-21T06:47:54.019Z"
   },
   {
    "duration": 5,
    "start_time": "2022-10-21T06:47:54.030Z"
   },
   {
    "duration": 11,
    "start_time": "2022-10-21T06:47:54.036Z"
   },
   {
    "duration": 8,
    "start_time": "2022-10-21T06:47:54.048Z"
   },
   {
    "duration": 11,
    "start_time": "2022-10-21T06:47:54.091Z"
   },
   {
    "duration": 6,
    "start_time": "2022-10-21T06:47:54.103Z"
   },
   {
    "duration": 16,
    "start_time": "2022-10-21T06:47:54.111Z"
   },
   {
    "duration": 10,
    "start_time": "2022-10-21T06:47:54.132Z"
   },
   {
    "duration": 9,
    "start_time": "2022-10-21T06:47:54.144Z"
   },
   {
    "duration": 469,
    "start_time": "2022-10-21T06:47:54.154Z"
   },
   {
    "duration": 13,
    "start_time": "2022-10-21T06:47:54.625Z"
   },
   {
    "duration": 5,
    "start_time": "2022-10-21T06:47:54.640Z"
   },
   {
    "duration": 13,
    "start_time": "2022-10-21T06:47:54.646Z"
   },
   {
    "duration": 36,
    "start_time": "2022-10-21T06:47:54.661Z"
   },
   {
    "duration": 321,
    "start_time": "2022-10-21T06:47:54.699Z"
   },
   {
    "duration": 10,
    "start_time": "2022-10-21T06:47:55.023Z"
   },
   {
    "duration": 117,
    "start_time": "2022-10-21T06:47:55.035Z"
   },
   {
    "duration": 8,
    "start_time": "2022-10-21T06:47:55.153Z"
   },
   {
    "duration": 11,
    "start_time": "2022-10-21T06:47:55.162Z"
   },
   {
    "duration": 478,
    "start_time": "2022-10-21T06:47:55.174Z"
   },
   {
    "duration": 424,
    "start_time": "2022-10-21T06:48:18.869Z"
   },
   {
    "duration": 96,
    "start_time": "2022-10-21T07:14:38.661Z"
   },
   {
    "duration": 111,
    "start_time": "2022-10-21T07:15:01.805Z"
   },
   {
    "duration": 8,
    "start_time": "2022-10-21T07:22:22.232Z"
   },
   {
    "duration": 329,
    "start_time": "2022-10-21T07:22:25.144Z"
   },
   {
    "duration": 300,
    "start_time": "2022-10-21T07:22:48.144Z"
   },
   {
    "duration": 257,
    "start_time": "2022-10-21T07:23:33.447Z"
   },
   {
    "duration": 282,
    "start_time": "2022-10-21T07:23:59.511Z"
   },
   {
    "duration": 277,
    "start_time": "2022-10-21T07:24:09.751Z"
   },
   {
    "duration": 18,
    "start_time": "2022-10-21T07:40:44.295Z"
   },
   {
    "duration": 362,
    "start_time": "2022-10-21T07:40:48.760Z"
   },
   {
    "duration": 306,
    "start_time": "2022-10-21T07:41:06.877Z"
   },
   {
    "duration": 308,
    "start_time": "2022-10-21T07:41:44.764Z"
   },
   {
    "duration": 16,
    "start_time": "2022-10-21T07:42:09.995Z"
   },
   {
    "duration": 288,
    "start_time": "2022-10-21T07:42:18.940Z"
   },
   {
    "duration": 3,
    "start_time": "2022-10-21T07:42:53.563Z"
   },
   {
    "duration": 3,
    "start_time": "2022-10-21T07:43:10.627Z"
   },
   {
    "duration": 4,
    "start_time": "2022-10-21T07:45:11.742Z"
   },
   {
    "duration": 4,
    "start_time": "2022-10-21T07:45:16.585Z"
   },
   {
    "duration": 3,
    "start_time": "2022-10-21T07:45:35.018Z"
   },
   {
    "duration": 3,
    "start_time": "2022-10-21T07:48:45.288Z"
   },
   {
    "duration": 3,
    "start_time": "2022-10-21T07:48:53.686Z"
   },
   {
    "duration": 3,
    "start_time": "2022-10-21T07:49:02.736Z"
   },
   {
    "duration": 3,
    "start_time": "2022-10-21T07:49:07.719Z"
   },
   {
    "duration": 8,
    "start_time": "2022-10-21T07:53:57.486Z"
   },
   {
    "duration": 9,
    "start_time": "2022-10-21T07:54:18.228Z"
   },
   {
    "duration": 286,
    "start_time": "2022-10-21T07:59:13.905Z"
   },
   {
    "duration": 401,
    "start_time": "2022-10-21T08:07:09.324Z"
   },
   {
    "duration": 76,
    "start_time": "2022-10-21T08:07:56.676Z"
   },
   {
    "duration": 307,
    "start_time": "2022-10-21T08:08:07.570Z"
   },
   {
    "duration": 324,
    "start_time": "2022-10-21T08:08:18.077Z"
   },
   {
    "duration": 317,
    "start_time": "2022-10-21T08:08:34.621Z"
   },
   {
    "duration": 318,
    "start_time": "2022-10-21T08:08:49.573Z"
   },
   {
    "duration": 387,
    "start_time": "2022-10-21T09:12:14.784Z"
   },
   {
    "duration": 400,
    "start_time": "2022-10-21T09:14:44.855Z"
   },
   {
    "duration": 13,
    "start_time": "2022-10-21T09:15:23.214Z"
   },
   {
    "duration": 7,
    "start_time": "2022-10-21T09:16:12.245Z"
   },
   {
    "duration": 9,
    "start_time": "2022-10-21T09:16:44.221Z"
   },
   {
    "duration": 358,
    "start_time": "2022-10-21T09:16:56.567Z"
   },
   {
    "duration": 304,
    "start_time": "2022-10-21T09:17:04.614Z"
   },
   {
    "duration": 15,
    "start_time": "2022-10-21T09:17:30.553Z"
   },
   {
    "duration": 6,
    "start_time": "2022-10-21T09:19:33.139Z"
   },
   {
    "duration": 7,
    "start_time": "2022-10-21T09:19:35.908Z"
   },
   {
    "duration": 1199,
    "start_time": "2022-10-21T09:19:52.612Z"
   },
   {
    "duration": 57,
    "start_time": "2022-10-21T09:19:53.814Z"
   },
   {
    "duration": 20,
    "start_time": "2022-10-21T09:19:53.872Z"
   },
   {
    "duration": 5,
    "start_time": "2022-10-21T09:19:53.895Z"
   },
   {
    "duration": 8,
    "start_time": "2022-10-21T09:19:53.903Z"
   },
   {
    "duration": 18,
    "start_time": "2022-10-21T09:19:53.912Z"
   },
   {
    "duration": 9,
    "start_time": "2022-10-21T09:19:53.932Z"
   },
   {
    "duration": 23,
    "start_time": "2022-10-21T09:19:53.942Z"
   },
   {
    "duration": 31,
    "start_time": "2022-10-21T09:19:53.967Z"
   },
   {
    "duration": 13,
    "start_time": "2022-10-21T09:19:54.002Z"
   },
   {
    "duration": 4,
    "start_time": "2022-10-21T09:19:54.018Z"
   },
   {
    "duration": 6,
    "start_time": "2022-10-21T09:19:54.024Z"
   },
   {
    "duration": 65,
    "start_time": "2022-10-21T09:19:54.031Z"
   },
   {
    "duration": 8,
    "start_time": "2022-10-21T09:19:54.099Z"
   },
   {
    "duration": 16,
    "start_time": "2022-10-21T09:19:54.109Z"
   },
   {
    "duration": 8,
    "start_time": "2022-10-21T09:19:54.127Z"
   },
   {
    "duration": 13,
    "start_time": "2022-10-21T09:19:54.137Z"
   },
   {
    "duration": 13,
    "start_time": "2022-10-21T09:19:54.152Z"
   },
   {
    "duration": 8,
    "start_time": "2022-10-21T09:19:54.167Z"
   },
   {
    "duration": 7,
    "start_time": "2022-10-21T09:19:54.190Z"
   },
   {
    "duration": 8,
    "start_time": "2022-10-21T09:19:54.199Z"
   },
   {
    "duration": 5,
    "start_time": "2022-10-21T09:19:54.209Z"
   },
   {
    "duration": 12,
    "start_time": "2022-10-21T09:19:54.216Z"
   },
   {
    "duration": 7,
    "start_time": "2022-10-21T09:19:54.230Z"
   },
   {
    "duration": 11,
    "start_time": "2022-10-21T09:19:54.238Z"
   },
   {
    "duration": 41,
    "start_time": "2022-10-21T09:19:54.251Z"
   },
   {
    "duration": 8,
    "start_time": "2022-10-21T09:19:54.294Z"
   },
   {
    "duration": 7,
    "start_time": "2022-10-21T09:19:54.306Z"
   },
   {
    "duration": 18,
    "start_time": "2022-10-21T09:19:54.315Z"
   },
   {
    "duration": 8,
    "start_time": "2022-10-21T09:19:54.335Z"
   },
   {
    "duration": 8,
    "start_time": "2022-10-21T09:19:54.344Z"
   },
   {
    "duration": 520,
    "start_time": "2022-10-21T09:19:54.354Z"
   },
   {
    "duration": 24,
    "start_time": "2022-10-21T09:19:54.876Z"
   },
   {
    "duration": 6,
    "start_time": "2022-10-21T09:19:54.902Z"
   },
   {
    "duration": 16,
    "start_time": "2022-10-21T09:19:54.910Z"
   },
   {
    "duration": 12,
    "start_time": "2022-10-21T09:19:54.928Z"
   },
   {
    "duration": 395,
    "start_time": "2022-10-21T09:19:54.941Z"
   },
   {
    "duration": 8,
    "start_time": "2022-10-21T09:19:55.338Z"
   },
   {
    "duration": 110,
    "start_time": "2022-10-21T09:19:55.348Z"
   },
   {
    "duration": 8,
    "start_time": "2022-10-21T09:19:55.460Z"
   },
   {
    "duration": 22,
    "start_time": "2022-10-21T09:19:55.470Z"
   },
   {
    "duration": 491,
    "start_time": "2022-10-21T09:19:55.493Z"
   },
   {
    "duration": 10,
    "start_time": "2022-10-21T09:19:55.986Z"
   },
   {
    "duration": 352,
    "start_time": "2022-10-21T09:19:55.998Z"
   },
   {
    "duration": 15,
    "start_time": "2022-10-21T09:19:56.352Z"
   },
   {
    "duration": 522,
    "start_time": "2022-10-21T09:19:56.369Z"
   },
   {
    "duration": 298,
    "start_time": "2022-10-21T09:21:24.015Z"
   },
   {
    "duration": 265,
    "start_time": "2022-10-21T10:20:58.924Z"
   },
   {
    "duration": 257,
    "start_time": "2022-10-21T10:21:13.099Z"
   },
   {
    "duration": 264,
    "start_time": "2022-10-21T10:21:34.732Z"
   },
   {
    "duration": 245,
    "start_time": "2022-10-21T10:23:18.593Z"
   },
   {
    "duration": 267,
    "start_time": "2022-10-21T10:24:14.082Z"
   },
   {
    "duration": 1090,
    "start_time": "2022-10-21T10:26:58.926Z"
   },
   {
    "duration": 63,
    "start_time": "2022-10-21T10:27:00.018Z"
   },
   {
    "duration": 20,
    "start_time": "2022-10-21T10:27:00.085Z"
   },
   {
    "duration": 5,
    "start_time": "2022-10-21T10:27:00.108Z"
   },
   {
    "duration": 8,
    "start_time": "2022-10-21T10:27:00.114Z"
   },
   {
    "duration": 18,
    "start_time": "2022-10-21T10:27:00.124Z"
   },
   {
    "duration": 14,
    "start_time": "2022-10-21T10:27:00.144Z"
   },
   {
    "duration": 31,
    "start_time": "2022-10-21T10:27:00.160Z"
   },
   {
    "duration": 8,
    "start_time": "2022-10-21T10:27:00.193Z"
   },
   {
    "duration": 28,
    "start_time": "2022-10-21T10:27:00.203Z"
   },
   {
    "duration": 15,
    "start_time": "2022-10-21T10:27:00.233Z"
   },
   {
    "duration": 15,
    "start_time": "2022-10-21T10:27:00.250Z"
   },
   {
    "duration": 43,
    "start_time": "2022-10-21T10:27:00.268Z"
   },
   {
    "duration": 7,
    "start_time": "2022-10-21T10:27:00.312Z"
   },
   {
    "duration": 29,
    "start_time": "2022-10-21T10:27:00.321Z"
   },
   {
    "duration": 24,
    "start_time": "2022-10-21T10:27:00.352Z"
   },
   {
    "duration": 23,
    "start_time": "2022-10-21T10:27:00.379Z"
   },
   {
    "duration": 30,
    "start_time": "2022-10-21T10:27:00.404Z"
   },
   {
    "duration": 23,
    "start_time": "2022-10-21T10:27:00.436Z"
   },
   {
    "duration": 21,
    "start_time": "2022-10-21T10:27:00.461Z"
   },
   {
    "duration": 19,
    "start_time": "2022-10-21T10:27:00.484Z"
   },
   {
    "duration": 6,
    "start_time": "2022-10-21T10:27:00.505Z"
   },
   {
    "duration": 15,
    "start_time": "2022-10-21T10:27:00.513Z"
   },
   {
    "duration": 10,
    "start_time": "2022-10-21T10:27:00.530Z"
   },
   {
    "duration": 13,
    "start_time": "2022-10-21T10:27:00.541Z"
   },
   {
    "duration": 5,
    "start_time": "2022-10-21T10:27:00.555Z"
   },
   {
    "duration": 19,
    "start_time": "2022-10-21T10:27:00.561Z"
   },
   {
    "duration": 30,
    "start_time": "2022-10-21T10:27:00.581Z"
   },
   {
    "duration": 7,
    "start_time": "2022-10-21T10:27:00.613Z"
   },
   {
    "duration": 388,
    "start_time": "2022-10-21T10:27:00.622Z"
   },
   {
    "duration": 15,
    "start_time": "2022-10-21T10:27:01.011Z"
   },
   {
    "duration": 10,
    "start_time": "2022-10-21T10:27:01.028Z"
   },
   {
    "duration": 35,
    "start_time": "2022-10-21T10:27:01.040Z"
   },
   {
    "duration": 48,
    "start_time": "2022-10-21T10:27:01.077Z"
   },
   {
    "duration": 329,
    "start_time": "2022-10-21T10:27:01.127Z"
   },
   {
    "duration": 9,
    "start_time": "2022-10-21T10:27:01.458Z"
   },
   {
    "duration": 104,
    "start_time": "2022-10-21T10:27:01.469Z"
   },
   {
    "duration": 7,
    "start_time": "2022-10-21T10:27:01.575Z"
   },
   {
    "duration": 22,
    "start_time": "2022-10-21T10:27:01.583Z"
   },
   {
    "duration": 401,
    "start_time": "2022-10-21T10:27:01.608Z"
   },
   {
    "duration": 8,
    "start_time": "2022-10-21T10:27:02.010Z"
   },
   {
    "duration": 285,
    "start_time": "2022-10-21T10:27:02.019Z"
   },
   {
    "duration": 15,
    "start_time": "2022-10-21T10:27:02.305Z"
   },
   {
    "duration": 517,
    "start_time": "2022-10-21T10:27:02.322Z"
   },
   {
    "duration": 0,
    "start_time": "2022-10-21T10:27:02.841Z"
   },
   {
    "duration": 6,
    "start_time": "2022-10-21T10:28:10.575Z"
   },
   {
    "duration": 5,
    "start_time": "2022-10-21T10:28:37.820Z"
   },
   {
    "duration": 1274,
    "start_time": "2022-10-21T10:29:30.171Z"
   },
   {
    "duration": 62,
    "start_time": "2022-10-21T10:29:31.447Z"
   },
   {
    "duration": 20,
    "start_time": "2022-10-21T10:29:31.510Z"
   },
   {
    "duration": 4,
    "start_time": "2022-10-21T10:29:31.532Z"
   },
   {
    "duration": 7,
    "start_time": "2022-10-21T10:29:31.538Z"
   },
   {
    "duration": 18,
    "start_time": "2022-10-21T10:29:31.546Z"
   },
   {
    "duration": 28,
    "start_time": "2022-10-21T10:29:31.565Z"
   },
   {
    "duration": 16,
    "start_time": "2022-10-21T10:29:31.595Z"
   },
   {
    "duration": 16,
    "start_time": "2022-10-21T10:29:31.613Z"
   },
   {
    "duration": 11,
    "start_time": "2022-10-21T10:29:31.632Z"
   },
   {
    "duration": 6,
    "start_time": "2022-10-21T10:29:31.644Z"
   },
   {
    "duration": 39,
    "start_time": "2022-10-21T10:29:31.652Z"
   },
   {
    "duration": 40,
    "start_time": "2022-10-21T10:29:31.693Z"
   },
   {
    "duration": 6,
    "start_time": "2022-10-21T10:29:31.734Z"
   },
   {
    "duration": 9,
    "start_time": "2022-10-21T10:29:31.742Z"
   },
   {
    "duration": 5,
    "start_time": "2022-10-21T10:29:31.752Z"
   },
   {
    "duration": 39,
    "start_time": "2022-10-21T10:29:31.758Z"
   },
   {
    "duration": 17,
    "start_time": "2022-10-21T10:29:31.799Z"
   },
   {
    "duration": 7,
    "start_time": "2022-10-21T10:29:31.818Z"
   },
   {
    "duration": 8,
    "start_time": "2022-10-21T10:29:31.827Z"
   },
   {
    "duration": 6,
    "start_time": "2022-10-21T10:29:31.836Z"
   },
   {
    "duration": 4,
    "start_time": "2022-10-21T10:29:31.844Z"
   },
   {
    "duration": 9,
    "start_time": "2022-10-21T10:29:31.850Z"
   },
   {
    "duration": 30,
    "start_time": "2022-10-21T10:29:31.861Z"
   },
   {
    "duration": 11,
    "start_time": "2022-10-21T10:29:31.893Z"
   },
   {
    "duration": 4,
    "start_time": "2022-10-21T10:29:31.906Z"
   },
   {
    "duration": 15,
    "start_time": "2022-10-21T10:29:31.912Z"
   },
   {
    "duration": 7,
    "start_time": "2022-10-21T10:29:31.931Z"
   },
   {
    "duration": 8,
    "start_time": "2022-10-21T10:29:31.939Z"
   },
   {
    "duration": 438,
    "start_time": "2022-10-21T10:29:31.949Z"
   },
   {
    "duration": 14,
    "start_time": "2022-10-21T10:29:32.391Z"
   },
   {
    "duration": 7,
    "start_time": "2022-10-21T10:29:32.407Z"
   },
   {
    "duration": 17,
    "start_time": "2022-10-21T10:29:32.415Z"
   },
   {
    "duration": 21,
    "start_time": "2022-10-21T10:29:32.434Z"
   },
   {
    "duration": 343,
    "start_time": "2022-10-21T10:29:32.457Z"
   },
   {
    "duration": 7,
    "start_time": "2022-10-21T10:29:32.802Z"
   },
   {
    "duration": 110,
    "start_time": "2022-10-21T10:29:32.811Z"
   },
   {
    "duration": 8,
    "start_time": "2022-10-21T10:29:32.923Z"
   },
   {
    "duration": 11,
    "start_time": "2022-10-21T10:29:32.932Z"
   },
   {
    "duration": 449,
    "start_time": "2022-10-21T10:29:32.945Z"
   },
   {
    "duration": 9,
    "start_time": "2022-10-21T10:29:33.396Z"
   },
   {
    "duration": 315,
    "start_time": "2022-10-21T10:29:33.407Z"
   },
   {
    "duration": 14,
    "start_time": "2022-10-21T10:29:33.723Z"
   },
   {
    "duration": 368,
    "start_time": "2022-10-21T10:29:33.739Z"
   },
   {
    "duration": 303,
    "start_time": "2022-10-21T10:29:34.108Z"
   },
   {
    "duration": 255,
    "start_time": "2022-10-21T10:31:39.203Z"
   },
   {
    "duration": 300,
    "start_time": "2022-10-21T10:32:04.178Z"
   },
   {
    "duration": 271,
    "start_time": "2022-10-21T10:32:09.595Z"
   },
   {
    "duration": 278,
    "start_time": "2022-10-21T10:32:44.897Z"
   },
   {
    "duration": 272,
    "start_time": "2022-10-21T10:34:25.992Z"
   },
   {
    "duration": 247,
    "start_time": "2022-10-21T10:36:09.264Z"
   },
   {
    "duration": 297,
    "start_time": "2022-10-21T10:36:56.607Z"
   },
   {
    "duration": 268,
    "start_time": "2022-10-21T10:37:10.497Z"
   },
   {
    "duration": 313,
    "start_time": "2022-10-21T10:38:16.415Z"
   },
   {
    "duration": 349,
    "start_time": "2022-10-21T10:38:29.934Z"
   },
   {
    "duration": 253,
    "start_time": "2022-10-21T10:38:45.118Z"
   },
   {
    "duration": 266,
    "start_time": "2022-10-21T10:38:55.725Z"
   },
   {
    "duration": 5,
    "start_time": "2022-10-21T10:50:17.427Z"
   },
   {
    "duration": 6,
    "start_time": "2022-10-21T10:51:45.062Z"
   },
   {
    "duration": 7,
    "start_time": "2022-10-21T10:52:17.598Z"
   },
   {
    "duration": 6,
    "start_time": "2022-10-21T11:09:00.204Z"
   },
   {
    "duration": 95,
    "start_time": "2022-10-21T11:42:50.513Z"
   },
   {
    "duration": 9,
    "start_time": "2022-10-21T11:43:33.129Z"
   },
   {
    "duration": 10,
    "start_time": "2022-10-21T11:44:13.359Z"
   },
   {
    "duration": 11,
    "start_time": "2022-10-21T11:44:53.016Z"
   },
   {
    "duration": 12,
    "start_time": "2022-10-21T11:47:39.742Z"
   },
   {
    "duration": 14,
    "start_time": "2022-10-21T11:47:47.838Z"
   },
   {
    "duration": 12,
    "start_time": "2022-10-21T11:48:04.566Z"
   },
   {
    "duration": 14,
    "start_time": "2022-10-21T11:48:10.782Z"
   },
   {
    "duration": 13,
    "start_time": "2022-10-21T12:04:25.039Z"
   },
   {
    "duration": 206,
    "start_time": "2022-10-21T12:06:22.292Z"
   },
   {
    "duration": 199,
    "start_time": "2022-10-21T12:08:46.148Z"
   },
   {
    "duration": 247,
    "start_time": "2022-10-21T12:10:09.744Z"
   },
   {
    "duration": 220,
    "start_time": "2022-10-21T12:10:48.736Z"
   },
   {
    "duration": 9,
    "start_time": "2022-10-21T12:11:19.384Z"
   },
   {
    "duration": 228,
    "start_time": "2022-10-21T12:11:22.592Z"
   },
   {
    "duration": 4,
    "start_time": "2022-10-21T12:53:33.769Z"
   },
   {
    "duration": 7,
    "start_time": "2022-10-21T12:57:20.310Z"
   },
   {
    "duration": 4,
    "start_time": "2022-10-21T12:57:22.598Z"
   },
   {
    "duration": 1160,
    "start_time": "2022-10-21T12:57:46.043Z"
   },
   {
    "duration": 50,
    "start_time": "2022-10-21T12:57:47.205Z"
   },
   {
    "duration": 18,
    "start_time": "2022-10-21T12:57:47.257Z"
   },
   {
    "duration": 4,
    "start_time": "2022-10-21T12:57:47.277Z"
   },
   {
    "duration": 8,
    "start_time": "2022-10-21T12:57:47.283Z"
   },
   {
    "duration": 13,
    "start_time": "2022-10-21T12:57:47.293Z"
   },
   {
    "duration": 3,
    "start_time": "2022-10-21T12:57:47.308Z"
   },
   {
    "duration": 40,
    "start_time": "2022-10-21T12:57:47.313Z"
   },
   {
    "duration": 9,
    "start_time": "2022-10-21T12:57:47.354Z"
   },
   {
    "duration": 11,
    "start_time": "2022-10-21T12:57:47.364Z"
   },
   {
    "duration": 16,
    "start_time": "2022-10-21T12:57:47.376Z"
   },
   {
    "duration": 5,
    "start_time": "2022-10-21T12:57:47.393Z"
   },
   {
    "duration": 35,
    "start_time": "2022-10-21T12:57:47.400Z"
   },
   {
    "duration": 7,
    "start_time": "2022-10-21T12:57:47.439Z"
   },
   {
    "duration": 18,
    "start_time": "2022-10-21T12:57:47.447Z"
   },
   {
    "duration": 25,
    "start_time": "2022-10-21T12:57:47.467Z"
   },
   {
    "duration": 9,
    "start_time": "2022-10-21T12:57:47.494Z"
   },
   {
    "duration": 11,
    "start_time": "2022-10-21T12:57:47.504Z"
   },
   {
    "duration": 7,
    "start_time": "2022-10-21T12:57:47.517Z"
   },
   {
    "duration": 7,
    "start_time": "2022-10-21T12:57:47.525Z"
   },
   {
    "duration": 17,
    "start_time": "2022-10-21T12:57:47.534Z"
   },
   {
    "duration": 4,
    "start_time": "2022-10-21T12:57:47.553Z"
   },
   {
    "duration": 35,
    "start_time": "2022-10-21T12:57:47.559Z"
   },
   {
    "duration": 5,
    "start_time": "2022-10-21T12:57:47.596Z"
   },
   {
    "duration": 9,
    "start_time": "2022-10-21T12:57:47.603Z"
   },
   {
    "duration": 5,
    "start_time": "2022-10-21T12:57:47.614Z"
   },
   {
    "duration": 15,
    "start_time": "2022-10-21T12:57:47.620Z"
   },
   {
    "duration": 8,
    "start_time": "2022-10-21T12:57:47.637Z"
   },
   {
    "duration": 7,
    "start_time": "2022-10-21T12:57:47.646Z"
   },
   {
    "duration": 405,
    "start_time": "2022-10-21T12:57:47.655Z"
   },
   {
    "duration": 14,
    "start_time": "2022-10-21T12:57:48.062Z"
   },
   {
    "duration": 17,
    "start_time": "2022-10-21T12:57:48.077Z"
   },
   {
    "duration": 13,
    "start_time": "2022-10-21T12:57:48.096Z"
   },
   {
    "duration": 10,
    "start_time": "2022-10-21T12:57:48.111Z"
   },
   {
    "duration": 349,
    "start_time": "2022-10-21T12:57:48.123Z"
   },
   {
    "duration": 8,
    "start_time": "2022-10-21T12:57:48.475Z"
   },
   {
    "duration": 101,
    "start_time": "2022-10-21T12:57:48.485Z"
   },
   {
    "duration": 8,
    "start_time": "2022-10-21T12:57:48.591Z"
   },
   {
    "duration": 10,
    "start_time": "2022-10-21T12:57:48.601Z"
   },
   {
    "duration": 405,
    "start_time": "2022-10-21T12:57:48.612Z"
   },
   {
    "duration": 8,
    "start_time": "2022-10-21T12:57:49.022Z"
   },
   {
    "duration": 296,
    "start_time": "2022-10-21T12:57:49.032Z"
   },
   {
    "duration": 14,
    "start_time": "2022-10-21T12:57:49.330Z"
   },
   {
    "duration": 393,
    "start_time": "2022-10-21T12:57:49.346Z"
   },
   {
    "duration": 5,
    "start_time": "2022-10-21T12:57:49.741Z"
   },
   {
    "duration": 266,
    "start_time": "2022-10-21T12:57:49.747Z"
   },
   {
    "duration": 6,
    "start_time": "2022-10-21T12:57:50.015Z"
   },
   {
    "duration": 247,
    "start_time": "2022-10-21T12:57:50.023Z"
   },
   {
    "duration": 5,
    "start_time": "2022-10-21T12:57:50.272Z"
   },
   {
    "duration": 17,
    "start_time": "2022-10-21T12:57:50.279Z"
   },
   {
    "duration": 212,
    "start_time": "2022-10-21T12:57:50.297Z"
   },
   {
    "duration": 50,
    "start_time": "2022-10-21T18:50:37.132Z"
   },
   {
    "duration": 9,
    "start_time": "2022-10-21T18:51:57.733Z"
   },
   {
    "duration": 1344,
    "start_time": "2022-10-21T18:52:07.313Z"
   },
   {
    "duration": 82,
    "start_time": "2022-10-21T18:52:08.659Z"
   },
   {
    "duration": 26,
    "start_time": "2022-10-21T18:52:08.743Z"
   },
   {
    "duration": 17,
    "start_time": "2022-10-21T18:52:08.770Z"
   },
   {
    "duration": 7,
    "start_time": "2022-10-21T18:52:08.788Z"
   },
   {
    "duration": 32,
    "start_time": "2022-10-21T18:52:08.797Z"
   },
   {
    "duration": 4,
    "start_time": "2022-10-21T18:52:08.831Z"
   },
   {
    "duration": 24,
    "start_time": "2022-10-21T18:52:08.837Z"
   },
   {
    "duration": 8,
    "start_time": "2022-10-21T18:52:08.862Z"
   },
   {
    "duration": 8,
    "start_time": "2022-10-21T18:52:08.873Z"
   },
   {
    "duration": 4,
    "start_time": "2022-10-21T18:52:08.883Z"
   },
   {
    "duration": 9,
    "start_time": "2022-10-21T18:52:08.888Z"
   },
   {
    "duration": 55,
    "start_time": "2022-10-21T18:52:08.899Z"
   },
   {
    "duration": 7,
    "start_time": "2022-10-21T18:52:08.956Z"
   },
   {
    "duration": 17,
    "start_time": "2022-10-21T18:52:08.964Z"
   },
   {
    "duration": 9,
    "start_time": "2022-10-21T18:52:08.983Z"
   },
   {
    "duration": 10,
    "start_time": "2022-10-21T18:52:08.994Z"
   },
   {
    "duration": 8,
    "start_time": "2022-10-21T18:52:09.006Z"
   },
   {
    "duration": 19,
    "start_time": "2022-10-21T18:52:09.016Z"
   },
   {
    "duration": 15,
    "start_time": "2022-10-21T18:52:09.037Z"
   },
   {
    "duration": 18,
    "start_time": "2022-10-21T18:52:09.054Z"
   },
   {
    "duration": 16,
    "start_time": "2022-10-21T18:52:09.074Z"
   },
   {
    "duration": 24,
    "start_time": "2022-10-21T18:52:09.092Z"
   },
   {
    "duration": 34,
    "start_time": "2022-10-21T18:52:09.117Z"
   },
   {
    "duration": 22,
    "start_time": "2022-10-21T18:52:09.152Z"
   },
   {
    "duration": 17,
    "start_time": "2022-10-21T18:52:09.175Z"
   },
   {
    "duration": 22,
    "start_time": "2022-10-21T18:52:09.193Z"
   },
   {
    "duration": 25,
    "start_time": "2022-10-21T18:52:09.218Z"
   },
   {
    "duration": 10,
    "start_time": "2022-10-21T18:52:09.247Z"
   },
   {
    "duration": 393,
    "start_time": "2022-10-21T18:52:09.259Z"
   },
   {
    "duration": 14,
    "start_time": "2022-10-21T18:52:09.654Z"
   },
   {
    "duration": 5,
    "start_time": "2022-10-21T18:52:09.669Z"
   },
   {
    "duration": 14,
    "start_time": "2022-10-21T18:52:09.676Z"
   },
   {
    "duration": 11,
    "start_time": "2022-10-21T18:52:09.692Z"
   },
   {
    "duration": 348,
    "start_time": "2022-10-21T18:52:09.705Z"
   },
   {
    "duration": 8,
    "start_time": "2022-10-21T18:52:10.055Z"
   },
   {
    "duration": 130,
    "start_time": "2022-10-21T18:52:10.065Z"
   },
   {
    "duration": 8,
    "start_time": "2022-10-21T18:52:10.197Z"
   },
   {
    "duration": 14,
    "start_time": "2022-10-21T18:52:10.207Z"
   },
   {
    "duration": 425,
    "start_time": "2022-10-21T18:52:10.223Z"
   },
   {
    "duration": 9,
    "start_time": "2022-10-21T18:52:10.653Z"
   },
   {
    "duration": 300,
    "start_time": "2022-10-21T18:52:10.664Z"
   },
   {
    "duration": 18,
    "start_time": "2022-10-21T18:52:10.966Z"
   },
   {
    "duration": 371,
    "start_time": "2022-10-21T18:52:10.986Z"
   },
   {
    "duration": 6,
    "start_time": "2022-10-21T18:52:11.359Z"
   },
   {
    "duration": 393,
    "start_time": "2022-10-21T18:52:11.367Z"
   },
   {
    "duration": 8,
    "start_time": "2022-10-21T18:52:11.763Z"
   },
   {
    "duration": 308,
    "start_time": "2022-10-21T18:52:11.774Z"
   },
   {
    "duration": 5,
    "start_time": "2022-10-21T18:52:12.085Z"
   },
   {
    "duration": 13,
    "start_time": "2022-10-21T18:52:12.093Z"
   },
   {
    "duration": 248,
    "start_time": "2022-10-21T18:52:12.109Z"
   },
   {
    "duration": 6,
    "start_time": "2022-10-21T18:52:12.358Z"
   },
   {
    "duration": 128,
    "start_time": "2022-10-21T18:52:12.366Z"
   },
   {
    "duration": 0,
    "start_time": "2022-10-21T18:52:12.496Z"
   },
   {
    "duration": 17,
    "start_time": "2022-10-21T18:53:04.511Z"
   },
   {
    "duration": 17,
    "start_time": "2022-10-21T18:53:22.169Z"
   },
   {
    "duration": 17,
    "start_time": "2022-10-21T18:54:18.204Z"
   },
   {
    "duration": 19,
    "start_time": "2022-10-21T18:55:03.811Z"
   },
   {
    "duration": 10,
    "start_time": "2022-10-21T19:03:39.664Z"
   },
   {
    "duration": 7,
    "start_time": "2022-10-21T19:03:42.889Z"
   },
   {
    "duration": 1184,
    "start_time": "2022-10-21T19:03:48.848Z"
   },
   {
    "duration": 41,
    "start_time": "2022-10-21T19:03:50.034Z"
   },
   {
    "duration": 20,
    "start_time": "2022-10-21T19:03:50.077Z"
   },
   {
    "duration": 34,
    "start_time": "2022-10-21T19:03:50.099Z"
   },
   {
    "duration": 24,
    "start_time": "2022-10-21T19:03:50.136Z"
   },
   {
    "duration": 29,
    "start_time": "2022-10-21T19:03:50.162Z"
   },
   {
    "duration": 4,
    "start_time": "2022-10-21T19:03:50.193Z"
   },
   {
    "duration": 32,
    "start_time": "2022-10-21T19:03:50.198Z"
   },
   {
    "duration": 22,
    "start_time": "2022-10-21T19:03:50.231Z"
   },
   {
    "duration": 52,
    "start_time": "2022-10-21T19:03:50.254Z"
   },
   {
    "duration": 21,
    "start_time": "2022-10-21T19:03:50.308Z"
   },
   {
    "duration": 38,
    "start_time": "2022-10-21T19:03:50.331Z"
   },
   {
    "duration": 60,
    "start_time": "2022-10-21T19:03:50.370Z"
   },
   {
    "duration": 45,
    "start_time": "2022-10-21T19:03:50.433Z"
   },
   {
    "duration": 27,
    "start_time": "2022-10-21T19:03:50.480Z"
   },
   {
    "duration": 22,
    "start_time": "2022-10-21T19:03:50.509Z"
   },
   {
    "duration": 30,
    "start_time": "2022-10-21T19:03:50.533Z"
   },
   {
    "duration": 38,
    "start_time": "2022-10-21T19:03:50.565Z"
   },
   {
    "duration": 24,
    "start_time": "2022-10-21T19:03:50.605Z"
   },
   {
    "duration": 17,
    "start_time": "2022-10-21T19:03:50.630Z"
   },
   {
    "duration": 37,
    "start_time": "2022-10-21T19:03:50.648Z"
   },
   {
    "duration": 26,
    "start_time": "2022-10-21T19:03:50.687Z"
   },
   {
    "duration": 33,
    "start_time": "2022-10-21T19:03:50.714Z"
   },
   {
    "duration": 30,
    "start_time": "2022-10-21T19:03:50.749Z"
   },
   {
    "duration": 24,
    "start_time": "2022-10-21T19:03:50.781Z"
   },
   {
    "duration": 27,
    "start_time": "2022-10-21T19:03:50.808Z"
   },
   {
    "duration": 43,
    "start_time": "2022-10-21T19:03:50.836Z"
   },
   {
    "duration": 34,
    "start_time": "2022-10-21T19:03:50.880Z"
   },
   {
    "duration": 14,
    "start_time": "2022-10-21T19:03:50.916Z"
   },
   {
    "duration": 425,
    "start_time": "2022-10-21T19:03:50.932Z"
   },
   {
    "duration": 17,
    "start_time": "2022-10-21T19:03:51.359Z"
   },
   {
    "duration": 9,
    "start_time": "2022-10-21T19:03:51.378Z"
   },
   {
    "duration": 22,
    "start_time": "2022-10-21T19:03:51.389Z"
   },
   {
    "duration": 37,
    "start_time": "2022-10-21T19:03:51.413Z"
   },
   {
    "duration": 396,
    "start_time": "2022-10-21T19:03:51.453Z"
   },
   {
    "duration": 8,
    "start_time": "2022-10-21T19:03:51.851Z"
   },
   {
    "duration": 116,
    "start_time": "2022-10-21T19:03:51.861Z"
   },
   {
    "duration": 8,
    "start_time": "2022-10-21T19:03:51.978Z"
   },
   {
    "duration": 23,
    "start_time": "2022-10-21T19:03:51.989Z"
   },
   {
    "duration": 408,
    "start_time": "2022-10-21T19:03:52.014Z"
   },
   {
    "duration": 8,
    "start_time": "2022-10-21T19:03:52.428Z"
   },
   {
    "duration": 377,
    "start_time": "2022-10-21T19:03:52.438Z"
   },
   {
    "duration": 17,
    "start_time": "2022-10-21T19:03:52.817Z"
   },
   {
    "duration": 427,
    "start_time": "2022-10-21T19:03:52.836Z"
   },
   {
    "duration": 6,
    "start_time": "2022-10-21T19:03:53.265Z"
   },
   {
    "duration": 281,
    "start_time": "2022-10-21T19:03:53.273Z"
   },
   {
    "duration": 6,
    "start_time": "2022-10-21T19:03:53.555Z"
   },
   {
    "duration": 276,
    "start_time": "2022-10-21T19:03:53.562Z"
   },
   {
    "duration": 6,
    "start_time": "2022-10-21T19:03:53.839Z"
   },
   {
    "duration": 8,
    "start_time": "2022-10-21T19:03:53.854Z"
   },
   {
    "duration": 235,
    "start_time": "2022-10-21T19:03:53.864Z"
   },
   {
    "duration": 7,
    "start_time": "2022-10-21T19:03:54.101Z"
   },
   {
    "duration": 788,
    "start_time": "2022-10-21T19:03:54.110Z"
   },
   {
    "duration": 0,
    "start_time": "2022-10-21T19:03:54.901Z"
   },
   {
    "duration": 14,
    "start_time": "2022-10-21T19:04:27.507Z"
   },
   {
    "duration": 13,
    "start_time": "2022-10-21T19:05:10.014Z"
   },
   {
    "duration": 14,
    "start_time": "2022-10-21T19:07:48.661Z"
   },
   {
    "duration": 10,
    "start_time": "2022-10-21T19:07:53.797Z"
   },
   {
    "duration": 443,
    "start_time": "2022-10-21T19:10:01.845Z"
   },
   {
    "duration": 456,
    "start_time": "2022-10-21T19:10:25.160Z"
   },
   {
    "duration": 409,
    "start_time": "2022-10-21T19:11:02.488Z"
   },
   {
    "duration": 43,
    "start_time": "2022-10-21T19:17:37.540Z"
   },
   {
    "duration": 18,
    "start_time": "2022-10-21T19:17:56.419Z"
   },
   {
    "duration": 11,
    "start_time": "2022-10-21T19:18:02.219Z"
   },
   {
    "duration": 441,
    "start_time": "2022-10-21T19:18:14.203Z"
   },
   {
    "duration": 460,
    "start_time": "2022-10-21T19:18:44.559Z"
   },
   {
    "duration": 352,
    "start_time": "2022-10-21T19:21:14.661Z"
   },
   {
    "duration": 494,
    "start_time": "2022-10-21T19:24:36.052Z"
   },
   {
    "duration": 329,
    "start_time": "2022-10-21T19:24:50.222Z"
   },
   {
    "duration": 10,
    "start_time": "2022-10-21T19:25:23.314Z"
   },
   {
    "duration": 13,
    "start_time": "2022-10-21T19:44:14.626Z"
   },
   {
    "duration": 32,
    "start_time": "2022-10-21T19:45:44.922Z"
   },
   {
    "duration": 11,
    "start_time": "2022-10-21T19:45:48.620Z"
   },
   {
    "duration": 417,
    "start_time": "2022-10-21T19:46:33.832Z"
   },
   {
    "duration": 15,
    "start_time": "2022-10-21T20:39:30.266Z"
   },
   {
    "duration": 12,
    "start_time": "2022-10-21T20:39:50.194Z"
   },
   {
    "duration": 1206,
    "start_time": "2022-10-21T20:42:05.771Z"
   },
   {
    "duration": 42,
    "start_time": "2022-10-21T20:42:06.980Z"
   },
   {
    "duration": 22,
    "start_time": "2022-10-21T20:42:07.024Z"
   },
   {
    "duration": 5,
    "start_time": "2022-10-21T20:42:07.054Z"
   },
   {
    "duration": 8,
    "start_time": "2022-10-21T20:42:07.060Z"
   },
   {
    "duration": 18,
    "start_time": "2022-10-21T20:42:07.070Z"
   },
   {
    "duration": 4,
    "start_time": "2022-10-21T20:42:07.090Z"
   },
   {
    "duration": 20,
    "start_time": "2022-10-21T20:42:07.095Z"
   },
   {
    "duration": 42,
    "start_time": "2022-10-21T20:42:07.117Z"
   },
   {
    "duration": 11,
    "start_time": "2022-10-21T20:42:07.163Z"
   },
   {
    "duration": 5,
    "start_time": "2022-10-21T20:42:07.176Z"
   },
   {
    "duration": 9,
    "start_time": "2022-10-21T20:42:07.182Z"
   },
   {
    "duration": 68,
    "start_time": "2022-10-21T20:42:07.193Z"
   },
   {
    "duration": 7,
    "start_time": "2022-10-21T20:42:07.263Z"
   },
   {
    "duration": 15,
    "start_time": "2022-10-21T20:42:07.272Z"
   },
   {
    "duration": 5,
    "start_time": "2022-10-21T20:42:07.289Z"
   },
   {
    "duration": 10,
    "start_time": "2022-10-21T20:42:07.295Z"
   },
   {
    "duration": 10,
    "start_time": "2022-10-21T20:42:07.306Z"
   },
   {
    "duration": 8,
    "start_time": "2022-10-21T20:42:07.318Z"
   },
   {
    "duration": 34,
    "start_time": "2022-10-21T20:42:07.328Z"
   },
   {
    "duration": 10,
    "start_time": "2022-10-21T20:42:07.365Z"
   },
   {
    "duration": 6,
    "start_time": "2022-10-21T20:42:07.377Z"
   },
   {
    "duration": 12,
    "start_time": "2022-10-21T20:42:07.386Z"
   },
   {
    "duration": 6,
    "start_time": "2022-10-21T20:42:07.400Z"
   },
   {
    "duration": 14,
    "start_time": "2022-10-21T20:42:07.407Z"
   },
   {
    "duration": 37,
    "start_time": "2022-10-21T20:42:07.423Z"
   },
   {
    "duration": 40,
    "start_time": "2022-10-21T20:42:07.462Z"
   },
   {
    "duration": 21,
    "start_time": "2022-10-21T20:42:07.508Z"
   },
   {
    "duration": 11,
    "start_time": "2022-10-21T20:42:07.532Z"
   },
   {
    "duration": 450,
    "start_time": "2022-10-21T20:42:07.545Z"
   },
   {
    "duration": 21,
    "start_time": "2022-10-21T20:42:07.997Z"
   },
   {
    "duration": 11,
    "start_time": "2022-10-21T20:42:08.021Z"
   },
   {
    "duration": 19,
    "start_time": "2022-10-21T20:42:08.053Z"
   },
   {
    "duration": 16,
    "start_time": "2022-10-21T20:42:08.074Z"
   },
   {
    "duration": 437,
    "start_time": "2022-10-21T20:42:08.092Z"
   },
   {
    "duration": 8,
    "start_time": "2022-10-21T20:42:08.530Z"
   },
   {
    "duration": 134,
    "start_time": "2022-10-21T20:42:08.540Z"
   },
   {
    "duration": 10,
    "start_time": "2022-10-21T20:42:08.676Z"
   },
   {
    "duration": 23,
    "start_time": "2022-10-21T20:42:08.688Z"
   },
   {
    "duration": 437,
    "start_time": "2022-10-21T20:42:08.713Z"
   },
   {
    "duration": 10,
    "start_time": "2022-10-21T20:42:09.154Z"
   },
   {
    "duration": 317,
    "start_time": "2022-10-21T20:42:09.166Z"
   },
   {
    "duration": 21,
    "start_time": "2022-10-21T20:42:09.486Z"
   },
   {
    "duration": 439,
    "start_time": "2022-10-21T20:42:09.509Z"
   },
   {
    "duration": 6,
    "start_time": "2022-10-21T20:42:09.951Z"
   },
   {
    "duration": 318,
    "start_time": "2022-10-21T20:42:09.959Z"
   },
   {
    "duration": 6,
    "start_time": "2022-10-21T20:42:10.280Z"
   },
   {
    "duration": 275,
    "start_time": "2022-10-21T20:42:10.288Z"
   },
   {
    "duration": 7,
    "start_time": "2022-10-21T20:42:10.564Z"
   },
   {
    "duration": 15,
    "start_time": "2022-10-21T20:42:10.574Z"
   },
   {
    "duration": 269,
    "start_time": "2022-10-21T20:42:10.592Z"
   },
   {
    "duration": 10,
    "start_time": "2022-10-21T20:42:10.863Z"
   },
   {
    "duration": 19,
    "start_time": "2022-10-21T20:42:10.874Z"
   },
   {
    "duration": 9,
    "start_time": "2022-10-21T20:42:10.895Z"
   },
   {
    "duration": 351,
    "start_time": "2022-10-21T20:42:10.905Z"
   },
   {
    "duration": 16,
    "start_time": "2022-10-21T20:42:11.259Z"
   },
   {
    "duration": 446,
    "start_time": "2022-10-21T20:42:11.278Z"
   },
   {
    "duration": 13,
    "start_time": "2022-10-21T20:42:11.726Z"
   },
   {
    "duration": 305,
    "start_time": "2022-10-21T20:42:11.741Z"
   },
   {
    "duration": 47,
    "start_time": "2022-10-23T15:45:17.830Z"
   },
   {
    "duration": 1264,
    "start_time": "2022-10-23T15:45:24.651Z"
   },
   {
    "duration": 475,
    "start_time": "2022-10-23T15:45:25.917Z"
   },
   {
    "duration": 21,
    "start_time": "2022-10-23T15:45:26.393Z"
   },
   {
    "duration": 4,
    "start_time": "2022-10-23T15:45:26.416Z"
   },
   {
    "duration": 5,
    "start_time": "2022-10-23T15:45:26.422Z"
   },
   {
    "duration": 17,
    "start_time": "2022-10-23T15:45:26.429Z"
   },
   {
    "duration": 3,
    "start_time": "2022-10-23T15:45:26.448Z"
   },
   {
    "duration": 42,
    "start_time": "2022-10-23T15:45:26.453Z"
   },
   {
    "duration": 10,
    "start_time": "2022-10-23T15:45:26.497Z"
   },
   {
    "duration": 13,
    "start_time": "2022-10-23T15:45:26.508Z"
   },
   {
    "duration": 4,
    "start_time": "2022-10-23T15:45:26.523Z"
   },
   {
    "duration": 6,
    "start_time": "2022-10-23T15:45:26.529Z"
   },
   {
    "duration": 66,
    "start_time": "2022-10-23T15:45:26.537Z"
   },
   {
    "duration": 5,
    "start_time": "2022-10-23T15:45:26.606Z"
   },
   {
    "duration": 8,
    "start_time": "2022-10-23T15:45:26.613Z"
   },
   {
    "duration": 4,
    "start_time": "2022-10-23T15:45:26.623Z"
   },
   {
    "duration": 8,
    "start_time": "2022-10-23T15:45:26.628Z"
   },
   {
    "duration": 11,
    "start_time": "2022-10-23T15:45:26.637Z"
   },
   {
    "duration": 11,
    "start_time": "2022-10-23T15:45:26.652Z"
   },
   {
    "duration": 34,
    "start_time": "2022-10-23T15:45:26.665Z"
   },
   {
    "duration": 23,
    "start_time": "2022-10-23T15:45:26.702Z"
   },
   {
    "duration": 11,
    "start_time": "2022-10-23T15:45:26.727Z"
   },
   {
    "duration": 16,
    "start_time": "2022-10-23T15:45:26.740Z"
   },
   {
    "duration": 7,
    "start_time": "2022-10-23T15:45:26.757Z"
   },
   {
    "duration": 15,
    "start_time": "2022-10-23T15:45:26.765Z"
   },
   {
    "duration": 9,
    "start_time": "2022-10-23T15:45:26.781Z"
   },
   {
    "duration": 22,
    "start_time": "2022-10-23T15:45:26.795Z"
   },
   {
    "duration": 17,
    "start_time": "2022-10-23T15:45:26.819Z"
   },
   {
    "duration": 10,
    "start_time": "2022-10-23T15:45:26.838Z"
   },
   {
    "duration": 419,
    "start_time": "2022-10-23T15:45:26.850Z"
   },
   {
    "duration": 24,
    "start_time": "2022-10-23T15:45:27.271Z"
   },
   {
    "duration": 5,
    "start_time": "2022-10-23T15:45:27.297Z"
   },
   {
    "duration": 16,
    "start_time": "2022-10-23T15:45:27.304Z"
   },
   {
    "duration": 10,
    "start_time": "2022-10-23T15:45:27.321Z"
   },
   {
    "duration": 329,
    "start_time": "2022-10-23T15:45:27.333Z"
   },
   {
    "duration": 7,
    "start_time": "2022-10-23T15:45:27.664Z"
   },
   {
    "duration": 99,
    "start_time": "2022-10-23T15:45:27.673Z"
   },
   {
    "duration": 8,
    "start_time": "2022-10-23T15:45:27.774Z"
   },
   {
    "duration": 19,
    "start_time": "2022-10-23T15:45:27.783Z"
   },
   {
    "duration": 425,
    "start_time": "2022-10-23T15:45:27.804Z"
   },
   {
    "duration": 7,
    "start_time": "2022-10-23T15:45:28.233Z"
   },
   {
    "duration": 293,
    "start_time": "2022-10-23T15:45:28.242Z"
   },
   {
    "duration": 11,
    "start_time": "2022-10-23T15:45:28.537Z"
   },
   {
    "duration": 344,
    "start_time": "2022-10-23T15:45:28.550Z"
   },
   {
    "duration": 5,
    "start_time": "2022-10-23T15:45:28.896Z"
   },
   {
    "duration": 262,
    "start_time": "2022-10-23T15:45:28.902Z"
   },
   {
    "duration": 5,
    "start_time": "2022-10-23T15:45:29.166Z"
   },
   {
    "duration": 258,
    "start_time": "2022-10-23T15:45:29.172Z"
   },
   {
    "duration": 6,
    "start_time": "2022-10-23T15:45:29.431Z"
   },
   {
    "duration": 10,
    "start_time": "2022-10-23T15:45:29.439Z"
   },
   {
    "duration": 226,
    "start_time": "2022-10-23T15:45:29.451Z"
   },
   {
    "duration": 17,
    "start_time": "2022-10-23T15:45:29.679Z"
   },
   {
    "duration": 12,
    "start_time": "2022-10-23T15:45:29.698Z"
   },
   {
    "duration": 9,
    "start_time": "2022-10-23T15:45:29.712Z"
   },
   {
    "duration": 327,
    "start_time": "2022-10-23T15:45:29.723Z"
   },
   {
    "duration": 12,
    "start_time": "2022-10-23T15:45:30.052Z"
   },
   {
    "duration": 353,
    "start_time": "2022-10-23T15:45:30.066Z"
   },
   {
    "duration": 12,
    "start_time": "2022-10-23T15:45:30.421Z"
   },
   {
    "duration": 229,
    "start_time": "2022-10-23T15:45:30.434Z"
   },
   {
    "duration": 112,
    "start_time": "2022-10-23T15:45:30.665Z"
   },
   {
    "duration": 3,
    "start_time": "2022-10-23T15:47:07.184Z"
   },
   {
    "duration": 18,
    "start_time": "2022-10-23T15:47:13.030Z"
   },
   {
    "duration": 1116,
    "start_time": "2022-10-23T15:47:29.297Z"
   },
   {
    "duration": 57,
    "start_time": "2022-10-23T15:47:30.416Z"
   },
   {
    "duration": 21,
    "start_time": "2022-10-23T15:47:30.475Z"
   },
   {
    "duration": 18,
    "start_time": "2022-10-23T15:47:30.498Z"
   },
   {
    "duration": 26,
    "start_time": "2022-10-23T15:47:30.518Z"
   },
   {
    "duration": 39,
    "start_time": "2022-10-23T15:47:30.546Z"
   },
   {
    "duration": 13,
    "start_time": "2022-10-23T15:47:30.586Z"
   },
   {
    "duration": 35,
    "start_time": "2022-10-23T15:47:30.600Z"
   },
   {
    "duration": 20,
    "start_time": "2022-10-23T15:47:30.636Z"
   },
   {
    "duration": 20,
    "start_time": "2022-10-23T15:47:30.659Z"
   },
   {
    "duration": 15,
    "start_time": "2022-10-23T15:47:30.681Z"
   },
   {
    "duration": 32,
    "start_time": "2022-10-23T15:47:30.697Z"
   },
   {
    "duration": 54,
    "start_time": "2022-10-23T15:47:30.731Z"
   },
   {
    "duration": 6,
    "start_time": "2022-10-23T15:47:30.787Z"
   },
   {
    "duration": 31,
    "start_time": "2022-10-23T15:47:30.794Z"
   },
   {
    "duration": 8,
    "start_time": "2022-10-23T15:47:30.828Z"
   },
   {
    "duration": 33,
    "start_time": "2022-10-23T15:47:30.837Z"
   },
   {
    "duration": 16,
    "start_time": "2022-10-23T15:47:30.872Z"
   },
   {
    "duration": 9,
    "start_time": "2022-10-23T15:47:30.889Z"
   },
   {
    "duration": 22,
    "start_time": "2022-10-23T15:47:30.899Z"
   },
   {
    "duration": 22,
    "start_time": "2022-10-23T15:47:30.923Z"
   },
   {
    "duration": 17,
    "start_time": "2022-10-23T15:47:30.946Z"
   },
   {
    "duration": 13,
    "start_time": "2022-10-23T15:47:30.965Z"
   },
   {
    "duration": 6,
    "start_time": "2022-10-23T15:47:30.980Z"
   },
   {
    "duration": 11,
    "start_time": "2022-10-23T15:47:30.988Z"
   },
   {
    "duration": 10,
    "start_time": "2022-10-23T15:47:31.001Z"
   },
   {
    "duration": 19,
    "start_time": "2022-10-23T15:47:31.012Z"
   },
   {
    "duration": 15,
    "start_time": "2022-10-23T15:47:31.034Z"
   },
   {
    "duration": 19,
    "start_time": "2022-10-23T15:47:31.051Z"
   },
   {
    "duration": 420,
    "start_time": "2022-10-23T15:47:31.072Z"
   },
   {
    "duration": 16,
    "start_time": "2022-10-23T15:47:31.494Z"
   },
   {
    "duration": 5,
    "start_time": "2022-10-23T15:47:31.512Z"
   },
   {
    "duration": 18,
    "start_time": "2022-10-23T15:47:31.518Z"
   },
   {
    "duration": 12,
    "start_time": "2022-10-23T15:47:31.538Z"
   },
   {
    "duration": 358,
    "start_time": "2022-10-23T15:47:31.552Z"
   },
   {
    "duration": 7,
    "start_time": "2022-10-23T15:47:31.912Z"
   },
   {
    "duration": 105,
    "start_time": "2022-10-23T15:47:31.921Z"
   },
   {
    "duration": 7,
    "start_time": "2022-10-23T15:47:32.028Z"
   },
   {
    "duration": 12,
    "start_time": "2022-10-23T15:47:32.037Z"
   },
   {
    "duration": 417,
    "start_time": "2022-10-23T15:47:32.051Z"
   },
   {
    "duration": 7,
    "start_time": "2022-10-23T15:47:32.470Z"
   },
   {
    "duration": 294,
    "start_time": "2022-10-23T15:47:32.478Z"
   },
   {
    "duration": 22,
    "start_time": "2022-10-23T15:47:32.774Z"
   },
   {
    "duration": 354,
    "start_time": "2022-10-23T15:47:32.798Z"
   },
   {
    "duration": 5,
    "start_time": "2022-10-23T15:47:33.154Z"
   },
   {
    "duration": 280,
    "start_time": "2022-10-23T15:47:33.161Z"
   },
   {
    "duration": 5,
    "start_time": "2022-10-23T15:47:33.443Z"
   },
   {
    "duration": 265,
    "start_time": "2022-10-23T15:47:33.450Z"
   },
   {
    "duration": 6,
    "start_time": "2022-10-23T15:47:33.716Z"
   },
   {
    "duration": 13,
    "start_time": "2022-10-23T15:47:33.724Z"
   },
   {
    "duration": 221,
    "start_time": "2022-10-23T15:47:33.738Z"
   },
   {
    "duration": 7,
    "start_time": "2022-10-23T15:47:33.961Z"
   },
   {
    "duration": 31,
    "start_time": "2022-10-23T15:47:33.970Z"
   },
   {
    "duration": 12,
    "start_time": "2022-10-23T15:47:34.003Z"
   },
   {
    "duration": 349,
    "start_time": "2022-10-23T15:47:34.017Z"
   },
   {
    "duration": 12,
    "start_time": "2022-10-23T15:47:34.368Z"
   },
   {
    "duration": 346,
    "start_time": "2022-10-23T15:47:34.382Z"
   },
   {
    "duration": 11,
    "start_time": "2022-10-23T15:47:34.730Z"
   },
   {
    "duration": 224,
    "start_time": "2022-10-23T15:47:34.743Z"
   },
   {
    "duration": 107,
    "start_time": "2022-10-23T15:47:34.969Z"
   },
   {
    "duration": 1182,
    "start_time": "2022-10-23T15:48:01.529Z"
   },
   {
    "duration": 52,
    "start_time": "2022-10-23T15:48:02.714Z"
   },
   {
    "duration": 20,
    "start_time": "2022-10-23T15:48:02.767Z"
   },
   {
    "duration": 4,
    "start_time": "2022-10-23T15:48:02.790Z"
   },
   {
    "duration": 8,
    "start_time": "2022-10-23T15:48:02.795Z"
   },
   {
    "duration": 16,
    "start_time": "2022-10-23T15:48:02.804Z"
   },
   {
    "duration": 4,
    "start_time": "2022-10-23T15:48:02.822Z"
   },
   {
    "duration": 18,
    "start_time": "2022-10-23T15:48:02.828Z"
   },
   {
    "duration": 8,
    "start_time": "2022-10-23T15:48:02.848Z"
   },
   {
    "duration": 8,
    "start_time": "2022-10-23T15:48:02.858Z"
   },
   {
    "duration": 29,
    "start_time": "2022-10-23T15:48:02.868Z"
   },
   {
    "duration": 8,
    "start_time": "2022-10-23T15:48:02.899Z"
   },
   {
    "duration": 41,
    "start_time": "2022-10-23T15:48:02.909Z"
   },
   {
    "duration": 6,
    "start_time": "2022-10-23T15:48:02.952Z"
   },
   {
    "duration": 11,
    "start_time": "2022-10-23T15:48:02.959Z"
   },
   {
    "duration": 23,
    "start_time": "2022-10-23T15:48:02.971Z"
   },
   {
    "duration": 15,
    "start_time": "2022-10-23T15:48:02.996Z"
   },
   {
    "duration": 7,
    "start_time": "2022-10-23T15:48:03.013Z"
   },
   {
    "duration": 7,
    "start_time": "2022-10-23T15:48:03.021Z"
   },
   {
    "duration": 6,
    "start_time": "2022-10-23T15:48:03.029Z"
   },
   {
    "duration": 8,
    "start_time": "2022-10-23T15:48:03.036Z"
   },
   {
    "duration": 12,
    "start_time": "2022-10-23T15:48:03.046Z"
   },
   {
    "duration": 10,
    "start_time": "2022-10-23T15:48:03.060Z"
   },
   {
    "duration": 5,
    "start_time": "2022-10-23T15:48:03.072Z"
   },
   {
    "duration": 10,
    "start_time": "2022-10-23T15:48:03.095Z"
   },
   {
    "duration": 5,
    "start_time": "2022-10-23T15:48:03.107Z"
   },
   {
    "duration": 14,
    "start_time": "2022-10-23T15:48:03.114Z"
   },
   {
    "duration": 11,
    "start_time": "2022-10-23T15:48:03.132Z"
   },
   {
    "duration": 17,
    "start_time": "2022-10-23T15:48:03.145Z"
   },
   {
    "duration": 405,
    "start_time": "2022-10-23T15:48:03.164Z"
   },
   {
    "duration": 15,
    "start_time": "2022-10-23T15:48:03.570Z"
   },
   {
    "duration": 5,
    "start_time": "2022-10-23T15:48:03.594Z"
   },
   {
    "duration": 13,
    "start_time": "2022-10-23T15:48:03.600Z"
   },
   {
    "duration": 10,
    "start_time": "2022-10-23T15:48:03.614Z"
   },
   {
    "duration": 337,
    "start_time": "2022-10-23T15:48:03.625Z"
   },
   {
    "duration": 8,
    "start_time": "2022-10-23T15:48:03.964Z"
   },
   {
    "duration": 104,
    "start_time": "2022-10-23T15:48:03.973Z"
   },
   {
    "duration": 8,
    "start_time": "2022-10-23T15:48:04.079Z"
   },
   {
    "duration": 19,
    "start_time": "2022-10-23T15:48:04.088Z"
   },
   {
    "duration": 421,
    "start_time": "2022-10-23T15:48:04.109Z"
   },
   {
    "duration": 6,
    "start_time": "2022-10-23T15:48:04.532Z"
   },
   {
    "duration": 285,
    "start_time": "2022-10-23T15:48:04.540Z"
   },
   {
    "duration": 12,
    "start_time": "2022-10-23T15:48:04.826Z"
   },
   {
    "duration": 374,
    "start_time": "2022-10-23T15:48:04.840Z"
   },
   {
    "duration": 5,
    "start_time": "2022-10-23T15:48:05.216Z"
   },
   {
    "duration": 268,
    "start_time": "2022-10-23T15:48:05.222Z"
   },
   {
    "duration": 7,
    "start_time": "2022-10-23T15:48:05.491Z"
   },
   {
    "duration": 264,
    "start_time": "2022-10-23T15:48:05.499Z"
   },
   {
    "duration": 5,
    "start_time": "2022-10-23T15:48:05.766Z"
   },
   {
    "duration": 21,
    "start_time": "2022-10-23T15:48:05.773Z"
   },
   {
    "duration": 223,
    "start_time": "2022-10-23T15:48:05.796Z"
   },
   {
    "duration": 7,
    "start_time": "2022-10-23T15:48:06.020Z"
   },
   {
    "duration": 16,
    "start_time": "2022-10-23T15:48:06.029Z"
   },
   {
    "duration": 10,
    "start_time": "2022-10-23T15:48:06.047Z"
   },
   {
    "duration": 339,
    "start_time": "2022-10-23T15:48:06.059Z"
   },
   {
    "duration": 13,
    "start_time": "2022-10-23T15:48:06.400Z"
   },
   {
    "duration": 407,
    "start_time": "2022-10-23T15:48:06.415Z"
   },
   {
    "duration": 14,
    "start_time": "2022-10-23T15:48:06.824Z"
   },
   {
    "duration": 255,
    "start_time": "2022-10-23T15:48:06.840Z"
   },
   {
    "duration": 12,
    "start_time": "2022-10-23T15:48:07.097Z"
   },
   {
    "duration": 13,
    "start_time": "2022-10-23T15:50:31.998Z"
   },
   {
    "duration": 12,
    "start_time": "2022-10-23T15:57:34.960Z"
   },
   {
    "duration": 4,
    "start_time": "2022-10-23T16:47:13.008Z"
   },
   {
    "duration": 1206,
    "start_time": "2022-10-23T16:47:33.466Z"
   },
   {
    "duration": 54,
    "start_time": "2022-10-23T16:47:34.674Z"
   },
   {
    "duration": 22,
    "start_time": "2022-10-23T16:47:34.730Z"
   },
   {
    "duration": 4,
    "start_time": "2022-10-23T16:47:34.755Z"
   },
   {
    "duration": 7,
    "start_time": "2022-10-23T16:47:34.760Z"
   },
   {
    "duration": 36,
    "start_time": "2022-10-23T16:47:34.769Z"
   },
   {
    "duration": 4,
    "start_time": "2022-10-23T16:47:34.807Z"
   },
   {
    "duration": 24,
    "start_time": "2022-10-23T16:47:34.813Z"
   },
   {
    "duration": 9,
    "start_time": "2022-10-23T16:47:34.838Z"
   },
   {
    "duration": 10,
    "start_time": "2022-10-23T16:47:34.850Z"
   },
   {
    "duration": 33,
    "start_time": "2022-10-23T16:47:34.862Z"
   },
   {
    "duration": 5,
    "start_time": "2022-10-23T16:47:34.897Z"
   },
   {
    "duration": 35,
    "start_time": "2022-10-23T16:47:34.904Z"
   },
   {
    "duration": 7,
    "start_time": "2022-10-23T16:47:34.941Z"
   },
   {
    "duration": 44,
    "start_time": "2022-10-23T16:47:34.950Z"
   },
   {
    "duration": 5,
    "start_time": "2022-10-23T16:47:34.997Z"
   },
   {
    "duration": 13,
    "start_time": "2022-10-23T16:47:35.004Z"
   },
   {
    "duration": 10,
    "start_time": "2022-10-23T16:47:35.019Z"
   },
   {
    "duration": 8,
    "start_time": "2022-10-23T16:47:35.030Z"
   },
   {
    "duration": 7,
    "start_time": "2022-10-23T16:47:35.039Z"
   },
   {
    "duration": 9,
    "start_time": "2022-10-23T16:47:35.048Z"
   },
   {
    "duration": 8,
    "start_time": "2022-10-23T16:47:35.059Z"
   },
   {
    "duration": 35,
    "start_time": "2022-10-23T16:47:35.068Z"
   },
   {
    "duration": 6,
    "start_time": "2022-10-23T16:47:35.105Z"
   },
   {
    "duration": 14,
    "start_time": "2022-10-23T16:47:35.113Z"
   },
   {
    "duration": 5,
    "start_time": "2022-10-23T16:47:35.129Z"
   },
   {
    "duration": 18,
    "start_time": "2022-10-23T16:47:35.136Z"
   },
   {
    "duration": 14,
    "start_time": "2022-10-23T16:47:35.157Z"
   },
   {
    "duration": 26,
    "start_time": "2022-10-23T16:47:35.172Z"
   },
   {
    "duration": 449,
    "start_time": "2022-10-23T16:47:35.200Z"
   },
   {
    "duration": 17,
    "start_time": "2022-10-23T16:47:35.651Z"
   },
   {
    "duration": 6,
    "start_time": "2022-10-23T16:47:35.670Z"
   },
   {
    "duration": 29,
    "start_time": "2022-10-23T16:47:35.678Z"
   },
   {
    "duration": 10,
    "start_time": "2022-10-23T16:47:35.709Z"
   },
   {
    "duration": 358,
    "start_time": "2022-10-23T16:47:35.721Z"
   },
   {
    "duration": 7,
    "start_time": "2022-10-23T16:47:36.081Z"
   },
   {
    "duration": 125,
    "start_time": "2022-10-23T16:47:36.090Z"
   },
   {
    "duration": 9,
    "start_time": "2022-10-23T16:47:36.217Z"
   },
   {
    "duration": 19,
    "start_time": "2022-10-23T16:47:36.227Z"
   },
   {
    "duration": 460,
    "start_time": "2022-10-23T16:47:36.248Z"
   },
   {
    "duration": 9,
    "start_time": "2022-10-23T16:47:36.710Z"
   },
   {
    "duration": 360,
    "start_time": "2022-10-23T16:47:36.721Z"
   },
   {
    "duration": 19,
    "start_time": "2022-10-23T16:47:37.083Z"
   },
   {
    "duration": 370,
    "start_time": "2022-10-23T16:47:37.104Z"
   },
   {
    "duration": 5,
    "start_time": "2022-10-23T16:47:37.476Z"
   },
   {
    "duration": 296,
    "start_time": "2022-10-23T16:47:37.482Z"
   },
   {
    "duration": 6,
    "start_time": "2022-10-23T16:47:37.779Z"
   },
   {
    "duration": 264,
    "start_time": "2022-10-23T16:47:37.795Z"
   },
   {
    "duration": 6,
    "start_time": "2022-10-23T16:47:38.061Z"
   },
   {
    "duration": 13,
    "start_time": "2022-10-23T16:47:38.068Z"
   },
   {
    "duration": 229,
    "start_time": "2022-10-23T16:47:38.083Z"
   },
   {
    "duration": 7,
    "start_time": "2022-10-23T16:47:38.314Z"
   },
   {
    "duration": 12,
    "start_time": "2022-10-23T16:47:38.323Z"
   },
   {
    "duration": 9,
    "start_time": "2022-10-23T16:47:38.337Z"
   },
   {
    "duration": 345,
    "start_time": "2022-10-23T16:47:38.347Z"
   },
   {
    "duration": 13,
    "start_time": "2022-10-23T16:47:38.695Z"
   },
   {
    "duration": 350,
    "start_time": "2022-10-23T16:47:38.710Z"
   },
   {
    "duration": 12,
    "start_time": "2022-10-23T16:47:39.062Z"
   },
   {
    "duration": 247,
    "start_time": "2022-10-23T16:47:39.076Z"
   },
   {
    "duration": 19,
    "start_time": "2022-10-23T16:47:39.325Z"
   },
   {
    "duration": 18,
    "start_time": "2022-10-23T16:47:39.346Z"
   },
   {
    "duration": 9,
    "start_time": "2022-10-23T17:34:05.592Z"
   },
   {
    "duration": 333,
    "start_time": "2022-10-23T17:45:27.733Z"
   },
   {
    "duration": 370,
    "start_time": "2022-10-23T17:46:07.762Z"
   },
   {
    "duration": 283,
    "start_time": "2022-10-23T17:48:43.040Z"
   },
   {
    "duration": 20,
    "start_time": "2022-10-23T17:52:21.428Z"
   },
   {
    "duration": 266,
    "start_time": "2022-10-23T17:53:52.858Z"
   },
   {
    "duration": 278,
    "start_time": "2022-10-23T17:54:27.077Z"
   },
   {
    "duration": 331,
    "start_time": "2022-10-23T17:55:14.024Z"
   },
   {
    "duration": 85,
    "start_time": "2022-10-23T17:55:41.167Z"
   },
   {
    "duration": 269,
    "start_time": "2022-10-23T17:56:09.732Z"
   },
   {
    "duration": 60,
    "start_time": "2022-10-23T19:11:55.549Z"
   },
   {
    "duration": 1096,
    "start_time": "2022-10-23T19:12:08.157Z"
   },
   {
    "duration": 51,
    "start_time": "2022-10-23T19:12:09.255Z"
   },
   {
    "duration": 19,
    "start_time": "2022-10-23T19:12:09.307Z"
   },
   {
    "duration": 6,
    "start_time": "2022-10-23T19:12:09.327Z"
   },
   {
    "duration": 10,
    "start_time": "2022-10-23T19:12:09.335Z"
   },
   {
    "duration": 21,
    "start_time": "2022-10-23T19:12:09.346Z"
   },
   {
    "duration": 4,
    "start_time": "2022-10-23T19:12:09.368Z"
   },
   {
    "duration": 29,
    "start_time": "2022-10-23T19:12:09.373Z"
   },
   {
    "duration": 8,
    "start_time": "2022-10-23T19:12:09.404Z"
   },
   {
    "duration": 10,
    "start_time": "2022-10-23T19:12:09.413Z"
   },
   {
    "duration": 5,
    "start_time": "2022-10-23T19:12:09.424Z"
   },
   {
    "duration": 5,
    "start_time": "2022-10-23T19:12:09.431Z"
   },
   {
    "duration": 61,
    "start_time": "2022-10-23T19:12:09.438Z"
   },
   {
    "duration": 6,
    "start_time": "2022-10-23T19:12:09.502Z"
   },
   {
    "duration": 10,
    "start_time": "2022-10-23T19:12:09.509Z"
   },
   {
    "duration": 4,
    "start_time": "2022-10-23T19:12:09.521Z"
   },
   {
    "duration": 9,
    "start_time": "2022-10-23T19:12:09.526Z"
   },
   {
    "duration": 7,
    "start_time": "2022-10-23T19:12:09.536Z"
   },
   {
    "duration": 8,
    "start_time": "2022-10-23T19:12:09.544Z"
   },
   {
    "duration": 14,
    "start_time": "2022-10-23T19:12:09.554Z"
   },
   {
    "duration": 26,
    "start_time": "2022-10-23T19:12:09.569Z"
   },
   {
    "duration": 5,
    "start_time": "2022-10-23T19:12:09.598Z"
   },
   {
    "duration": 11,
    "start_time": "2022-10-23T19:12:09.604Z"
   },
   {
    "duration": 4,
    "start_time": "2022-10-23T19:12:09.616Z"
   },
   {
    "duration": 9,
    "start_time": "2022-10-23T19:12:09.622Z"
   },
   {
    "duration": 5,
    "start_time": "2022-10-23T19:12:09.633Z"
   },
   {
    "duration": 16,
    "start_time": "2022-10-23T19:12:09.640Z"
   },
   {
    "duration": 37,
    "start_time": "2022-10-23T19:12:09.658Z"
   },
   {
    "duration": 9,
    "start_time": "2022-10-23T19:12:09.696Z"
   },
   {
    "duration": 373,
    "start_time": "2022-10-23T19:12:09.706Z"
   },
   {
    "duration": 20,
    "start_time": "2022-10-23T19:12:10.081Z"
   },
   {
    "duration": 5,
    "start_time": "2022-10-23T19:12:10.102Z"
   },
   {
    "duration": 20,
    "start_time": "2022-10-23T19:12:10.109Z"
   },
   {
    "duration": 10,
    "start_time": "2022-10-23T19:12:10.130Z"
   },
   {
    "duration": 321,
    "start_time": "2022-10-23T19:12:10.141Z"
   },
   {
    "duration": 7,
    "start_time": "2022-10-23T19:12:10.464Z"
   },
   {
    "duration": 95,
    "start_time": "2022-10-23T19:12:10.473Z"
   },
   {
    "duration": 8,
    "start_time": "2022-10-23T19:12:10.569Z"
   },
   {
    "duration": 20,
    "start_time": "2022-10-23T19:12:10.579Z"
   },
   {
    "duration": 382,
    "start_time": "2022-10-23T19:12:10.600Z"
   },
   {
    "duration": 14,
    "start_time": "2022-10-23T19:12:10.986Z"
   },
   {
    "duration": 271,
    "start_time": "2022-10-23T19:12:11.001Z"
   },
   {
    "duration": 350,
    "start_time": "2022-10-23T19:12:11.274Z"
   },
   {
    "duration": 6,
    "start_time": "2022-10-23T19:12:11.626Z"
   },
   {
    "duration": 260,
    "start_time": "2022-10-23T19:12:11.633Z"
   },
   {
    "duration": 6,
    "start_time": "2022-10-23T19:12:11.894Z"
   },
   {
    "duration": 293,
    "start_time": "2022-10-23T19:12:11.901Z"
   },
   {
    "duration": 5,
    "start_time": "2022-10-23T19:12:12.196Z"
   },
   {
    "duration": 9,
    "start_time": "2022-10-23T19:12:12.203Z"
   },
   {
    "duration": 225,
    "start_time": "2022-10-23T19:12:12.214Z"
   },
   {
    "duration": 6,
    "start_time": "2022-10-23T19:12:12.441Z"
   },
   {
    "duration": 14,
    "start_time": "2022-10-23T19:12:12.449Z"
   },
   {
    "duration": 9,
    "start_time": "2022-10-23T19:12:12.464Z"
   },
   {
    "duration": 320,
    "start_time": "2022-10-23T19:12:12.475Z"
   },
   {
    "duration": 11,
    "start_time": "2022-10-23T19:12:12.796Z"
   },
   {
    "duration": 343,
    "start_time": "2022-10-23T19:12:12.809Z"
   },
   {
    "duration": 11,
    "start_time": "2022-10-23T19:12:13.154Z"
   },
   {
    "duration": 220,
    "start_time": "2022-10-23T19:12:13.167Z"
   },
   {
    "duration": 15,
    "start_time": "2022-10-23T19:12:13.389Z"
   },
   {
    "duration": 17,
    "start_time": "2022-10-23T19:12:13.405Z"
   },
   {
    "duration": 9,
    "start_time": "2022-10-23T19:21:41.449Z"
   },
   {
    "duration": 193,
    "start_time": "2022-10-23T19:21:48.597Z"
   },
   {
    "duration": 7,
    "start_time": "2022-10-23T19:27:20.668Z"
   },
   {
    "duration": 1074,
    "start_time": "2022-10-23T21:06:08.909Z"
   },
   {
    "duration": 52,
    "start_time": "2022-10-23T21:06:09.984Z"
   },
   {
    "duration": 20,
    "start_time": "2022-10-23T21:06:10.038Z"
   },
   {
    "duration": 4,
    "start_time": "2022-10-23T21:06:10.059Z"
   },
   {
    "duration": 13,
    "start_time": "2022-10-23T21:06:10.065Z"
   },
   {
    "duration": 15,
    "start_time": "2022-10-23T21:06:10.080Z"
   },
   {
    "duration": 4,
    "start_time": "2022-10-23T21:06:10.097Z"
   },
   {
    "duration": 27,
    "start_time": "2022-10-23T21:06:10.103Z"
   },
   {
    "duration": 9,
    "start_time": "2022-10-23T21:06:10.132Z"
   },
   {
    "duration": 12,
    "start_time": "2022-10-23T21:06:10.142Z"
   },
   {
    "duration": 7,
    "start_time": "2022-10-23T21:06:10.155Z"
   },
   {
    "duration": 31,
    "start_time": "2022-10-23T21:06:10.164Z"
   },
   {
    "duration": 38,
    "start_time": "2022-10-23T21:06:10.197Z"
   },
   {
    "duration": 6,
    "start_time": "2022-10-23T21:06:10.239Z"
   },
   {
    "duration": 11,
    "start_time": "2022-10-23T21:06:10.247Z"
   },
   {
    "duration": 5,
    "start_time": "2022-10-23T21:06:10.259Z"
   },
   {
    "duration": 35,
    "start_time": "2022-10-23T21:06:10.265Z"
   },
   {
    "duration": 10,
    "start_time": "2022-10-23T21:06:10.301Z"
   },
   {
    "duration": 6,
    "start_time": "2022-10-23T21:06:10.313Z"
   },
   {
    "duration": 9,
    "start_time": "2022-10-23T21:06:10.321Z"
   },
   {
    "duration": 8,
    "start_time": "2022-10-23T21:06:10.332Z"
   },
   {
    "duration": 7,
    "start_time": "2022-10-23T21:06:10.342Z"
   },
   {
    "duration": 9,
    "start_time": "2022-10-23T21:06:10.350Z"
   },
   {
    "duration": 4,
    "start_time": "2022-10-23T21:06:10.361Z"
   },
   {
    "duration": 31,
    "start_time": "2022-10-23T21:06:10.367Z"
   },
   {
    "duration": 4,
    "start_time": "2022-10-23T21:06:10.400Z"
   },
   {
    "duration": 16,
    "start_time": "2022-10-23T21:06:10.405Z"
   },
   {
    "duration": 8,
    "start_time": "2022-10-23T21:06:10.423Z"
   },
   {
    "duration": 7,
    "start_time": "2022-10-23T21:06:10.432Z"
   },
   {
    "duration": 384,
    "start_time": "2022-10-23T21:06:10.441Z"
   },
   {
    "duration": 15,
    "start_time": "2022-10-23T21:06:10.827Z"
   },
   {
    "duration": 6,
    "start_time": "2022-10-23T21:06:10.844Z"
   },
   {
    "duration": 20,
    "start_time": "2022-10-23T21:06:10.853Z"
   },
   {
    "duration": 15,
    "start_time": "2022-10-23T21:06:10.894Z"
   },
   {
    "duration": 319,
    "start_time": "2022-10-23T21:06:10.911Z"
   },
   {
    "duration": 7,
    "start_time": "2022-10-23T21:06:11.232Z"
   },
   {
    "duration": 93,
    "start_time": "2022-10-23T21:06:11.241Z"
   },
   {
    "duration": 8,
    "start_time": "2022-10-23T21:06:11.336Z"
   },
   {
    "duration": 16,
    "start_time": "2022-10-23T21:06:11.346Z"
   },
   {
    "duration": 457,
    "start_time": "2022-10-23T21:06:11.364Z"
   },
   {
    "duration": 9,
    "start_time": "2022-10-23T21:06:11.824Z"
   },
   {
    "duration": 293,
    "start_time": "2022-10-23T21:06:11.835Z"
   },
   {
    "duration": 351,
    "start_time": "2022-10-23T21:06:12.130Z"
   },
   {
    "duration": 5,
    "start_time": "2022-10-23T21:06:12.483Z"
   },
   {
    "duration": 266,
    "start_time": "2022-10-23T21:06:12.495Z"
   },
   {
    "duration": 6,
    "start_time": "2022-10-23T21:06:12.763Z"
   },
   {
    "duration": 276,
    "start_time": "2022-10-23T21:06:12.771Z"
   },
   {
    "duration": 6,
    "start_time": "2022-10-23T21:06:13.049Z"
   },
   {
    "duration": 7,
    "start_time": "2022-10-23T21:06:13.057Z"
   },
   {
    "duration": 217,
    "start_time": "2022-10-23T21:06:13.066Z"
   },
   {
    "duration": 12,
    "start_time": "2022-10-23T21:06:13.285Z"
   },
   {
    "duration": 9,
    "start_time": "2022-10-23T21:06:13.299Z"
   },
   {
    "duration": 10,
    "start_time": "2022-10-23T21:06:13.310Z"
   },
   {
    "duration": 9,
    "start_time": "2022-10-23T21:06:13.321Z"
   },
   {
    "duration": 321,
    "start_time": "2022-10-23T21:06:13.331Z"
   },
   {
    "duration": 12,
    "start_time": "2022-10-23T21:06:13.653Z"
   },
   {
    "duration": 334,
    "start_time": "2022-10-23T21:06:13.666Z"
   },
   {
    "duration": 11,
    "start_time": "2022-10-23T21:06:14.002Z"
   },
   {
    "duration": 213,
    "start_time": "2022-10-23T21:06:14.015Z"
   },
   {
    "duration": 14,
    "start_time": "2022-10-23T21:06:14.229Z"
   },
   {
    "duration": 12,
    "start_time": "2022-10-23T21:06:14.244Z"
   },
   {
    "duration": 1263,
    "start_time": "2022-10-24T08:19:35.130Z"
   },
   {
    "duration": 44,
    "start_time": "2022-10-24T08:19:36.395Z"
   },
   {
    "duration": 24,
    "start_time": "2022-10-24T08:19:36.441Z"
   },
   {
    "duration": 6,
    "start_time": "2022-10-24T08:19:36.467Z"
   },
   {
    "duration": 6,
    "start_time": "2022-10-24T08:19:36.475Z"
   },
   {
    "duration": 38,
    "start_time": "2022-10-24T08:19:36.483Z"
   },
   {
    "duration": 4,
    "start_time": "2022-10-24T08:19:36.523Z"
   },
   {
    "duration": 27,
    "start_time": "2022-10-24T08:19:36.528Z"
   },
   {
    "duration": 9,
    "start_time": "2022-10-24T08:19:36.557Z"
   },
   {
    "duration": 18,
    "start_time": "2022-10-24T08:19:36.568Z"
   },
   {
    "duration": 4,
    "start_time": "2022-10-24T08:19:36.589Z"
   },
   {
    "duration": 10,
    "start_time": "2022-10-24T08:19:36.594Z"
   },
   {
    "duration": 71,
    "start_time": "2022-10-24T08:19:36.606Z"
   },
   {
    "duration": 7,
    "start_time": "2022-10-24T08:19:36.682Z"
   },
   {
    "duration": 48,
    "start_time": "2022-10-24T08:19:36.691Z"
   },
   {
    "duration": 12,
    "start_time": "2022-10-24T08:19:36.741Z"
   },
   {
    "duration": 49,
    "start_time": "2022-10-24T08:19:36.755Z"
   },
   {
    "duration": 43,
    "start_time": "2022-10-24T08:19:36.806Z"
   },
   {
    "duration": 43,
    "start_time": "2022-10-24T08:19:36.851Z"
   },
   {
    "duration": 46,
    "start_time": "2022-10-24T08:19:36.897Z"
   },
   {
    "duration": 27,
    "start_time": "2022-10-24T08:19:36.945Z"
   },
   {
    "duration": 48,
    "start_time": "2022-10-24T08:19:36.974Z"
   },
   {
    "duration": 43,
    "start_time": "2022-10-24T08:19:37.024Z"
   },
   {
    "duration": 31,
    "start_time": "2022-10-24T08:19:37.069Z"
   },
   {
    "duration": 16,
    "start_time": "2022-10-24T08:19:37.102Z"
   },
   {
    "duration": 8,
    "start_time": "2022-10-24T08:19:37.120Z"
   },
   {
    "duration": 24,
    "start_time": "2022-10-24T08:19:37.129Z"
   },
   {
    "duration": 30,
    "start_time": "2022-10-24T08:19:37.155Z"
   },
   {
    "duration": 35,
    "start_time": "2022-10-24T08:19:37.186Z"
   },
   {
    "duration": 411,
    "start_time": "2022-10-24T08:19:37.223Z"
   },
   {
    "duration": 23,
    "start_time": "2022-10-24T08:19:37.637Z"
   },
   {
    "duration": 6,
    "start_time": "2022-10-24T08:19:37.663Z"
   },
   {
    "duration": 38,
    "start_time": "2022-10-24T08:19:37.670Z"
   },
   {
    "duration": 28,
    "start_time": "2022-10-24T08:19:37.710Z"
   },
   {
    "duration": 357,
    "start_time": "2022-10-24T08:19:37.740Z"
   },
   {
    "duration": 10,
    "start_time": "2022-10-24T08:19:38.099Z"
   },
   {
    "duration": 124,
    "start_time": "2022-10-24T08:19:38.111Z"
   },
   {
    "duration": 17,
    "start_time": "2022-10-24T08:19:38.237Z"
   },
   {
    "duration": 38,
    "start_time": "2022-10-24T08:19:38.256Z"
   },
   {
    "duration": 455,
    "start_time": "2022-10-24T08:19:38.296Z"
   },
   {
    "duration": 8,
    "start_time": "2022-10-24T08:19:38.756Z"
   },
   {
    "duration": 310,
    "start_time": "2022-10-24T08:19:38.765Z"
   },
   {
    "duration": 397,
    "start_time": "2022-10-24T08:19:39.076Z"
   },
   {
    "duration": 6,
    "start_time": "2022-10-24T08:19:39.475Z"
   },
   {
    "duration": 296,
    "start_time": "2022-10-24T08:19:39.483Z"
   },
   {
    "duration": 7,
    "start_time": "2022-10-24T08:19:39.780Z"
   },
   {
    "duration": 280,
    "start_time": "2022-10-24T08:19:39.788Z"
   },
   {
    "duration": 6,
    "start_time": "2022-10-24T08:19:40.069Z"
   },
   {
    "duration": 18,
    "start_time": "2022-10-24T08:19:40.077Z"
   },
   {
    "duration": 239,
    "start_time": "2022-10-24T08:19:40.096Z"
   },
   {
    "duration": 8,
    "start_time": "2022-10-24T08:19:40.337Z"
   },
   {
    "duration": 6,
    "start_time": "2022-10-24T08:19:40.354Z"
   },
   {
    "duration": 13,
    "start_time": "2022-10-24T08:19:40.362Z"
   },
   {
    "duration": 8,
    "start_time": "2022-10-24T08:19:40.377Z"
   },
   {
    "duration": 356,
    "start_time": "2022-10-24T08:19:40.387Z"
   },
   {
    "duration": 19,
    "start_time": "2022-10-24T08:19:40.745Z"
   },
   {
    "duration": 366,
    "start_time": "2022-10-24T08:19:40.766Z"
   },
   {
    "duration": 20,
    "start_time": "2022-10-24T08:19:41.134Z"
   },
   {
    "duration": 237,
    "start_time": "2022-10-24T08:19:41.156Z"
   },
   {
    "duration": 14,
    "start_time": "2022-10-24T08:19:41.395Z"
   },
   {
    "duration": 15,
    "start_time": "2022-10-24T08:19:41.411Z"
   },
   {
    "duration": 59,
    "start_time": "2022-10-24T10:16:11.530Z"
   },
   {
    "duration": 1388,
    "start_time": "2022-10-24T10:16:21.446Z"
   },
   {
    "duration": 202,
    "start_time": "2022-10-24T10:16:22.836Z"
   },
   {
    "duration": 27,
    "start_time": "2022-10-24T10:16:23.039Z"
   },
   {
    "duration": 6,
    "start_time": "2022-10-24T10:16:23.068Z"
   },
   {
    "duration": 10,
    "start_time": "2022-10-24T10:16:23.077Z"
   },
   {
    "duration": 18,
    "start_time": "2022-10-24T10:16:23.089Z"
   },
   {
    "duration": 4,
    "start_time": "2022-10-24T10:16:23.109Z"
   },
   {
    "duration": 23,
    "start_time": "2022-10-24T10:16:23.129Z"
   },
   {
    "duration": 15,
    "start_time": "2022-10-24T10:16:23.154Z"
   },
   {
    "duration": 17,
    "start_time": "2022-10-24T10:16:23.171Z"
   },
   {
    "duration": 11,
    "start_time": "2022-10-24T10:16:23.190Z"
   },
   {
    "duration": 26,
    "start_time": "2022-10-24T10:16:23.203Z"
   },
   {
    "duration": 42,
    "start_time": "2022-10-24T10:16:23.232Z"
   },
   {
    "duration": 6,
    "start_time": "2022-10-24T10:16:23.278Z"
   },
   {
    "duration": 9,
    "start_time": "2022-10-24T10:16:23.286Z"
   },
   {
    "duration": 4,
    "start_time": "2022-10-24T10:16:23.296Z"
   },
   {
    "duration": 29,
    "start_time": "2022-10-24T10:16:23.302Z"
   },
   {
    "duration": 7,
    "start_time": "2022-10-24T10:16:23.333Z"
   },
   {
    "duration": 9,
    "start_time": "2022-10-24T10:16:23.342Z"
   },
   {
    "duration": 9,
    "start_time": "2022-10-24T10:16:23.352Z"
   },
   {
    "duration": 10,
    "start_time": "2022-10-24T10:16:23.362Z"
   },
   {
    "duration": 5,
    "start_time": "2022-10-24T10:16:23.374Z"
   },
   {
    "duration": 10,
    "start_time": "2022-10-24T10:16:23.381Z"
   },
   {
    "duration": 5,
    "start_time": "2022-10-24T10:16:23.429Z"
   },
   {
    "duration": 9,
    "start_time": "2022-10-24T10:16:23.437Z"
   },
   {
    "duration": 2,
    "start_time": "2022-10-24T10:16:23.448Z"
   },
   {
    "duration": 7,
    "start_time": "2022-10-24T10:16:23.452Z"
   },
   {
    "duration": 15,
    "start_time": "2022-10-24T10:16:23.460Z"
   },
   {
    "duration": 10,
    "start_time": "2022-10-24T10:16:23.477Z"
   },
   {
    "duration": 45,
    "start_time": "2022-10-24T10:16:23.489Z"
   },
   {
    "duration": 419,
    "start_time": "2022-10-24T10:16:23.536Z"
   },
   {
    "duration": 21,
    "start_time": "2022-10-24T10:16:23.957Z"
   },
   {
    "duration": 7,
    "start_time": "2022-10-24T10:16:23.980Z"
   },
   {
    "duration": 13,
    "start_time": "2022-10-24T10:16:23.989Z"
   },
   {
    "duration": 35,
    "start_time": "2022-10-24T10:16:24.004Z"
   },
   {
    "duration": 361,
    "start_time": "2022-10-24T10:16:24.040Z"
   },
   {
    "duration": 11,
    "start_time": "2022-10-24T10:16:24.403Z"
   },
   {
    "duration": 118,
    "start_time": "2022-10-24T10:16:24.416Z"
   },
   {
    "duration": 9,
    "start_time": "2022-10-24T10:16:24.537Z"
   },
   {
    "duration": 14,
    "start_time": "2022-10-24T10:16:24.547Z"
   },
   {
    "duration": 435,
    "start_time": "2022-10-24T10:16:24.565Z"
   },
   {
    "duration": 9,
    "start_time": "2022-10-24T10:16:25.003Z"
   },
   {
    "duration": 329,
    "start_time": "2022-10-24T10:16:25.014Z"
   },
   {
    "duration": 9,
    "start_time": "2022-10-24T10:16:25.345Z"
   },
   {
    "duration": 376,
    "start_time": "2022-10-24T10:16:25.356Z"
   },
   {
    "duration": 6,
    "start_time": "2022-10-24T10:16:25.733Z"
   },
   {
    "duration": 285,
    "start_time": "2022-10-24T10:16:25.741Z"
   },
   {
    "duration": 6,
    "start_time": "2022-10-24T10:16:26.028Z"
   },
   {
    "duration": 319,
    "start_time": "2022-10-24T10:16:26.036Z"
   },
   {
    "duration": 6,
    "start_time": "2022-10-24T10:16:26.358Z"
   },
   {
    "duration": 11,
    "start_time": "2022-10-24T10:16:26.366Z"
   },
   {
    "duration": 253,
    "start_time": "2022-10-24T10:16:26.380Z"
   },
   {
    "duration": 7,
    "start_time": "2022-10-24T10:16:26.635Z"
   },
   {
    "duration": 7,
    "start_time": "2022-10-24T10:16:26.644Z"
   },
   {
    "duration": 16,
    "start_time": "2022-10-24T10:16:26.652Z"
   },
   {
    "duration": 15,
    "start_time": "2022-10-24T10:16:26.670Z"
   },
   {
    "duration": 364,
    "start_time": "2022-10-24T10:16:26.687Z"
   },
   {
    "duration": 14,
    "start_time": "2022-10-24T10:16:27.053Z"
   },
   {
    "duration": 395,
    "start_time": "2022-10-24T10:16:27.069Z"
   },
   {
    "duration": 13,
    "start_time": "2022-10-24T10:16:27.466Z"
   },
   {
    "duration": 249,
    "start_time": "2022-10-24T10:16:27.481Z"
   },
   {
    "duration": 14,
    "start_time": "2022-10-24T10:16:27.731Z"
   },
   {
    "duration": 13,
    "start_time": "2022-10-24T10:16:27.747Z"
   },
   {
    "duration": 25,
    "start_time": "2022-10-24T10:18:51.959Z"
   },
   {
    "duration": 104,
    "start_time": "2022-10-24T10:28:39.598Z"
   },
   {
    "duration": 5,
    "start_time": "2022-10-24T10:29:29.290Z"
   },
   {
    "duration": 5,
    "start_time": "2022-10-24T10:29:44.221Z"
   },
   {
    "duration": 12,
    "start_time": "2022-10-24T10:34:20.841Z"
   },
   {
    "duration": 10,
    "start_time": "2022-10-24T10:35:36.132Z"
   },
   {
    "duration": 11,
    "start_time": "2022-10-24T10:35:50.397Z"
   },
   {
    "duration": 12,
    "start_time": "2022-10-24T10:37:10.103Z"
   },
   {
    "duration": 10,
    "start_time": "2022-10-24T10:39:12.707Z"
   },
   {
    "duration": 8,
    "start_time": "2022-10-24T10:45:14.027Z"
   },
   {
    "duration": 8,
    "start_time": "2022-10-24T10:45:36.970Z"
   },
   {
    "duration": 1290,
    "start_time": "2022-10-24T11:33:01.194Z"
   },
   {
    "duration": 123,
    "start_time": "2022-10-24T11:33:02.486Z"
   },
   {
    "duration": 0,
    "start_time": "2022-10-24T11:33:02.613Z"
   },
   {
    "duration": 0,
    "start_time": "2022-10-24T11:33:02.614Z"
   },
   {
    "duration": 0,
    "start_time": "2022-10-24T11:33:02.615Z"
   },
   {
    "duration": 0,
    "start_time": "2022-10-24T11:33:02.616Z"
   },
   {
    "duration": 0,
    "start_time": "2022-10-24T11:33:02.618Z"
   },
   {
    "duration": 0,
    "start_time": "2022-10-24T11:33:02.618Z"
   },
   {
    "duration": 1,
    "start_time": "2022-10-24T11:33:02.619Z"
   },
   {
    "duration": 0,
    "start_time": "2022-10-24T11:33:02.629Z"
   },
   {
    "duration": 0,
    "start_time": "2022-10-24T11:33:02.631Z"
   },
   {
    "duration": 0,
    "start_time": "2022-10-24T11:33:02.632Z"
   },
   {
    "duration": 0,
    "start_time": "2022-10-24T11:33:02.633Z"
   },
   {
    "duration": 0,
    "start_time": "2022-10-24T11:33:02.634Z"
   },
   {
    "duration": 0,
    "start_time": "2022-10-24T11:33:02.635Z"
   },
   {
    "duration": 0,
    "start_time": "2022-10-24T11:33:02.636Z"
   },
   {
    "duration": 0,
    "start_time": "2022-10-24T11:33:02.638Z"
   },
   {
    "duration": 0,
    "start_time": "2022-10-24T11:33:02.638Z"
   },
   {
    "duration": 0,
    "start_time": "2022-10-24T11:33:02.640Z"
   },
   {
    "duration": 0,
    "start_time": "2022-10-24T11:33:02.641Z"
   },
   {
    "duration": 0,
    "start_time": "2022-10-24T11:33:02.642Z"
   },
   {
    "duration": 0,
    "start_time": "2022-10-24T11:33:02.643Z"
   },
   {
    "duration": 0,
    "start_time": "2022-10-24T11:33:02.644Z"
   },
   {
    "duration": 0,
    "start_time": "2022-10-24T11:33:02.645Z"
   },
   {
    "duration": 0,
    "start_time": "2022-10-24T11:33:02.646Z"
   },
   {
    "duration": 0,
    "start_time": "2022-10-24T11:33:02.648Z"
   },
   {
    "duration": 0,
    "start_time": "2022-10-24T11:33:02.649Z"
   },
   {
    "duration": 0,
    "start_time": "2022-10-24T11:33:02.650Z"
   },
   {
    "duration": 0,
    "start_time": "2022-10-24T11:33:02.651Z"
   },
   {
    "duration": 0,
    "start_time": "2022-10-24T11:33:02.652Z"
   },
   {
    "duration": 0,
    "start_time": "2022-10-24T11:33:02.653Z"
   },
   {
    "duration": 0,
    "start_time": "2022-10-24T11:33:02.654Z"
   },
   {
    "duration": 0,
    "start_time": "2022-10-24T11:33:02.655Z"
   },
   {
    "duration": 0,
    "start_time": "2022-10-24T11:33:02.656Z"
   },
   {
    "duration": 0,
    "start_time": "2022-10-24T11:33:02.657Z"
   },
   {
    "duration": 0,
    "start_time": "2022-10-24T11:33:02.658Z"
   },
   {
    "duration": 0,
    "start_time": "2022-10-24T11:33:02.660Z"
   },
   {
    "duration": 0,
    "start_time": "2022-10-24T11:33:02.661Z"
   },
   {
    "duration": 0,
    "start_time": "2022-10-24T11:33:02.662Z"
   },
   {
    "duration": 0,
    "start_time": "2022-10-24T11:33:02.663Z"
   },
   {
    "duration": 0,
    "start_time": "2022-10-24T11:33:02.664Z"
   },
   {
    "duration": 0,
    "start_time": "2022-10-24T11:33:02.665Z"
   },
   {
    "duration": 0,
    "start_time": "2022-10-24T11:33:02.666Z"
   },
   {
    "duration": 0,
    "start_time": "2022-10-24T11:33:02.729Z"
   },
   {
    "duration": 0,
    "start_time": "2022-10-24T11:33:02.730Z"
   },
   {
    "duration": 0,
    "start_time": "2022-10-24T11:33:02.731Z"
   },
   {
    "duration": 0,
    "start_time": "2022-10-24T11:33:02.733Z"
   },
   {
    "duration": 0,
    "start_time": "2022-10-24T11:33:02.733Z"
   },
   {
    "duration": 1,
    "start_time": "2022-10-24T11:33:02.734Z"
   },
   {
    "duration": 0,
    "start_time": "2022-10-24T11:33:02.736Z"
   },
   {
    "duration": 0,
    "start_time": "2022-10-24T11:33:02.737Z"
   },
   {
    "duration": 0,
    "start_time": "2022-10-24T11:33:02.738Z"
   },
   {
    "duration": 0,
    "start_time": "2022-10-24T11:33:02.740Z"
   },
   {
    "duration": 1,
    "start_time": "2022-10-24T11:33:02.740Z"
   },
   {
    "duration": 0,
    "start_time": "2022-10-24T11:33:02.741Z"
   },
   {
    "duration": 0,
    "start_time": "2022-10-24T11:33:02.742Z"
   },
   {
    "duration": 0,
    "start_time": "2022-10-24T11:33:02.744Z"
   },
   {
    "duration": 0,
    "start_time": "2022-10-24T11:33:02.746Z"
   },
   {
    "duration": 0,
    "start_time": "2022-10-24T11:33:02.747Z"
   },
   {
    "duration": 0,
    "start_time": "2022-10-24T11:33:02.748Z"
   },
   {
    "duration": 0,
    "start_time": "2022-10-24T11:33:02.749Z"
   },
   {
    "duration": 0,
    "start_time": "2022-10-24T11:33:02.751Z"
   },
   {
    "duration": 0,
    "start_time": "2022-10-24T11:33:02.752Z"
   },
   {
    "duration": 0,
    "start_time": "2022-10-24T11:33:02.754Z"
   },
   {
    "duration": 1269,
    "start_time": "2022-10-24T11:36:52.602Z"
   },
   {
    "duration": 133,
    "start_time": "2022-10-24T11:36:53.873Z"
   },
   {
    "duration": 0,
    "start_time": "2022-10-24T11:36:54.010Z"
   },
   {
    "duration": 0,
    "start_time": "2022-10-24T11:36:54.012Z"
   },
   {
    "duration": 0,
    "start_time": "2022-10-24T11:36:54.013Z"
   },
   {
    "duration": 0,
    "start_time": "2022-10-24T11:36:54.016Z"
   },
   {
    "duration": 0,
    "start_time": "2022-10-24T11:36:54.030Z"
   },
   {
    "duration": 0,
    "start_time": "2022-10-24T11:36:54.031Z"
   },
   {
    "duration": 0,
    "start_time": "2022-10-24T11:36:54.033Z"
   },
   {
    "duration": 1,
    "start_time": "2022-10-24T11:36:54.034Z"
   },
   {
    "duration": 0,
    "start_time": "2022-10-24T11:36:54.036Z"
   },
   {
    "duration": 0,
    "start_time": "2022-10-24T11:36:54.037Z"
   },
   {
    "duration": 0,
    "start_time": "2022-10-24T11:36:54.038Z"
   },
   {
    "duration": 0,
    "start_time": "2022-10-24T11:36:54.040Z"
   },
   {
    "duration": 0,
    "start_time": "2022-10-24T11:36:54.041Z"
   },
   {
    "duration": 0,
    "start_time": "2022-10-24T11:36:54.041Z"
   },
   {
    "duration": 0,
    "start_time": "2022-10-24T11:36:54.042Z"
   },
   {
    "duration": 0,
    "start_time": "2022-10-24T11:36:54.043Z"
   },
   {
    "duration": 0,
    "start_time": "2022-10-24T11:36:54.045Z"
   },
   {
    "duration": 0,
    "start_time": "2022-10-24T11:36:54.046Z"
   },
   {
    "duration": 0,
    "start_time": "2022-10-24T11:36:54.048Z"
   },
   {
    "duration": 0,
    "start_time": "2022-10-24T11:36:54.049Z"
   },
   {
    "duration": 0,
    "start_time": "2022-10-24T11:36:54.050Z"
   },
   {
    "duration": 0,
    "start_time": "2022-10-24T11:36:54.052Z"
   },
   {
    "duration": 0,
    "start_time": "2022-10-24T11:36:54.053Z"
   },
   {
    "duration": 0,
    "start_time": "2022-10-24T11:36:54.054Z"
   },
   {
    "duration": 0,
    "start_time": "2022-10-24T11:36:54.056Z"
   },
   {
    "duration": 0,
    "start_time": "2022-10-24T11:36:54.058Z"
   },
   {
    "duration": 0,
    "start_time": "2022-10-24T11:36:54.060Z"
   },
   {
    "duration": 0,
    "start_time": "2022-10-24T11:36:54.060Z"
   },
   {
    "duration": 0,
    "start_time": "2022-10-24T11:36:54.062Z"
   },
   {
    "duration": 0,
    "start_time": "2022-10-24T11:36:54.063Z"
   },
   {
    "duration": 0,
    "start_time": "2022-10-24T11:36:54.064Z"
   },
   {
    "duration": 0,
    "start_time": "2022-10-24T11:36:54.130Z"
   },
   {
    "duration": 0,
    "start_time": "2022-10-24T11:36:54.131Z"
   },
   {
    "duration": 0,
    "start_time": "2022-10-24T11:36:54.133Z"
   },
   {
    "duration": 0,
    "start_time": "2022-10-24T11:36:54.134Z"
   },
   {
    "duration": 0,
    "start_time": "2022-10-24T11:36:54.136Z"
   },
   {
    "duration": 0,
    "start_time": "2022-10-24T11:36:54.137Z"
   },
   {
    "duration": 0,
    "start_time": "2022-10-24T11:36:54.139Z"
   },
   {
    "duration": 0,
    "start_time": "2022-10-24T11:36:54.140Z"
   },
   {
    "duration": 0,
    "start_time": "2022-10-24T11:36:54.142Z"
   },
   {
    "duration": 0,
    "start_time": "2022-10-24T11:36:54.143Z"
   },
   {
    "duration": 0,
    "start_time": "2022-10-24T11:36:54.144Z"
   },
   {
    "duration": 0,
    "start_time": "2022-10-24T11:36:54.145Z"
   },
   {
    "duration": 0,
    "start_time": "2022-10-24T11:36:54.147Z"
   },
   {
    "duration": 0,
    "start_time": "2022-10-24T11:36:54.148Z"
   },
   {
    "duration": 0,
    "start_time": "2022-10-24T11:36:54.149Z"
   },
   {
    "duration": 0,
    "start_time": "2022-10-24T11:36:54.151Z"
   },
   {
    "duration": 0,
    "start_time": "2022-10-24T11:36:54.152Z"
   },
   {
    "duration": 0,
    "start_time": "2022-10-24T11:36:54.153Z"
   },
   {
    "duration": 0,
    "start_time": "2022-10-24T11:36:54.154Z"
   },
   {
    "duration": 0,
    "start_time": "2022-10-24T11:36:54.156Z"
   },
   {
    "duration": 0,
    "start_time": "2022-10-24T11:36:54.157Z"
   },
   {
    "duration": 0,
    "start_time": "2022-10-24T11:36:54.159Z"
   },
   {
    "duration": 0,
    "start_time": "2022-10-24T11:36:54.160Z"
   },
   {
    "duration": 0,
    "start_time": "2022-10-24T11:36:54.161Z"
   },
   {
    "duration": 0,
    "start_time": "2022-10-24T11:36:54.162Z"
   },
   {
    "duration": 0,
    "start_time": "2022-10-24T11:36:54.164Z"
   },
   {
    "duration": 0,
    "start_time": "2022-10-24T11:36:54.165Z"
   },
   {
    "duration": 0,
    "start_time": "2022-10-24T11:36:54.166Z"
   },
   {
    "duration": 0,
    "start_time": "2022-10-24T11:36:54.168Z"
   },
   {
    "duration": 1,
    "start_time": "2022-10-24T11:36:54.229Z"
   },
   {
    "duration": 0,
    "start_time": "2022-10-24T11:36:54.231Z"
   },
   {
    "duration": 1219,
    "start_time": "2022-10-24T12:05:32.732Z"
   },
   {
    "duration": 70,
    "start_time": "2022-10-24T12:05:33.953Z"
   },
   {
    "duration": 21,
    "start_time": "2022-10-24T12:05:34.024Z"
   },
   {
    "duration": 7,
    "start_time": "2022-10-24T12:05:34.046Z"
   },
   {
    "duration": 8,
    "start_time": "2022-10-24T12:05:34.055Z"
   },
   {
    "duration": 23,
    "start_time": "2022-10-24T12:05:34.064Z"
   },
   {
    "duration": 4,
    "start_time": "2022-10-24T12:05:34.090Z"
   },
   {
    "duration": 48,
    "start_time": "2022-10-24T12:05:34.096Z"
   },
   {
    "duration": 10,
    "start_time": "2022-10-24T12:05:34.146Z"
   },
   {
    "duration": 12,
    "start_time": "2022-10-24T12:05:34.158Z"
   },
   {
    "duration": 4,
    "start_time": "2022-10-24T12:05:34.172Z"
   },
   {
    "duration": 5,
    "start_time": "2022-10-24T12:05:34.178Z"
   },
   {
    "duration": 70,
    "start_time": "2022-10-24T12:05:34.185Z"
   },
   {
    "duration": 7,
    "start_time": "2022-10-24T12:05:34.258Z"
   },
   {
    "duration": 9,
    "start_time": "2022-10-24T12:05:34.267Z"
   },
   {
    "duration": 4,
    "start_time": "2022-10-24T12:05:34.278Z"
   },
   {
    "duration": 9,
    "start_time": "2022-10-24T12:05:34.284Z"
   },
   {
    "duration": 38,
    "start_time": "2022-10-24T12:05:34.295Z"
   },
   {
    "duration": 8,
    "start_time": "2022-10-24T12:05:34.335Z"
   },
   {
    "duration": 16,
    "start_time": "2022-10-24T12:05:34.344Z"
   },
   {
    "duration": 6,
    "start_time": "2022-10-24T12:05:34.362Z"
   },
   {
    "duration": 6,
    "start_time": "2022-10-24T12:05:34.370Z"
   },
   {
    "duration": 11,
    "start_time": "2022-10-24T12:05:34.378Z"
   },
   {
    "duration": 5,
    "start_time": "2022-10-24T12:05:34.391Z"
   },
   {
    "duration": 37,
    "start_time": "2022-10-24T12:05:34.398Z"
   },
   {
    "duration": 5,
    "start_time": "2022-10-24T12:05:34.437Z"
   },
   {
    "duration": 14,
    "start_time": "2022-10-24T12:05:34.444Z"
   },
   {
    "duration": 8,
    "start_time": "2022-10-24T12:05:34.460Z"
   },
   {
    "duration": 8,
    "start_time": "2022-10-24T12:05:34.470Z"
   },
   {
    "duration": 431,
    "start_time": "2022-10-24T12:05:34.480Z"
   },
   {
    "duration": 19,
    "start_time": "2022-10-24T12:05:34.912Z"
   },
   {
    "duration": 5,
    "start_time": "2022-10-24T12:05:34.932Z"
   },
   {
    "duration": 13,
    "start_time": "2022-10-24T12:05:34.939Z"
   },
   {
    "duration": 11,
    "start_time": "2022-10-24T12:05:34.953Z"
   },
   {
    "duration": 339,
    "start_time": "2022-10-24T12:05:34.966Z"
   },
   {
    "duration": 7,
    "start_time": "2022-10-24T12:05:35.307Z"
   },
   {
    "duration": 117,
    "start_time": "2022-10-24T12:05:35.316Z"
   },
   {
    "duration": 8,
    "start_time": "2022-10-24T12:05:35.435Z"
   },
   {
    "duration": 12,
    "start_time": "2022-10-24T12:05:35.445Z"
   },
   {
    "duration": 449,
    "start_time": "2022-10-24T12:05:35.459Z"
   },
   {
    "duration": 17,
    "start_time": "2022-10-24T12:05:35.912Z"
   },
   {
    "duration": 325,
    "start_time": "2022-10-24T12:05:35.931Z"
   },
   {
    "duration": 21,
    "start_time": "2022-10-24T12:05:36.258Z"
   },
   {
    "duration": 399,
    "start_time": "2022-10-24T12:05:36.281Z"
   },
   {
    "duration": 5,
    "start_time": "2022-10-24T12:05:36.682Z"
   },
   {
    "duration": 284,
    "start_time": "2022-10-24T12:05:36.689Z"
   },
   {
    "duration": 6,
    "start_time": "2022-10-24T12:05:36.974Z"
   },
   {
    "duration": 270,
    "start_time": "2022-10-24T12:05:36.981Z"
   },
   {
    "duration": 6,
    "start_time": "2022-10-24T12:05:37.253Z"
   },
   {
    "duration": 9,
    "start_time": "2022-10-24T12:05:37.260Z"
   },
   {
    "duration": 245,
    "start_time": "2022-10-24T12:05:37.270Z"
   },
   {
    "duration": 16,
    "start_time": "2022-10-24T12:05:37.517Z"
   },
   {
    "duration": 7,
    "start_time": "2022-10-24T12:05:37.535Z"
   },
   {
    "duration": 7,
    "start_time": "2022-10-24T12:05:37.544Z"
   },
   {
    "duration": 7,
    "start_time": "2022-10-24T12:05:37.552Z"
   },
   {
    "duration": 11,
    "start_time": "2022-10-24T12:05:37.560Z"
   },
   {
    "duration": 8,
    "start_time": "2022-10-24T12:05:37.573Z"
   },
   {
    "duration": 358,
    "start_time": "2022-10-24T12:05:37.583Z"
   },
   {
    "duration": 12,
    "start_time": "2022-10-24T12:05:37.942Z"
   },
   {
    "duration": 420,
    "start_time": "2022-10-24T12:05:37.956Z"
   },
   {
    "duration": 13,
    "start_time": "2022-10-24T12:05:38.378Z"
   },
   {
    "duration": 250,
    "start_time": "2022-10-24T12:05:38.393Z"
   },
   {
    "duration": 13,
    "start_time": "2022-10-24T12:05:38.645Z"
   },
   {
    "duration": 39,
    "start_time": "2022-10-24T12:05:38.660Z"
   }
  ],
  "kernelspec": {
   "display_name": "Python 3 (ipykernel)",
   "language": "python",
   "name": "python3"
  },
  "language_info": {
   "codemirror_mode": {
    "name": "ipython",
    "version": 3
   },
   "file_extension": ".py",
   "mimetype": "text/x-python",
   "name": "python",
   "nbconvert_exporter": "python",
   "pygments_lexer": "ipython3",
   "version": "3.9.7"
  },
  "toc": {
   "base_numbering": 1,
   "nav_menu": {},
   "number_sections": true,
   "sideBar": true,
   "skip_h1_title": true,
   "title_cell": "Содержание проекта:",
   "title_sidebar": "Содержание:",
   "toc_cell": true,
   "toc_position": {
    "height": "99.9884px",
    "left": "29px",
    "top": "111.018px",
    "width": "165px"
   },
   "toc_section_display": true,
   "toc_window_display": true
  }
 },
 "nbformat": 4,
 "nbformat_minor": 2
}
