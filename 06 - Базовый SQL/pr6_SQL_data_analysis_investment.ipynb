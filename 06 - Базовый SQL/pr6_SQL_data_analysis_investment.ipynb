{
 "cells": [
  {
   "cell_type": "markdown",
   "id": "a7889fb9",
   "metadata": {},
   "source": [
    "# Исследование данных об инвестиции венчурных фондов в компании-стартапы"
   ]
  },
  {
   "cell_type": "markdown",
   "id": "0ae4ba94",
   "metadata": {},
   "source": [
    "## Цель проекта"
   ]
  },
  {
   "cell_type": "markdown",
   "id": "91fc24ae",
   "metadata": {},
   "source": [
    "Выполнить анализ данных о фондах и инвестициях и написать запросы к базе данных."
   ]
  },
  {
   "cell_type": "markdown",
   "id": "a47433a0",
   "metadata": {},
   "source": [
    "## Описание базы данных"
   ]
  },
  {
   "attachments": {},
   "cell_type": "markdown",
   "id": "ced98e29",
   "metadata": {},
   "source": [
    "![Схема БД](https://pictures.s3.yandex.net/resources/1_Baza_dannykh_1673427255.png \"Схема БД\")"
   ]
  },
  {
   "cell_type": "markdown",
   "id": "f26c83f0",
   "metadata": {},
   "source": [
    "**Таблица acquisition**\n",
    "\n",
    "Содержит информацию о покупках одних компаний другими.\n",
    "\n",
    "Таблица включает такие поля:\n",
    "\n",
    "- первичный ключ id — идентификатор или уникальный номер покупки;\n",
    "- внешний ключ acquiring_company_id — ссылается на таблицу company — идентификатор компании-покупателя, то есть той, что покупает другую компанию;\n",
    "- внешний ключ acquired_company_id — ссылается на таблицу company — идентификатор компании, которую покупают;\n",
    "- term_code — способ оплаты сделки:\n",
    "    - cash — наличными;\n",
    "    - stock — акциями компании;\n",
    "    - cash_and_stock — смешанный тип оплаты: наличные и акции.\n",
    "- price_amount — сумма покупки в долларах;\n",
    "- acquired_at — дата совершения сделки;\n",
    "- created_at — дата и время создания записи в таблице;\n",
    "- updated_at — дата и время обновления записи в таблице.\n",
    "\n",
    "\n",
    "**Таблица company**\n",
    "\n",
    "Содержит информацию о компаниях-стартапах.\n",
    "- первичный ключ id — идентификатор, или уникальный номер компании;\n",
    "- name — название компании;\n",
    "- category_code — категория деятельности компании, например:\n",
    "- news — специализируется на работе с новостями;\n",
    "- social — специализируется на социальной работе.\n",
    "- status — статус компании:\n",
    "    - acquired — приобретена;\n",
    "    - operating — действует;\n",
    "    - ipo — вышла на IPO;\n",
    "- closed — перестала существовать.\n",
    "- founded_at — дата основания компании;\n",
    "- closed_at — дата закрытия компании, которую указывают в том случае, если компании больше не существует;\n",
    "- domain — домен сайта компании;\n",
    "- twitter_username — название профиля компании в твиттере;\n",
    "- country_code — код страны, например, USA для США, GBR для Великобритании;\n",
    "- investment_rounds — число раундов, в которых компания участвовала как инвестор;\n",
    "- funding_rounds — число раундов, в которых компания привлекала инвестиции;\n",
    "- funding_total — сумма привлечённых инвестиций в долларах;\n",
    "- milestones — количество важных этапов в истории компании;\n",
    "- created_at — дата и время создания записи в таблице;\n",
    "- updated_at — дата и время обновления записи в таблице.\n",
    "\n",
    "**Таблица education**\n",
    "\n",
    "Хранит информацию об уровне образования сотрудников компаний.\n",
    "\n",
    "- первичный ключ id — уникальный номер записи с информацией об образовании;\n",
    "- внешний ключ person_id — ссылается на таблицу people — идентификатор человека, информация о котором представлена в записи;\n",
    "- degree_type — учебная степень, например:\n",
    "    - BA — Bachelor of Arts — бакалавр гуманитарных наук;\n",
    "    - MS — Master of Science — магистр естественных наук.\n",
    "- instituition — учебное заведение, название университета;\n",
    "- graduated_at — дата завершения обучения, выпуска;\n",
    "- created_at — дата и время создания записи в таблице;\n",
    "- updated_at — дата и время обновления записи в таблице.\n",
    "\n",
    "**Таблица fund**\n",
    "\n",
    "Хранит информацию о венчурных фондах. \n",
    "\n",
    "- первичный ключ id — уникальный номер венчурного фонда;\n",
    "- name — название венчурного фонда;\n",
    "- founded_at — дата основания фонда;\n",
    "- domain — домен сайта фонда;\n",
    "- twitter_username — профиль фонда в твиттере;\n",
    "- country_code — код страны фонда;\n",
    "- investment_rounds — число инвестиционных раундов, в которых фонд принимал участие;\n",
    "- invested_companies — число компаний, в которые инвестировал фонд;\n",
    "- milestones — количество важных этапов в истории фонда;\n",
    "- created_at — дата и время создания записи в таблице;\n",
    "- updated_at — дата и время обновления записи в таблице.\n",
    "\n",
    "\n",
    "**Таблица funding_round**\n",
    "\n",
    "Содержит информацию о раундах инвестиций. \n",
    "- первичный ключ id — уникальный номер инвестиционного раунда;\n",
    "- внешний ключ company_id — ссылается на таблицу company — уникальный номер компании, участвовавшей в инвестиционном раунде;\n",
    "- funded_at — дата проведения раунда;\n",
    "- funding_round_type — тип инвестиционного раунда, например:\n",
    "    - venture — венчурный раунд;\n",
    "    - angel — ангельский раунд;\n",
    "    - series_a — раунд А.\n",
    "- raised_amount — сумма инвестиций, которую привлекла компания в этом раунде в долларах;\n",
    "- pre_money_valuation — предварительная, проведённая до инвестиций оценка стоимости компании в долларах;\n",
    "- participants — количество участников инвестиционного раунда;\n",
    "- is_first_round — является ли этот раунд первым для компании;\n",
    "- is_last_round — является ли этот раунд последним для компании;\n",
    "- created_at — дата и время создания записи в таблице;\n",
    "- updated_at — дата и время обновления записи в таблице.\n",
    "\n",
    "**Таблица investment**\n",
    "\n",
    "Содержит информацию об инвестициях венчурных фондов в компании-стартапы.\n",
    "\n",
    "- первичный ключ id — уникальный номер инвестиции;\n",
    "- внешний ключ funding_round_id — ссылается на таблицу funding_round — уникальный номер раунда инвестиции;\n",
    "- внешний ключ company_id — ссылается на таблицу company — уникальный номер компании-стартапа, в которую инвестируют;\n",
    "- внешний ключ fund_id — ссылается на таблицу fund — уникальный номер фонда, инвестирующего в компанию-стартап;\n",
    "- created_at — дата и время создания записи в таблице;\n",
    "- updated_at — дата и время обновления записи в таблице.\n",
    "\n",
    "**Таблица people**\n",
    "\n",
    "Содержит информацию о сотрудниках компаний-стартапов.\n",
    "- первичный ключ id — уникальный номер сотрудника;\n",
    "- first_name — имя сотрудника;\n",
    "- last_name — фамилия сотрудника;\n",
    "- внешний ключ company_id — ссылается на таблицу company — уникальный номер компании-стартапа;\n",
    "- twitter_username — профиль сотрудника в твиттере;\n",
    "- created_at — дата и время создания записи в таблице;\n",
    "- updated_at — дата и время обновления записи в таблице."
   ]
  },
  {
   "cell_type": "markdown",
   "id": "1b255bb0",
   "metadata": {},
   "source": [
    "## Подключение библиотек"
   ]
  },
  {
   "cell_type": "code",
   "execution_count": 1,
   "id": "ec482758",
   "metadata": {},
   "outputs": [],
   "source": [
    "# импортируем библиотеки\n",
    "import pandas as pd\n",
    "\n",
    "from sqlalchemy import create_engine"
   ]
  },
  {
   "cell_type": "code",
   "execution_count": null,
   "id": "a209e18f",
   "metadata": {},
   "outputs": [],
   "source": [
    "db_config = {\n",
    "    'user': 'praktikum_student', # имя пользователя\n",
    "    'pwd': '*****', # пароль\n",
    "    'host': 'rc1b-wcoijxj3yxfsf3fs.mdb.yandexcloud.net',\n",
    "    'port': 6432, # порт подключения\n",
    "    'db': '*****' # название базы данных\n",
    "}  \n",
    "connection_string = 'postgresql://{}:{}@{}:{}/{}'.format(\n",
    "    db_config['user'],\n",
    "    db_config['pwd'],\n",
    "    db_config['host'],\n",
    "    db_config['port'],\n",
    "    db_config['db'],\n",
    ") \n",
    "engine = create_engine(connection_string) "
   ]
  },
  {
   "cell_type": "markdown",
   "id": "a8858d1f",
   "metadata": {},
   "source": [
    "## Запросы к БД"
   ]
  },
  {
   "cell_type": "markdown",
   "id": "88885827",
   "metadata": {},
   "source": [
    "**Задание 1. Посчитайте, сколько компаний закрылось.**"
   ]
  },
  {
   "cell_type": "code",
   "execution_count": null,
   "id": "58536a7b",
   "metadata": {},
   "outputs": [],
   "source": [
    "query = '''\n",
    "SELECT COUNT(id)\n",
    "FROM company\n",
    "WHERE status = 'closed'\n",
    "'''\n",
    "\n",
    "df = pd.read_sql_query(query, con = engine) \n",
    "df"
   ]
  },
  {
   "cell_type": "markdown",
   "id": "57d9aa28",
   "metadata": {},
   "source": [
    "**Задание 2. Отобразите количество привлечённых средств для новостных компаний США. Используйте данные из таблицы company. Отсортируйте таблицу по убыванию значений в поле funding_total**"
   ]
  },
  {
   "cell_type": "code",
   "execution_count": null,
   "id": "e15c7776",
   "metadata": {},
   "outputs": [],
   "source": [
    "query = '''\n",
    "SELECT SUM(funding_total)\n",
    "FROM company\n",
    "WHERE country_code = 'USA' AND category_code = 'news'\n",
    "GROUP BY name\n",
    "ORDER BY SUM(funding_total) DESC\n",
    "'''\n",
    "\n",
    "df = pd.read_sql_query(query, con = engine) \n",
    "df"
   ]
  },
  {
   "cell_type": "markdown",
   "id": "f73233b1",
   "metadata": {},
   "source": [
    "**Задание 3. Найдите общую сумму сделок по покупке одних компаний другими в долларах. Отберите сделки, которые осуществлялись только за наличные с 2011 по 2013 год включительно**"
   ]
  },
  {
   "cell_type": "code",
   "execution_count": null,
   "id": "bd2fd169",
   "metadata": {},
   "outputs": [],
   "source": [
    "query = '''\n",
    "SELECT SUM(price_amount)\n",
    "FROM acquisition\n",
    "WHERE term_code = 'cash' \n",
    "AND (EXTRACT(YEAR FROM CAST(acquired_at AS date)) >= '2011' AND EXTRACT(YEAR FROM CAST(acquired_at AS date)) <= '2013')\n",
    "'''\n",
    "\n",
    "df = pd.read_sql_query(query, con = engine) \n",
    "df"
   ]
  },
  {
   "cell_type": "markdown",
   "id": "1cbbcbc8",
   "metadata": {},
   "source": [
    "**Задание 4. Отобразите имя, фамилию и названия аккаунтов людей в твиттере, у которых названия аккаунтов начинаются на 'Silver'.**"
   ]
  },
  {
   "cell_type": "code",
   "execution_count": null,
   "id": "cef4ded6",
   "metadata": {},
   "outputs": [],
   "source": [
    "query = '''\n",
    "SELECT first_name,\n",
    "       last_name,\n",
    "       twitter_username\n",
    "FROM people\n",
    "WHERE twitter_username LIKE 'Silver%'\n",
    "'''\n",
    "\n",
    "df = pd.read_sql_query(query, con = engine) \n",
    "df"
   ]
  },
  {
   "cell_type": "markdown",
   "id": "584fd0af",
   "metadata": {},
   "source": [
    "**Задание 5. Выведите на экран всю информацию о людях, у которых названия аккаунтов в твиттере содержат подстроку 'money', а фамилия начинается на 'K'.**"
   ]
  },
  {
   "cell_type": "code",
   "execution_count": null,
   "id": "3c387968",
   "metadata": {},
   "outputs": [],
   "source": [
    "query = '''\n",
    "SELECT *\n",
    "FROM people\n",
    "WHERE twitter_username LIKE '%money%' AND last_name LIKE 'K%'\n",
    "'''\n",
    "\n",
    "df = pd.read_sql_query(query, con = engine) \n",
    "df"
   ]
  },
  {
   "cell_type": "markdown",
   "id": "0d405ec6",
   "metadata": {},
   "source": [
    "**Задание 6. Для каждой страны отобразите общую сумму привлечённых инвестиций, которые получили компании, зарегистрированные в этой стране. Страну, в которой зарегистрирована компания, можно определить по коду страны. Отсортируйте данные по убыванию суммы.**"
   ]
  },
  {
   "cell_type": "code",
   "execution_count": null,
   "id": "297dfaec",
   "metadata": {},
   "outputs": [],
   "source": [
    "query = '''\n",
    "SELECT country_code,\n",
    "       SUM(funding_total)\n",
    "FROM company\n",
    "GROUP BY country_code\n",
    "ORDER BY SUM(funding_total) DESC\n",
    "'''\n",
    "\n",
    "df = pd.read_sql_query(query, con = engine) \n",
    "df"
   ]
  },
  {
   "cell_type": "markdown",
   "id": "ac30f0e4",
   "metadata": {},
   "source": [
    "**Задание 7. Составьте таблицу, в которую войдёт дата проведения раунда, а также минимальное и максимальное значения суммы инвестиций, привлечённых в эту дату.\n",
    "Оставьте в итоговой таблице только те записи, в которых минимальное значение суммы инвестиций не равно нулю и не равно максимальному значению.**"
   ]
  },
  {
   "cell_type": "code",
   "execution_count": null,
   "id": "d7fbb352",
   "metadata": {},
   "outputs": [],
   "source": [
    "query = '''\n",
    "SELECT funded_at,\n",
    "       MIN(raised_amount),\n",
    "       MAX(raised_amount)\n",
    "FROM funding_round\n",
    "GROUP BY funded_at\n",
    "HAVING MIN(raised_amount) <> 0 \n",
    "AND MIN(raised_amount) <> MAX(raised_amount)\n",
    "'''\n",
    "\n",
    "df = pd.read_sql_query(query, con = engine) \n",
    "df"
   ]
  },
  {
   "cell_type": "markdown",
   "id": "0632a58e",
   "metadata": {},
   "source": [
    "**Задание 8. Создайте поле с категориями:\n",
    "Для фондов, которые инвестируют в 100 и более компаний, назначьте категорию high_activity.\n",
    "Для фондов, которые инвестируют в 20 и более компаний до 100, назначьте категорию middle_activity.\n",
    "Если количество инвестируемых компаний фонда не достигает 20, назначьте категорию low_activity.\n",
    "Отобразите все поля таблицы fund и новое поле с категориями.**"
   ]
  },
  {
   "cell_type": "code",
   "execution_count": null,
   "id": "630b9fde",
   "metadata": {},
   "outputs": [],
   "source": [
    "query = '''\n",
    "SELECT *,\n",
    "       CASE\n",
    "          WHEN invested_companies >= 100 THEN 'high_activity'\n",
    "          WHEN invested_companies >= 20 AND invested_companies < 100 THEN 'middle_activity'\n",
    "          WHEN invested_companies < 20 THEN 'low_activity'\n",
    "       END\n",
    "FROM fund\n",
    "'''\n",
    "\n",
    "df = pd.read_sql_query(query, con = engine) \n",
    "df"
   ]
  },
  {
   "cell_type": "markdown",
   "id": "4b87da7c",
   "metadata": {},
   "source": [
    "**Задание 9. Для каждой из категорий, назначенных в предыдущем задании, посчитайте округлённое до ближайшего целого числа среднее количество инвестиционных раундов, в которых фонд принимал участие. Выведите на экран категории и среднее число инвестиционных раундов. Отсортируйте таблицу по возрастанию среднего.**"
   ]
  },
  {
   "cell_type": "code",
   "execution_count": null,
   "id": "1ccb6962",
   "metadata": {},
   "outputs": [],
   "source": [
    "query = '''\n",
    "SELECT \n",
    "       CASE\n",
    "           WHEN invested_companies>=100 THEN 'high_activity'\n",
    "           WHEN invested_companies>=20 THEN 'middle_activity'\n",
    "           ELSE 'low_activity'\n",
    "       END AS activity,\n",
    "       ROUND(AVG(investment_rounds)) AS avg_invest\n",
    "FROM fund\n",
    "GROUP BY activity\n",
    "ORDER BY avg_invest\n",
    "'''\n",
    "\n",
    "df = pd.read_sql_query(query, con = engine) \n",
    "df"
   ]
  },
  {
   "cell_type": "markdown",
   "id": "c2b5cc88",
   "metadata": {},
   "source": [
    "**Задание 10. Проанализируйте, в каких странах находятся фонды, которые чаще всего инвестируют в стартапы. \n",
    "Для каждой страны посчитайте минимальное, максимальное и среднее число компаний, в которые инвестировали фонды этой страны, основанные с 2010 по 2012 год включительно. Исключите страны с фондами, у которых минимальное число компаний, получивших инвестиции, равно нулю. \n",
    "Выгрузите десять самых активных стран-инвесторов: отсортируйте таблицу по среднему количеству компаний от большего к меньшему. Затем добавьте сортировку по коду страны в лексикографическом порядке.**"
   ]
  },
  {
   "cell_type": "code",
   "execution_count": null,
   "id": "68f552ce",
   "metadata": {},
   "outputs": [],
   "source": [
    "query = '''\n",
    "SELECT country_code,\n",
    "       MIN(invested_companies),\n",
    "       MAX(invested_companies),\n",
    "       AVG(invested_companies) AS avg_comp\n",
    "FROM fund\n",
    "WHERE CAST(founded_at AS date) BETWEEN '01-01-2010' AND '31-12-2012'\n",
    "GROUP BY country_code\n",
    "HAVING MIN(invested_companies) <> 0\n",
    "ORDER BY avg_comp DESC, country_code ASC\n",
    "LIMIT 10\n",
    "'''\n",
    "\n",
    "df = pd.read_sql_query(query, con = engine) \n",
    "df"
   ]
  },
  {
   "cell_type": "markdown",
   "id": "9fa84ce4",
   "metadata": {},
   "source": [
    "**Задание 11. Отобразите имя и фамилию всех сотрудников стартапов. Добавьте поле с названием учебного заведения, которое окончил сотрудник, если эта информация известна.**"
   ]
  },
  {
   "cell_type": "code",
   "execution_count": null,
   "id": "61def93b",
   "metadata": {},
   "outputs": [],
   "source": [
    "query = '''\n",
    "SELECT p.first_name,\n",
    "       p.last_name,\n",
    "       e.instituition\n",
    "FROM people AS p\n",
    "LEFT JOIN education AS e ON p.id=e.person_id\n",
    "'''\n",
    "\n",
    "df = pd.read_sql_query(query, con = engine) \n",
    "df"
   ]
  },
  {
   "cell_type": "markdown",
   "id": "8b1da74b",
   "metadata": {},
   "source": [
    "**Задание 12. \n",
    "Для каждой компании найдите количество учебных заведений, которые окончили её сотрудники. Выведите название компании и число уникальных названий учебных заведений. Составьте топ-5 компаний по количеству университетов.**"
   ]
  },
  {
   "cell_type": "code",
   "execution_count": null,
   "id": "24e88d71",
   "metadata": {},
   "outputs": [],
   "source": [
    "query = '''\n",
    "SELECT c.name,\n",
    "       COUNT(DISTINCT e.instituition) AS count_inst\n",
    "FROM company AS c\n",
    "INNER JOIN people AS p ON c.id=p.company_id\n",
    "INNER JOIN education AS e ON p.id=e.person_id\n",
    "GROUP BY c.name\n",
    "ORDER BY count_inst DESC\n",
    "LIMIT 5\n",
    "'''\n",
    "\n",
    "df = pd.read_sql_query(query, con = engine) \n",
    "df"
   ]
  },
  {
   "cell_type": "markdown",
   "id": "d1b754c7",
   "metadata": {},
   "source": [
    "**Задание 13.\n",
    "Составьте список с уникальными названиями закрытых компаний, для которых первый раунд финансирования оказался последним.**"
   ]
  },
  {
   "cell_type": "code",
   "execution_count": null,
   "id": "fa7aa870",
   "metadata": {},
   "outputs": [],
   "source": [
    "query = '''\n",
    "SELECT DISTINCT c.name\n",
    "FROM company AS c\n",
    "LEFT JOIN funding_round AS f ON c.id=f.company_id\n",
    "WHERE is_first_round=1 AND is_last_round=1 AND c.status='closed'\n",
    "'''\n",
    "\n",
    "df = pd.read_sql_query(query, con = engine) \n",
    "df"
   ]
  },
  {
   "cell_type": "markdown",
   "id": "c5471530",
   "metadata": {},
   "source": [
    "**Задание 14.\n",
    "Составьте список уникальных номеров сотрудников, которые работают в компаниях, отобранных в предыдущем задании.**"
   ]
  },
  {
   "cell_type": "code",
   "execution_count": null,
   "id": "89e489cf",
   "metadata": {},
   "outputs": [],
   "source": [
    "query = '''\n",
    "SELECT DISTINCT p.id\n",
    "FROM people AS p\n",
    "INNER JOIN company AS c ON p.company_id=c.id\n",
    "WHERE c.name IN (SELECT DISTINCT c.name\n",
    "                  FROM company AS c\n",
    "                  LEFT JOIN funding_round AS f ON c.id=f.company_id\n",
    "                  WHERE is_first_round=1 AND is_last_round=1 AND c.status='closed')\n",
    "'''\n",
    "\n",
    "df = pd.read_sql_query(query, con = engine) \n",
    "df"
   ]
  },
  {
   "cell_type": "markdown",
   "id": "f29be728",
   "metadata": {},
   "source": [
    "**Задание 15.\n",
    "Составьте таблицу, куда войдут уникальные пары с номерами сотрудников из предыдущей задачи и учебным заведением, которое окончил сотрудник.**"
   ]
  },
  {
   "cell_type": "code",
   "execution_count": null,
   "id": "ef8a9ff4",
   "metadata": {},
   "outputs": [],
   "source": [
    "query = '''\n",
    "SELECT DISTINCT p.id,\n",
    "       e.instituition\n",
    "FROM people AS p\n",
    "INNER JOIN education AS e ON p.id=e.person_id\n",
    "WHERE p.id IN (SELECT DISTINCT p.id\n",
    "    FROM people AS p\n",
    "    INNER JOIN company AS c ON p.company_id=c.id\n",
    "    WHERE c.name IN (SELECT DISTINCT c.name\n",
    "                      FROM company AS c\n",
    "                      LEFT JOIN funding_round AS f ON c.id=f.company_id\n",
    "                      WHERE is_first_round=1 AND is_last_round=1 AND c.status='closed'))\n",
    "'''\n",
    "\n",
    "df = pd.read_sql_query(query, con = engine) \n",
    "df"
   ]
  },
  {
   "cell_type": "markdown",
   "id": "f825aa7f",
   "metadata": {},
   "source": [
    "**Задание 16.\n",
    "Посчитайте количество учебных заведений для каждого сотрудника из предыдущего задания. При подсчёте учитывайте, что некоторые сотрудники могли окончить одно и то же заведение дважды.**"
   ]
  },
  {
   "cell_type": "code",
   "execution_count": null,
   "id": "2d8a8bd2",
   "metadata": {},
   "outputs": [],
   "source": [
    "query = '''\n",
    "SELECT DISTINCT p.id,\n",
    "       COUNT(e.instituition)\n",
    "FROM people AS p\n",
    "INNER JOIN education AS e ON p.id=e.person_id\n",
    "WHERE p.id IN (SELECT DISTINCT p.id\n",
    "    FROM people AS p\n",
    "    INNER JOIN company AS c ON p.company_id=c.id\n",
    "    WHERE c.name IN (SELECT DISTINCT c.name\n",
    "                      FROM company AS c\n",
    "                      LEFT JOIN funding_round AS f ON c.id=f.company_id\n",
    "                      WHERE is_first_round=1 AND is_last_round=1 AND c.status='closed'))\n",
    "GROUP BY p.id\n",
    "'''\n",
    "\n",
    "df = pd.read_sql_query(query, con = engine) \n",
    "df"
   ]
  },
  {
   "cell_type": "markdown",
   "id": "2746b467",
   "metadata": {},
   "source": [
    "**Задание 17.\n",
    "Дополните предыдущий запрос и выведите среднее число учебных заведений (всех, не только уникальных), которые окончили сотрудники разных компаний. Нужно вывести только одну запись, группировка здесь не понадобится.**"
   ]
  },
  {
   "cell_type": "code",
   "execution_count": null,
   "id": "142666e4",
   "metadata": {},
   "outputs": [],
   "source": [
    "query = '''\n",
    " SELECT AVG(temp_view.count_inst)   \n",
    " FROM (SELECT DISTINCT p.id,\n",
    "              COUNT(e.instituition) AS count_inst\n",
    "        FROM people AS p\n",
    "        INNER JOIN education AS e ON p.id=e.person_id\n",
    "        WHERE p.id IN (SELECT DISTINCT p.id\n",
    "            FROM people AS p\n",
    "            INNER JOIN company AS c ON p.company_id=c.id\n",
    "            WHERE c.name IN (SELECT DISTINCT c.name\n",
    "                              FROM company AS c\n",
    "                              LEFT JOIN funding_round AS f ON c.id=f.company_id\n",
    "                              WHERE is_first_round=1 AND is_last_round=1 AND c.status='closed'))\n",
    "        GROUP BY p.id) AS temp_view\n",
    "'''\n",
    "\n",
    "df = pd.read_sql_query(query, con = engine) \n",
    "df"
   ]
  },
  {
   "cell_type": "markdown",
   "id": "b7a3104f",
   "metadata": {},
   "source": [
    "**Задание 18.\n",
    "Напишите похожий запрос: выведите среднее число учебных заведений (всех, не только уникальных), которые окончили сотрудники Facebook*.\n",
    "*(сервис, запрещённый на территории РФ)**"
   ]
  },
  {
   "cell_type": "code",
   "execution_count": null,
   "id": "5eb1cd5d",
   "metadata": {},
   "outputs": [],
   "source": [
    "query = '''\n",
    " SELECT AVG(temp_view.count_inst)   \n",
    " FROM (SELECT DISTINCT p.id,\n",
    "              COUNT(e.instituition) AS count_inst\n",
    "        FROM people AS p\n",
    "        INNER JOIN education AS e ON p.id=e.person_id\n",
    "        INNER JOIN company AS c ON p.company_id=c.id\n",
    "        WHERE p.id IN (SELECT DISTINCT p.id\n",
    "            FROM people AS p\n",
    "            INNER JOIN company AS c ON p.company_id=c.id\n",
    "            WHERE c.name='Facebook')\n",
    "        GROUP BY p.id) AS temp_view\n",
    "'''\n",
    "\n",
    "df = pd.read_sql_query(query, con = engine) \n",
    "df"
   ]
  },
  {
   "cell_type": "markdown",
   "id": "c0911a1c",
   "metadata": {},
   "source": [
    "**Задание 19.\n",
    "Составьте таблицу из полей:**\n",
    "- name_of_fund — название фонда;\n",
    "- name_of_company — название компании;\n",
    "- amount — сумма инвестиций, которую привлекла компания в раунде.\n",
    "В таблицу войдут данные о компаниях, в истории которых было больше шести важных этапов, а раунды финансирования проходили с 2012 по 2013 год включительно.**"
   ]
  },
  {
   "cell_type": "code",
   "execution_count": null,
   "id": "5f359cfd",
   "metadata": {},
   "outputs": [],
   "source": [
    "query = '''\n",
    "-- milestones — количество важных этапов в истории фонда\n",
    "SELECT f.name AS name_of_fund,\n",
    "       c.name AS name_of_company,\n",
    "       fr.raised_amount AS funding_round\n",
    "FROM investment AS i\n",
    "INNER JOIN company AS c ON i.company_id=c.id\n",
    "INNER JOIN fund AS f ON i.fund_id=f.id\n",
    "INNER JOIN funding_round AS fr ON i.funding_round_id=fr.id\n",
    "WHERE c.milestones > 6\n",
    "AND (fr.funded_at BETWEEN '01-01-2012' AND '31-12-2013')\n",
    "'''\n",
    "\n",
    "df = pd.read_sql_query(query, con = engine) \n",
    "df"
   ]
  },
  {
   "cell_type": "markdown",
   "id": "77d9981c",
   "metadata": {},
   "source": [
    "**Задание 20.\n",
    "Выгрузите таблицу, в которой будут такие поля:**\n",
    "- название компании-покупателя;\n",
    "- сумма сделки;\n",
    "- название компании, которую купили;\n",
    "- сумма инвестиций, вложенных в купленную компанию;\n",
    "\n",
    "**доля, которая отображает, во сколько раз сумма покупки превысила сумму вложенных в компанию инвестиций, округлённая до ближайшего целого числа.**\n",
    " \n",
    "**Не учитывайте те сделки, в которых сумма покупки равна нулю. Если сумма инвестиций в компанию равна нулю, исключите такую компанию из таблицы.**\n",
    "\n",
    "**Отсортируйте таблицу по сумме сделки от большей к меньшей, а затем по названию купленной компании в лексикографическом порядке. Ограничьте таблицу первыми десятью записями.**"
   ]
  },
  {
   "cell_type": "code",
   "execution_count": null,
   "id": "b31fc28c",
   "metadata": {},
   "outputs": [],
   "source": [
    "query = '''\n",
    "WITH\n",
    "name_v1 AS (SELECT c.name AS name_acquiring,\n",
    "             a.id AS id,\n",
    "             a.price_amount AS price\n",
    "             FROM acquisition AS a\n",
    "             INNER JOIN company AS c ON a.acquiring_company_id=c.id),\n",
    "name_v2 AS (SELECT c.name AS name_acquired,\n",
    "             a.id AS id,\n",
    "             c.funding_total AS funding_total\n",
    "             FROM acquisition AS a\n",
    "             INNER JOIN company AS c ON a.acquired_company_id=c.id)\n",
    "SELECT name_v1.name_acquiring, name_v1.price, name_v2.name_acquired, name_v2.funding_total,\n",
    "       ROUND(name_v1.price / name_v2.funding_total) AS ratio\n",
    "FROM name_v1\n",
    "INNER JOIN name_v2 ON name_v1.id=name_v2.id\n",
    "WHERE name_v1.price > 0 AND name_v2.funding_total > 0\n",
    "ORDER BY name_v1.price DESC, name_v2.name_acquired\n",
    "LIMIT 10\n",
    "'''\n",
    "\n",
    "df = pd.read_sql_query(query, con = engine) \n",
    "df"
   ]
  },
  {
   "cell_type": "markdown",
   "id": "0f07caa8",
   "metadata": {},
   "source": [
    "**Задание 21.\n",
    "Выгрузите таблицу, в которую войдут названия компаний из категории social, получившие финансирование с 2010 по 2013 год включительно. Проверьте, что сумма инвестиций не равна нулю. Выведите также номер месяца, в котором проходил раунд финансирования.**"
   ]
  },
  {
   "cell_type": "code",
   "execution_count": null,
   "id": "4f07d0bd",
   "metadata": {},
   "outputs": [],
   "source": [
    "query = '''\n",
    "SELECT c.name,\n",
    "       EXTRACT(MONTH FROM CAST(fr.funded_at AS date))\n",
    "FROM company AS c\n",
    "INNER JOIN funding_round AS fr ON c.id=fr.company_id\n",
    "WHERE c.category_code='social'\n",
    "AND fr.raised_amount <> 0\n",
    "AND EXTRACT(YEAR FROM CAST(fr.funded_at AS date)) BETWEEN 2010 AND 2013\n",
    "'''\n",
    "\n",
    "df = pd.read_sql_query(query, con = engine) \n",
    "df"
   ]
  },
  {
   "cell_type": "markdown",
   "id": "4a326918",
   "metadata": {},
   "source": [
    "**Задание 22.\n",
    "Отберите данные по месяцам с 2010 по 2013 год, когда проходили инвестиционные раунды. Сгруппируйте данные по номеру месяца и \n",
    "получите таблицу, в которой будут поля:**\n",
    "- номер месяца, в котором проходили раунды;\n",
    "- количество уникальных названий фондов из США, которые инвестировали в этом месяце;\n",
    "- количество компаний, купленных за этот месяц;\n",
    "- общая сумма сделок по покупкам в этом месяце."
   ]
  },
  {
   "cell_type": "code",
   "execution_count": null,
   "id": "6adf6cff",
   "metadata": {},
   "outputs": [],
   "source": [
    "query = '''\n",
    "WITH\n",
    "    t_funding AS (SELECT EXTRACT(MONTH FROM CAST(fr.funded_at AS date)) AS month_round,\n",
    "                       COUNT(DISTINCT f.name) AS count_f_n\n",
    "                FROM funding_round AS fr\n",
    "                INNER JOIN investment AS i ON fr.id=i.funding_round_id\n",
    "                INNER JOIN fund AS f ON i.fund_id=f.id\n",
    "                WHERE EXTRACT(YEAR FROM CAST(fr.funded_at AS date)) BETWEEN 2010 AND 2013\n",
    "                AND f.country_code='USA'\n",
    "                GROUP BY month_round\n",
    "    ),\n",
    "    t_acq AS (SELECT EXTRACT(MONTH FROM CAST(a.acquired_at AS date)) AS month_acq,\n",
    "                     COUNT(a.acquired_company_id) AS count_acq_com,\n",
    "                     SUM(a.price_amount) AS sum_amount\n",
    "             FROM acquisition AS a\n",
    "             WHERE EXTRACT(YEAR FROM CAST(a.acquired_at AS date)) BETWEEN 2010 AND 2013\n",
    "             GROUP BY month_acq)\n",
    "\n",
    "SELECT t_funding.month_round,\n",
    "       t_funding.count_f_n,\n",
    "       t_acq.count_acq_com,\n",
    "       t_acq.sum_amount\n",
    "FROM t_funding\n",
    "INNER JOIN t_acq ON t_funding.month_round=t_acq.month_acq\n",
    "'''\n",
    "\n",
    "df = pd.read_sql_query(query, con = engine) \n",
    "df"
   ]
  },
  {
   "cell_type": "markdown",
   "id": "883413d3",
   "metadata": {},
   "source": [
    "**Задание 23.\n",
    "Составьте сводную таблицу и выведите среднюю сумму инвестиций для стран, в которых есть стартапы, зарегистрированные в 2011, 2012 и 2013 годах. Данные за каждый год должны быть в отдельном поле. Отсортируйте таблицу по среднему значению инвестиций за 2011 год от большего к меньшему.**"
   ]
  },
  {
   "cell_type": "code",
   "execution_count": null,
   "id": "3f9789db",
   "metadata": {},
   "outputs": [],
   "source": [
    "query = '''\n",
    "WITH\n",
    "        t_2011 AS (SELECT c.country_code AS country,\n",
    "                      AVG(c.funding_total) AS avg_f      \n",
    "               FROM company AS c\n",
    "               WHERE EXTRACT(YEAR FROM CAST(c.founded_at AS date)) = '2011'\n",
    "               GROUP BY country),\n",
    "        t_2012 AS (SELECT c.country_code AS country,\n",
    "                      AVG(c.funding_total) AS avg_f      \n",
    "               FROM company AS c\n",
    "               WHERE EXTRACT(YEAR FROM CAST(c.founded_at AS date)) = '2012'\n",
    "               GROUP BY country),\n",
    "        t_2013 AS (SELECT c.country_code AS country,\n",
    "                      AVG(c.funding_total) AS avg_f      \n",
    "               FROM company AS c\n",
    "               WHERE EXTRACT(YEAR FROM CAST(c.founded_at AS date)) = '2013'\n",
    "               GROUP BY country)\n",
    "SELECT t_2011.country AS country,\n",
    "       t_2011.avg_f,\n",
    "       t_2012.avg_f,\n",
    "       t_2013.avg_f\n",
    "FROM t_2011\n",
    "INNER JOIN t_2012 ON t_2011.country=t_2012.country\n",
    "INNER JOIN t_2013 ON t_2011.country=t_2013.country\n",
    "ORDER BY t_2011.avg_f DESC\n",
    "'''\n",
    "\n",
    "df = pd.read_sql_query(query, con = engine) \n",
    "df"
   ]
  }
 ],
 "metadata": {
  "kernelspec": {
   "display_name": "Python 3 (ipykernel)",
   "language": "python",
   "name": "python3"
  },
  "language_info": {
   "codemirror_mode": {
    "name": "ipython",
    "version": 3
   },
   "file_extension": ".py",
   "mimetype": "text/x-python",
   "name": "python",
   "nbconvert_exporter": "python",
   "pygments_lexer": "ipython3",
   "version": "3.9.7"
  },
  "toc": {
   "base_numbering": 1,
   "nav_menu": {},
   "number_sections": true,
   "sideBar": true,
   "skip_h1_title": true,
   "title_cell": "Table of Contents",
   "title_sidebar": "Содержание:",
   "toc_cell": false,
   "toc_position": {
    "height": "391.875px",
    "left": "55px",
    "top": "110.229px",
    "width": "165px"
   },
   "toc_section_display": true,
   "toc_window_display": false
  }
 },
 "nbformat": 4,
 "nbformat_minor": 5
}
